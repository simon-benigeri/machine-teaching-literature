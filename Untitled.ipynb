{
 "cells": [
  {
   "cell_type": "code",
   "execution_count": 1,
   "metadata": {},
   "outputs": [],
   "source": [
    "import pandas as pd"
   ]
  },
  {
   "cell_type": "code",
   "execution_count": 2,
   "metadata": {},
   "outputs": [
    {
     "name": "stdout",
     "output_type": "stream",
     "text": [
      "README.md         \u001b[34mdata\u001b[m\u001b[m/             \u001b[34mexisting systems\u001b[m\u001b[m/ \u001b[34mneed to read\u001b[m\u001b[m/\n",
      "Untitled.ipynb    environment.yml   \u001b[34mintroduction\u001b[m\u001b[m/\n"
     ]
    }
   ],
   "source": [
    "ls"
   ]
  },
  {
   "cell_type": "code",
   "execution_count": 3,
   "metadata": {},
   "outputs": [],
   "source": [
    "paths = {\n",
    "    '115-116': 'data/bills/bills115-116partialSept82020.csv',\n",
    "    '80-92': '.data/bills/bills80-92.txt',\n",
    "    '93-114': 'data/bills/bills93-114.csv'\n",
    "}"
   ]
  },
  {
   "cell_type": "code",
   "execution_count": 4,
   "metadata": {},
   "outputs": [],
   "source": [
    "df = pd.read_csv(paths['115-116'])"
   ]
  },
  {
   "cell_type": "code",
   "execution_count": 5,
   "metadata": {},
   "outputs": [
    {
     "data": {
      "text/plain": [
       "Index(['BillID', 'BillNum', 'BillType', 'Chamber', 'congress', 'Cosponsr',\n",
       "       'IntrDate', 'Mult', 'MultNo', 'PLaw', 'Private', 'Title', 'desig',\n",
       "       'Veto', 'Class', 'CumHServ', 'CumSServ', 'Delegate', 'District', 'DW1',\n",
       "       'FrstConH', 'FrstConS', 'Gender', 'MemberID', 'NameFirst', 'NameFull',\n",
       "       'NameLast', 'Party', 'PooleID', 'Postal', 'State', 'URL', 'PassH',\n",
       "       'PassS', 'PLawDate', 'PLawNum', 'ImpBill', 'SubChRef', 'SubRankRef',\n",
       "       'Majority', 'ReportH', 'ReportS', 'Major', 'Minor', 'icpsr',\n",
       "       'nominate_dim1', 'state_abbrev', 'district_code', 'state_icpsr',\n",
       "       'bioguide_id', 'committee_id', 'party', 'title', 'rank', 'refCom',\n",
       "       'comFull', 'sponsor', 'introDate', 'passDate', 'mref', 'chref',\n",
       "       'rankref', 'ComC', 'ComR'],\n",
       "      dtype='object')"
      ]
     },
     "execution_count": 5,
     "metadata": {},
     "output_type": "execute_result"
    }
   ],
   "source": [
    "df.columns"
   ]
  },
  {
   "cell_type": "code",
   "execution_count": 11,
   "metadata": {},
   "outputs": [
    {
     "data": {
      "text/html": [
       "<div>\n",
       "<style scoped>\n",
       "    .dataframe tbody tr th:only-of-type {\n",
       "        vertical-align: middle;\n",
       "    }\n",
       "\n",
       "    .dataframe tbody tr th {\n",
       "        vertical-align: top;\n",
       "    }\n",
       "\n",
       "    .dataframe thead th {\n",
       "        text-align: right;\n",
       "    }\n",
       "</style>\n",
       "<table border=\"1\" class=\"dataframe\">\n",
       "  <thead>\n",
       "    <tr style=\"text-align: right;\">\n",
       "      <th></th>\n",
       "      <th>BillID</th>\n",
       "      <th>Chamber</th>\n",
       "      <th>Cosponsr</th>\n",
       "      <th>IntrDate</th>\n",
       "      <th>Mult</th>\n",
       "      <th>MultNo</th>\n",
       "      <th>PLaw</th>\n",
       "      <th>Private</th>\n",
       "    </tr>\n",
       "  </thead>\n",
       "  <tbody>\n",
       "    <tr>\n",
       "      <th>0</th>\n",
       "      <td>115-hjres-95</td>\n",
       "      <td>0</td>\n",
       "      <td>9</td>\n",
       "      <td>4/6/2017</td>\n",
       "      <td>0</td>\n",
       "      <td>1</td>\n",
       "      <td>0</td>\n",
       "      <td>NaN</td>\n",
       "    </tr>\n",
       "    <tr>\n",
       "      <th>1</th>\n",
       "      <td>115-hjres-139</td>\n",
       "      <td>0</td>\n",
       "      <td>3</td>\n",
       "      <td>9/12/2018</td>\n",
       "      <td>0</td>\n",
       "      <td>1</td>\n",
       "      <td>0</td>\n",
       "      <td>NaN</td>\n",
       "    </tr>\n",
       "    <tr>\n",
       "      <th>2</th>\n",
       "      <td>115-hr-267</td>\n",
       "      <td>0</td>\n",
       "      <td>30</td>\n",
       "      <td>1/4/2017</td>\n",
       "      <td>0</td>\n",
       "      <td>1</td>\n",
       "      <td>1</td>\n",
       "      <td>NaN</td>\n",
       "    </tr>\n",
       "    <tr>\n",
       "      <th>3</th>\n",
       "      <td>115-hr-294</td>\n",
       "      <td>0</td>\n",
       "      <td>35</td>\n",
       "      <td>1/5/2017</td>\n",
       "      <td>0</td>\n",
       "      <td>1</td>\n",
       "      <td>1</td>\n",
       "      <td>NaN</td>\n",
       "    </tr>\n",
       "    <tr>\n",
       "      <th>4</th>\n",
       "      <td>115-hr-360</td>\n",
       "      <td>0</td>\n",
       "      <td>13</td>\n",
       "      <td>1/6/2017</td>\n",
       "      <td>0</td>\n",
       "      <td>1</td>\n",
       "      <td>0</td>\n",
       "      <td>NaN</td>\n",
       "    </tr>\n",
       "    <tr>\n",
       "      <th>...</th>\n",
       "      <td>...</td>\n",
       "      <td>...</td>\n",
       "      <td>...</td>\n",
       "      <td>...</td>\n",
       "      <td>...</td>\n",
       "      <td>...</td>\n",
       "      <td>...</td>\n",
       "      <td>...</td>\n",
       "    </tr>\n",
       "    <tr>\n",
       "      <th>22415</th>\n",
       "      <td>116-sjres-70</td>\n",
       "      <td>1</td>\n",
       "      <td>0</td>\n",
       "      <td>2/13/2020</td>\n",
       "      <td>0</td>\n",
       "      <td>0</td>\n",
       "      <td>0</td>\n",
       "      <td>NaN</td>\n",
       "    </tr>\n",
       "    <tr>\n",
       "      <th>22416</th>\n",
       "      <td>116-sjres-71</td>\n",
       "      <td>1</td>\n",
       "      <td>0</td>\n",
       "      <td>5/7/2020</td>\n",
       "      <td>0</td>\n",
       "      <td>0</td>\n",
       "      <td>0</td>\n",
       "      <td>NaN</td>\n",
       "    </tr>\n",
       "    <tr>\n",
       "      <th>22417</th>\n",
       "      <td>116-sjres-72</td>\n",
       "      <td>1</td>\n",
       "      <td>2</td>\n",
       "      <td>5/11/2020</td>\n",
       "      <td>0</td>\n",
       "      <td>0</td>\n",
       "      <td>0</td>\n",
       "      <td>NaN</td>\n",
       "    </tr>\n",
       "    <tr>\n",
       "      <th>22418</th>\n",
       "      <td>116-sjres-73</td>\n",
       "      <td>1</td>\n",
       "      <td>2</td>\n",
       "      <td>5/11/2020</td>\n",
       "      <td>0</td>\n",
       "      <td>0</td>\n",
       "      <td>0</td>\n",
       "      <td>NaN</td>\n",
       "    </tr>\n",
       "    <tr>\n",
       "      <th>22419</th>\n",
       "      <td>116-sjres-74</td>\n",
       "      <td>1</td>\n",
       "      <td>0</td>\n",
       "      <td>5/21/2020</td>\n",
       "      <td>0</td>\n",
       "      <td>0</td>\n",
       "      <td>0</td>\n",
       "      <td>NaN</td>\n",
       "    </tr>\n",
       "  </tbody>\n",
       "</table>\n",
       "<p>22420 rows × 8 columns</p>\n",
       "</div>"
      ],
      "text/plain": [
       "              BillID  Chamber  Cosponsr   IntrDate  Mult  MultNo  PLaw  \\\n",
       "0       115-hjres-95        0         9   4/6/2017     0       1     0   \n",
       "1      115-hjres-139        0         3  9/12/2018     0       1     0   \n",
       "2         115-hr-267        0        30   1/4/2017     0       1     1   \n",
       "3         115-hr-294        0        35   1/5/2017     0       1     1   \n",
       "4         115-hr-360        0        13   1/6/2017     0       1     0   \n",
       "...              ...      ...       ...        ...   ...     ...   ...   \n",
       "22415   116-sjres-70        1         0  2/13/2020     0       0     0   \n",
       "22416   116-sjres-71        1         0   5/7/2020     0       0     0   \n",
       "22417   116-sjres-72        1         2  5/11/2020     0       0     0   \n",
       "22418   116-sjres-73        1         2  5/11/2020     0       0     0   \n",
       "22419   116-sjres-74        1         0  5/21/2020     0       0     0   \n",
       "\n",
       "       Private  \n",
       "0          NaN  \n",
       "1          NaN  \n",
       "2          NaN  \n",
       "3          NaN  \n",
       "4          NaN  \n",
       "...        ...  \n",
       "22415      NaN  \n",
       "22416      NaN  \n",
       "22417      NaN  \n",
       "22418      NaN  \n",
       "22419      NaN  \n",
       "\n",
       "[22420 rows x 8 columns]"
      ]
     },
     "execution_count": 11,
     "metadata": {},
     "output_type": "execute_result"
    }
   ],
   "source": [
    "df[['BillID', 'Chamber', 'Cosponsr', 'IntrDate', 'Mult', 'MultNo', 'PLaw', 'Private']]"
   ]
  },
  {
   "cell_type": "code",
   "execution_count": 19,
   "metadata": {},
   "outputs": [
    {
     "data": {
      "text/plain": [
       "1/3/2019      269\n",
       "1/3/2017      243\n",
       "5/25/2017     166\n",
       "7/25/2019     164\n",
       "5/23/2019     152\n",
       "             ... \n",
       "9/3/2019        1\n",
       "12/26/2017      1\n",
       "8/8/2017        1\n",
       "6/5/2017        1\n",
       "11/27/2017      1\n",
       "Name: IntrDate, Length: 677, dtype: int64"
      ]
     },
     "execution_count": 19,
     "metadata": {},
     "output_type": "execute_result"
    }
   ],
   "source": [
    "df['IntrDate'].value_counts()"
   ]
  },
  {
   "cell_type": "code",
   "execution_count": null,
   "metadata": {},
   "outputs": [],
   "source": [
    "# 1. BillID = 'congress'-'BillNum'-'BillType'\n",
    "# 2. Private = []\n",
    "IRRELEVANT = [\n",
    "    'BillNum', 'BillType', 'congress', \n",
    "    'Chamber', \n",
    "    'Cosponsr', \n",
    "    'IntrDate',\n",
    "    \n",
    "            ]"
   ]
  },
  {
   "cell_type": "markdown",
   "metadata": {},
   "source": [
    "1. BillID = congress-BillNum-BillType \n",
    "2. Chamber is 0 or 1. Is it House/Senate?\n",
    "3. Cosponsr - don't understand\n",
    "4. IntrDate - "
   ]
  }
 ],
 "metadata": {
  "kernelspec": {
   "display_name": "Python 3",
   "language": "python",
   "name": "python3"
  },
  "language_info": {
   "codemirror_mode": {
    "name": "ipython",
    "version": 3
   },
   "file_extension": ".py",
   "mimetype": "text/x-python",
   "name": "python",
   "nbconvert_exporter": "python",
   "pygments_lexer": "ipython3",
   "version": "3.8.5"
  }
 },
 "nbformat": 4,
 "nbformat_minor": 4
}
