{
 "cells": [
  {
   "cell_type": "markdown",
   "metadata": {},
   "source": [
    "# 🚀 Motion Classifier Tutorial: Data Labeling with Snorkel"
   ]
  },
  {
   "cell_type": "markdown",
   "metadata": {},
   "source": [
    "In this tutorial, we will walk through the process of using Snorkel to build a training set for classifying court docket entries as MOTION or NOT MOTION.\n",
    "\n",
    "Resources:\n",
    "* For an overview of Snorkel, visit [snorkel.org](https://snorkel.org)\n",
    "* You can also check out the [Snorkel API documentation](https://snorkel.readthedocs.io/)\n",
    "* For some real-world applications, check out [Snorkel Applications](https://www.snorkel.org/resources/)\n",
    "* Why does this work? See [Data Programming: Creating Large Training Sets, Quickly](https://arxiv.org/abs/1605.07723)\n",
    "* Snorkel paper: [Snorkel: Rapid Training Data Creation with Weak Supervision](https://arxiv.org/abs/1711.10160)\n",
    "\n",
    "The goal of this tutorial is to illustrate some basic components and concepts of Snorkel in a simple way, but also to dive into a process of iteratively developing a text classifier in Snorkel.\n",
    "\n",
    "**The goal of this research is to design an interaction for a non-technical, domain expert to quickly label a dataset.**\n",
    "\n",
    "To achieve this goal, we start with a basic task: *binary text classification* of court docket entries as MOTION or NOT MOTION.\n",
    "\n",
    "We have access to a large amount of *unlabeled data* (about 1 300 000 samples) in the form of court docket entries with some metadata. We also have access to about *7000 labeled samples*.\n",
    "\n",
    "In order to train a classifier, we need to label our data, but doing so by hand for real world applications can often be prohibitively slow and expensive.\n",
    "\n",
    "In these cases, we can turn to a _weak supervision_ approach, using **_labeling functions (LFs)_** in Snorkel: noisy, programmatic rules and heuristics that assign labels to unlabeled training data.\n",
    "\n",
    "We'll dive into the Snorkel API and how we write labeling functions later in this tutorial, but as an example, we can write an LF that labels data points with `\"MOTION to\"` in the docket entry text as MOTION since many motions contain `\"MOTION to\"`:\n",
    "\n",
    "```python\n",
    "from snorkel.labeling import labeling_function\n",
    "\n",
    "@labeling_function()\n",
    "def lf_contains_motion_to(x):\n",
    "    # Return a label of MOTION if \"MOTION to\" in document text, otherwise ABSTAIN\n",
    "    return MOTION if \"motion to\" in x.text.lower() else ABSTAIN\n",
    "```\n",
    "\n",
    "The tutorial is divided into four parts:\n",
    "1. **Loading Data**: We load a US courts docket entries dataset, originally used in [\"From data to information: automating data science to explore the U.S. court system\"](https://dl.acm.org/doi/abs/10.1145/3462757.3466100).\n",
    "\n",
    "2. **Writing Labeling Functions**: We write Python programs that take as input a data point and assign labels (or abstain) using heuristics, pattern matching, and third-party models.\n",
    "\n",
    "3. **Combining Labeling Function Outputs with the Label Model**: We model the outputs of the labeling functions over the training set using a Snorkel's, theoretically-grounded modeling approach, [\"Data Programming:\n",
    "Creating Large Training Sets, Quickly\"](https://arxiv.org/abs/1605.07723), which estimates the accuracies and correlations of the labeling functions using only their agreements and disagreements, and then uses this to reweight and combine their outputs, which we then use as _probabilistic_ training labels.\n",
    "\n",
    "4. **Training a Classifier**: We train a classifier that can predict labels for *any* court docket entry (not just the ones labeled by the labeling functions) using the probabilistic training labels from step 3.\n",
    "\n",
    "In future work, we'll consider *multiclass text classification* of court docket entries as MOTION type. Multiclass text classication is an important problem to work on because we need to define a process that is robust to *concept drift*. The set of classes could expand or change over time, and we do not want to start the labeling process from scratch.\n",
    "\n",
    "**Note that this process requires programming, but out target user is not technical.**"
   ]
  },
  {
   "cell_type": "markdown",
   "metadata": {},
   "source": [
    "# The code starts here"
   ]
  },
  {
   "cell_type": "markdown",
   "metadata": {},
   "source": [
    "## Imports"
   ]
  },
  {
   "cell_type": "code",
   "execution_count": 1,
   "metadata": {},
   "outputs": [],
   "source": [
    "import re\n",
    "import numpy as np\n",
    "import pandas as pd\n",
    "\n",
    "import metal\n",
    "import snorkel\n",
    "from snorkel.labeling import labeling_function, filter_unlabeled_dataframe, LabelingFunction, PandasLFApplier, LFAnalysis\n",
    "from snorkel.labeling.model.label_model import LabelModel\n",
    "from snorkel.labeling.model.baselines import MajorityClassVoter\n",
    "from snorkel.labeling.model.baselines import MajorityLabelVoter\n",
    "from snorkel.utils import probs_to_preds\n",
    "\n",
    "import spacy\n",
    "from spacy import displacy\n",
    "from spacy.lang.en import English\n",
    "\n",
    "from sklearn.model_selection import train_test_split\n",
    "from sklearn.feature_extraction.text import CountVectorizer, TfidfVectorizer\n",
    "from sklearn.linear_model import LogisticRegression\n",
    "from sklearn.metrics import classification_report"
   ]
  },
  {
   "cell_type": "markdown",
   "metadata": {},
   "source": [
    "Set `DISPLAY_FULL_TEXT` to `True` if you want to see the full docket entry texts."
   ]
  },
  {
   "cell_type": "code",
   "execution_count": 2,
   "metadata": {},
   "outputs": [],
   "source": [
    "DISPLAY_FULL_TEXT = True\n",
    "pd.set_option('display.max_colwidth', 0 if DISPLAY_FULL_TEXT else 50)"
   ]
  },
  {
   "cell_type": "markdown",
   "metadata": {},
   "source": [
    "## 1. Loading Data"
   ]
  },
  {
   "cell_type": "code",
   "execution_count": 3,
   "metadata": {},
   "outputs": [],
   "source": [
    "data_dir = 'datasets/court_docket_entries'"
   ]
  },
  {
   "cell_type": "markdown",
   "metadata": {},
   "source": [
    "We have 5 files:\n",
    "1. `motionEntries.csv`: 1 300 000 docket entries, almost all unlabeled, with `text` and `id`\n",
    "2. `tags.csv`: a mapping from `tag_id` to `label`, which is `motion class`\n",
    "3. `thingy.csv`: looks like we can ignore this\n",
    "4. `users.csv`: the annotators\n",
    "5. `usertags`: 7 000 annotations for the docket entries with `docket_entry_id` and `tag_id`"
   ]
  },
  {
   "cell_type": "code",
   "execution_count": 4,
   "metadata": {},
   "outputs": [],
   "source": [
    "# thingy = pd.read_csv(f\"{data_dir}/thingy.csv\")\n",
    "# users = pd.read_csv(f\"{data_dir}/users.csv\")"
   ]
  },
  {
   "cell_type": "markdown",
   "metadata": {},
   "source": [
    "We load the data from `motionEntries.csv`, `tags.csv`, and `usertags.csv`, rename some columns, and merge the data into one dataframe."
   ]
  },
  {
   "cell_type": "code",
   "execution_count": 5,
   "metadata": {},
   "outputs": [],
   "source": [
    "entries = pd.read_csv(f\"{data_dir}/motionEntries.csv\")\n",
    "entries_columns = ['id', 'text', 'case_id', 'sealed', 'jurisdiction']\n",
    "entries = entries[entries_columns].rename(columns={\"id\": \"docket_entry_id\"})"
   ]
  },
  {
   "cell_type": "code",
   "execution_count": 6,
   "metadata": {},
   "outputs": [
    {
     "name": "stdout",
     "output_type": "stream",
     "text": [
      "We have 1377516 docket entries\n"
     ]
    }
   ],
   "source": [
    "print(f\"We have {entries.shape[0]} docket entries\")"
   ]
  },
  {
   "cell_type": "code",
   "execution_count": 7,
   "metadata": {},
   "outputs": [],
   "source": [
    "tags = pd.read_csv(f\"{data_dir}/tags.csv\")\n",
    "# tags_columns = ['id', 'label', 'count']\n",
    "tags_columns = ['id', 'label']\n",
    "tags = tags[tags_columns].rename(columns={'id': 'tag_id'})\n",
    "tags['motion'] = tags['tag_id'].apply(lambda x: int(x not in [26, 28]))"
   ]
  },
  {
   "cell_type": "code",
   "execution_count": 8,
   "metadata": {},
   "outputs": [],
   "source": [
    "usertags = pd.read_csv(f\"{data_dir}/usertags.csv\")\n",
    "usertags_columns = ['id', 'docket_entry_id', 'tag_id']\n",
    "usertags = usertags[usertags_columns].rename(columns={'id': 'usertags_id'})"
   ]
  },
  {
   "cell_type": "code",
   "execution_count": 9,
   "metadata": {},
   "outputs": [
    {
     "name": "stdout",
     "output_type": "stream",
     "text": [
      "We have 7990 labeled docket entries\n"
     ]
    }
   ],
   "source": [
    "print(f\"We have {usertags.shape[0]} labeled docket entries\")"
   ]
  },
  {
   "cell_type": "markdown",
   "metadata": {},
   "source": [
    "We merge the dataframes to get the text and motion label for each docket entry. Also, we remove the samples with label 'SKIP' because we don't know what to do with them."
   ]
  },
  {
   "cell_type": "code",
   "execution_count": 10,
   "metadata": {},
   "outputs": [
    {
     "name": "stdout",
     "output_type": "stream",
     "text": [
      "We have 6610 labeled docket entries when we remove SKIP.\n"
     ]
    }
   ],
   "source": [
    "labels = pd.merge(usertags, tags, on='tag_id')\n",
    "labeled_motions = pd.merge(labels, entries, on='docket_entry_id')\n",
    "labeled_motions = labeled_motions[labeled_motions['label'] != 'SKIP']\n",
    "print(f\"We have {labeled_motions.shape[0]} labeled docket entries when we remove SKIP.\")"
   ]
  },
  {
   "cell_type": "markdown",
   "metadata": {},
   "source": [
    "Let's now create our dataset of labeled functions. We have 6610 samples if we remove the docket entries with label 'SKIP'."
   ]
  },
  {
   "cell_type": "code",
   "execution_count": 11,
   "metadata": {},
   "outputs": [],
   "source": [
    "keep_columns = ['docket_entry_id', 'motion', 'text']\n",
    "lf_set = labeled_motions[keep_columns]"
   ]
  },
  {
   "cell_type": "code",
   "execution_count": 12,
   "metadata": {},
   "outputs": [
    {
     "data": {
      "text/html": [
       "<div>\n",
       "<style scoped>\n",
       "    .dataframe tbody tr th:only-of-type {\n",
       "        vertical-align: middle;\n",
       "    }\n",
       "\n",
       "    .dataframe tbody tr th {\n",
       "        vertical-align: top;\n",
       "    }\n",
       "\n",
       "    .dataframe thead th {\n",
       "        text-align: right;\n",
       "    }\n",
       "</style>\n",
       "<table border=\"1\" class=\"dataframe\">\n",
       "  <thead>\n",
       "    <tr style=\"text-align: right;\">\n",
       "      <th></th>\n",
       "      <th>docket_entry_id</th>\n",
       "      <th>motion</th>\n",
       "      <th>text</th>\n",
       "    </tr>\n",
       "  </thead>\n",
       "  <tbody>\n",
       "    <tr>\n",
       "      <th>1</th>\n",
       "      <td>3112</td>\n",
       "      <td>1</td>\n",
       "      <td>MOTION (Oral) by USA for excludable time from 9/18/07 through and including 10/04/07 pursuant to 18 USC 3161(h)(1) &amp; (h)((1)(F) as to Demario Flemming (jmm-r, ) (Entered: 09/20/2007)</td>\n",
       "    </tr>\n",
       "    <tr>\n",
       "      <th>4</th>\n",
       "      <td>9574</td>\n",
       "      <td>0</td>\n",
       "      <td>DECLARATION of Aref Abdellatif regarding order on motion to compel,,,,,,, text entry,,,,,, 186  (Schaller, Rachel) (Entered: 08/19/2019)</td>\n",
       "    </tr>\n",
       "    <tr>\n",
       "      <th>5</th>\n",
       "      <td>9574</td>\n",
       "      <td>0</td>\n",
       "      <td>DECLARATION of Aref Abdellatif regarding order on motion to compel,,,,,,, text entry,,,,,, 186  (Schaller, Rachel) (Entered: 08/19/2019)</td>\n",
       "    </tr>\n",
       "    <tr>\n",
       "      <th>9</th>\n",
       "      <td>4068</td>\n",
       "      <td>1</td>\n",
       "      <td>MOTION by Tori Frederick DEFENDANT'S MOTION FOR PRETRIAL RELEASE (Rodriguez, Sergio) (Entered: 02/15/2008)</td>\n",
       "    </tr>\n",
       "    <tr>\n",
       "      <th>11</th>\n",
       "      <td>833</td>\n",
       "      <td>1</td>\n",
       "      <td>(Unopposed) NOTICE of Motion by Kathryn Ann Kelly for presentment of motion for leave to file excess pages 44 before Honorable M. David Weisman on 10/26/2017 at 09:15 AM. (Kelly, Kathryn) (Entered: 10/23/2017)</td>\n",
       "    </tr>\n",
       "  </tbody>\n",
       "</table>\n",
       "</div>"
      ],
      "text/plain": [
       "    docket_entry_id  motion  \\\n",
       "1   3112             1        \n",
       "4   9574             0        \n",
       "5   9574             0        \n",
       "9   4068             1        \n",
       "11  833              1        \n",
       "\n",
       "                                                                                                                                                                                                                  text  \n",
       "1   MOTION (Oral) by USA for excludable time from 9/18/07 through and including 10/04/07 pursuant to 18 USC 3161(h)(1) & (h)((1)(F) as to Demario Flemming (jmm-r, ) (Entered: 09/20/2007)                              \n",
       "4   DECLARATION of Aref Abdellatif regarding order on motion to compel,,,,,,, text entry,,,,,, 186  (Schaller, Rachel) (Entered: 08/19/2019)                                                                            \n",
       "5   DECLARATION of Aref Abdellatif regarding order on motion to compel,,,,,,, text entry,,,,,, 186  (Schaller, Rachel) (Entered: 08/19/2019)                                                                            \n",
       "9   MOTION by Tori Frederick DEFENDANT'S MOTION FOR PRETRIAL RELEASE (Rodriguez, Sergio) (Entered: 02/15/2008)                                                                                                          \n",
       "11   (Unopposed) NOTICE of Motion by Kathryn Ann Kelly for presentment of motion for leave to file excess pages 44 before Honorable M. David Weisman on 10/26/2017 at 09:15 AM. (Kelly, Kathryn) (Entered: 10/23/2017)  "
      ]
     },
     "execution_count": 12,
     "metadata": {},
     "output_type": "execute_result"
    }
   ],
   "source": [
    "lf_set.head()"
   ]
  },
  {
   "cell_type": "markdown",
   "metadata": {},
   "source": [
    "Create train, dev, test split: 60/20/20."
   ]
  },
  {
   "cell_type": "code",
   "execution_count": 13,
   "metadata": {},
   "outputs": [],
   "source": [
    "# SPLIT_1 = 0.4\n",
    "SPLIT_1 = 0.4\n",
    "# SPLIT_2 = 0.5"
   ]
  },
  {
   "cell_type": "code",
   "execution_count": 14,
   "metadata": {},
   "outputs": [],
   "source": [
    "df_train, df_test = train_test_split(lf_set, stratify=lf_set['motion'], test_size=SPLIT_1)\n",
    "df_val, df_test = train_test_split(df_test, stratify=df_test['motion'], test_size=0.5)"
   ]
  },
  {
   "cell_type": "code",
   "execution_count": 15,
   "metadata": {},
   "outputs": [],
   "source": [
    "def get_n_samples(df, n):\n",
    "    return df.sample(n)"
   ]
  },
  {
   "cell_type": "markdown",
   "metadata": {},
   "source": [
    "Let's set out voting values. Recall that the classification task is MOTION or NOT MOTION."
   ]
  },
  {
   "cell_type": "markdown",
   "metadata": {},
   "source": [
    "## 2. Making Labeling Functions"
   ]
  },
  {
   "cell_type": "markdown",
   "metadata": {},
   "source": [
    "### Defining the classes"
   ]
  },
  {
   "cell_type": "code",
   "execution_count": 16,
   "metadata": {},
   "outputs": [],
   "source": [
    "# Set voting values.\n",
    "ABSTAIN = -1 \n",
    "MOTION = 1 \n",
    "NOT_MOTION = 0"
   ]
  },
  {
   "cell_type": "markdown",
   "metadata": {},
   "source": [
    "### Data exploration\n",
    "\n",
    "Let's look at 10 samples labeled as `MOTION`"
   ]
  },
  {
   "cell_type": "code",
   "execution_count": 17,
   "metadata": {},
   "outputs": [
    {
     "data": {
      "text/html": [
       "<div>\n",
       "<style scoped>\n",
       "    .dataframe tbody tr th:only-of-type {\n",
       "        vertical-align: middle;\n",
       "    }\n",
       "\n",
       "    .dataframe tbody tr th {\n",
       "        vertical-align: top;\n",
       "    }\n",
       "\n",
       "    .dataframe thead th {\n",
       "        text-align: right;\n",
       "    }\n",
       "</style>\n",
       "<table border=\"1\" class=\"dataframe\">\n",
       "  <thead>\n",
       "    <tr style=\"text-align: right;\">\n",
       "      <th></th>\n",
       "      <th>docket_entry_id</th>\n",
       "      <th>motion</th>\n",
       "      <th>text</th>\n",
       "    </tr>\n",
       "  </thead>\n",
       "  <tbody>\n",
       "    <tr>\n",
       "      <th>4702</th>\n",
       "      <td>11599</td>\n",
       "      <td>0</td>\n",
       "      <td>CASE DISMISSED with prejudice pursuant to 16 Stipulated Motion to Dismiss. (mc) (Entered: 03/07/2018)</td>\n",
       "    </tr>\n",
       "    <tr>\n",
       "      <th>4096</th>\n",
       "      <td>12499</td>\n",
       "      <td>0</td>\n",
       "      <td>DETENTION/ARRAIGNMENT HEARING as to Jamie Buckner re Counts 1-8 of Indictment held on 6/27/2016 in US District Court - Fort Wayne. Hearing held via video conferencing before Magistrate Judge Andrew P Rodovich in US District Court - Hammond. Govt appeared by atty Stacey Speith, and Steven Sadowitz, Postal Inspector. Dft appeared with atty Thomas Allen. Matthew Koon appeared on behalf of U S Probation/Pretrial Services. Dft waives and gives up her right to a Detention Hearing. Court orders Dft detained pending further proceedings. Dft enters plea of not guilty to Counts 1-8 of Indictment (Arraignment Order attached). Pretrial motions due by 7/25/2016. Telephonic Final Pretrial Conference and 3-day Jury Trial to be set by Presiding Judge by separate Order. Dft remanded to custody of USM. (FTR 1st floor.) (mr) (Entered: 06/28/2016)</td>\n",
       "    </tr>\n",
       "    <tr>\n",
       "      <th>1001</th>\n",
       "      <td>16379</td>\n",
       "      <td>1</td>\n",
       "      <td>MOTION for More Time to File 30 Petition for Writ of Habeas Corpus by Petitioner Roger Pringle. (2254 packet has been mailed to Pringle as of 2/2/17) (Attachments: # 1 letter to clerk, # 2 Envelope)(nae) (Entered: 02/07/2017)</td>\n",
       "    </tr>\n",
       "    <tr>\n",
       "      <th>2356</th>\n",
       "      <td>19730</td>\n",
       "      <td>1</td>\n",
       "      <td>MOTION by Defendant Carolyn W. Colvin for extension of time to file response/reply as to memorandum 14 (Unopposed) (Hancock, Virginia) (Entered: 12/21/2016)</td>\n",
       "    </tr>\n",
       "    <tr>\n",
       "      <th>5696</th>\n",
       "      <td>1913</td>\n",
       "      <td>1</td>\n",
       "      <td>MOTION by Defendant Michael Astrue to remand Defendant's motion for reversal with remand for further administrative proceedings (Chahal, Harpreet) (Entered: 04/10/2013)</td>\n",
       "    </tr>\n",
       "    <tr>\n",
       "      <th>3328</th>\n",
       "      <td>612</td>\n",
       "      <td>1</td>\n",
       "      <td>MOTION by Defendants FW Associates LLC, Barry Fieldman, Juanita Wasserman to dismiss Pursuant to Rule 12(b)(6) (Katten, Mitchell) (Entered: 02/28/2014)</td>\n",
       "    </tr>\n",
       "    <tr>\n",
       "      <th>5747</th>\n",
       "      <td>16213</td>\n",
       "      <td>1</td>\n",
       "      <td>MOTION to reset Rule 16 Preliminary Pretrial Conference by Defendant Jackson County Schneck Memorial Hospital. (Attachments: # 1 Proposed Order)(Kemp, Laurie) (Entered: 03/14/2016)</td>\n",
       "    </tr>\n",
       "    <tr>\n",
       "      <th>7045</th>\n",
       "      <td>18088</td>\n",
       "      <td>1</td>\n",
       "      <td>MOTION (Oral) by USA for the time of 10/05/11 to and including 11/04/11 to be deemed excludable under 18 USC 3161(h)(7)(b)(i) as to Jason Smiekel (jmm-r, ) (Entered: 10/05/2011)</td>\n",
       "    </tr>\n",
       "    <tr>\n",
       "      <th>6513</th>\n",
       "      <td>3761</td>\n",
       "      <td>1</td>\n",
       "      <td>MOTION by Plaintiff Van Thuy Vong to compel answer to Interrogatory (Attachments: # 1 Exhibit exhibits 1-7)(Cavanaugh, Joseph) (Entered: 08/08/2012)</td>\n",
       "    </tr>\n",
       "    <tr>\n",
       "      <th>6343</th>\n",
       "      <td>13071</td>\n",
       "      <td>1</td>\n",
       "      <td>MOTION to Continue  by Jack Diffendarfer. (O'Malley - FCD, Thomas) (Entered: 11/04/2016)</td>\n",
       "    </tr>\n",
       "  </tbody>\n",
       "</table>\n",
       "</div>"
      ],
      "text/plain": [
       "      docket_entry_id  motion  \\\n",
       "4702  11599            0        \n",
       "4096  12499            0        \n",
       "1001  16379            1        \n",
       "2356  19730            1        \n",
       "5696  1913             1        \n",
       "3328  612              1        \n",
       "5747  16213            1        \n",
       "7045  18088            1        \n",
       "6513  3761             1        \n",
       "6343  13071            1        \n",
       "\n",
       "                                                                                                                                                                                                                                                                                                                                                                                                                                                                                                                                                                                                                                                                                                                                                                                                                                                                         text  \n",
       "4702  CASE DISMISSED with prejudice pursuant to 16 Stipulated Motion to Dismiss. (mc) (Entered: 03/07/2018)                                                                                                                                                                                                                                                                                                                                                                                                                                                                                                                                                                                                                                                                                                                                                                    \n",
       "4096  DETENTION/ARRAIGNMENT HEARING as to Jamie Buckner re Counts 1-8 of Indictment held on 6/27/2016 in US District Court - Fort Wayne. Hearing held via video conferencing before Magistrate Judge Andrew P Rodovich in US District Court - Hammond. Govt appeared by atty Stacey Speith, and Steven Sadowitz, Postal Inspector. Dft appeared with atty Thomas Allen. Matthew Koon appeared on behalf of U S Probation/Pretrial Services. Dft waives and gives up her right to a Detention Hearing. Court orders Dft detained pending further proceedings. Dft enters plea of not guilty to Counts 1-8 of Indictment (Arraignment Order attached). Pretrial motions due by 7/25/2016. Telephonic Final Pretrial Conference and 3-day Jury Trial to be set by Presiding Judge by separate Order. Dft remanded to custody of USM. (FTR 1st floor.) (mr) (Entered: 06/28/2016)  \n",
       "1001  MOTION for More Time to File 30 Petition for Writ of Habeas Corpus by Petitioner Roger Pringle. (2254 packet has been mailed to Pringle as of 2/2/17) (Attachments: # 1 letter to clerk, # 2 Envelope)(nae) (Entered: 02/07/2017)                                                                                                                                                                                                                                                                                                                                                                                                                                                                                                                                                                                                                                        \n",
       "2356  MOTION by Defendant Carolyn W. Colvin for extension of time to file response/reply as to memorandum 14 (Unopposed) (Hancock, Virginia) (Entered: 12/21/2016)                                                                                                                                                                                                                                                                                                                                                                                                                                                                                                                                                                                                                                                                                                             \n",
       "5696  MOTION by Defendant Michael Astrue to remand Defendant's motion for reversal with remand for further administrative proceedings (Chahal, Harpreet) (Entered: 04/10/2013)                                                                                                                                                                                                                                                                                                                                                                                                                                                                                                                                                                                                                                                                                                 \n",
       "3328  MOTION by Defendants FW Associates LLC, Barry Fieldman, Juanita Wasserman to dismiss Pursuant to Rule 12(b)(6) (Katten, Mitchell) (Entered: 02/28/2014)                                                                                                                                                                                                                                                                                                                                                                                                                                                                                                                                                                                                                                                                                                                  \n",
       "5747   MOTION to reset Rule 16 Preliminary Pretrial Conference by Defendant Jackson County Schneck Memorial Hospital. (Attachments: # 1 Proposed Order)(Kemp, Laurie) (Entered: 03/14/2016)                                                                                                                                                                                                                                                                                                                                                                                                                                                                                                                                                                                                                                                                                    \n",
       "7045  MOTION (Oral) by USA for the time of 10/05/11 to and including 11/04/11 to be deemed excludable under 18 USC 3161(h)(7)(b)(i) as to Jason Smiekel (jmm-r, ) (Entered: 10/05/2011)                                                                                                                                                                                                                                                                                                                                                                                                                                                                                                                                                                                                                                                                                        \n",
       "6513  MOTION by Plaintiff Van Thuy Vong to compel answer to Interrogatory (Attachments: # 1 Exhibit exhibits 1-7)(Cavanaugh, Joseph) (Entered: 08/08/2012)                                                                                                                                                                                                                                                                                                                                                                                                                                                                                                                                                                                                                                                                                                                     \n",
       "6343   MOTION to Continue  by Jack Diffendarfer. (O'Malley - FCD, Thomas) (Entered: 11/04/2016)                                                                                                                                                                                                                                                                                                                                                                                                                                                                                                                                                                                                                                                                                                                                                                                "
      ]
     },
     "execution_count": 17,
     "metadata": {},
     "output_type": "execute_result"
    }
   ],
   "source": [
    "get_n_samples(df_train, 10)"
   ]
  },
  {
   "cell_type": "markdown",
   "metadata": {},
   "source": [
    "Let's look at 10 samples labeled as `NOT MOTION`"
   ]
  },
  {
   "cell_type": "code",
   "execution_count": 18,
   "metadata": {},
   "outputs": [
    {
     "data": {
      "text/html": [
       "<div>\n",
       "<style scoped>\n",
       "    .dataframe tbody tr th:only-of-type {\n",
       "        vertical-align: middle;\n",
       "    }\n",
       "\n",
       "    .dataframe tbody tr th {\n",
       "        vertical-align: top;\n",
       "    }\n",
       "\n",
       "    .dataframe thead th {\n",
       "        text-align: right;\n",
       "    }\n",
       "</style>\n",
       "<table border=\"1\" class=\"dataframe\">\n",
       "  <thead>\n",
       "    <tr style=\"text-align: right;\">\n",
       "      <th></th>\n",
       "      <th>docket_entry_id</th>\n",
       "      <th>motion</th>\n",
       "      <th>text</th>\n",
       "    </tr>\n",
       "  </thead>\n",
       "  <tbody>\n",
       "    <tr>\n",
       "      <th>1020</th>\n",
       "      <td>1974</td>\n",
       "      <td>0</td>\n",
       "      <td>RULE 56 56.1(b)(3)(B) Statement by Timothy Brownlee regarding motion for summary judgment 40 PLAINTIFFS LOCAL RULE 56.1(b)(3)(B) STATEMENT OF ADDITIONAL FACTS (Ainsworth, Russell) (Entered: 08/14/2008)</td>\n",
       "    </tr>\n",
       "    <tr>\n",
       "      <th>4745</th>\n",
       "      <td>11320</td>\n",
       "      <td>0</td>\n",
       "      <td>BRIEF in Support of 48 RULE 56 MOTION to Strike (Motion to Exclude Expert Opinions of Trevor Suslow)  filed by Keystone Logistics Inc. (Attachments: # 1 Exhibit A, # 2 Exhibit B, # 3 Exhibit C, # 4 Exhibit D, # 5 Exhibit E, # 6 Exhibit F, # 7 Exhibit G)(Fullenkamp, Joseph) (Entered: 12/15/2017)</td>\n",
       "    </tr>\n",
       "    <tr>\n",
       "      <th>4109</th>\n",
       "      <td>6083</td>\n",
       "      <td>0</td>\n",
       "      <td>(for Agreed Motion) NOTICE of Motion by Robert R. Cohen for presentment of extension of time 70 before Honorable James B. Zagel on 5/31/2011 at 09:00 AM. (Cohen, Robert) (Entered: 05/24/2011)</td>\n",
       "    </tr>\n",
       "    <tr>\n",
       "      <th>3968</th>\n",
       "      <td>8360</td>\n",
       "      <td>0</td>\n",
       "      <td>CERTIFIED Copy of Order from the 7th Circuit USCA regarding appeal # 08-8006;Upon consideration of the Petition for Leave to Appeal Pursuant to Rule 23(f) of the federal Rules of Civil Procedure from order Granting Class Certification, It is ordered that the motion is Denied. (gej, ) (Entered: 04/23/2008)</td>\n",
       "    </tr>\n",
       "    <tr>\n",
       "      <th>4238</th>\n",
       "      <td>11702</td>\n",
       "      <td>0</td>\n",
       "      <td>Mail Returned from Vorice Earl Williams-Bey as Undeliverable - Return to Sender, Out to Court 5 Clerks Judgment, 3 Order on Motion for Leave to Proceed in forma pauperis, 4 Order. (Resent to Williams-Bey at Elkhart County Corrections Center) (rmc) (Entered: 07/08/2016)</td>\n",
       "    </tr>\n",
       "    <tr>\n",
       "      <th>4769</th>\n",
       "      <td>15386</td>\n",
       "      <td>0</td>\n",
       "      <td>TELEPHONE CONFERENCE held on 3/9/2017 before Judge Philip P Simon. Pla appeared by atty Daniel Marc Spector. Dft appeared by atty Nabil G. Foster. Defense indicates a Motion for S/J will be filed. Court sets deadlines: Dispositive motion to be filed by 5/1/2017, Response to be filed by 6/5/2017, Reply to be filed by 6/19/2017. Defense previews the Motion for S/J for the Court. Plf indicates to the Court that the plf will not pursue claim #2. Hearings scheduled: Jury Trial set for 10/2/2017 (1-2 days) 08:30 AM in US District Court - Hammond before Judge Philip P Simon. Final Pretrial Conference/Settlement Conference set for 9/1/2017 10:00 AM in US District Court - Hammond before Judge Philip P Simon. Court Reporter Stacy Drohosky.) (nac) (Entered: 03/09/2017)</td>\n",
       "    </tr>\n",
       "    <tr>\n",
       "      <th>4660</th>\n",
       "      <td>14584</td>\n",
       "      <td>0</td>\n",
       "      <td>ENTRY for Magistrate Judge Susan Collins: The 69 Motion to Withdraw Appearance of William H. Brainard is granted. The appearance of Atty Brainard is hereby withdrawn on behalf of Dfts. So Ordered.(mr) (Entered: 06/05/2017)</td>\n",
       "    </tr>\n",
       "    <tr>\n",
       "      <th>45</th>\n",
       "      <td>12211</td>\n",
       "      <td>0</td>\n",
       "      <td>OPINION AND ORDER: For the reasons set forth in the order, the 17 Motion for Summary Judgment is GRANTED. This case is DISMISSED WITHOUT PREJUDICE for lack of derivative jurisdiction. The remaining pending motion s 22 23 27 29 31 34 and 40 are DENIED AS MOOT. Signed by Judge Rudy Lozano on 2/7/2017. (cc: Axson) (jss) (Entered: 02/07/2017)</td>\n",
       "    </tr>\n",
       "    <tr>\n",
       "      <th>3797</th>\n",
       "      <td>4315</td>\n",
       "      <td>0</td>\n",
       "      <td>JUDGMENT (Sentencing Order) as to Martin Jiminez-Ponce (1), Count(s) 1s, The defendant pleaded guilty to count(s) 1 of the superseding criminal indictment. Count(s) of the original Indictment dismissed on the motion of the United States. The defendant is hereby committed to the custody of the United States Bureau of Prisons to be imprisoned for a total term of: Thirty (30) months. The defendant is remanded to the custody of the United States Marshal. Criminal Monetary Penalties. Schedule of Payments., (Terminated defendant Martin Jiminez-Ponce). Signed by the Honorable Robert W. Gettleman on 12/19/2017. Mailed certified copy to the defendant Martin Jimenez-Ponce's counsel of record Daniel J. Hesler. Mailed notice (mc, ) (Entered: 12/19/2017)</td>\n",
       "    </tr>\n",
       "    <tr>\n",
       "      <th>3841</th>\n",
       "      <td>11151</td>\n",
       "      <td>0</td>\n",
       "      <td>OPINION AND ORDER: DENYING 4 MOTION for Status Hearing by Plaintiff Quintin Mayweather-Brown. The clerk is DIRECTED to send Quintin Mayweather-Brown a copy of the docket sheet for this case. Signed by Magistrate Judge Michael G Gotsch, Sr on 11/3/2016. (lhc)(cc: Plaintiff) (Entered: 11/03/2016)</td>\n",
       "    </tr>\n",
       "  </tbody>\n",
       "</table>\n",
       "</div>"
      ],
      "text/plain": [
       "      docket_entry_id  motion  \\\n",
       "1020  1974             0        \n",
       "4745  11320            0        \n",
       "4109  6083             0        \n",
       "3968  8360             0        \n",
       "4238  11702            0        \n",
       "4769  15386            0        \n",
       "4660  14584            0        \n",
       "45    12211            0        \n",
       "3797  4315             0        \n",
       "3841  11151            0        \n",
       "\n",
       "                                                                                                                                                                                                                                                                                                                                                                                                                                                                                                                                                                                                                                                                                                                                                                                                  text  \n",
       "1020  RULE 56 56.1(b)(3)(B) Statement by Timothy Brownlee regarding motion for summary judgment 40 PLAINTIFFS LOCAL RULE 56.1(b)(3)(B) STATEMENT OF ADDITIONAL FACTS (Ainsworth, Russell) (Entered: 08/14/2008)                                                                                                                                                                                                                                                                                                                                                                                                                                                                                                                                                                                         \n",
       "4745  BRIEF in Support of 48 RULE 56 MOTION to Strike (Motion to Exclude Expert Opinions of Trevor Suslow)  filed by Keystone Logistics Inc. (Attachments: # 1 Exhibit A, # 2 Exhibit B, # 3 Exhibit C, # 4 Exhibit D, # 5 Exhibit E, # 6 Exhibit F, # 7 Exhibit G)(Fullenkamp, Joseph) (Entered: 12/15/2017)                                                                                                                                                                                                                                                                                                                                                                                                                                                                                           \n",
       "4109   (for Agreed Motion) NOTICE of Motion by Robert R. Cohen for presentment of extension of time 70 before Honorable James B. Zagel on 5/31/2011 at 09:00 AM. (Cohen, Robert) (Entered: 05/24/2011)                                                                                                                                                                                                                                                                                                                                                                                                                                                                                                                                                                                                  \n",
       "3968   CERTIFIED Copy of Order from the 7th Circuit USCA regarding appeal # 08-8006;Upon consideration of the Petition for Leave to Appeal Pursuant to Rule 23(f) of the federal Rules of Civil Procedure from order Granting Class Certification, It is ordered that the motion is Denied. (gej, ) (Entered: 04/23/2008)                                                                                                                                                                                                                                                                                                                                                                                                                                                                               \n",
       "4238  Mail Returned from Vorice Earl Williams-Bey as Undeliverable - Return to Sender, Out to Court 5 Clerks Judgment, 3 Order on Motion for Leave to Proceed in forma pauperis, 4 Order. (Resent to Williams-Bey at Elkhart County Corrections Center) (rmc) (Entered: 07/08/2016)                                                                                                                                                                                                                                                                                                                                                                                                                                                                                                                     \n",
       "4769  TELEPHONE CONFERENCE held on 3/9/2017 before Judge Philip P Simon. Pla appeared by atty Daniel Marc Spector. Dft appeared by atty Nabil G. Foster. Defense indicates a Motion for S/J will be filed. Court sets deadlines: Dispositive motion to be filed by 5/1/2017, Response to be filed by 6/5/2017, Reply to be filed by 6/19/2017. Defense previews the Motion for S/J for the Court. Plf indicates to the Court that the plf will not pursue claim #2. Hearings scheduled: Jury Trial set for 10/2/2017 (1-2 days) 08:30 AM in US District Court - Hammond before Judge Philip P Simon. Final Pretrial Conference/Settlement Conference set for 9/1/2017 10:00 AM in US District Court - Hammond before Judge Philip P Simon. Court Reporter Stacy Drohosky.) (nac) (Entered: 03/09/2017)  \n",
       "4660  ENTRY for Magistrate Judge Susan Collins: The 69 Motion to Withdraw Appearance of William H. Brainard is granted. The appearance of Atty Brainard is hereby withdrawn on behalf of Dfts. So Ordered.(mr) (Entered: 06/05/2017)                                                                                                                                                                                                                                                                                                                                                                                                                                                                                                                                                                    \n",
       "45    OPINION AND ORDER: For the reasons set forth in the order, the 17 Motion for Summary Judgment is GRANTED. This case is DISMISSED WITHOUT PREJUDICE for lack of derivative jurisdiction. The remaining pending motion s 22 23 27 29 31 34 and 40 are DENIED AS MOOT. Signed by Judge Rudy Lozano on 2/7/2017. (cc: Axson) (jss) (Entered: 02/07/2017)                                                                                                                                                                                                                                                                                                                                                                                                                                              \n",
       "3797  JUDGMENT (Sentencing Order) as to Martin Jiminez-Ponce (1), Count(s) 1s, The defendant pleaded guilty to count(s) 1 of the superseding criminal indictment. Count(s) of the original Indictment dismissed on the motion of the United States. The defendant is hereby committed to the custody of the United States Bureau of Prisons to be imprisoned for a total term of: Thirty (30) months. The defendant is remanded to the custody of the United States Marshal. Criminal Monetary Penalties. Schedule of Payments., (Terminated defendant Martin Jiminez-Ponce). Signed by the Honorable Robert W. Gettleman on 12/19/2017. Mailed certified copy to the defendant Martin Jimenez-Ponce's counsel of record Daniel J. Hesler. Mailed notice (mc, ) (Entered: 12/19/2017)                   \n",
       "3841  OPINION AND ORDER: DENYING 4 MOTION for Status Hearing by Plaintiff Quintin Mayweather-Brown. The clerk is DIRECTED to send Quintin Mayweather-Brown a copy of the docket sheet for this case. Signed by Magistrate Judge Michael G Gotsch, Sr on 11/3/2016. (lhc)(cc: Plaintiff) (Entered: 11/03/2016)                                                                                                                                                                                                                                                                                                                                                                                                                                                                                           "
      ]
     },
     "execution_count": 18,
     "metadata": {},
     "output_type": "execute_result"
    }
   ],
   "source": [
    "get_n_samples(df_train[df_train.motion == 0], 10)"
   ]
  },
  {
   "cell_type": "markdown",
   "metadata": {},
   "source": [
    "### Labeling Function Type 1: Keyword LFs\n",
    "\n",
    "The user can define a labeling function by specifying keywords and mapping them to a class.\n",
    "\n",
    "For example:\n",
    "```python\n",
    "@labeling_function()\n",
    "def lf_contains_motion(x):\n",
    "    # Return a label of MOTION if \"motion\" in document text, otherwise ABSTAIN\n",
    "    return MOTION if \"motion\" in x.text.lower() else ABSTAIN\n",
    "```\n",
    "\n",
    "Below we define functions to create this type labeling function given a user input keyword and class."
   ]
  },
  {
   "cell_type": "code",
   "execution_count": 19,
   "metadata": {},
   "outputs": [],
   "source": [
    "def keyword_lookup(x, keywords, label):\n",
    "    if any(word in x.text.lower() for word in keywords):\n",
    "        return label\n",
    "    return ABSTAIN\n",
    "\n",
    "\n",
    "def make_keyword_lf(keywords, label=MOTION):\n",
    "    return LabelingFunction(\n",
    "        name=f\"keyword: {keywords[0]}\",\n",
    "        f=keyword_lookup,\n",
    "        resources=dict(keywords=keywords, label=label),\n",
    "    )"
   ]
  },
  {
   "cell_type": "markdown",
   "metadata": {},
   "source": [
    "#### Defining Keyword LFs:\n",
    "\n",
    "1. Sample 10 documents and label them\n",
    "2. Define some keyword labeling functions\n",
    "3. Repeat steps 1 and 2\n",
    "4. Look at labeling function analysis.\n",
    "  - If some functions have low empirical accuracy: remove them\n",
    "  - If some functions have low coverage:\n",
    "    - If empirical accuracy is high, it doesn't hurt to keep them\n",
    "5. To improve coverage and empirical accuracy for a class:\n",
    "  - Sample 10 documents with label: `<CLASS>`\n",
    "  - Define some labeling functions for `<CLASS>`\n",
    "6. Keep up this process until labeled dataset and LF coverage is sufficient."
   ]
  },
  {
   "cell_type": "code",
   "execution_count": 20,
   "metadata": {},
   "outputs": [],
   "source": [
    "\"\"\"Motions contain 'motion of'.\"\"\"\n",
    "keyword__of = make_keyword_lf(keywords=[\"motion of\"])\n",
    "\n",
    "\"\"\"Motions contain 'motion to'.\"\"\"\n",
    "keyword__motion_to = make_keyword_lf(keywords=[\"motion to\"])\n",
    "\n",
    "\"\"\"Motions contain 'motion by'.\"\"\"\n",
    "keyword__motion_by = make_keyword_lf(keywords=[\"motion by\"])\n",
    "\n",
    "\"\"\"Motions contain 'motion (oral)'.\"\"\"\n",
    "keyword__motion_oral = make_keyword_lf(keywords=[\"motion (oral)\"])\n",
    "\n",
    "\"\"\"Motions contain 'joint motion'.\"\"\"\n",
    "keyword__joint_motion = make_keyword_lf(keywords=[\"joint motion\"])\n",
    "\n",
    "\"\"\"Notice of motions contain 'notice of motion'.\"\"\"\n",
    "keyword__notice_of_motion = make_keyword_lf(keywords=[\"notice of motion\"], label=NOT_MOTION)\n",
    "\n",
    "\"\"\"Notice of motions contain 'notice'.\"\"\"\n",
    "keyword__notice = make_keyword_lf(keywords=[\"notice\"], label=NOT_MOTION)\n",
    "\n",
    "\"\"\"Judgements contain 'judgement'.\"\"\"\n",
    "keyword__judgement = make_keyword_lf(keywords=[\"judgement\"], label=NOT_MOTION)\n",
    "\n",
    "\"\"\"Denying a motion contains 'denying motion'.\"\"\"\n",
    "keyword__denying_motion = make_keyword_lf(keywords=[\"denying motion\"], label=NOT_MOTION)\n",
    "\n",
    "\"\"\"Final pretrial conference contains 'final pretrial conference'.\"\"\"\n",
    "keyword__final_pretrial_conference = make_keyword_lf(keywords=[\"final pretrial conference\"], label=NOT_MOTION)\n",
    "\n",
    "\"\"\"Documents refer to motions with 'regarding motion'\"\"\"\n",
    "keyword__regarding_motion = make_keyword_lf(keywords=[\"regarding motion\"], label=NOT_MOTION)"
   ]
  },
  {
   "cell_type": "markdown",
   "metadata": {},
   "source": [
    "### Labeling Function Type 2: Missing Keyword LFs\n",
    "\n",
    "The user can define a labeling function by specifying keywords and mapping them to a class. Except that in this case, if the specified keyword is **not** in the document, then we map to the class.\n",
    "\n",
    "Below we define functions to create this type of labeling function given a user input keyword and class."
   ]
  },
  {
   "cell_type": "code",
   "execution_count": 21,
   "metadata": {},
   "outputs": [],
   "source": [
    "def missing_keyword_lookup(x, keywords, label):\n",
    "    if not any(word in x.text.lower() for word in keywords):\n",
    "        return label\n",
    "    return ABSTAIN\n",
    "\n",
    "\n",
    "def make_missing_keyword_lf(keywords, label=MOTION):\n",
    "    return LabelingFunction(\n",
    "        name=f\"missing keyword: {keywords[0]}\",\n",
    "        f=missing_keyword_lookup,\n",
    "        resources=dict(keywords=keywords, label=label),\n",
    "    )\n",
    "\"\"\"NOT Motions do not contain 'motion'.\"\"\"\n",
    "missing_keyword__motion = make_missing_keyword_lf(keywords=[\"motion\"], label=NOT_MOTION)"
   ]
  },
  {
   "cell_type": "markdown",
   "metadata": {},
   "source": [
    "### Labeling Function Type 3: Regex based LFs\n",
    "\n",
    "Some examples of REGEX LFs. \n",
    "```python\n",
    "MOTION_MENTIONS = r\"\\b(motion by|motion (oral) by|motion for|motion to)\"\n",
    "@labeling_function()\n",
    "def regex_motion(x):\n",
    "    return MOTION if re.search(MOTION_MENTIONS, x.text) else ABSTAIN\n",
    "```\n",
    "\n",
    "For now, it seems difficult to map a non-technical user's input to a regex. In fact, we can probably get far enough with keyword LFs."
   ]
  },
  {
   "cell_type": "markdown",
   "metadata": {},
   "source": [
    "### Labeling Function Type 4: Heuristic based LFs\n",
    "\n",
    "Looking at the documents, we notice that:\n",
    "1. `MOTION` documents generally start with a mention of the keyword 'motion'. \n",
    "2. `NOT MOTION` documents can mention the keyword 'motion'.\n",
    "3. `NOT MOTION` documents tend not to start with the keyword 'motion'.\n",
    "4. Rule 3 does not hold for 'notice of motion' or 'denying motion'. We probably want to query the data to explore when we have a mention of 'motion' at the start and rule 3 does not hold.\n",
    "\n",
    "We can use these heuristics to create labeling functions."
   ]
  },
  {
   "cell_type": "code",
   "execution_count": 23,
   "metadata": {},
   "outputs": [],
   "source": [
    "# Create a Tokenizer with the default settings for English\n",
    "# including punctuation rules and exceptions\n",
    "# nlp = English()\n",
    "# tokenizer = nlp.tokenizer\n",
    "\n",
    "@labeling_function()\n",
    "def lf_first_word_motion(x):\n",
    "    \"\"\"Tokenizes the text to check if first word is motion.\"\"\"\n",
    "    _first_token = x.text.lower().split()[0]\n",
    "    return MOTION if \"motion\" == _first_token else ABSTAIN\n",
    "\n",
    "@labeling_function()\n",
    "def lf_motion_not_in_first_three_words(x):\n",
    "    \"\"\"Tokenizes the text to check if motion is not in first 3 words.\"\"\"\n",
    "    _tokens = x.text.lower().split()[:3]\n",
    "    return NOT_MOTION if not \"motion\" in _tokens else ABSTAIN\n",
    "\n",
    "@labeling_function()\n",
    "def lf_motion_mentioned_later(x):\n",
    "    \"\"\"Tokenizes the text to check if first word is motion.\"\"\"\n",
    "    # Motion is mentioned somewhere in the middle of the docket entry\n",
    "    # and Motion is not mentioned at the start\n",
    "    _tokens = x.text.lower().split()\n",
    "    condition = \"motion\" in _tokens[3:] and \"motion\" not in _tokens[:2]\n",
    "    return NOT_MOTION if condition else ABSTAIN\n",
    "\n",
    "@labeling_function()\n",
    "def lf_motion_early(x):\n",
    "    \"\"\"Tokenizes the text to check if motion is mentioned in first 5 words\"\"\"\n",
    "    # Motion is mentioned somewhere in the middle of the docket entry\n",
    "    # and Motion is not mentioned at the start\n",
    "    _tokens = x.text.lower().split()\n",
    "    condition = \"motion\" in _tokens[:5] and \"motion\" not in _tokens[6:]\n",
    "    return MOTION if condition else ABSTAIN"
   ]
  },
  {
   "cell_type": "markdown",
   "metadata": {},
   "source": [
    "These labeling functions are effective for a simple use case. However, the technical barrier is high. \n",
    "\n",
    "**To do**: explore the following in Snorkel:\n",
    "\n",
    "```python\n",
    "from typing import Optional\n",
    "\n",
    "from snorkel.preprocess import preprocessor\n",
    "from snorkel.types import DataPoint\n",
    "\n",
    "@preprocessor()\n",
    "def get_text_between(cand: DataPoint) -> DataPoint:\n",
    "    \"\"\"\n",
    "    Returns the text between the two person mentions in the sentence\n",
    "    \"\"\"\n",
    "    start = cand.person1_word_idx[1] + 1\n",
    "    end = cand.person2_word_idx[0]\n",
    "    cand.text_between = \" \".join(cand.tokens[start:end])\n",
    "    return cand\n",
    "\n",
    "@preprocessor()\n",
    "def get_left_tokens(cand: DataPoint) -> DataPoint:\n",
    "    \"\"\"\n",
    "    Returns tokens in the length 3 window to the left of the person mentions\n",
    "    \"\"\"\n",
    "    # TODO: need to pass window as input params\n",
    "    window = 3\n",
    "\n",
    "    end = cand.person1_word_idx[0]\n",
    "    cand.person1_left_tokens = cand.tokens[0:end][-1 - window : -1]\n",
    "\n",
    "    end = cand.person2_word_idx[0]\n",
    "    cand.person2_left_tokens = cand.tokens[0:end][-1 - window : -1]\n",
    "    return cand\n",
    "\n",
    "```\n",
    "\n",
    "The idea here would be to have the user specify a keyword or concept that can then be represented by a `cand: DataPoint`. Given this candidate variable, we can more easily enumerate labeling functions like:\n",
    "- searching the text in a neighborhood of the candidate.\n",
    "  - `in left window of size 5 of \"motion\", look for \"denial\", \"order\", ...`\n",
    "- searching for keywords between candidates\n",
    "- etc.\n"
   ]
  },
  {
   "cell_type": "markdown",
   "metadata": {},
   "source": [
    "### Other Labeling Function Types:\n",
    "\n",
    "- Using external models:\n",
    " - NER models, sentiment analysis\n",
    "- Using a knowledge base to create heuristics (Can we try anything with the domain ontologies used in Satyrn?)"
   ]
  },
  {
   "cell_type": "markdown",
   "metadata": {},
   "source": [
    "## 3. Aggregating the Labeling Functions"
   ]
  },
  {
   "cell_type": "markdown",
   "metadata": {},
   "source": [
    "Let's put all our LFs in one place."
   ]
  },
  {
   "cell_type": "code",
   "execution_count": 24,
   "metadata": {},
   "outputs": [],
   "source": [
    "lfs = [\n",
    "    keyword__of, \n",
    "    keyword__motion_to, \n",
    "    keyword__motion_by, \n",
    "    keyword__motion_oral,\n",
    "    keyword__joint_motion,\n",
    "    keyword__notice,\n",
    "    keyword__notice_of_motion,\n",
    "    keyword__judgement,\n",
    "    keyword__final_pretrial_conference,\n",
    "    keyword__denying_motion,\n",
    "    lf_first_word_motion,\n",
    "    lf_motion_not_in_first_three_words,\n",
    "    lf_motion_mentioned_later,\n",
    "    lf_motion_early,\n",
    "    missing_keyword__motion,\n",
    "    keyword__regarding_motion\n",
    "]"
   ]
  },
  {
   "cell_type": "code",
   "execution_count": 43,
   "metadata": {},
   "outputs": [
    {
     "name": "stdout",
     "output_type": "stream",
     "text": [
      "We have 16 labeling functions.\n"
     ]
    }
   ],
   "source": [
    "print(f\"We have {len(lfs)} labeling functions.\")"
   ]
  },
  {
   "cell_type": "markdown",
   "metadata": {},
   "source": [
    "The following code applies the labeling functions to the dataframe. In other words, for each sample in the dataframe we get the label provided by each labeling functions.\n",
    "\n",
    "In other words, each sample is mapped to an array of shape (number labeling functions, ) with values `ABSTAIN`, `MOTION`, or `NOT MOTION`."
   ]
  },
  {
   "cell_type": "code",
   "execution_count": 25,
   "metadata": {},
   "outputs": [
    {
     "name": "stderr",
     "output_type": "stream",
     "text": [
      "/Users/benigerisimon/opt/miniconda3/envs/motion-classification/lib/python3.8/site-packages/tqdm/std.py:697: FutureWarning: The Panel class is removed from pandas. Accessing it from the top-level namespace will also be removed in the next version\n",
      "  from pandas import Panel\n",
      "100%|██████████| 3966/3966 [00:00<00:00, 10730.34it/s]\n",
      "100%|██████████| 1322/1322 [00:00<00:00, 11186.50it/s]\n",
      "100%|██████████| 1322/1322 [00:00<00:00, 11319.76it/s]\n"
     ]
    }
   ],
   "source": [
    "applier = PandasLFApplier(lfs=lfs)\n",
    "L_train = applier.apply(df=df_train)\n",
    "L_val = applier.apply(df=df_val)\n",
    "L_test = applier.apply(df=df_test)"
   ]
  },
  {
   "cell_type": "code",
   "execution_count": 45,
   "metadata": {},
   "outputs": [
    {
     "data": {
      "text/plain": [
       "array([[-1, -1,  1, ...,  1, -1, -1],\n",
       "       [-1, -1, -1, ..., -1, -1, -1],\n",
       "       [-1, -1, -1, ..., -1, -1, -1],\n",
       "       ...,\n",
       "       [-1, -1,  1, ...,  1, -1, -1],\n",
       "       [-1, -1,  1, ...,  1, -1, -1],\n",
       "       [-1, -1,  1, ..., -1, -1, -1]])"
      ]
     },
     "execution_count": 45,
     "metadata": {},
     "output_type": "execute_result"
    }
   ],
   "source": [
    "L_train"
   ]
  },
  {
   "cell_type": "code",
   "execution_count": 46,
   "metadata": {},
   "outputs": [
    {
     "name": "stdout",
     "output_type": "stream",
     "text": [
      "Shape of L_train (3966, 16)\n"
     ]
    }
   ],
   "source": [
    "print(f\"Shape of L_train {L_train.shape}\")"
   ]
  },
  {
   "cell_type": "markdown",
   "metadata": {},
   "source": [
    "The following code computes metrics to evaluate the quality of the labeling functions."
   ]
  },
  {
   "cell_type": "code",
   "execution_count": 27,
   "metadata": {},
   "outputs": [
    {
     "name": "stderr",
     "output_type": "stream",
     "text": [
      "/Users/benigerisimon/opt/miniconda3/envs/motion-classification/lib/python3.8/site-packages/sklearn/utils/validation.py:67: FutureWarning: Pass labels=[-1  0  1] as keyword args. From version 0.25 passing these as positional arguments will result in an error\n",
      "  warnings.warn(\"Pass {} as keyword args. From version 0.25 \"\n"
     ]
    },
    {
     "data": {
      "text/html": [
       "<div>\n",
       "<style scoped>\n",
       "    .dataframe tbody tr th:only-of-type {\n",
       "        vertical-align: middle;\n",
       "    }\n",
       "\n",
       "    .dataframe tbody tr th {\n",
       "        vertical-align: top;\n",
       "    }\n",
       "\n",
       "    .dataframe thead th {\n",
       "        text-align: right;\n",
       "    }\n",
       "</style>\n",
       "<table border=\"1\" class=\"dataframe\">\n",
       "  <thead>\n",
       "    <tr style=\"text-align: right;\">\n",
       "      <th></th>\n",
       "      <th>j</th>\n",
       "      <th>Polarity</th>\n",
       "      <th>Coverage</th>\n",
       "      <th>Overlaps</th>\n",
       "      <th>Conflicts</th>\n",
       "      <th>Correct</th>\n",
       "      <th>Incorrect</th>\n",
       "      <th>Emp. Acc.</th>\n",
       "    </tr>\n",
       "  </thead>\n",
       "  <tbody>\n",
       "    <tr>\n",
       "      <th>keyword: motion of</th>\n",
       "      <td>0</td>\n",
       "      <td>[1]</td>\n",
       "      <td>0.005547</td>\n",
       "      <td>0.005547</td>\n",
       "      <td>0.004539</td>\n",
       "      <td>3</td>\n",
       "      <td>19</td>\n",
       "      <td>0.136364</td>\n",
       "    </tr>\n",
       "    <tr>\n",
       "      <th>keyword: motion to</th>\n",
       "      <td>1</td>\n",
       "      <td>[1]</td>\n",
       "      <td>0.221382</td>\n",
       "      <td>0.220373</td>\n",
       "      <td>0.074887</td>\n",
       "      <td>590</td>\n",
       "      <td>288</td>\n",
       "      <td>0.671982</td>\n",
       "    </tr>\n",
       "    <tr>\n",
       "      <th>keyword: motion by</th>\n",
       "      <td>2</td>\n",
       "      <td>[1]</td>\n",
       "      <td>0.595814</td>\n",
       "      <td>0.595310</td>\n",
       "      <td>0.066314</td>\n",
       "      <td>2191</td>\n",
       "      <td>172</td>\n",
       "      <td>0.927211</td>\n",
       "    </tr>\n",
       "    <tr>\n",
       "      <th>keyword: motion (oral)</th>\n",
       "      <td>3</td>\n",
       "      <td>[1]</td>\n",
       "      <td>0.013364</td>\n",
       "      <td>0.013364</td>\n",
       "      <td>0.000000</td>\n",
       "      <td>53</td>\n",
       "      <td>0</td>\n",
       "      <td>1.000000</td>\n",
       "    </tr>\n",
       "    <tr>\n",
       "      <th>keyword: joint motion</th>\n",
       "      <td>4</td>\n",
       "      <td>[1]</td>\n",
       "      <td>0.024206</td>\n",
       "      <td>0.023954</td>\n",
       "      <td>0.000756</td>\n",
       "      <td>94</td>\n",
       "      <td>2</td>\n",
       "      <td>0.979167</td>\n",
       "    </tr>\n",
       "    <tr>\n",
       "      <th>keyword: notice</th>\n",
       "      <td>5</td>\n",
       "      <td>[0]</td>\n",
       "      <td>0.076147</td>\n",
       "      <td>0.076147</td>\n",
       "      <td>0.066314</td>\n",
       "      <td>198</td>\n",
       "      <td>104</td>\n",
       "      <td>0.655629</td>\n",
       "    </tr>\n",
       "    <tr>\n",
       "      <th>keyword: notice of motion</th>\n",
       "      <td>6</td>\n",
       "      <td>[0]</td>\n",
       "      <td>0.038326</td>\n",
       "      <td>0.038326</td>\n",
       "      <td>0.038326</td>\n",
       "      <td>117</td>\n",
       "      <td>35</td>\n",
       "      <td>0.769737</td>\n",
       "    </tr>\n",
       "    <tr>\n",
       "      <th>keyword: judgement</th>\n",
       "      <td>7</td>\n",
       "      <td>[0]</td>\n",
       "      <td>0.001009</td>\n",
       "      <td>0.001009</td>\n",
       "      <td>0.001009</td>\n",
       "      <td>0</td>\n",
       "      <td>4</td>\n",
       "      <td>0.000000</td>\n",
       "    </tr>\n",
       "    <tr>\n",
       "      <th>keyword: final pretrial conference</th>\n",
       "      <td>8</td>\n",
       "      <td>[0]</td>\n",
       "      <td>0.013364</td>\n",
       "      <td>0.013364</td>\n",
       "      <td>0.002774</td>\n",
       "      <td>52</td>\n",
       "      <td>1</td>\n",
       "      <td>0.981132</td>\n",
       "    </tr>\n",
       "    <tr>\n",
       "      <th>keyword: denying motion</th>\n",
       "      <td>9</td>\n",
       "      <td>[0]</td>\n",
       "      <td>0.000252</td>\n",
       "      <td>0.000252</td>\n",
       "      <td>0.000252</td>\n",
       "      <td>1</td>\n",
       "      <td>0</td>\n",
       "      <td>1.000000</td>\n",
       "    </tr>\n",
       "    <tr>\n",
       "      <th>lf_first_word_motion</th>\n",
       "      <td>10</td>\n",
       "      <td>[1]</td>\n",
       "      <td>0.725668</td>\n",
       "      <td>0.721130</td>\n",
       "      <td>0.025719</td>\n",
       "      <td>2863</td>\n",
       "      <td>15</td>\n",
       "      <td>0.994788</td>\n",
       "    </tr>\n",
       "    <tr>\n",
       "      <th>lf_motion_not_in_first_three_words</th>\n",
       "      <td>11</td>\n",
       "      <td>[0]</td>\n",
       "      <td>0.197932</td>\n",
       "      <td>0.185830</td>\n",
       "      <td>0.106152</td>\n",
       "      <td>761</td>\n",
       "      <td>24</td>\n",
       "      <td>0.969427</td>\n",
       "    </tr>\n",
       "    <tr>\n",
       "      <th>lf_motion_mentioned_later</th>\n",
       "      <td>12</td>\n",
       "      <td>[0]</td>\n",
       "      <td>0.173979</td>\n",
       "      <td>0.173222</td>\n",
       "      <td>0.107413</td>\n",
       "      <td>670</td>\n",
       "      <td>20</td>\n",
       "      <td>0.971014</td>\n",
       "    </tr>\n",
       "    <tr>\n",
       "      <th>lf_motion_early</th>\n",
       "      <td>13</td>\n",
       "      <td>[1]</td>\n",
       "      <td>0.656581</td>\n",
       "      <td>0.637166</td>\n",
       "      <td>0.028996</td>\n",
       "      <td>2531</td>\n",
       "      <td>73</td>\n",
       "      <td>0.971966</td>\n",
       "    </tr>\n",
       "    <tr>\n",
       "      <th>missing keyword: motion</th>\n",
       "      <td>14</td>\n",
       "      <td>[]</td>\n",
       "      <td>0.000000</td>\n",
       "      <td>0.000000</td>\n",
       "      <td>0.000000</td>\n",
       "      <td>0</td>\n",
       "      <td>0</td>\n",
       "      <td>0.000000</td>\n",
       "    </tr>\n",
       "    <tr>\n",
       "      <th>keyword: regarding motion</th>\n",
       "      <td>15</td>\n",
       "      <td>[0]</td>\n",
       "      <td>0.022945</td>\n",
       "      <td>0.022945</td>\n",
       "      <td>0.011094</td>\n",
       "      <td>87</td>\n",
       "      <td>4</td>\n",
       "      <td>0.956044</td>\n",
       "    </tr>\n",
       "  </tbody>\n",
       "</table>\n",
       "</div>"
      ],
      "text/plain": [
       "                                     j Polarity  Coverage  Overlaps  \\\n",
       "keyword: motion of                  0   [1]      0.005547  0.005547   \n",
       "keyword: motion to                  1   [1]      0.221382  0.220373   \n",
       "keyword: motion by                  2   [1]      0.595814  0.595310   \n",
       "keyword: motion (oral)              3   [1]      0.013364  0.013364   \n",
       "keyword: joint motion               4   [1]      0.024206  0.023954   \n",
       "keyword: notice                     5   [0]      0.076147  0.076147   \n",
       "keyword: notice of motion           6   [0]      0.038326  0.038326   \n",
       "keyword: judgement                  7   [0]      0.001009  0.001009   \n",
       "keyword: final pretrial conference  8   [0]      0.013364  0.013364   \n",
       "keyword: denying motion             9   [0]      0.000252  0.000252   \n",
       "lf_first_word_motion                10  [1]      0.725668  0.721130   \n",
       "lf_motion_not_in_first_three_words  11  [0]      0.197932  0.185830   \n",
       "lf_motion_mentioned_later           12  [0]      0.173979  0.173222   \n",
       "lf_motion_early                     13  [1]      0.656581  0.637166   \n",
       "missing keyword: motion             14  []       0.000000  0.000000   \n",
       "keyword: regarding motion           15  [0]      0.022945  0.022945   \n",
       "\n",
       "                                    Conflicts  Correct  Incorrect  Emp. Acc.  \n",
       "keyword: motion of                  0.004539   3        19         0.136364   \n",
       "keyword: motion to                  0.074887   590      288        0.671982   \n",
       "keyword: motion by                  0.066314   2191     172        0.927211   \n",
       "keyword: motion (oral)              0.000000   53       0          1.000000   \n",
       "keyword: joint motion               0.000756   94       2          0.979167   \n",
       "keyword: notice                     0.066314   198      104        0.655629   \n",
       "keyword: notice of motion           0.038326   117      35         0.769737   \n",
       "keyword: judgement                  0.001009   0        4          0.000000   \n",
       "keyword: final pretrial conference  0.002774   52       1          0.981132   \n",
       "keyword: denying motion             0.000252   1        0          1.000000   \n",
       "lf_first_word_motion                0.025719   2863     15         0.994788   \n",
       "lf_motion_not_in_first_three_words  0.106152   761      24         0.969427   \n",
       "lf_motion_mentioned_later           0.107413   670      20         0.971014   \n",
       "lf_motion_early                     0.028996   2531     73         0.971966   \n",
       "missing keyword: motion             0.000000   0        0          0.000000   \n",
       "keyword: regarding motion           0.011094   87       4          0.956044   "
      ]
     },
     "execution_count": 27,
     "metadata": {},
     "output_type": "execute_result"
    }
   ],
   "source": [
    "LFAnalysis(L=L_train, lfs=lfs).lf_summary(Y=df_train['motion'].to_numpy())"
   ]
  },
  {
   "cell_type": "code",
   "execution_count": 28,
   "metadata": {},
   "outputs": [
    {
     "data": {
      "text/plain": [
       "0.9987392839132627"
      ]
     },
     "execution_count": 28,
     "metadata": {},
     "output_type": "execute_result"
    }
   ],
   "source": [
    "LFAnalysis(L=L_train, lfs=lfs).label_coverage()"
   ]
  },
  {
   "cell_type": "markdown",
   "metadata": {},
   "source": [
    "Lots of statistics about labeling functions — like coverage — are useful when building any Snorkel application. So Snorkel provides tooling for common LF analyses using the LFAnalysis utility. We report the following summary statistics for multiple LFs at once:\n",
    "\n",
    "* Polarity: The set of unique labels this LF outputs (excluding abstains)\n",
    "* Coverage: The fraction of the dataset the LF labels\n",
    "* Overlaps: The fraction of the dataset where this LF and at least one other LF label\n",
    "* Conflicts: The fraction of the dataset where this LF and at least one other LF label and disagree\n",
    "* Correct: The number of data points this LF labels correctly (if gold labels are provided)\n",
    "* Incorrect: The number of data points this LF labels incorrectly (if gold labels are provided)\n",
    "* Empirical Accuracy: The empirical accuracy of this LF (if gold labels are provided)"
   ]
  },
  {
   "cell_type": "markdown",
   "metadata": {},
   "source": [
    "We see that our labeling functions vary in coverage, how much they overlap/conflict with one another, and almost certainly their accuracies as well. We can view a histogram of how many LF labels the data points in our train set have to get an idea of our total coverage."
   ]
  },
  {
   "cell_type": "code",
   "execution_count": 32,
   "metadata": {},
   "outputs": [
    {
     "data": {
      "image/png": "[encoded data removed]",
      "text/plain": [
       "<Figure size 432x288 with 1 Axes>"
      ]
     },
     "metadata": {
      "needs_background": "light"
     },
     "output_type": "display_data"
    }
   ],
   "source": [
    "import matplotlib.pyplot as plt\n",
    "\n",
    "%matplotlib inline\n",
    "\n",
    "\n",
    "def plot_label_frequency(L):\n",
    "    plt.hist((L != ABSTAIN).sum(axis=1), density=True, bins=range(L.shape[1]))\n",
    "    plt.xlabel(\"Number of labels\")\n",
    "    plt.ylabel(\"Fraction of dataset\")\n",
    "    plt.show()\n",
    "\n",
    "\n",
    "plot_label_frequency(L_train)"
   ]
  },
  {
   "cell_type": "markdown",
   "metadata": {},
   "source": [
    "We see that over less than 1/10 of our `train` dataset data points have 0 or fewer labels from LFs. The labels we do have can be used to train a classifier over the comment text directly, allowing this final machine learning model to generalize beyond what our labeling functions labeling."
   ]
  },
  {
   "cell_type": "markdown",
   "metadata": {},
   "source": [
    "## 4. Train a generative noisy label model"
   ]
  },
  {
   "cell_type": "markdown",
   "metadata": {},
   "source": [
    "Our goal is now to convert the labels from our LFs into a single noise-aware probabilistic (or confidence-weighted) label per data point. "
   ]
  },
  {
   "cell_type": "markdown",
   "metadata": {},
   "source": [
    "### Majority Label Voter\n",
    "\n",
    "A simple baseline for doing this is to take the majority vote on a per-data point basis: if more LFs voted `MOTION` than `NOT_MOTION`, label it `MOTION` (and vice versa). We can test this with the `MajorityLabelVoter` baseline model."
   ]
  },
  {
   "cell_type": "code",
   "execution_count": 47,
   "metadata": {},
   "outputs": [],
   "source": [
    "majority_model = MajorityLabelVoter()\n",
    "preds_train_majority_model = majority_model.predict(L=L_train)"
   ]
  },
  {
   "cell_type": "markdown",
   "metadata": {},
   "source": [
    "### Probabilistic Label Model"
   ]
  },
  {
   "cell_type": "code",
   "execution_count": 48,
   "metadata": {},
   "outputs": [
    {
     "name": "stderr",
     "output_type": "stream",
     "text": [
      "INFO:root:Computing O...\n",
      "INFO:root:Estimating \\mu...\n",
      "  0%|          | 0/500 [00:00<?, ?epoch/s]INFO:root:[0 epochs]: TRAIN:[loss=0.487]\n",
      "INFO:root:[100 epochs]: TRAIN:[loss=0.012]\n",
      "INFO:root:[200 epochs]: TRAIN:[loss=0.012]\n",
      " 46%|████▌     | 231/500 [00:00<00:00, 2302.79epoch/s]INFO:root:[300 epochs]: TRAIN:[loss=0.012]\n",
      "INFO:root:[400 epochs]: TRAIN:[loss=0.012]\n",
      "100%|██████████| 500/500 [00:00<00:00, 2478.74epoch/s]\n",
      "INFO:root:Finished Training\n"
     ]
    }
   ],
   "source": [
    "label_model = LabelModel(cardinality=2, device='cpu', verbose=True)\n",
    "label_model.fit(L_train=L_train, n_epochs=500, log_freq=100)"
   ]
  },
  {
   "cell_type": "code",
   "execution_count": 35,
   "metadata": {},
   "outputs": [],
   "source": [
    "preds_train_label_model = label_model.predict(L=L_train)"
   ]
  },
  {
   "cell_type": "markdown",
   "metadata": {},
   "source": [
    "### Evaluating these models on the datasets"
   ]
  },
  {
   "cell_type": "markdown",
   "metadata": {},
   "source": [
    "**Train accuracy**"
   ]
  },
  {
   "cell_type": "code",
   "execution_count": 49,
   "metadata": {},
   "outputs": [
    {
     "name": "stdout",
     "output_type": "stream",
     "text": [
      "Majority Vote Accuracy:   98.0%\n",
      "Label Model Accuracy:     94.4%\n"
     ]
    }
   ],
   "source": [
    "majority_acc = majority_model.score(L=L_train, Y=df_train.motion, tie_break_policy=\"random\")[\n",
    "    \"accuracy\"\n",
    "]\n",
    "print(f\"{'Majority Vote Accuracy:':<25} {majority_acc * 100:.1f}%\")\n",
    "\n",
    "label_model_acc = label_model.score(L=L_train, Y=df_train.motion, tie_break_policy=\"random\")[\n",
    "    \"accuracy\"\n",
    "]\n",
    "print(f\"{'Label Model Accuracy:':<25} {label_model_acc * 100:.1f}%\")"
   ]
  },
  {
   "cell_type": "markdown",
   "metadata": {},
   "source": [
    "**Val accuracy**"
   ]
  },
  {
   "cell_type": "code",
   "execution_count": 50,
   "metadata": {},
   "outputs": [
    {
     "name": "stdout",
     "output_type": "stream",
     "text": [
      "Majority Vote Accuracy:   98.0%\n",
      "Label Model Accuracy:     94.7%\n"
     ]
    }
   ],
   "source": [
    "majority_acc = majority_model.score(L=L_val, Y=df_val.motion, tie_break_policy=\"random\")[\n",
    "    \"accuracy\"\n",
    "]\n",
    "print(f\"{'Majority Vote Accuracy:':<25} {majority_acc * 100:.1f}%\")\n",
    "\n",
    "label_model_acc = label_model.score(L=L_val, Y=df_val.motion, tie_break_policy=\"random\")[\n",
    "    \"accuracy\"\n",
    "]\n",
    "print(f\"{'Label Model Accuracy:':<25} {label_model_acc * 100:.1f}%\")"
   ]
  },
  {
   "cell_type": "markdown",
   "metadata": {},
   "source": [
    "**Test accuracy**"
   ]
  },
  {
   "cell_type": "code",
   "execution_count": 51,
   "metadata": {},
   "outputs": [
    {
     "name": "stdout",
     "output_type": "stream",
     "text": [
      "Majority Vote Accuracy:   97.7%\n",
      "Label Model Accuracy:     93.6%\n"
     ]
    }
   ],
   "source": [
    "majority_acc = majority_model.score(L=L_test, Y=df_test.motion, tie_break_policy=\"random\")[\n",
    "    \"accuracy\"\n",
    "]\n",
    "print(f\"{'Majority Vote Accuracy:':<25} {majority_acc * 100:.1f}%\")\n",
    "\n",
    "label_model_acc = label_model.score(L=L_test, Y=df_test.motion, tie_break_policy=\"random\")[\n",
    "    \"accuracy\"\n",
    "]\n",
    "print(f\"{'Label Model Accuracy:':<25} {label_model_acc * 100:.1f}%\")"
   ]
  },
  {
   "cell_type": "markdown",
   "metadata": {},
   "source": [
    "We can also analyze the labeling functions by looking at the distribution of the confidence scores for the model's predictions."
   ]
  },
  {
   "cell_type": "code",
   "execution_count": 39,
   "metadata": {},
   "outputs": [
    {
     "data": {
      "image/png": "[encoded data removed]",
      "text/plain": [
       "<Figure size 432x288 with 1 Axes>"
      ]
     },
     "metadata": {
      "needs_background": "light"
     },
     "output_type": "display_data"
    }
   ],
   "source": [
    "def plot_probabilities_histogram(Y):\n",
    "    plt.hist(Y, bins=10)\n",
    "    plt.xlabel(\"Probability of MOTION\")\n",
    "    plt.ylabel(\"Number of data points\")\n",
    "    plt.show()\n",
    "\n",
    "\n",
    "probs_train = label_model.predict_proba(L=L_train)\n",
    "plot_probabilities_histogram(probs_train[:, MOTION])"
   ]
  },
  {
   "cell_type": "markdown",
   "metadata": {},
   "source": [
    "## 5. Prepare the training set for the discriminative model"
   ]
  },
  {
   "cell_type": "markdown",
   "metadata": {},
   "source": [
    "The following code returns a dataframe with no samples with label: `ABSTAIN`."
   ]
  },
  {
   "cell_type": "code",
   "execution_count": 40,
   "metadata": {},
   "outputs": [],
   "source": [
    "from snorkel.labeling import filter_unlabeled_dataframe\n",
    "\n",
    "df_train_filtered, probs_train_filtered = filter_unlabeled_dataframe(\n",
    "    X=df_train, y=probs_train, L=L_train\n",
    ")"
   ]
  },
  {
   "cell_type": "code",
   "execution_count": 42,
   "metadata": {},
   "outputs": [
    {
     "data": {
      "text/plain": [
       "1    3147\n",
       "0    814 \n",
       "Name: motion, dtype: int64"
      ]
     },
     "execution_count": 42,
     "metadata": {},
     "output_type": "execute_result"
    }
   ],
   "source": [
    "df_train_filtered['motion'].value_counts()"
   ]
  },
  {
   "cell_type": "markdown",
   "metadata": {},
   "source": [
    "**We see that our dataset is unbalanced.** And this is a pretty likely scenario in practice.\n",
    "\n",
    "**To do:** In the future, we can use undersampling or data augmentation.\n",
    "\n",
    "We can use a library called [imbalanced-learn](https://imbalanced-learn.org/stable/) to perform random undersampling of the dataset.\n",
    "\n",
    "```python\n",
    "from imblearn.under_sampling import RandomUnderSampler\n",
    "\n",
    "# Perform random under-sampling\n",
    "sampler = RandomUnderSampler(random_state = 98052)\n",
    "X_train_rus, Y_train_rus = sampler.fit_resample(X_train, y_train)\n",
    "X_test_rus, Y_test_rus = sampler.fit_resample(X_test, y_test)\n",
    "```\n",
    "\n",
    "We can also use a library called [nlpaug](https://github.com/makcedward/nlpaug) to perform basic data augmentation of textual data. "
   ]
  },
  {
   "cell_type": "markdown",
   "metadata": {},
   "source": [
    "## 6. Train the discriminative model - in this case a text classifier"
   ]
  },
  {
   "cell_type": "markdown",
   "metadata": {},
   "source": [
    "### Using noisy, hard labels\n",
    "\n",
    "We can train a classifier with the labels as `MOTION` and `NOT MOTION`.\n",
    "\n",
    "We use `probs_to_preds` to convert probabilistic labels to hard labels."
   ]
  },
  {
   "cell_type": "code",
   "execution_count": 54,
   "metadata": {},
   "outputs": [],
   "source": [
    "preds_train_filtered = probs_to_preds(probs=probs_train_filtered)"
   ]
  },
  {
   "cell_type": "markdown",
   "metadata": {},
   "source": [
    "#### Baseline Approach 1: CountVectorizer and LogisticRegression\n",
    "\n",
    "We use `sklearn CountVectorizer` to perform feature extraction on labeled data.\n",
    "\n",
    "The following code:\n",
    "- Gets training and test set. \n",
    "- Provides data in proper format for sklearn `CountVectorizer`"
   ]
  },
  {
   "cell_type": "code",
   "execution_count": 55,
   "metadata": {},
   "outputs": [],
   "source": [
    "train_data = df_train_filtered.text.to_list()\n",
    "test_data = df_test.text.to_list()\n",
    "\n",
    "vectorizer = CountVectorizer(ngram_range=(1, 5))\n",
    "X_train = vectorizer.fit_transform(train_data)\n",
    "X_test = vectorizer.transform(test_data)"
   ]
  },
  {
   "cell_type": "markdown",
   "metadata": {},
   "source": [
    "We use a LogisticRegression model from sklearn"
   ]
  },
  {
   "cell_type": "code",
   "execution_count": 74,
   "metadata": {},
   "outputs": [
    {
     "data": {
      "text/plain": [
       "LogisticRegression(C=1000.0, solver='liblinear')"
      ]
     },
     "execution_count": 74,
     "metadata": {},
     "output_type": "execute_result"
    }
   ],
   "source": [
    "sklearn_model = LogisticRegression(C=1e3, solver=\"liblinear\")\n",
    "sklearn_model.fit(X=X_train, y=preds_train_filtered)"
   ]
  },
  {
   "cell_type": "code",
   "execution_count": 75,
   "metadata": {},
   "outputs": [
    {
     "name": "stdout",
     "output_type": "stream",
     "text": [
      "Train Accuracy: 93.5%\n",
      "Test Accuracy: 94.3%\n"
     ]
    }
   ],
   "source": [
    "print(f\"Train Accuracy: {sklearn_model.score(X=X_train, y=df_train_filtered.motion) * 100:.1f}%\")\n",
    "print(f\"Test Accuracy: {sklearn_model.score(X=X_test, y=df_test.motion) * 100:.1f}%\")"
   ]
  },
  {
   "cell_type": "markdown",
   "metadata": {},
   "source": [
    "Let's look at a classification report on the training set."
   ]
  },
  {
   "cell_type": "code",
   "execution_count": 76,
   "metadata": {},
   "outputs": [
    {
     "name": "stdout",
     "output_type": "stream",
     "text": [
      "              precision    recall  f1-score   support\n",
      "\n",
      "  NOT MOTION       0.77      0.98      0.86       814\n",
      "      MOTION       0.99      0.92      0.96      3146\n",
      "\n",
      "    accuracy                           0.93      3960\n",
      "   macro avg       0.88      0.95      0.91      3960\n",
      "weighted avg       0.95      0.93      0.94      3960\n",
      "\n"
     ]
    }
   ],
   "source": [
    "y_true_train = np.array(df_train_filtered.motion)\n",
    "y_pred_train = sklearn_model.predict(X_train)\n",
    "\n",
    "target_names = ['NOT MOTION', 'MOTION']\n",
    "print(classification_report(y_true_train, y_pred_train, target_names=target_names))"
   ]
  },
  {
   "cell_type": "markdown",
   "metadata": {},
   "source": [
    "Let's look at a classification report on the test set."
   ]
  },
  {
   "cell_type": "code",
   "execution_count": 77,
   "metadata": {},
   "outputs": [
    {
     "name": "stdout",
     "output_type": "stream",
     "text": [
      "              precision    recall  f1-score   support\n",
      "\n",
      "  NOT MOTION       0.80      0.96      0.87       271\n",
      "      MOTION       0.99      0.94      0.96      1051\n",
      "\n",
      "    accuracy                           0.94      1322\n",
      "   macro avg       0.89      0.95      0.92      1322\n",
      "weighted avg       0.95      0.94      0.94      1322\n",
      "\n"
     ]
    }
   ],
   "source": [
    "y_true_test = np.array(df_test.motion)\n",
    "y_pred_test = sklearn_model.predict(X_test)\n",
    "target_names = ['NOT MOTION', 'MOTION']\n",
    "print(classification_report(y_true_test, y_pred_test, target_names=target_names))"
   ]
  },
  {
   "cell_type": "markdown",
   "metadata": {},
   "source": [
    "#### Baseline Approach 2: TfidfVectorizer and LogisticRegression\n",
    "\n",
    "We use `sklearn TfidfVectorizer` to perform feature extraction on labeled data.\n",
    "\n",
    "The following code:\n",
    "- Gets training and test set. \n",
    "- Provides data in proper format for sklearn `TfidfVectorizer`"
   ]
  },
  {
   "cell_type": "code",
   "execution_count": 56,
   "metadata": {},
   "outputs": [],
   "source": [
    "train_data_tf = df_train_filtered.text.to_list()\n",
    "test_data_tf = df_test.text.to_list()\n",
    "\n",
    "vectorizer_tfidf = TfidfVectorizer(ngram_range=(1, 5))\n",
    "X_train_tf = vectorizer_tfidf.fit_transform(train_data)\n",
    "X_test_tf = vectorizer_tfidf.transform(test_data)"
   ]
  },
  {
   "cell_type": "markdown",
   "metadata": {},
   "source": [
    "We use a LogisticRegression model from sklearn"
   ]
  },
  {
   "cell_type": "code",
   "execution_count": 80,
   "metadata": {},
   "outputs": [
    {
     "data": {
      "text/plain": [
       "LogisticRegression(C=1000.0, solver='liblinear')"
      ]
     },
     "execution_count": 80,
     "metadata": {},
     "output_type": "execute_result"
    }
   ],
   "source": [
    "sklearn_model_tf = LogisticRegression(C=1e3, solver=\"liblinear\")\n",
    "sklearn_model_tf.fit(X=X_train_tf, y=preds_train_filtered)"
   ]
  },
  {
   "cell_type": "code",
   "execution_count": 81,
   "metadata": {},
   "outputs": [
    {
     "name": "stdout",
     "output_type": "stream",
     "text": [
      "Train Accuracy: 93.5%\n",
      "Test Accuracy: 93.9%\n"
     ]
    }
   ],
   "source": [
    "print(f\"Train Accuracy: {sklearn_model_tf.score(X=X_train_tf, y=df_train_filtered.motion) * 100:.1f}%\")\n",
    "print(f\"Test Accuracy: {sklearn_model_tf.score(X=X_test_tf, y=df_test.motion) * 100:.1f}%\")"
   ]
  },
  {
   "cell_type": "markdown",
   "metadata": {},
   "source": [
    "Let's look at a classification report on the training set."
   ]
  },
  {
   "cell_type": "code",
   "execution_count": 82,
   "metadata": {},
   "outputs": [
    {
     "name": "stdout",
     "output_type": "stream",
     "text": [
      "              precision    recall  f1-score   support\n",
      "\n",
      "  NOT MOTION       0.77      0.98      0.86       814\n",
      "      MOTION       0.99      0.92      0.96      3146\n",
      "\n",
      "    accuracy                           0.93      3960\n",
      "   macro avg       0.88      0.95      0.91      3960\n",
      "weighted avg       0.95      0.93      0.94      3960\n",
      "\n"
     ]
    }
   ],
   "source": [
    "y_true_train = np.array(df_train_filtered.motion)\n",
    "y_pred_train = sklearn_model_tf.predict(X_train_tf)\n",
    "\n",
    "target_names = ['NOT MOTION', 'MOTION']\n",
    "print(classification_report(y_true_train, y_pred_train, target_names=target_names))"
   ]
  },
  {
   "cell_type": "markdown",
   "metadata": {},
   "source": [
    "Let's look at a classification report on the test set."
   ]
  },
  {
   "cell_type": "code",
   "execution_count": 83,
   "metadata": {},
   "outputs": [
    {
     "name": "stdout",
     "output_type": "stream",
     "text": [
      "              precision    recall  f1-score   support\n",
      "\n",
      "  NOT MOTION       0.79      0.96      0.86       271\n",
      "      MOTION       0.99      0.93      0.96      1051\n",
      "\n",
      "    accuracy                           0.94      1322\n",
      "   macro avg       0.89      0.95      0.91      1322\n",
      "weighted avg       0.95      0.94      0.94      1322\n",
      "\n"
     ]
    }
   ],
   "source": [
    "y_true_test = np.array(df_test.motion)\n",
    "y_pred_test = sklearn_model_tf.predict(X_test_tf)\n",
    "target_names = ['NOT MOTION', 'MOTION']\n",
    "print(classification_report(y_true_test, y_pred_test, target_names=target_names))"
   ]
  },
  {
   "cell_type": "markdown",
   "metadata": {},
   "source": [
    "### Using probabilistic, noise aware labels.\n",
    "\n",
    "We need to run a training with a model that is trained with the label probabilities as the training objective.\n",
    "One way to do this in Huggingface is to finetune a language model for text classification with `logitloss`.\n",
    "There is probably a way to do this with the simple sklearn algorithms. I need to look into it."
   ]
  },
  {
   "cell_type": "markdown",
   "metadata": {},
   "source": [
    "## Future Work:\n",
    "\n",
    "1. Look at the labeling function creation. The Heuristic based LFs are effective but their technical barrier is too high. Use the `DataPoint` class to create a basis from which we can more easily define equivalent labeling functions, where the user input is less technical.\n",
    "2. Expand this to multiclass classification as planned. To achieve this with more accessible labeling functions, we need to work on 1.\n",
    "  - consider: evolving classes\n",
    "3. Try training a model on probabilistic, noise aware labels.\n",
    "4. Experimenting with class imbalance solutions.\n",
    "5. Going over the data labeling procedure.\n",
    " - How do we break down the data exploration/labeling steps the user might perform? For now it's just sampling n samples or sampling n samples with a given label. A user may want to look at samples for which the model and labeling functions are wrong or uncertain.\n",
    "6. Going over the labeling function creation procedure.\n",
    " - How do we guide the user to edit, remove, add labeling functions? Can we define a simple algorithm by looking at the LFAnalysis statistics?\n",
    "7. How do we support data exploration?"
   ]
  },
  {
   "cell_type": "code",
   "execution_count": null,
   "metadata": {},
   "outputs": [],
   "source": []
  }
 ],
 "metadata": {
  "kernelspec": {
   "display_name": "Python 3",
   "language": "python",
   "name": "python3"
  },
  "language_info": {
   "codemirror_mode": {
    "name": "ipython",
    "version": 3
   },
   "file_extension": ".py",
   "mimetype": "text/x-python",
   "name": "python",
   "nbconvert_exporter": "python",
   "pygments_lexer": "ipython3",
   "version": "3.8.5"
  }
 },
 "nbformat": 4,
 "nbformat_minor": 4
}
