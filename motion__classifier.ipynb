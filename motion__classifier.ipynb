{
 "cells": [
  {
   "cell_type": "markdown",
   "metadata": {},
   "source": [
    "# 🚀 Motion Classifier Tutorial: Data Labeling with Snorkel"
   ]
  },
  {
   "cell_type": "markdown",
   "metadata": {},
   "source": [
    "In this tutorial, we will walk through the process of using Snorkel to build a training set for classifying court docket entries as MOTION or NOT MOTION.\n",
    "\n",
    "Resources:\n",
    "* For an overview of Snorkel, visit [snorkel.org](https://snorkel.org)\n",
    "* You can also check out the [Snorkel API documentation](https://snorkel.readthedocs.io/)\n",
    "* For some real-world applications, check out [Snorkel Applications](https://www.snorkel.org/resources/)\n",
    "* Why does this work? See [Data Programming: Creating Large Training Sets, Quickly](https://arxiv.org/abs/1605.07723)\n",
    "* Snorkel paper: [Snorkel: Rapid Training Data Creation with Weak Supervision](https://arxiv.org/abs/1711.10160)\n",
    "\n",
    "The goal of this tutorial is to illustrate some basic components and concepts of Snorkel in a simple way, but also to dive into a process of iteratively developing a text classifier in Snorkel.\n",
    "\n",
    "**The goal of this research is to design an interaction for a non-technical, domain expert to quickly label a dataset.**\n",
    "\n",
    "To achieve this goal, we start with a basic task: *binary text classification* of court docket entries as MOTION or NOT MOTION.\n",
    "\n",
    "We have access to a large amount of *unlabeled data* (about 1 300 000 samples) in the form of court docket entries with some metadata. We also have access to about *7000 labeled samples*.\n",
    "\n",
    "In order to train a classifier, we need to label our data, but doing so by hand for real world applications can often be prohibitively slow and expensive.\n",
    "\n",
    "In these cases, we can turn to a _weak supervision_ approach, using **_labeling functions (LFs)_** in Snorkel: noisy, programmatic rules and heuristics that assign labels to unlabeled training data.\n",
    "\n",
    "We'll dive into the Snorkel API and how we write labeling functions later in this tutorial, but as an example, we can write an LF that labels data points with `\"MOTION to\"` in the docket entry text as MOTION since many motions contain `\"MOTION to\"`:\n",
    "\n",
    "```python\n",
    "from snorkel.labeling import labeling_function\n",
    "\n",
    "@labeling_function()\n",
    "def lf_contains_link(x):\n",
    "    # Return a label of MOTION if \"MOTION to\" in comment text, otherwise ABSTAIN\n",
    "    return MOTION if \"motion to\" in x.text.lower() else ABSTAIN\n",
    "```\n",
    "\n",
    "The tutorial is divided into four parts:\n",
    "1. **Loading Data**: We load a US courts docket entries dataset, originally used in [\"From data to information: automating data science to explore the U.S. court system\"](https://dl.acm.org/doi/abs/10.1145/3462757.3466100).\n",
    "\n",
    "2. **Writing Labeling Functions**: We write Python programs that take as input a data point and assign labels (or abstain) using heuristics, pattern matching, and third-party models.\n",
    "\n",
    "3. **Combining Labeling Function Outputs with the Label Model**: We model the outputs of the labeling functions over the training set using a Snorkel's, theoretically-grounded modeling approach, [\"Data Programming:\n",
    "Creating Large Training Sets, Quickly\"](https://arxiv.org/abs/1605.07723), which estimates the accuracies and correlations of the labeling functions using only their agreements and disagreements, and then uses this to reweight and combine their outputs, which we then use as _probabilistic_ training labels.\n",
    "\n",
    "4. **Training a Classifier**: We train a classifier that can predict labels for *any* court docket entry (not just the ones labeled by the labeling functions) using the probabilistic training labels from step 3.\n",
    "\n",
    "In future work, we'll consider *multiclass text classification* of court docket entries as MOTION type. Multiclass text classication is an important problem to work on because we need to define a process that is robust to *concept drift*. The set of classes could expand or change over time, and we do not want to start the labeling process from scratch.\n",
    "\n",
    "**Note that this process requires programming, but out target user is not technical.**\n",
    "\n",
    "If we are successful in these text classification tasks, we will consider  solutions to help non-technical workers label the data without programming themselves. Solutions include:\n",
    "1. Function building interfaces, as seen on Snorkel Flow.\n",
    "2. Distant supervision: leveraging external knowledge bases. \n",
    "3. Mapping natural language inputs to labeling functions. We can use the [BabbleLabbleFramework](https://github.com/HazyResearch/babble) to parse Snorkel Labeling Functions\n",
    "\n",
    "<img src=\"images/BabbleLabble.png\" alt=\"drawing\" width=\"25%\"/> \n",
    "\n",
    "4. Interfaces/systems where users can provide annotations, which are then converted to labeling functions. An example of such a technology is [Ruler: Data Programming by Demonstration for Document Labeling](https://aclanthology.org/2020.findings-emnlp.181/)\n",
    "\n",
    "<img src=\"images/Ruler__Labeling_Interaction.png\" alt=\"drawing\" width=\"25%\"/> \n",
    "\n",
    "We are also interested in optimizations of the interaction between the user and the system. An example is given by [Ruler: Data Programming by Demonstration for Document Labeling](https://aclanthology.org/2020.findings-emnlp.181/) below:\n",
    "\n",
    "<img src=\"images/Ruler__DPBD.png\" alt=\"drawing\" width=\"25%\"/> \n",
    "\n",
    "Some other important questions, raised by [Mallinar et al. 2019](https://arxiv.org/pdf/1812.06176.pdf):\n",
    "1. How do we provide guidance to users to create effective labeling functions? From [Mallinar et al. 2019](https://arxiv.org/pdf/1812.06176.pdf), users desire guidance on how to optimize for precision, coverage, and bias between positive/negative examples in creating functions.\n",
    "2. How do we support data exploration? Users may be domain experts, but that does not mean they are familiar with the corpus.\n",
    "3. How do we provide fast feedback and progress tracking? Users desire to see how each query or labeling function impacts the results with immediate feedback. The feedback can help users actively adjust the labeling functions they provided. Systems that require training on many classes stress the need to know when it's time to move on to a diferent class.\n",
    "4. How do we support evolving classes? (A framework like Snorkel can do this.)\n",
    "\n",
    "Other questions:\n",
    "1. How do we minimize the number of samples the user has to see or label?\n",
    "2. Can we use active learning, uncertainty sampling, or other techniques to surface *valuable examples*? [Active WeaSuL: Improving Weak Supervision with Active Learning](https://github.com/SamanthaBiegel/ActiveWeaSuL) provides some ideas on this.\n",
    "3. Can a system learn or define heuristics for data labeling? For instance in [Interactive Weak Supervision: Learning Useful Heuristics for Data Labeling](https://github.com/benbo/interactive-weak-supervision)\n",
    "\n",
    "<img src=\"images/Interactive_weak_supervision.png\" alt=\"drawing\" width=\"50%\"/> \n",
    "\n",
    "Note: For 3. how do we come up with the LF function family? Can it come from [Reef](https://github.com/HazyResearch/reef)? "
   ]
  },
  {
   "cell_type": "markdown",
   "metadata": {},
   "source": [
    "# The code starts here"
   ]
  },
  {
   "cell_type": "markdown",
   "metadata": {},
   "source": [
    "## Imports"
   ]
  },
  {
   "cell_type": "code",
   "execution_count": 18,
   "metadata": {},
   "outputs": [],
   "source": [
    "import re\n",
    "import numpy as np\n",
    "import pandas as pd\n",
    "\n",
    "import metal\n",
    "import snorkel\n",
    "from snorkel.labeling import labeling_function, LabelingFunction, PandasLFApplier, LFAnalysis\n",
    "from snorkel.labeling.model.label_model import LabelModel\n",
    "from snorkel.labeling.model.baselines import MajorityClassVoter\n",
    "from snorkel.labeling.model.baselines import MajorityLabelVoter\n",
    "\n",
    "import spacy\n",
    "from spacy import displacy\n",
    "from spacy.lang.en import English\n",
    "\n",
    "from sklearn.model_selection import train_test_split"
   ]
  },
  {
   "cell_type": "markdown",
   "metadata": {},
   "source": [
    "Set `DISPLAY_FULL_TEXT` to `True` if you want to see the full docket entry texts."
   ]
  },
  {
   "cell_type": "code",
   "execution_count": 19,
   "metadata": {},
   "outputs": [],
   "source": [
    "DISPLAY_FULL_TEXT = True\n",
    "pd.set_option('display.max_colwidth', 0 if DISPLAY_FULL_TEXT else 50)"
   ]
  },
  {
   "cell_type": "markdown",
   "metadata": {},
   "source": [
    "## 1. Loading Data"
   ]
  },
  {
   "cell_type": "code",
   "execution_count": 20,
   "metadata": {},
   "outputs": [],
   "source": [
    "data_dir = 'datasets/court_docket_entries'"
   ]
  },
  {
   "cell_type": "markdown",
   "metadata": {},
   "source": [
    "We have 5 files:\n",
    "1. `motionEntries.csv`: 1 300 000 docket entries, almost all unlabeled, with `text` and `id`\n",
    "2. `tags.csv`: a mapping from `tag_id` to `label`, which is `motion class`\n",
    "3. `thingy.csv`: looks like we can ignore this\n",
    "4. `users.csv`: the annotators\n",
    "5. `usertags`: 7 000 annotations for the docket entries with `docket_entry_id` and `tag_id`"
   ]
  },
  {
   "cell_type": "code",
   "execution_count": 21,
   "metadata": {},
   "outputs": [],
   "source": [
    "# thingy = pd.read_csv(f\"{data_dir}/thingy.csv\")\n",
    "# users = pd.read_csv(f\"{data_dir}/users.csv\")"
   ]
  },
  {
   "cell_type": "markdown",
   "metadata": {},
   "source": [
    "We load the data from `motionEntries.csv`, `tags.csv`, and `usertags.csv`, rename some columns, and merge the data into one dataframe."
   ]
  },
  {
   "cell_type": "code",
   "execution_count": 22,
   "metadata": {},
   "outputs": [],
   "source": [
    "entries = pd.read_csv(f\"{data_dir}/motionEntries.csv\")\n",
    "entries_columns = ['id', 'text', 'case_id', 'sealed', 'jurisdiction']\n",
    "entries = entries[entries_columns].rename(columns={\"id\": \"docket_entry_id\"})"
   ]
  },
  {
   "cell_type": "code",
   "execution_count": 23,
   "metadata": {},
   "outputs": [
    {
     "name": "stdout",
     "output_type": "stream",
     "text": [
      "We have 1377516 docket entries\n"
     ]
    }
   ],
   "source": [
    "print(f\"We have {entries.shape[0]} docket entries\")"
   ]
  },
  {
   "cell_type": "code",
   "execution_count": 24,
   "metadata": {},
   "outputs": [],
   "source": [
    "tags = pd.read_csv(f\"{data_dir}/tags.csv\")\n",
    "# tags_columns = ['id', 'label', 'count']\n",
    "tags_columns = ['id', 'label']\n",
    "tags = tags[tags_columns].rename(columns={'id': 'tag_id'})\n",
    "tags['motion'] = tags['tag_id'].apply(lambda x: int(x not in [26, 28]))"
   ]
  },
  {
   "cell_type": "code",
   "execution_count": 25,
   "metadata": {},
   "outputs": [],
   "source": [
    "usertags = pd.read_csv(f\"{data_dir}/usertags.csv\")\n",
    "usertags_columns = ['id', 'docket_entry_id', 'tag_id']\n",
    "usertags = usertags[usertags_columns].rename(columns={'id': 'usertags_id'})"
   ]
  },
  {
   "cell_type": "code",
   "execution_count": 26,
   "metadata": {},
   "outputs": [
    {
     "name": "stdout",
     "output_type": "stream",
     "text": [
      "We have 7990 labeled docket entries\n"
     ]
    }
   ],
   "source": [
    "print(f\"We have {usertags.shape[0]} labeled docket entries\")"
   ]
  },
  {
   "cell_type": "markdown",
   "metadata": {},
   "source": [
    "We merge the dataframes to get the text and motion label for each docket entry. Also, we remove the samples with label 'SKIP' because we don't know what to do with them."
   ]
  },
  {
   "cell_type": "code",
   "execution_count": 27,
   "metadata": {},
   "outputs": [
    {
     "name": "stdout",
     "output_type": "stream",
     "text": [
      "We have 6610 labeled docket entries when we remove SKIP.\n"
     ]
    }
   ],
   "source": [
    "labels = pd.merge(usertags, tags, on='tag_id')\n",
    "labeled_motions = pd.merge(labels, entries, on='docket_entry_id')\n",
    "labeled_motions = labeled_motions[labeled_motions['label'] != 'SKIP']\n",
    "print(f\"We have {labeled_motions.shape[0]} labeled docket entries when we remove SKIP.\")"
   ]
  },
  {
   "cell_type": "markdown",
   "metadata": {},
   "source": [
    "Let's now create our dataset of labeled functions. We have 6610 samples if we remove the docket entries with label 'SKIP'."
   ]
  },
  {
   "cell_type": "code",
   "execution_count": 28,
   "metadata": {},
   "outputs": [],
   "source": [
    "keep_columns = ['docket_entry_id', 'motion', 'text']\n",
    "lf_set = labeled_motions[keep_columns]"
   ]
  },
  {
   "cell_type": "code",
   "execution_count": 29,
   "metadata": {},
   "outputs": [
    {
     "data": {
      "text/html": [
       "<div>\n",
       "<style scoped>\n",
       "    .dataframe tbody tr th:only-of-type {\n",
       "        vertical-align: middle;\n",
       "    }\n",
       "\n",
       "    .dataframe tbody tr th {\n",
       "        vertical-align: top;\n",
       "    }\n",
       "\n",
       "    .dataframe thead th {\n",
       "        text-align: right;\n",
       "    }\n",
       "</style>\n",
       "<table border=\"1\" class=\"dataframe\">\n",
       "  <thead>\n",
       "    <tr style=\"text-align: right;\">\n",
       "      <th></th>\n",
       "      <th>docket_entry_id</th>\n",
       "      <th>motion</th>\n",
       "      <th>text</th>\n",
       "    </tr>\n",
       "  </thead>\n",
       "  <tbody>\n",
       "    <tr>\n",
       "      <th>1</th>\n",
       "      <td>3112</td>\n",
       "      <td>1</td>\n",
       "      <td>MOTION (Oral) by USA for excludable time from 9/18/07 through and including 10/04/07 pursuant to 18 USC 3161(h)(1) &amp; (h)((1)(F) as to Demario Flemming (jmm-r, ) (Entered: 09/20/2007)</td>\n",
       "    </tr>\n",
       "    <tr>\n",
       "      <th>4</th>\n",
       "      <td>9574</td>\n",
       "      <td>0</td>\n",
       "      <td>DECLARATION of Aref Abdellatif regarding order on motion to compel,,,,,,, text entry,,,,,, 186  (Schaller, Rachel) (Entered: 08/19/2019)</td>\n",
       "    </tr>\n",
       "    <tr>\n",
       "      <th>5</th>\n",
       "      <td>9574</td>\n",
       "      <td>0</td>\n",
       "      <td>DECLARATION of Aref Abdellatif regarding order on motion to compel,,,,,,, text entry,,,,,, 186  (Schaller, Rachel) (Entered: 08/19/2019)</td>\n",
       "    </tr>\n",
       "    <tr>\n",
       "      <th>9</th>\n",
       "      <td>4068</td>\n",
       "      <td>1</td>\n",
       "      <td>MOTION by Tori Frederick DEFENDANT'S MOTION FOR PRETRIAL RELEASE (Rodriguez, Sergio) (Entered: 02/15/2008)</td>\n",
       "    </tr>\n",
       "    <tr>\n",
       "      <th>11</th>\n",
       "      <td>833</td>\n",
       "      <td>1</td>\n",
       "      <td>(Unopposed) NOTICE of Motion by Kathryn Ann Kelly for presentment of motion for leave to file excess pages 44 before Honorable M. David Weisman on 10/26/2017 at 09:15 AM. (Kelly, Kathryn) (Entered: 10/23/2017)</td>\n",
       "    </tr>\n",
       "  </tbody>\n",
       "</table>\n",
       "</div>"
      ],
      "text/plain": [
       "    docket_entry_id  motion  \\\n",
       "1   3112             1        \n",
       "4   9574             0        \n",
       "5   9574             0        \n",
       "9   4068             1        \n",
       "11  833              1        \n",
       "\n",
       "                                                                                                                                                                                                                  text  \n",
       "1   MOTION (Oral) by USA for excludable time from 9/18/07 through and including 10/04/07 pursuant to 18 USC 3161(h)(1) & (h)((1)(F) as to Demario Flemming (jmm-r, ) (Entered: 09/20/2007)                              \n",
       "4   DECLARATION of Aref Abdellatif regarding order on motion to compel,,,,,,, text entry,,,,,, 186  (Schaller, Rachel) (Entered: 08/19/2019)                                                                            \n",
       "5   DECLARATION of Aref Abdellatif regarding order on motion to compel,,,,,,, text entry,,,,,, 186  (Schaller, Rachel) (Entered: 08/19/2019)                                                                            \n",
       "9   MOTION by Tori Frederick DEFENDANT'S MOTION FOR PRETRIAL RELEASE (Rodriguez, Sergio) (Entered: 02/15/2008)                                                                                                          \n",
       "11   (Unopposed) NOTICE of Motion by Kathryn Ann Kelly for presentment of motion for leave to file excess pages 44 before Honorable M. David Weisman on 10/26/2017 at 09:15 AM. (Kelly, Kathryn) (Entered: 10/23/2017)  "
      ]
     },
     "execution_count": 29,
     "metadata": {},
     "output_type": "execute_result"
    }
   ],
   "source": [
    "lf_set.head()"
   ]
  },
  {
   "cell_type": "markdown",
   "metadata": {},
   "source": [
    "Create train, dev, test split: 60/20/20."
   ]
  },
  {
   "cell_type": "code",
   "execution_count": 231,
   "metadata": {},
   "outputs": [],
   "source": [
    "# SPLIT_1 = 0.4\n",
    "SPLIT_1 = 0.4\n",
    "# SPLIT_2 = 0.5"
   ]
  },
  {
   "cell_type": "code",
   "execution_count": 232,
   "metadata": {},
   "outputs": [],
   "source": [
    "df_train, df_test = train_test_split(lf_set, stratify=lf_set['motion'], test_size=SPLIT_1)\n",
    "df_val, df_test = train_test_split(df_test, stratify=df_test['motion'], test_size=0.5)"
   ]
  },
  {
   "cell_type": "code",
   "execution_count": 233,
   "metadata": {},
   "outputs": [],
   "source": [
    "def get_n_samples(df, n):\n",
    "    return df.sample(n)"
   ]
  },
  {
   "cell_type": "markdown",
   "metadata": {},
   "source": [
    "Let's set out voting values. Recall that the classification task is MOTION or NOT MOTION."
   ]
  },
  {
   "cell_type": "code",
   "execution_count": 234,
   "metadata": {},
   "outputs": [],
   "source": [
    "# Set voting values.\n",
    "ABSTAIN = -1 \n",
    "MOTION = 1 \n",
    "NOT_MOTION = 0"
   ]
  },
  {
   "cell_type": "code",
   "execution_count": 235,
   "metadata": {},
   "outputs": [
    {
     "data": {
      "text/html": [
       "<div>\n",
       "<style scoped>\n",
       "    .dataframe tbody tr th:only-of-type {\n",
       "        vertical-align: middle;\n",
       "    }\n",
       "\n",
       "    .dataframe tbody tr th {\n",
       "        vertical-align: top;\n",
       "    }\n",
       "\n",
       "    .dataframe thead th {\n",
       "        text-align: right;\n",
       "    }\n",
       "</style>\n",
       "<table border=\"1\" class=\"dataframe\">\n",
       "  <thead>\n",
       "    <tr style=\"text-align: right;\">\n",
       "      <th></th>\n",
       "      <th>docket_entry_id</th>\n",
       "      <th>motion</th>\n",
       "      <th>text</th>\n",
       "    </tr>\n",
       "  </thead>\n",
       "  <tbody>\n",
       "    <tr>\n",
       "      <th>4383</th>\n",
       "      <td>13035</td>\n",
       "      <td>0</td>\n",
       "      <td>ENTRY for Magistrate Judge Susan Collins: 22 Dft's Unopposed Motion for First Enlargement of Time is granted. The Social Security Response Brief of the Government is due by 8/29/2016. The Social Security Reply Brief of the Plaintiff is due by 9/12/2016. So Ordered. (mr) (Entered: 07/29/2016)</td>\n",
       "    </tr>\n",
       "    <tr>\n",
       "      <th>2237</th>\n",
       "      <td>14287</td>\n",
       "      <td>1</td>\n",
       "      <td>First MOTION for Extension of Time to File Response/Reply as to Set Deadlines,  by Plaintiff Anchor Health Systems Inc. (O'Hara, Jonathan) (Entered: 04/02/2019)</td>\n",
       "    </tr>\n",
       "    <tr>\n",
       "      <th>2073</th>\n",
       "      <td>2683</td>\n",
       "      <td>1</td>\n",
       "      <td>MOTION by Defendants Richmond, City of Country Club Hills for extension of time to complete discovery (Attachments: # 1 Notice of Filing, # 2 Certificate of Service)(Kaplan, Brian) (Entered: 11/21/2008)</td>\n",
       "    </tr>\n",
       "    <tr>\n",
       "      <th>1155</th>\n",
       "      <td>4725</td>\n",
       "      <td>0</td>\n",
       "      <td>AFFIDAVIT ACCOMPANYING MOTION by Defendant Joseph Donelson for leave to appeal in forma pauperis (ks, ) (Entered: 12/05/2014)</td>\n",
       "    </tr>\n",
       "    <tr>\n",
       "      <th>1783</th>\n",
       "      <td>3678</td>\n",
       "      <td>1</td>\n",
       "      <td>MOTION by Plaintiffs Rabbi Dov Hillel Klein, Lubavitch-Chabad of Evanston, Inc., Lubavitch-Chabad of Illinois, Inc for extension of time to complete discovery , MOTION by Plaintiffs Rabbi Dov Hillel Klein, Lubavitch-Chabad of Evanston, Inc., Lubavitch-Chabad of Illinois, Inc for extension of time to file response/reply  (Lubin, Jonathan) (Entered: 10/15/2013)</td>\n",
       "    </tr>\n",
       "    <tr>\n",
       "      <th>4516</th>\n",
       "      <td>14989</td>\n",
       "      <td>0</td>\n",
       "      <td>OPINION AND ORDER  DENYING 3381 Executive Committee's motion to exclude opinions and testimony of Biomet's expert Steven R. Schmid; GRANTING IN PART AND DENYING IN PART 3382 the Executive Committee's motion to exclude opinions and testimony of Biomet expert David Schroeder; DENYING 3383 the Executive Committee's motion to exclude opinions and testimony of Biomet's expert Daniel Schultz, M.D.; GRANTING IN PART AND DENYING IN PART 3384 the Executive Committee's motion to exclude opinions and testimony of Biomet's expert Andrew I Spitzer, M.D.; GRANTING IN PART AND DENYING IN PART 3385 the Executive Committee's Motion to exclude opinions and testimony of Biomet's expert Dr. Kenneth St. John; DENYING 3386 Biomet's motion to exclude opinions and testimony of the plaintiffs' expert Mari Truman; GRANTING IN PART AND DENYING IN PART 3399 Biomet's motion to exclude opinions and testimony of the plaintiffs' expert George S Kantor, M.D. Associated Cases: 3:12-md-02391-RLM-MGG et al.(jld) (Entered: 12/22/2017)</td>\n",
       "    </tr>\n",
       "    <tr>\n",
       "      <th>2997</th>\n",
       "      <td>2289</td>\n",
       "      <td>1</td>\n",
       "      <td>MOTION for Leave to Appear Pro Hac Vice Filing fee $ 50, receipt number 0752-9077460. by Chuck H. Jew (Cascio, Anthony) (Entered: 01/07/2014)</td>\n",
       "    </tr>\n",
       "    <tr>\n",
       "      <th>995</th>\n",
       "      <td>8958</td>\n",
       "      <td>0</td>\n",
       "      <td>MOTION by Plaintiffs Carpenters Pension Fund of Illinois, Carpenters Retirement Savings Fund of Illinois for judgment  (Ryan, Patrick) (Entered: 12/29/2015)</td>\n",
       "    </tr>\n",
       "    <tr>\n",
       "      <th>1057</th>\n",
       "      <td>16278</td>\n",
       "      <td>0</td>\n",
       "      <td>*WITHDRAWN per 55 ORDER* MOTION by Air Tech of Michigan, Inc. Defendant's Verified Motion to Recover Fees and Expenses (Attachments: # 1 Exhibit 1, # 2 Exhibit 2, # 3 Exhibit 3, # 4 Exhibit 4, # 5 Exhibit 5, # 6 Exhibit 6, # 7 Exhibit 7)(Miller, Andrew) Modified on 1/8/2018 to change event from notice to motion to be ruled on, per chambers. (lhc) Modified on 1/16/2018 (jss). (Entered: 01/05/2018)</td>\n",
       "    </tr>\n",
       "    <tr>\n",
       "      <th>3666</th>\n",
       "      <td>2676</td>\n",
       "      <td>1</td>\n",
       "      <td>MOTION by Defendant City of Country Club Hills to dismiss plaintiff's complaint pursuant to federal rule of civil procedure 12(b)(6). (vcf, ) (Entered: 05/16/2008)</td>\n",
       "    </tr>\n",
       "    <tr>\n",
       "      <th>3271</th>\n",
       "      <td>14666</td>\n",
       "      <td>1</td>\n",
       "      <td>MOTION to Withdraw as Attorney Ernesto Palomo by Defendant American Empire Surplus Lines Ins Co. (Falk PHV, Alyssa) (Entered: 10/12/2017)</td>\n",
       "    </tr>\n",
       "    <tr>\n",
       "      <th>2819</th>\n",
       "      <td>19211</td>\n",
       "      <td>1</td>\n",
       "      <td>MOTION by Plaintiff Martavion Staff for leave to proceed in forma pauperis[with exhibits.] (pg, ) (Entered: 04/15/2013)</td>\n",
       "    </tr>\n",
       "    <tr>\n",
       "      <th>5252</th>\n",
       "      <td>7166</td>\n",
       "      <td>1</td>\n",
       "      <td>MOTION by Plaintiffs Trustees of the Cement Masons Apprentice Education and Training Fund, Local 803, Trustees of the Cement Masons Institute of Chicago, Illinois, Trustees of the Cement Masons Pension Fund, Local 803, Trustees of the Cement Masons Savings Fund, Local 803 to compel Discovery (Attachments: # 1 Exhibit Ex. 1 Affidavit of Donald D. Schwartz, # 2 Exhibit Ex. 2 Notice of Deposition)(Schwartz, Donald) (Entered: 01/26/2011)</td>\n",
       "    </tr>\n",
       "    <tr>\n",
       "      <th>1415</th>\n",
       "      <td>2501</td>\n",
       "      <td>1</td>\n",
       "      <td>MOTION by Defendants Clay, Cook County, David Fargus, Jones, Morrison, Price for extension of time , MOTION by Defendants Clay, Cook County, David Fargus, Jones, Morrison, Price for leave to file excess pages  (Frey, Kevin) (Entered: 09/07/2012)</td>\n",
       "    </tr>\n",
       "    <tr>\n",
       "      <th>1324</th>\n",
       "      <td>1910</td>\n",
       "      <td>1</td>\n",
       "      <td>MOTION by Defendant Michael Astrue for extension of time to file response/reply as to motion for summary judgment 18 (Unopposed) (Chahal, Harpreet) (Entered: 03/11/2013)</td>\n",
       "    </tr>\n",
       "    <tr>\n",
       "      <th>6073</th>\n",
       "      <td>19653</td>\n",
       "      <td>1</td>\n",
       "      <td>MOTION by petitioner DeWayne Wester for reconsider denial of request for stay and abeyance; (Exhibits). (mjc, ) (Entered: 10/09/2014)</td>\n",
       "    </tr>\n",
       "    <tr>\n",
       "      <th>2725</th>\n",
       "      <td>8033</td>\n",
       "      <td>1</td>\n",
       "      <td>MOTION by Plaintiff Dilonte McDaniel for leave to proceed in forma pauperis (Exhibit) (mb, ) (Entered: 05/19/2010)</td>\n",
       "    </tr>\n",
       "    <tr>\n",
       "      <th>2374</th>\n",
       "      <td>4674</td>\n",
       "      <td>1</td>\n",
       "      <td>MOTION by Defendant Credit Control Services, Inc. for protective order  (Attachments: # 1 Exhibit)(Stein, Brandon) (Entered: 11/16/2016)</td>\n",
       "    </tr>\n",
       "    <tr>\n",
       "      <th>3681</th>\n",
       "      <td>9927</td>\n",
       "      <td>1</td>\n",
       "      <td>MOTION by Defendants The Cook County Sheriff's Merit Board, Byron Brazier, Brian J. Riordan, Robert F. Hogan, John Dallcandro, James P Nally, John R Rosales, Lance C Tyson, Kim R Widup, Vincent T Winters to dismiss  (Hannon, Maureen) (Entered: 06/04/2013)</td>\n",
       "    </tr>\n",
       "    <tr>\n",
       "      <th>4733</th>\n",
       "      <td>17396</td>\n",
       "      <td>0</td>\n",
       "      <td>Amended NOTICE of Motion by Kenya A Jenkins for presentment of motion for protective order 41 before Honorable Matthew F. Kennelly on 11/17/2009 at 09:30 AM. (Jenkins, Kenya) (Entered: 11/16/2009)</td>\n",
       "    </tr>\n",
       "  </tbody>\n",
       "</table>\n",
       "</div>"
      ],
      "text/plain": [
       "      docket_entry_id  motion  \\\n",
       "4383  13035            0        \n",
       "2237  14287            1        \n",
       "2073  2683             1        \n",
       "1155  4725             0        \n",
       "1783  3678             1        \n",
       "4516  14989            0        \n",
       "2997  2289             1        \n",
       "995   8958             0        \n",
       "1057  16278            0        \n",
       "3666  2676             1        \n",
       "3271  14666            1        \n",
       "2819  19211            1        \n",
       "5252  7166             1        \n",
       "1415  2501             1        \n",
       "1324  1910             1        \n",
       "6073  19653            1        \n",
       "2725  8033             1        \n",
       "2374  4674             1        \n",
       "3681  9927             1        \n",
       "4733  17396            0        \n",
       "\n",
       "                                                                                                                                                                                                                                                                                                                                                                                                                                                                                                                                                                                                                                                                                                                                                                                                                                                                                                                                                                                                                                                        text  \n",
       "4383  ENTRY for Magistrate Judge Susan Collins: 22 Dft's Unopposed Motion for First Enlargement of Time is granted. The Social Security Response Brief of the Government is due by 8/29/2016. The Social Security Reply Brief of the Plaintiff is due by 9/12/2016. So Ordered. (mr) (Entered: 07/29/2016)                                                                                                                                                                                                                                                                                                                                                                                                                                                                                                                                                                                                                                                                                                                                                    \n",
       "2237  First MOTION for Extension of Time to File Response/Reply as to Set Deadlines,  by Plaintiff Anchor Health Systems Inc. (O'Hara, Jonathan) (Entered: 04/02/2019)                                                                                                                                                                                                                                                                                                                                                                                                                                                                                                                                                                                                                                                                                                                                                                                                                                                                                        \n",
       "2073  MOTION by Defendants Richmond, City of Country Club Hills for extension of time to complete discovery (Attachments: # 1 Notice of Filing, # 2 Certificate of Service)(Kaplan, Brian) (Entered: 11/21/2008)                                                                                                                                                                                                                                                                                                                                                                                                                                                                                                                                                                                                                                                                                                                                                                                                                                              \n",
       "1155  AFFIDAVIT ACCOMPANYING MOTION by Defendant Joseph Donelson for leave to appeal in forma pauperis (ks, ) (Entered: 12/05/2014)                                                                                                                                                                                                                                                                                                                                                                                                                                                                                                                                                                                                                                                                                                                                                                                                                                                                                                                           \n",
       "1783  MOTION by Plaintiffs Rabbi Dov Hillel Klein, Lubavitch-Chabad of Evanston, Inc., Lubavitch-Chabad of Illinois, Inc for extension of time to complete discovery , MOTION by Plaintiffs Rabbi Dov Hillel Klein, Lubavitch-Chabad of Evanston, Inc., Lubavitch-Chabad of Illinois, Inc for extension of time to file response/reply  (Lubin, Jonathan) (Entered: 10/15/2013)                                                                                                                                                                                                                                                                                                                                                                                                                                                                                                                                                                                                                                                                               \n",
       "4516   OPINION AND ORDER  DENYING 3381 Executive Committee's motion to exclude opinions and testimony of Biomet's expert Steven R. Schmid; GRANTING IN PART AND DENYING IN PART 3382 the Executive Committee's motion to exclude opinions and testimony of Biomet expert David Schroeder; DENYING 3383 the Executive Committee's motion to exclude opinions and testimony of Biomet's expert Daniel Schultz, M.D.; GRANTING IN PART AND DENYING IN PART 3384 the Executive Committee's motion to exclude opinions and testimony of Biomet's expert Andrew I Spitzer, M.D.; GRANTING IN PART AND DENYING IN PART 3385 the Executive Committee's Motion to exclude opinions and testimony of Biomet's expert Dr. Kenneth St. John; DENYING 3386 Biomet's motion to exclude opinions and testimony of the plaintiffs' expert Mari Truman; GRANTING IN PART AND DENYING IN PART 3399 Biomet's motion to exclude opinions and testimony of the plaintiffs' expert George S Kantor, M.D. Associated Cases: 3:12-md-02391-RLM-MGG et al.(jld) (Entered: 12/22/2017)  \n",
       "2997  MOTION for Leave to Appear Pro Hac Vice Filing fee $ 50, receipt number 0752-9077460. by Chuck H. Jew (Cascio, Anthony) (Entered: 01/07/2014)                                                                                                                                                                                                                                                                                                                                                                                                                                                                                                                                                                                                                                                                                                                                                                                                                                                                                                           \n",
       "995   MOTION by Plaintiffs Carpenters Pension Fund of Illinois, Carpenters Retirement Savings Fund of Illinois for judgment  (Ryan, Patrick) (Entered: 12/29/2015)                                                                                                                                                                                                                                                                                                                                                                                                                                                                                                                                                                                                                                                                                                                                                                                                                                                                                            \n",
       "1057  *WITHDRAWN per 55 ORDER* MOTION by Air Tech of Michigan, Inc. Defendant's Verified Motion to Recover Fees and Expenses (Attachments: # 1 Exhibit 1, # 2 Exhibit 2, # 3 Exhibit 3, # 4 Exhibit 4, # 5 Exhibit 5, # 6 Exhibit 6, # 7 Exhibit 7)(Miller, Andrew) Modified on 1/8/2018 to change event from notice to motion to be ruled on, per chambers. (lhc) Modified on 1/16/2018 (jss). (Entered: 01/05/2018)                                                                                                                                                                                                                                                                                                                                                                                                                                                                                                                                                                                                                                         \n",
       "3666  MOTION by Defendant City of Country Club Hills to dismiss plaintiff's complaint pursuant to federal rule of civil procedure 12(b)(6). (vcf, ) (Entered: 05/16/2008)                                                                                                                                                                                                                                                                                                                                                                                                                                                                                                                                                                                                                                                                                                                                                                                                                                                                                     \n",
       "3271   MOTION to Withdraw as Attorney Ernesto Palomo by Defendant American Empire Surplus Lines Ins Co. (Falk PHV, Alyssa) (Entered: 10/12/2017)                                                                                                                                                                                                                                                                                                                                                                                                                                                                                                                                                                                                                                                                                                                                                                                                                                                                                                              \n",
       "2819  MOTION by Plaintiff Martavion Staff for leave to proceed in forma pauperis[with exhibits.] (pg, ) (Entered: 04/15/2013)                                                                                                                                                                                                                                                                                                                                                                                                                                                                                                                                                                                                                                                                                                                                                                                                                                                                                                                                 \n",
       "5252  MOTION by Plaintiffs Trustees of the Cement Masons Apprentice Education and Training Fund, Local 803, Trustees of the Cement Masons Institute of Chicago, Illinois, Trustees of the Cement Masons Pension Fund, Local 803, Trustees of the Cement Masons Savings Fund, Local 803 to compel Discovery (Attachments: # 1 Exhibit Ex. 1 Affidavit of Donald D. Schwartz, # 2 Exhibit Ex. 2 Notice of Deposition)(Schwartz, Donald) (Entered: 01/26/2011)                                                                                                                                                                                                                                                                                                                                                                                                                                                                                                                                                                                                   \n",
       "1415  MOTION by Defendants Clay, Cook County, David Fargus, Jones, Morrison, Price for extension of time , MOTION by Defendants Clay, Cook County, David Fargus, Jones, Morrison, Price for leave to file excess pages  (Frey, Kevin) (Entered: 09/07/2012)                                                                                                                                                                                                                                                                                                                                                                                                                                                                                                                                                                                                                                                                                                                                                                                                   \n",
       "1324  MOTION by Defendant Michael Astrue for extension of time to file response/reply as to motion for summary judgment 18 (Unopposed) (Chahal, Harpreet) (Entered: 03/11/2013)                                                                                                                                                                                                                                                                                                                                                                                                                                                                                                                                                                                                                                                                                                                                                                                                                                                                               \n",
       "6073  MOTION by petitioner DeWayne Wester for reconsider denial of request for stay and abeyance; (Exhibits). (mjc, ) (Entered: 10/09/2014)                                                                                                                                                                                                                                                                                                                                                                                                                                                                                                                                                                                                                                                                                                                                                                                                                                                                                                                   \n",
       "2725  MOTION by Plaintiff Dilonte McDaniel for leave to proceed in forma pauperis (Exhibit) (mb, ) (Entered: 05/19/2010)                                                                                                                                                                                                                                                                                                                                                                                                                                                                                                                                                                                                                                                                                                                                                                                                                                                                                                                                      \n",
       "2374  MOTION by Defendant Credit Control Services, Inc. for protective order  (Attachments: # 1 Exhibit)(Stein, Brandon) (Entered: 11/16/2016)                                                                                                                                                                                                                                                                                                                                                                                                                                                                                                                                                                                                                                                                                                                                                                                                                                                                                                                \n",
       "3681  MOTION by Defendants The Cook County Sheriff's Merit Board, Byron Brazier, Brian J. Riordan, Robert F. Hogan, John Dallcandro, James P Nally, John R Rosales, Lance C Tyson, Kim R Widup, Vincent T Winters to dismiss  (Hannon, Maureen) (Entered: 06/04/2013)                                                                                                                                                                                                                                                                                                                                                                                                                                                                                                                                                                                                                                                                                                                                                                                         \n",
       "4733   Amended NOTICE of Motion by Kenya A Jenkins for presentment of motion for protective order 41 before Honorable Matthew F. Kennelly on 11/17/2009 at 09:30 AM. (Jenkins, Kenya) (Entered: 11/16/2009)                                                                                                                                                                                                                                                                                                                                                                                                                                                                                                                                                                                                                                                                                                                                                                                                                                                   "
      ]
     },
     "execution_count": 235,
     "metadata": {},
     "output_type": "execute_result"
    }
   ],
   "source": [
    "get_n_samples(df_train, 20)"
   ]
  },
  {
   "cell_type": "code",
   "execution_count": 236,
   "metadata": {},
   "outputs": [
    {
     "data": {
      "text/html": [
       "<div>\n",
       "<style scoped>\n",
       "    .dataframe tbody tr th:only-of-type {\n",
       "        vertical-align: middle;\n",
       "    }\n",
       "\n",
       "    .dataframe tbody tr th {\n",
       "        vertical-align: top;\n",
       "    }\n",
       "\n",
       "    .dataframe thead th {\n",
       "        text-align: right;\n",
       "    }\n",
       "</style>\n",
       "<table border=\"1\" class=\"dataframe\">\n",
       "  <thead>\n",
       "    <tr style=\"text-align: right;\">\n",
       "      <th></th>\n",
       "      <th>docket_entry_id</th>\n",
       "      <th>motion</th>\n",
       "      <th>text</th>\n",
       "    </tr>\n",
       "  </thead>\n",
       "  <tbody>\n",
       "    <tr>\n",
       "      <th>4733</th>\n",
       "      <td>17396</td>\n",
       "      <td>0</td>\n",
       "      <td>Amended NOTICE of Motion by Kenya A Jenkins for presentment of motion for protective order 41 before Honorable Matthew F. Kennelly on 11/17/2009 at 09:30 AM. (Jenkins, Kenya) (Entered: 11/16/2009)</td>\n",
       "    </tr>\n",
       "    <tr>\n",
       "      <th>3323</th>\n",
       "      <td>207</td>\n",
       "      <td>0</td>\n",
       "      <td>Joint NOTICE of Motion by Gail Lynne Reich for presentment of motion to dismiss 18 before Honorable Harry D. Leinenweber on 7/7/2009 at 09:30 AM. (Reich, Gail) (Entered: 06/30/2009)</td>\n",
       "    </tr>\n",
       "    <tr>\n",
       "      <th>4615</th>\n",
       "      <td>5312</td>\n",
       "      <td>0</td>\n",
       "      <td>AMENDED JUDGMENT as to Heidi L. Friedburg (1): Correction of sentencing by sentencing court (Fed.R.Crim.P.35(a): Any and all pending counts are dismissed on the motion of the United States. Upon release from imprisonment, the defendant shall be on supervised release for a term of: three(3) years. (Attachment). Signed by the Honorable Matthew F. Kennelly on 3/14/2011. Mailed copy to counsel of record (yap, ) Modified on 3/31/2011 (yap, ). (Entered: 03/16/2011)</td>\n",
       "    </tr>\n",
       "    <tr>\n",
       "      <th>244</th>\n",
       "      <td>9595</td>\n",
       "      <td>0</td>\n",
       "      <td>CERTIFICATE of Service regarding MOTION by Miguel Villanueva-Hernandez to supplement sentencing position paper 20 (Bischoff, Jerry) (Entered: 03/26/2008)</td>\n",
       "    </tr>\n",
       "    <tr>\n",
       "      <th>3798</th>\n",
       "      <td>4315</td>\n",
       "      <td>0</td>\n",
       "      <td>JUDGMENT (Sentencing Order) as to Martin Jiminez-Ponce (1), Count(s) 1s, The defendant pleaded guilty to count(s) 1 of the superseding criminal indictment. Count(s) of the original Indictment dismissed on the motion of the United States. The defendant is hereby committed to the custody of the United States Bureau of Prisons to be imprisoned for a total term of: Thirty (30) months. The defendant is remanded to the custody of the United States Marshal. Criminal Monetary Penalties. Schedule of Payments., (Terminated defendant Martin Jiminez-Ponce). Signed by the Honorable Robert W. Gettleman on 12/19/2017. Mailed certified copy to the defendant Martin Jimenez-Ponce's counsel of record Daniel J. Hesler. Mailed notice (mc, ) (Entered: 12/19/2017)</td>\n",
       "    </tr>\n",
       "    <tr>\n",
       "      <th>4429</th>\n",
       "      <td>14564</td>\n",
       "      <td>0</td>\n",
       "      <td>STATUS CONFERENCE held on 3/6/2017 before Magistrate Judge Susan L Collins. Pla appeared pro se. Dfts appeared by attys Benjamin Jones, Robert Keen, and Michael Brown. For reasons stated on the record, discovery remains open on subject matter jurisdiction. Pla anticipates filing motion for hearing on pending motions. Status Conference set for 4/13/2017 10:00 AM in US District Court - Fort Wayne before Magistrate Judge Susan L Collins. (cc: Plaintiff) (FTR 1st floor.) (mr) (Entered: 03/06/2017)</td>\n",
       "    </tr>\n",
       "    <tr>\n",
       "      <th>4750</th>\n",
       "      <td>12100</td>\n",
       "      <td>0</td>\n",
       "      <td>TELEPHONIC RULE 16 PRELIMINARY PRETRIAL CONFERENCE held on 2/2/2017 before Magistrate Judge Susan L Collins. Pla appeared by atty Lori Jansen. Dfts appeared by atty Spencer Feighner. The 31 Report of the Parties Planning Meeting is approved in all respects (except dispositive motions deadline and establishment of a trial date) and is hereby made an ORDER of the Court. The Summary Judgment deadline in Fed.R.Civ.P. 56(b) SHALL NOT control. Any dispositive motion SHALL brief out in accordance with L.R. 56-1. DISCOVERY DEADLINE is 9/29/2017. All further dates and deadlines are to be set by the District Judge. Erik Chickedantz appointed as Mediator. Atty Jansen to notify Mediator by letter, copy to Atty Feighner. Results of the Mediation shall be filed with the Court no later than 10 days before the Final Pretrial Conference. Magistrate Consent forms due by 2/23/2017. (FTR 1st floor.) (mr) (Entered: 02/02/2017)</td>\n",
       "    </tr>\n",
       "    <tr>\n",
       "      <th>4686</th>\n",
       "      <td>18429</td>\n",
       "      <td>0</td>\n",
       "      <td>Amended NOTICE of Motion by Kenneth Wayne Schutt, Jr for presentment of (Attachments: # 1 Exhibit Copy of Pleading)(Schutt, Kenneth) (Entered: 06/09/2015)</td>\n",
       "    </tr>\n",
       "    <tr>\n",
       "      <th>4049</th>\n",
       "      <td>12011</td>\n",
       "      <td>0</td>\n",
       "      <td>RULE 16 PRELIMINARY PRETRIAL CONFERENCE held by teleph 11/22/2016 before Magistrate Judge Paul R Cherry. Pla appeared by atty George Blackmore. Dft appeared by atty Stephanie S Penninger. All dates/ddl through close of discovery in Joint Report filed at 12 are approved and incorporated herein. Any motion for leave to amend pleadings to be filed by 11/30/2016 by Pla, and 12/15/2016 by defense. Discovery deadline is 4/24/2017. Expert Discovery deadline is 10/24/2017 Plaintiff expert witness disclosures and reports to be delivered to the defendant by 7/24/2017. Defendant expert witness disclosures and reports to be delivered to the plaintiff by 8/28/2017. Supplemental Expert Reports due to the other party by 10/24/2017. Initial Disclosures to be exchanged by 1/20/2017. Parties to complete ADR/mediation by close of discovery if parties will be pursuing ADR/mediation. Magistrate Consent forms ddl extended to 12/13/2016. The summary judgment ddl in FRCP 56 shall not apply. All other dates/ddl to be set by the presiding trial judge upon conclusion of discovery. (#FTR.)(smb) (Entered: 12/01/2016)</td>\n",
       "    </tr>\n",
       "    <tr>\n",
       "      <th>4574</th>\n",
       "      <td>16152</td>\n",
       "      <td>0</td>\n",
       "      <td>SCHEDULING CONFERENCE held by teleph 3/30/2017 before Magistrate Judge Paul R Cherry. Pla appeared by atty Matthew Forsythe. Dft appeared by atty Lesley Pfleging. Dispositive motions to be filed by 3/15/2018, Daubert motions to be filed by 3/15/2018, Jury Trial (3 days) set for 9/24/2018 08:30 AM (local Laf time) in US District Court - Lafayette before Magistrate Judge Paul R Cherry. Final Pretrial Conference set for 8/24/2018 10:30 AM Central in US District Court - Hammond before Magistrate Judge Paul R Cherry. Parties to exch wit-exhib lists, contentions, and stipulations for inclusion in PTO by 8/10/2018. Parties to file any motion(s) in limine, proposed final jury instructions, proposed voir dire and proposed PTO at least 24 hours in advance of Final PTC. Proposed form of PTO to be emailed to cherry_chambers@innd.uscourts.gov in.wpf or.rtf also at least 24 hours in advance of trial. (#FTR.) (smb) (Entered: 04/05/2017)</td>\n",
       "    </tr>\n",
       "    <tr>\n",
       "      <th>4348</th>\n",
       "      <td>5848</td>\n",
       "      <td>0</td>\n",
       "      <td>CERTIFICATE of Service by Plaintiff U.S. Bank National Association regarding MOTION by Plaintiff U.S. Bank National Association to appoint special commissioner The Judicial Sales Corporation 12 , MOTION by Plaintiff U.S. Bank National Association for default judgment as to CHRISTIAN ANDERSON 11  (Bochnowski, Julia) (Entered: 04/22/2013)</td>\n",
       "    </tr>\n",
       "    <tr>\n",
       "      <th>1155</th>\n",
       "      <td>4725</td>\n",
       "      <td>0</td>\n",
       "      <td>AFFIDAVIT ACCOMPANYING MOTION by Defendant Joseph Donelson for leave to appeal in forma pauperis (ks, ) (Entered: 12/05/2014)</td>\n",
       "    </tr>\n",
       "    <tr>\n",
       "      <th>4594</th>\n",
       "      <td>19479</td>\n",
       "      <td>0</td>\n",
       "      <td>WRITTEN Opinion: Plaintiff's motion for reconsideration of the court's May 7, 2010 order 95 is granted in part and denied in part. Within 14 days, defendants are directed to provide documents marked Bates No. 00001-00022 for the court's review, and to produce to plaintiff a copy of any report in their custody prepared by the Department of Public Health. No further production is ordered. On its own motion, the court again extends the time for plaintiff's response to the pending motion for summary judgment. Plaintiff's response must be submitted no later than September 1, 2010. Should he fail to do so, the court will deem the motion unopposed. Defendants' reply memorandum, if any, to be filed on or before September 15. Signed by the Honorable Rebecca R. Pallmeyer on 8/4/2010. [For further details see minute order.] Mailed notice(mjc, ) (Entered: 08/05/2010)</td>\n",
       "    </tr>\n",
       "    <tr>\n",
       "      <th>697</th>\n",
       "      <td>12401</td>\n",
       "      <td>0</td>\n",
       "      <td>TELEPHONE CONFERENCE held on 7/18/2018 before Judge Robert L Miller, Jr. Pla appeared by atty A. Davis, N. Ward. Dft appeared by atty E. Hanig, J. LaDue, J. Winter. Topics discussed included status of Group 5 and 6 discovery, the proposed pretrial order on remand, upcoming expert video depositions, pro se cases and pending motions. Following discussion, the court directed plaintiff's counsel to file any motion to enforce settlement in Simpson v. Biomet, 3:16cv466, by Aug 9, 2018. Next status conference set for Aug 27, 2018 at 1:30 p.m. (EDT) before Judge Robert L Miller Jr. (Court Reporter D. Bonk.) Associated Cases: 3:12-md-02391-RLM-MGG et al.(jld) (Entered: 07/18/2018)</td>\n",
       "    </tr>\n",
       "    <tr>\n",
       "      <th>1293</th>\n",
       "      <td>1747</td>\n",
       "      <td>0</td>\n",
       "      <td>(Unopposed) NOTICE of Motion by Erin Elaine Kelly for presentment of motion for extension of time to file response/reply, motion for relief 17 before Honorable Geraldine Soat Brown on 3/18/2016 at 09:45 AM. (Kelly, Erin) (Entered: 03/09/2016)</td>\n",
       "    </tr>\n",
       "    <tr>\n",
       "      <th>4233</th>\n",
       "      <td>11943</td>\n",
       "      <td>0</td>\n",
       "      <td>JURY TRIAL (Day 3 - Last Day) as to Carlos Maez held on 5/23/2018 before Judge Jon E DeGuilio. Govt appeared by attys Schaffer &amp; Donnelly. Dft appeared pro se with Lenyo as standby counsel. Dft states Case Agent is not on the witness list - Court ruled that he can testify. Govt continues evidence with 3 witnesses. Stipulations read into the record. Govt rests. Dft presents evidence with 1 witness. Dft rests. First 22 final jury instructions read to jury. Closing arguments heard. Remaining final jury instructions read to jury. Two bailiffs sworn. Note from jury dealt with. Guilty verdict returned on all three counts. Case referred to USPO for PSR. Sentencing Memoranda/Motions related to sentencing due by 9/20/2018. Sentencing set for 10/4/2018 10:00 AM in US District Court - South Bend before Judge Jon E DeGuilio. Dft REMANDED to custody of US Marshal. 9:44-9:53, 10:24-12:04, 1:10-2:31, 2:55-4:30, 5:04-5:09, 5:25-5:35 (Court Reporter Hoffman) (cc: Maez) (saj) (Entered: 05/24/2018)</td>\n",
       "    </tr>\n",
       "    <tr>\n",
       "      <th>4098</th>\n",
       "      <td>12499</td>\n",
       "      <td>0</td>\n",
       "      <td>DETENTION/ARRAIGNMENT HEARING as to Jamie Buckner re Counts 1-8 of Indictment held on 6/27/2016 in US District Court - Fort Wayne. Hearing held via video conferencing before Magistrate Judge Andrew P Rodovich in US District Court - Hammond. Govt appeared by atty Stacey Speith, and Steven Sadowitz, Postal Inspector. Dft appeared with atty Thomas Allen. Matthew Koon appeared on behalf of U S Probation/Pretrial Services. Dft waives and gives up her right to a Detention Hearing. Court orders Dft detained pending further proceedings. Dft enters plea of not guilty to Counts 1-8 of Indictment (Arraignment Order attached). Pretrial motions due by 7/25/2016. Telephonic Final Pretrial Conference and 3-day Jury Trial to be set by Presiding Judge by separate Order. Dft remanded to custody of USM. (FTR 1st floor.) (mr) (Entered: 06/28/2016)</td>\n",
       "    </tr>\n",
       "    <tr>\n",
       "      <th>4643</th>\n",
       "      <td>15030</td>\n",
       "      <td>0</td>\n",
       "      <td>TELEPHONIC HEARING on PSC's request to extend custodial depositions deadline was held on 8/10/2016 before Judge Robert L Miller, Jr. Pla appeared by atty A. Diab, N. Ward, J. Presnall. Dft appeared by atty J. LaDue, E. Hanig. Arguments heard. For the reasons stated in open court the request to extend the deadline is DENIED. If previously undisclosed documents are produced in the Florida case that would justify reopening a deposition, the court will entertain a motion to reopen and to assess costs. SO ORDERED. (Court Reporter D. Bonk.) Associated Cases: 3:12-md-02391-RLM-CAN et al.(jld) (Entered: 08/11/2016)</td>\n",
       "    </tr>\n",
       "    <tr>\n",
       "      <th>4050</th>\n",
       "      <td>12011</td>\n",
       "      <td>0</td>\n",
       "      <td>RULE 16 PRELIMINARY PRETRIAL CONFERENCE held by teleph 11/22/2016 before Magistrate Judge Paul R Cherry. Pla appeared by atty George Blackmore. Dft appeared by atty Stephanie S Penninger. All dates/ddl through close of discovery in Joint Report filed at 12 are approved and incorporated herein. Any motion for leave to amend pleadings to be filed by 11/30/2016 by Pla, and 12/15/2016 by defense. Discovery deadline is 4/24/2017. Expert Discovery deadline is 10/24/2017 Plaintiff expert witness disclosures and reports to be delivered to the defendant by 7/24/2017. Defendant expert witness disclosures and reports to be delivered to the plaintiff by 8/28/2017. Supplemental Expert Reports due to the other party by 10/24/2017. Initial Disclosures to be exchanged by 1/20/2017. Parties to complete ADR/mediation by close of discovery if parties will be pursuing ADR/mediation. Magistrate Consent forms ddl extended to 12/13/2016. The summary judgment ddl in FRCP 56 shall not apply. All other dates/ddl to be set by the presiding trial judge upon conclusion of discovery. (#FTR.)(smb) (Entered: 12/01/2016)</td>\n",
       "    </tr>\n",
       "    <tr>\n",
       "      <th>3782</th>\n",
       "      <td>2060</td>\n",
       "      <td>0</td>\n",
       "      <td>MAILED order dated 12/31/2015, along with a copy of IFP motions, dated 12/21/2015 to the Seventh Circuit Court of Appeals and the PLRA Attorney. (jl) (Entered: 12/31/2015)</td>\n",
       "    </tr>\n",
       "  </tbody>\n",
       "</table>\n",
       "</div>"
      ],
      "text/plain": [
       "      docket_entry_id  motion  \\\n",
       "4733  17396            0        \n",
       "3323  207              0        \n",
       "4615  5312             0        \n",
       "244   9595             0        \n",
       "3798  4315             0        \n",
       "4429  14564            0        \n",
       "4750  12100            0        \n",
       "4686  18429            0        \n",
       "4049  12011            0        \n",
       "4574  16152            0        \n",
       "4348  5848             0        \n",
       "1155  4725             0        \n",
       "4594  19479            0        \n",
       "697   12401            0        \n",
       "1293  1747             0        \n",
       "4233  11943            0        \n",
       "4098  12499            0        \n",
       "4643  15030            0        \n",
       "4050  12011            0        \n",
       "3782  2060             0        \n",
       "\n",
       "                                                                                                                                                                                                                                                                                                                                                                                                                                                                                                                                                                                                                                                                                                                                                                                                                                                                                                                                                                                                                                                                                                                                                   text  \n",
       "4733   Amended NOTICE of Motion by Kenya A Jenkins for presentment of motion for protective order 41 before Honorable Matthew F. Kennelly on 11/17/2009 at 09:30 AM. (Jenkins, Kenya) (Entered: 11/16/2009)                                                                                                                                                                                                                                                                                                                                                                                                                                                                                                                                                                                                                                                                                                                                                                                                                                                                                                                                              \n",
       "3323   Joint NOTICE of Motion by Gail Lynne Reich for presentment of motion to dismiss 18 before Honorable Harry D. Leinenweber on 7/7/2009 at 09:30 AM. (Reich, Gail) (Entered: 06/30/2009)                                                                                                                                                                                                                                                                                                                                                                                                                                                                                                                                                                                                                                                                                                                                                                                                                                                                                                                                                             \n",
       "4615  AMENDED JUDGMENT as to Heidi L. Friedburg (1): Correction of sentencing by sentencing court (Fed.R.Crim.P.35(a): Any and all pending counts are dismissed on the motion of the United States. Upon release from imprisonment, the defendant shall be on supervised release for a term of: three(3) years. (Attachment). Signed by the Honorable Matthew F. Kennelly on 3/14/2011. Mailed copy to counsel of record (yap, ) Modified on 3/31/2011 (yap, ). (Entered: 03/16/2011)                                                                                                                                                                                                                                                                                                                                                                                                                                                                                                                                                                                                                                                                    \n",
       "244   CERTIFICATE of Service regarding MOTION by Miguel Villanueva-Hernandez to supplement sentencing position paper 20 (Bischoff, Jerry) (Entered: 03/26/2008)                                                                                                                                                                                                                                                                                                                                                                                                                                                                                                                                                                                                                                                                                                                                                                                                                                                                                                                                                                                          \n",
       "3798  JUDGMENT (Sentencing Order) as to Martin Jiminez-Ponce (1), Count(s) 1s, The defendant pleaded guilty to count(s) 1 of the superseding criminal indictment. Count(s) of the original Indictment dismissed on the motion of the United States. The defendant is hereby committed to the custody of the United States Bureau of Prisons to be imprisoned for a total term of: Thirty (30) months. The defendant is remanded to the custody of the United States Marshal. Criminal Monetary Penalties. Schedule of Payments., (Terminated defendant Martin Jiminez-Ponce). Signed by the Honorable Robert W. Gettleman on 12/19/2017. Mailed certified copy to the defendant Martin Jimenez-Ponce's counsel of record Daniel J. Hesler. Mailed notice (mc, ) (Entered: 12/19/2017)                                                                                                                                                                                                                                                                                                                                                                    \n",
       "4429  STATUS CONFERENCE held on 3/6/2017 before Magistrate Judge Susan L Collins. Pla appeared pro se. Dfts appeared by attys Benjamin Jones, Robert Keen, and Michael Brown. For reasons stated on the record, discovery remains open on subject matter jurisdiction. Pla anticipates filing motion for hearing on pending motions. Status Conference set for 4/13/2017 10:00 AM in US District Court - Fort Wayne before Magistrate Judge Susan L Collins. (cc: Plaintiff) (FTR 1st floor.) (mr) (Entered: 03/06/2017)                                                                                                                                                                                                                                                                                                                                                                                                                                                                                                                                                                                                                                 \n",
       "4750  TELEPHONIC RULE 16 PRELIMINARY PRETRIAL CONFERENCE held on 2/2/2017 before Magistrate Judge Susan L Collins. Pla appeared by atty Lori Jansen. Dfts appeared by atty Spencer Feighner. The 31 Report of the Parties Planning Meeting is approved in all respects (except dispositive motions deadline and establishment of a trial date) and is hereby made an ORDER of the Court. The Summary Judgment deadline in Fed.R.Civ.P. 56(b) SHALL NOT control. Any dispositive motion SHALL brief out in accordance with L.R. 56-1. DISCOVERY DEADLINE is 9/29/2017. All further dates and deadlines are to be set by the District Judge. Erik Chickedantz appointed as Mediator. Atty Jansen to notify Mediator by letter, copy to Atty Feighner. Results of the Mediation shall be filed with the Court no later than 10 days before the Final Pretrial Conference. Magistrate Consent forms due by 2/23/2017. (FTR 1st floor.) (mr) (Entered: 02/02/2017)                                                                                                                                                                                            \n",
       "4686   Amended NOTICE of Motion by Kenneth Wayne Schutt, Jr for presentment of (Attachments: # 1 Exhibit Copy of Pleading)(Schutt, Kenneth) (Entered: 06/09/2015)                                                                                                                                                                                                                                                                                                                                                                                                                                                                                                                                                                                                                                                                                                                                                                                                                                                                                                                                                                                        \n",
       "4049  RULE 16 PRELIMINARY PRETRIAL CONFERENCE held by teleph 11/22/2016 before Magistrate Judge Paul R Cherry. Pla appeared by atty George Blackmore. Dft appeared by atty Stephanie S Penninger. All dates/ddl through close of discovery in Joint Report filed at 12 are approved and incorporated herein. Any motion for leave to amend pleadings to be filed by 11/30/2016 by Pla, and 12/15/2016 by defense. Discovery deadline is 4/24/2017. Expert Discovery deadline is 10/24/2017 Plaintiff expert witness disclosures and reports to be delivered to the defendant by 7/24/2017. Defendant expert witness disclosures and reports to be delivered to the plaintiff by 8/28/2017. Supplemental Expert Reports due to the other party by 10/24/2017. Initial Disclosures to be exchanged by 1/20/2017. Parties to complete ADR/mediation by close of discovery if parties will be pursuing ADR/mediation. Magistrate Consent forms ddl extended to 12/13/2016. The summary judgment ddl in FRCP 56 shall not apply. All other dates/ddl to be set by the presiding trial judge upon conclusion of discovery. (#FTR.)(smb) (Entered: 12/01/2016)  \n",
       "4574  SCHEDULING CONFERENCE held by teleph 3/30/2017 before Magistrate Judge Paul R Cherry. Pla appeared by atty Matthew Forsythe. Dft appeared by atty Lesley Pfleging. Dispositive motions to be filed by 3/15/2018, Daubert motions to be filed by 3/15/2018, Jury Trial (3 days) set for 9/24/2018 08:30 AM (local Laf time) in US District Court - Lafayette before Magistrate Judge Paul R Cherry. Final Pretrial Conference set for 8/24/2018 10:30 AM Central in US District Court - Hammond before Magistrate Judge Paul R Cherry. Parties to exch wit-exhib lists, contentions, and stipulations for inclusion in PTO by 8/10/2018. Parties to file any motion(s) in limine, proposed final jury instructions, proposed voir dire and proposed PTO at least 24 hours in advance of Final PTC. Proposed form of PTO to be emailed to cherry_chambers@innd.uscourts.gov in.wpf or.rtf also at least 24 hours in advance of trial. (#FTR.) (smb) (Entered: 04/05/2017)                                                                                                                                                                            \n",
       "4348  CERTIFICATE of Service by Plaintiff U.S. Bank National Association regarding MOTION by Plaintiff U.S. Bank National Association to appoint special commissioner The Judicial Sales Corporation 12 , MOTION by Plaintiff U.S. Bank National Association for default judgment as to CHRISTIAN ANDERSON 11  (Bochnowski, Julia) (Entered: 04/22/2013)                                                                                                                                                                                                                                                                                                                                                                                                                                                                                                                                                                                                                                                                                                                                                                                                 \n",
       "1155  AFFIDAVIT ACCOMPANYING MOTION by Defendant Joseph Donelson for leave to appeal in forma pauperis (ks, ) (Entered: 12/05/2014)                                                                                                                                                                                                                                                                                                                                                                                                                                                                                                                                                                                                                                                                                                                                                                                                                                                                                                                                                                                                                      \n",
       "4594  WRITTEN Opinion: Plaintiff's motion for reconsideration of the court's May 7, 2010 order 95 is granted in part and denied in part. Within 14 days, defendants are directed to provide documents marked Bates No. 00001-00022 for the court's review, and to produce to plaintiff a copy of any report in their custody prepared by the Department of Public Health. No further production is ordered. On its own motion, the court again extends the time for plaintiff's response to the pending motion for summary judgment. Plaintiff's response must be submitted no later than September 1, 2010. Should he fail to do so, the court will deem the motion unopposed. Defendants' reply memorandum, if any, to be filed on or before September 15. Signed by the Honorable Rebecca R. Pallmeyer on 8/4/2010. [For further details see minute order.] Mailed notice(mjc, ) (Entered: 08/05/2010)                                                                                                                                                                                                                                                \n",
       "697   TELEPHONE CONFERENCE held on 7/18/2018 before Judge Robert L Miller, Jr. Pla appeared by atty A. Davis, N. Ward. Dft appeared by atty E. Hanig, J. LaDue, J. Winter. Topics discussed included status of Group 5 and 6 discovery, the proposed pretrial order on remand, upcoming expert video depositions, pro se cases and pending motions. Following discussion, the court directed plaintiff's counsel to file any motion to enforce settlement in Simpson v. Biomet, 3:16cv466, by Aug 9, 2018. Next status conference set for Aug 27, 2018 at 1:30 p.m. (EDT) before Judge Robert L Miller Jr. (Court Reporter D. Bonk.) Associated Cases: 3:12-md-02391-RLM-MGG et al.(jld) (Entered: 07/18/2018)                                                                                                                                                                                                                                                                                                                                                                                                                                           \n",
       "1293   (Unopposed) NOTICE of Motion by Erin Elaine Kelly for presentment of motion for extension of time to file response/reply, motion for relief 17 before Honorable Geraldine Soat Brown on 3/18/2016 at 09:45 AM. (Kelly, Erin) (Entered: 03/09/2016)                                                                                                                                                                                                                                                                                                                                                                                                                                                                                                                                                                                                                                                                                                                                                                                                                                                                                                \n",
       "4233  JURY TRIAL (Day 3 - Last Day) as to Carlos Maez held on 5/23/2018 before Judge Jon E DeGuilio. Govt appeared by attys Schaffer & Donnelly. Dft appeared pro se with Lenyo as standby counsel. Dft states Case Agent is not on the witness list - Court ruled that he can testify. Govt continues evidence with 3 witnesses. Stipulations read into the record. Govt rests. Dft presents evidence with 1 witness. Dft rests. First 22 final jury instructions read to jury. Closing arguments heard. Remaining final jury instructions read to jury. Two bailiffs sworn. Note from jury dealt with. Guilty verdict returned on all three counts. Case referred to USPO for PSR. Sentencing Memoranda/Motions related to sentencing due by 9/20/2018. Sentencing set for 10/4/2018 10:00 AM in US District Court - South Bend before Judge Jon E DeGuilio. Dft REMANDED to custody of US Marshal. 9:44-9:53, 10:24-12:04, 1:10-2:31, 2:55-4:30, 5:04-5:09, 5:25-5:35 (Court Reporter Hoffman) (cc: Maez) (saj) (Entered: 05/24/2018)                                                                                                                 \n",
       "4098  DETENTION/ARRAIGNMENT HEARING as to Jamie Buckner re Counts 1-8 of Indictment held on 6/27/2016 in US District Court - Fort Wayne. Hearing held via video conferencing before Magistrate Judge Andrew P Rodovich in US District Court - Hammond. Govt appeared by atty Stacey Speith, and Steven Sadowitz, Postal Inspector. Dft appeared with atty Thomas Allen. Matthew Koon appeared on behalf of U S Probation/Pretrial Services. Dft waives and gives up her right to a Detention Hearing. Court orders Dft detained pending further proceedings. Dft enters plea of not guilty to Counts 1-8 of Indictment (Arraignment Order attached). Pretrial motions due by 7/25/2016. Telephonic Final Pretrial Conference and 3-day Jury Trial to be set by Presiding Judge by separate Order. Dft remanded to custody of USM. (FTR 1st floor.) (mr) (Entered: 06/28/2016)                                                                                                                                                                                                                                                                            \n",
       "4643  TELEPHONIC HEARING on PSC's request to extend custodial depositions deadline was held on 8/10/2016 before Judge Robert L Miller, Jr. Pla appeared by atty A. Diab, N. Ward, J. Presnall. Dft appeared by atty J. LaDue, E. Hanig. Arguments heard. For the reasons stated in open court the request to extend the deadline is DENIED. If previously undisclosed documents are produced in the Florida case that would justify reopening a deposition, the court will entertain a motion to reopen and to assess costs. SO ORDERED. (Court Reporter D. Bonk.) Associated Cases: 3:12-md-02391-RLM-CAN et al.(jld) (Entered: 08/11/2016)                                                                                                                                                                                                                                                                                                                                                                                                                                                                                                             \n",
       "4050  RULE 16 PRELIMINARY PRETRIAL CONFERENCE held by teleph 11/22/2016 before Magistrate Judge Paul R Cherry. Pla appeared by atty George Blackmore. Dft appeared by atty Stephanie S Penninger. All dates/ddl through close of discovery in Joint Report filed at 12 are approved and incorporated herein. Any motion for leave to amend pleadings to be filed by 11/30/2016 by Pla, and 12/15/2016 by defense. Discovery deadline is 4/24/2017. Expert Discovery deadline is 10/24/2017 Plaintiff expert witness disclosures and reports to be delivered to the defendant by 7/24/2017. Defendant expert witness disclosures and reports to be delivered to the plaintiff by 8/28/2017. Supplemental Expert Reports due to the other party by 10/24/2017. Initial Disclosures to be exchanged by 1/20/2017. Parties to complete ADR/mediation by close of discovery if parties will be pursuing ADR/mediation. Magistrate Consent forms ddl extended to 12/13/2016. The summary judgment ddl in FRCP 56 shall not apply. All other dates/ddl to be set by the presiding trial judge upon conclusion of discovery. (#FTR.)(smb) (Entered: 12/01/2016)  \n",
       "3782  MAILED order dated 12/31/2015, along with a copy of IFP motions, dated 12/21/2015 to the Seventh Circuit Court of Appeals and the PLRA Attorney. (jl) (Entered: 12/31/2015)                                                                                                                                                                                                                                                                                                                                                                                                                                                                                                                                                                                                                                                                                                                                                                                                                                                                                                                                                                        "
      ]
     },
     "execution_count": 236,
     "metadata": {},
     "output_type": "execute_result"
    }
   ],
   "source": [
    "get_n_samples(df_train[df_train.motion == 0], 20)"
   ]
  },
  {
   "cell_type": "markdown",
   "metadata": {},
   "source": [
    "### Making Labeling Functions"
   ]
  },
  {
   "cell_type": "markdown",
   "metadata": {},
   "source": [
    "#### Key word LFs"
   ]
  },
  {
   "cell_type": "code",
   "execution_count": 237,
   "metadata": {},
   "outputs": [],
   "source": [
    "def keyword_lookup(x, keywords, label):\n",
    "    if any(word in x.text.lower() for word in keywords):\n",
    "        return label\n",
    "    return ABSTAIN\n",
    "\n",
    "\n",
    "def make_keyword_lf(keywords, label=MOTION):\n",
    "    return LabelingFunction(\n",
    "        name=f\"keyword__{keywords[0]}\",\n",
    "        f=keyword_lookup,\n",
    "        resources=dict(keywords=keywords, label=label),\n",
    "    )\n",
    "\n",
    "\n",
    "\"\"\"Motions contain 'motion of'.\"\"\"\n",
    "keyword__of = make_keyword_lf(keywords=[\"motion of\"])\n",
    "\n",
    "\"\"\"Motions contain 'motion to'.\"\"\"\n",
    "keyword__motion_to = make_keyword_lf(keywords=[\"motion to\"])\n",
    "\n",
    "\"\"\"Motions contain 'motion by'.\"\"\"\n",
    "keyword__motion_by = make_keyword_lf(keywords=[\"motion by\"])\n",
    "\n",
    "\"\"\"Motions contain 'motion (oral)'.\"\"\"\n",
    "keyword__motion_oral = make_keyword_lf(keywords=[\"motion (oral)\"])\n",
    "\n",
    "\"\"\"Motions contain 'joint motion'.\"\"\"\n",
    "keyword__joint_motion = make_keyword_lf(keywords=[\"joint motion\"])\n",
    "\n",
    "\"\"\"Notice of motions contain 'notice of motion'.\"\"\"\n",
    "keyword__notice_of_motion = make_keyword_lf(keywords=[\"notice of motion\"], label=NOT_MOTION)\n",
    "\n",
    "\"\"\"Notice of motions contain 'notice'.\"\"\"\n",
    "keyword__notice = make_keyword_lf(keywords=[\"notice\"], label=NOT_MOTION)\n",
    "\n",
    "\"\"\"Judgements contain 'judgement'.\"\"\"\n",
    "keyword__judgement = make_keyword_lf(keywords=[\"judgement\"], label=NOT_MOTION)\n",
    "\n",
    "\"\"\"Denying a motion contains 'denying motion'.\"\"\"\n",
    "keyword__denying_motion = make_keyword_lf(keywords=[\"denying motion\"], label=NOT_MOTION)\n",
    "\n",
    "\"\"\"Final pretrial conference contains 'final pretrial conference'.\"\"\"\n",
    "keyword__final_pretrial_conference = make_keyword_lf(keywords=[\"final pretrial conference\"], label=NOT_MOTION)"
   ]
  },
  {
   "cell_type": "markdown",
   "metadata": {},
   "source": [
    "### Regex LFs\n",
    "\n",
    "Some examples of REGEX LFs. For now, it seems difficult to map a non-technical user's input to a regex.\n",
    "```{ python }\n",
    "MOTION_MENTIONS = r\"\\b(motion by|motion (oral) by|motion for|motion to)\"\n",
    "@labeling_function()\n",
    "def regex_motion(x):\n",
    "    return MOTION if re.search(MOTION_MENTIONS, x.text) else ABSTAIN\n",
    "```"
   ]
  },
  {
   "cell_type": "markdown",
   "metadata": {},
   "source": [
    "### Heuristic LFs\n",
    "\n",
    "We notice that:\n",
    "1. MOTION documents generally start with a mention of the keyword 'motion'. \n",
    "2. NOT MOTION documents can mention the keyword 'motion'.\n",
    "3. NOT MOTION documents tend not to start with the keyword 'motion'.\n",
    "4. Rule 3 does not hold for 'notice of motion' or 'denying motion'. We probably want to query the data to explore when we have a mention of 'motion' at the start and rule 3 does not hold.\n",
    "\n",
    "We can use these heuristics to create labeling functions."
   ]
  },
  {
   "cell_type": "code",
   "execution_count": 238,
   "metadata": {},
   "outputs": [
    {
     "data": {
      "text/plain": [
       "['tokenizes', 'the', 'text']"
      ]
     },
     "execution_count": 238,
     "metadata": {},
     "output_type": "execute_result"
    }
   ],
   "source": [
    "t = \"Tokenizes the text to check if motion is not in first 3 words.\"\n",
    "t.lower().split()[:3]"
   ]
  },
  {
   "cell_type": "code",
   "execution_count": 239,
   "metadata": {},
   "outputs": [],
   "source": [
    "# Create a Tokenizer with the default settings for English\n",
    "# including punctuation rules and exceptions\n",
    "# nlp = English()\n",
    "# tokenizer = nlp.tokenizer\n",
    "\n",
    "@labeling_function()\n",
    "def lf_first_word_motion(x):\n",
    "    \"\"\"Tokenizes the text to check if first word is motion.\"\"\"\n",
    "    _first_token = x.text.lower().split()[0]\n",
    "    return MOTION if \"motion\" == _first_token else ABSTAIN\n",
    "\n",
    "@labeling_function()\n",
    "def lf_motion_not_in_first_three_words(x):\n",
    "    \"\"\"Tokenizes the text to check if motion is not in first 3 words.\"\"\"\n",
    "    _tokens = x.text.lower().split()[:3]\n",
    "    return NOT_MOTION if not \"motion\" in _tokens else ABSTAIN\n",
    "\n",
    "@labeling_function()\n",
    "def lf_motion_mentioned_later(x):\n",
    "    \"\"\"Tokenizes the text to check if first word is motion.\"\"\"\n",
    "    # Motion is mentioned somewhere in the middle of the docket entry\n",
    "    # and Motion is not mentioned at the start\n",
    "    _tokens = x.text.lower().split()\n",
    "    condition = \"motion\" in _tokens[3:] and \"motion\" not in _tokens[:2]\n",
    "    return NOT_MOTION if condition else ABSTAIN\n",
    "\n",
    "@labeling_function()\n",
    "def lf_motion_early(x):\n",
    "    \"\"\"Tokenizes the text to check if motion is mentioned in first 5 words\"\"\"\n",
    "    # Motion is mentioned somewhere in the middle of the docket entry\n",
    "    # and Motion is not mentioned at the start\n",
    "    _tokens = x.text.lower().split()\n",
    "    condition = \"motion\" in _tokens[:5] and \"motion\" not in _tokens[6:]\n",
    "    return MOTION if condition else ABSTAIN"
   ]
  },
  {
   "cell_type": "markdown",
   "metadata": {},
   "source": [
    "### Put all out LFs in one place"
   ]
  },
  {
   "cell_type": "code",
   "execution_count": 240,
   "metadata": {},
   "outputs": [
    {
     "name": "stderr",
     "output_type": "stream",
     "text": [
      "/Users/benigerisimon/opt/miniconda3/envs/machine-teaching/lib/python3.8/site-packages/tqdm/std.py:697: FutureWarning: The Panel class is removed from pandas. Accessing it from the top-level namespace will also be removed in the next version\n",
      "  from pandas import Panel\n",
      "100%|██████████| 3966/3966 [00:00<00:00, 10931.56it/s]\n",
      "100%|██████████| 1322/1322 [00:00<00:00, 12423.34it/s]\n",
      "100%|██████████| 1322/1322 [00:00<00:00, 12451.62it/s]\n"
     ]
    }
   ],
   "source": [
    "lfs = [\n",
    "    keyword__of, \n",
    "    keyword__motion_to, \n",
    "    keyword__motion_by, \n",
    "    keyword__motion_oral,\n",
    "    keyword__joint_motion,\n",
    "    keyword__notice,\n",
    "    keyword__notice_of_motion,\n",
    "    keyword__judgement,\n",
    "    keyword__final_pretrial_conference,\n",
    "    keyword__denying_motion,\n",
    "    lf_first_word_motion,\n",
    "    lf_motion_not_in_first_three_words,\n",
    "    lf_motion_mentioned_later,\n",
    "    lf_motion_early\n",
    "]\n",
    "\n",
    "applier = PandasLFApplier(lfs=lfs)\n",
    "L_train = applier.apply(df=df_train)\n",
    "L_val = applier.apply(df=df_val)\n",
    "L_test = applier.apply(df=df_test)"
   ]
  },
  {
   "cell_type": "code",
   "execution_count": 241,
   "metadata": {},
   "outputs": [
    {
     "data": {
      "text/plain": [
       "array([[-1, -1, -1, ..., -1, -1,  1],\n",
       "       [-1,  1, -1, ..., -1, -1,  1],\n",
       "       [-1,  1,  1, ..., -1, -1, -1],\n",
       "       ...,\n",
       "       [-1, -1, -1, ..., -1, -1, -1],\n",
       "       [-1, -1,  1, ..., -1, -1,  1],\n",
       "       [-1, -1,  1, ..., -1, -1,  1]])"
      ]
     },
     "execution_count": 241,
     "metadata": {},
     "output_type": "execute_result"
    }
   ],
   "source": [
    "L_train"
   ]
  },
  {
   "cell_type": "code",
   "execution_count": 242,
   "metadata": {},
   "outputs": [
    {
     "name": "stderr",
     "output_type": "stream",
     "text": [
      "/Users/benigerisimon/opt/miniconda3/envs/machine-teaching/lib/python3.8/site-packages/sklearn/utils/validation.py:67: FutureWarning: Pass labels=[-1  0  1] as keyword args. From version 0.25 passing these as positional arguments will result in an error\n",
      "  warnings.warn(\"Pass {} as keyword args. From version 0.25 \"\n"
     ]
    },
    {
     "data": {
      "text/html": [
       "<div>\n",
       "<style scoped>\n",
       "    .dataframe tbody tr th:only-of-type {\n",
       "        vertical-align: middle;\n",
       "    }\n",
       "\n",
       "    .dataframe tbody tr th {\n",
       "        vertical-align: top;\n",
       "    }\n",
       "\n",
       "    .dataframe thead th {\n",
       "        text-align: right;\n",
       "    }\n",
       "</style>\n",
       "<table border=\"1\" class=\"dataframe\">\n",
       "  <thead>\n",
       "    <tr style=\"text-align: right;\">\n",
       "      <th></th>\n",
       "      <th>j</th>\n",
       "      <th>Polarity</th>\n",
       "      <th>Coverage</th>\n",
       "      <th>Overlaps</th>\n",
       "      <th>Conflicts</th>\n",
       "      <th>Correct</th>\n",
       "      <th>Incorrect</th>\n",
       "      <th>Emp. Acc.</th>\n",
       "    </tr>\n",
       "  </thead>\n",
       "  <tbody>\n",
       "    <tr>\n",
       "      <th>keyword__motion of</th>\n",
       "      <td>0</td>\n",
       "      <td>[1]</td>\n",
       "      <td>0.005547</td>\n",
       "      <td>0.005547</td>\n",
       "      <td>0.004034</td>\n",
       "      <td>4</td>\n",
       "      <td>18</td>\n",
       "      <td>0.181818</td>\n",
       "    </tr>\n",
       "    <tr>\n",
       "      <th>keyword__motion to</th>\n",
       "      <td>1</td>\n",
       "      <td>[1]</td>\n",
       "      <td>0.215582</td>\n",
       "      <td>0.214574</td>\n",
       "      <td>0.072113</td>\n",
       "      <td>573</td>\n",
       "      <td>282</td>\n",
       "      <td>0.670175</td>\n",
       "    </tr>\n",
       "    <tr>\n",
       "      <th>keyword__motion by</th>\n",
       "      <td>2</td>\n",
       "      <td>[1]</td>\n",
       "      <td>0.601362</td>\n",
       "      <td>0.601362</td>\n",
       "      <td>0.069844</td>\n",
       "      <td>2211</td>\n",
       "      <td>174</td>\n",
       "      <td>0.927044</td>\n",
       "    </tr>\n",
       "    <tr>\n",
       "      <th>keyword__motion (oral)</th>\n",
       "      <td>3</td>\n",
       "      <td>[1]</td>\n",
       "      <td>0.011599</td>\n",
       "      <td>0.011599</td>\n",
       "      <td>0.000000</td>\n",
       "      <td>46</td>\n",
       "      <td>0</td>\n",
       "      <td>1.000000</td>\n",
       "    </tr>\n",
       "    <tr>\n",
       "      <th>keyword__joint motion</th>\n",
       "      <td>4</td>\n",
       "      <td>[1]</td>\n",
       "      <td>0.022945</td>\n",
       "      <td>0.022693</td>\n",
       "      <td>0.001009</td>\n",
       "      <td>89</td>\n",
       "      <td>2</td>\n",
       "      <td>0.978022</td>\n",
       "    </tr>\n",
       "    <tr>\n",
       "      <th>keyword__notice</th>\n",
       "      <td>5</td>\n",
       "      <td>[0]</td>\n",
       "      <td>0.082451</td>\n",
       "      <td>0.082451</td>\n",
       "      <td>0.071104</td>\n",
       "      <td>212</td>\n",
       "      <td>115</td>\n",
       "      <td>0.648318</td>\n",
       "    </tr>\n",
       "    <tr>\n",
       "      <th>keyword__notice of motion</th>\n",
       "      <td>6</td>\n",
       "      <td>[0]</td>\n",
       "      <td>0.041856</td>\n",
       "      <td>0.041856</td>\n",
       "      <td>0.041856</td>\n",
       "      <td>127</td>\n",
       "      <td>39</td>\n",
       "      <td>0.765060</td>\n",
       "    </tr>\n",
       "    <tr>\n",
       "      <th>keyword__judgement</th>\n",
       "      <td>7</td>\n",
       "      <td>[0]</td>\n",
       "      <td>0.001009</td>\n",
       "      <td>0.001009</td>\n",
       "      <td>0.001009</td>\n",
       "      <td>0</td>\n",
       "      <td>4</td>\n",
       "      <td>0.000000</td>\n",
       "    </tr>\n",
       "    <tr>\n",
       "      <th>keyword__final pretrial conference</th>\n",
       "      <td>8</td>\n",
       "      <td>[0]</td>\n",
       "      <td>0.012355</td>\n",
       "      <td>0.012355</td>\n",
       "      <td>0.002017</td>\n",
       "      <td>49</td>\n",
       "      <td>0</td>\n",
       "      <td>1.000000</td>\n",
       "    </tr>\n",
       "    <tr>\n",
       "      <th>keyword__denying motion</th>\n",
       "      <td>9</td>\n",
       "      <td>[0]</td>\n",
       "      <td>0.000504</td>\n",
       "      <td>0.000504</td>\n",
       "      <td>0.000504</td>\n",
       "      <td>2</td>\n",
       "      <td>0</td>\n",
       "      <td>1.000000</td>\n",
       "    </tr>\n",
       "    <tr>\n",
       "      <th>lf_first_word_motion</th>\n",
       "      <td>10</td>\n",
       "      <td>[1]</td>\n",
       "      <td>0.727937</td>\n",
       "      <td>0.722138</td>\n",
       "      <td>0.027484</td>\n",
       "      <td>2874</td>\n",
       "      <td>13</td>\n",
       "      <td>0.995497</td>\n",
       "    </tr>\n",
       "    <tr>\n",
       "      <th>lf_motion_not_in_first_three_words</th>\n",
       "      <td>11</td>\n",
       "      <td>[0]</td>\n",
       "      <td>0.197680</td>\n",
       "      <td>0.184821</td>\n",
       "      <td>0.104639</td>\n",
       "      <td>763</td>\n",
       "      <td>21</td>\n",
       "      <td>0.973214</td>\n",
       "    </tr>\n",
       "    <tr>\n",
       "      <th>lf_motion_mentioned_later</th>\n",
       "      <td>12</td>\n",
       "      <td>[0]</td>\n",
       "      <td>0.172970</td>\n",
       "      <td>0.172214</td>\n",
       "      <td>0.105396</td>\n",
       "      <td>669</td>\n",
       "      <td>17</td>\n",
       "      <td>0.975219</td>\n",
       "    </tr>\n",
       "    <tr>\n",
       "      <th>lf_motion_early</th>\n",
       "      <td>13</td>\n",
       "      <td>[1]</td>\n",
       "      <td>0.664145</td>\n",
       "      <td>0.648260</td>\n",
       "      <td>0.029501</td>\n",
       "      <td>2562</td>\n",
       "      <td>72</td>\n",
       "      <td>0.972665</td>\n",
       "    </tr>\n",
       "  </tbody>\n",
       "</table>\n",
       "</div>"
      ],
      "text/plain": [
       "                                     j Polarity  Coverage  Overlaps  \\\n",
       "keyword__motion of                  0   [1]      0.005547  0.005547   \n",
       "keyword__motion to                  1   [1]      0.215582  0.214574   \n",
       "keyword__motion by                  2   [1]      0.601362  0.601362   \n",
       "keyword__motion (oral)              3   [1]      0.011599  0.011599   \n",
       "keyword__joint motion               4   [1]      0.022945  0.022693   \n",
       "keyword__notice                     5   [0]      0.082451  0.082451   \n",
       "keyword__notice of motion           6   [0]      0.041856  0.041856   \n",
       "keyword__judgement                  7   [0]      0.001009  0.001009   \n",
       "keyword__final pretrial conference  8   [0]      0.012355  0.012355   \n",
       "keyword__denying motion             9   [0]      0.000504  0.000504   \n",
       "lf_first_word_motion                10  [1]      0.727937  0.722138   \n",
       "lf_motion_not_in_first_three_words  11  [0]      0.197680  0.184821   \n",
       "lf_motion_mentioned_later           12  [0]      0.172970  0.172214   \n",
       "lf_motion_early                     13  [1]      0.664145  0.648260   \n",
       "\n",
       "                                    Conflicts  Correct  Incorrect  Emp. Acc.  \n",
       "keyword__motion of                  0.004034   4        18         0.181818   \n",
       "keyword__motion to                  0.072113   573      282        0.670175   \n",
       "keyword__motion by                  0.069844   2211     174        0.927044   \n",
       "keyword__motion (oral)              0.000000   46       0          1.000000   \n",
       "keyword__joint motion               0.001009   89       2          0.978022   \n",
       "keyword__notice                     0.071104   212      115        0.648318   \n",
       "keyword__notice of motion           0.041856   127      39         0.765060   \n",
       "keyword__judgement                  0.001009   0        4          0.000000   \n",
       "keyword__final pretrial conference  0.002017   49       0          1.000000   \n",
       "keyword__denying motion             0.000504   2        0          1.000000   \n",
       "lf_first_word_motion                0.027484   2874     13         0.995497   \n",
       "lf_motion_not_in_first_three_words  0.104639   763      21         0.973214   \n",
       "lf_motion_mentioned_later           0.105396   669      17         0.975219   \n",
       "lf_motion_early                     0.029501   2562     72         0.972665   "
      ]
     },
     "execution_count": 242,
     "metadata": {},
     "output_type": "execute_result"
    }
   ],
   "source": [
    "LFAnalysis(L=L_train, lfs=lfs).lf_summary(Y=df_train['motion'].to_numpy())"
   ]
  },
  {
   "cell_type": "code",
   "execution_count": 267,
   "metadata": {},
   "outputs": [
    {
     "data": {
      "text/plain": [
       "0.9987392839132627"
      ]
     },
     "execution_count": 267,
     "metadata": {},
     "output_type": "execute_result"
    }
   ],
   "source": [
    "LFAnalysis(L=L_train, lfs=lfs).label_coverage()"
   ]
  },
  {
   "cell_type": "markdown",
   "metadata": {},
   "source": [
    "Lots of statistics about labeling functions — like coverage — are useful when building any Snorkel application. So Snorkel provides tooling for common LF analyses using the LFAnalysis utility. We report the following summary statistics for multiple LFs at once:\n",
    "\n",
    "* Polarity: The set of unique labels this LF outputs (excluding abstains)\n",
    "* Coverage: The fraction of the dataset the LF labels\n",
    "* Overlaps: The fraction of the dataset where this LF and at least one other LF label\n",
    "* Conflicts: The fraction of the dataset where this LF and at least one other LF label and disagree\n",
    "* Correct: The number of data points this LF labels correctly (if gold labels are provided)\n",
    "* Incorrect: The number of data points this LF labels incorrectly (if gold labels are provided)\n",
    "* Empirical Accuracy: The empirical accuracy of this LF (if gold labels are provided)"
   ]
  },
  {
   "cell_type": "markdown",
   "metadata": {},
   "source": [
    "We see that our labeling functions vary in coverage, how much they overlap/conflict with one another, and almost certainly their accuracies as well. We can view a histogram of how many LF labels the data points in our train set have to get an idea of our total coverage."
   ]
  },
  {
   "cell_type": "code",
   "execution_count": 243,
   "metadata": {},
   "outputs": [
    {
     "data": {
      "image/png": "[encoded data removed]",
      "text/plain": [
       "<Figure size 432x288 with 1 Axes>"
      ]
     },
     "metadata": {
      "needs_background": "light"
     },
     "output_type": "display_data"
    }
   ],
   "source": [
    "import matplotlib.pyplot as plt\n",
    "\n",
    "%matplotlib inline\n",
    "\n",
    "\n",
    "def plot_label_frequency(L):\n",
    "    plt.hist((L != ABSTAIN).sum(axis=1), density=True, bins=range(L.shape[1]))\n",
    "    plt.xlabel(\"Number of labels\")\n",
    "    plt.ylabel(\"Fraction of dataset\")\n",
    "    plt.show()\n",
    "\n",
    "\n",
    "plot_label_frequency(L_train)"
   ]
  },
  {
   "cell_type": "markdown",
   "metadata": {},
   "source": [
    "We see that over less than 1/10 of our `train` dataset data points have 0 or fewer labels from LFs. The labels we do have can be used to train a classifier over the comment text directly, allowing this final machine learning model to generalize beyond what our labeling functions labeling.\n",
    "\n",
    "Our goal is now to convert the labels from our LFs into a single noise-aware probabilistic (or confidence-weighted) label per data point. \n",
    "\n",
    "A simple baseline for doing this is to take the majority vote on a per-data point basis: if more LFs voted MOTION than NOT_MOTION, label it MOTION (and vice versa). We can test this with the `MajorityLabelVoter` baseline model."
   ]
  },
  {
   "cell_type": "code",
   "execution_count": 244,
   "metadata": {},
   "outputs": [],
   "source": [
    "majority_model = MajorityLabelVoter()\n",
    "preds_train_majority_model = majority_model.predict(L=L_train)"
   ]
  },
  {
   "cell_type": "code",
   "execution_count": 245,
   "metadata": {},
   "outputs": [
    {
     "name": "stderr",
     "output_type": "stream",
     "text": [
      "INFO:root:Computing O...\n",
      "INFO:root:Estimating \\mu...\n",
      "  0%|          | 0/500 [00:00<?, ?epoch/s]INFO:root:[0 epochs]: TRAIN:[loss=1.101]\n",
      "INFO:root:[100 epochs]: TRAIN:[loss=0.012]\n",
      "INFO:root:[200 epochs]: TRAIN:[loss=0.012]\n",
      " 44%|████▎     | 218/500 [00:00<00:00, 2176.93epoch/s]INFO:root:[300 epochs]: TRAIN:[loss=0.012]\n",
      "INFO:root:[400 epochs]: TRAIN:[loss=0.012]\n",
      "100%|██████████| 500/500 [00:00<00:00, 2420.06epoch/s]\n",
      "INFO:root:Finished Training\n"
     ]
    }
   ],
   "source": [
    "label_model = LabelModel(cardinality=2, device='cpu', verbose=True)\n",
    "label_model.fit(L_train=L_train, n_epochs=500, log_freq=100, seed=123)"
   ]
  },
  {
   "cell_type": "code",
   "execution_count": 246,
   "metadata": {},
   "outputs": [],
   "source": [
    "preds_train_label_model = label_model.predict(L=L_train)"
   ]
  },
  {
   "cell_type": "markdown",
   "metadata": {},
   "source": [
    "**Train accuracy**"
   ]
  },
  {
   "cell_type": "code",
   "execution_count": 247,
   "metadata": {},
   "outputs": [
    {
     "name": "stdout",
     "output_type": "stream",
     "text": [
      "Majority Vote Accuracy:   97.9%\n",
      "Label Model Accuracy:     93.4%\n"
     ]
    }
   ],
   "source": [
    "majority_acc = majority_model.score(L=L_train, Y=df_train.motion, tie_break_policy=\"random\")[\n",
    "    \"accuracy\"\n",
    "]\n",
    "print(f\"{'Majority Vote Accuracy:':<25} {majority_acc * 100:.1f}%\")\n",
    "\n",
    "label_model_acc = label_model.score(L=L_train, Y=df_train.motion, tie_break_policy=\"random\")[\n",
    "    \"accuracy\"\n",
    "]\n",
    "print(f\"{'Label Model Accuracy:':<25} {label_model_acc * 100:.1f}%\")"
   ]
  },
  {
   "cell_type": "markdown",
   "metadata": {},
   "source": [
    "**Val accuracy**"
   ]
  },
  {
   "cell_type": "code",
   "execution_count": 248,
   "metadata": {},
   "outputs": [
    {
     "name": "stdout",
     "output_type": "stream",
     "text": [
      "Majority Vote Accuracy:   98.1%\n",
      "Label Model Accuracy:     94.0%\n"
     ]
    }
   ],
   "source": [
    "majority_acc = majority_model.score(L=L_val, Y=df_val.motion, tie_break_policy=\"random\")[\n",
    "    \"accuracy\"\n",
    "]\n",
    "print(f\"{'Majority Vote Accuracy:':<25} {majority_acc * 100:.1f}%\")\n",
    "\n",
    "label_model_acc = label_model.score(L=L_val, Y=df_val.motion, tie_break_policy=\"random\")[\n",
    "    \"accuracy\"\n",
    "]\n",
    "print(f\"{'Label Model Accuracy:':<25} {label_model_acc * 100:.1f}%\")"
   ]
  },
  {
   "cell_type": "markdown",
   "metadata": {},
   "source": [
    "**Test accuracy**"
   ]
  },
  {
   "cell_type": "code",
   "execution_count": 249,
   "metadata": {},
   "outputs": [
    {
     "name": "stdout",
     "output_type": "stream",
     "text": [
      "Majority Vote Accuracy:   97.4%\n",
      "Label Model Accuracy:     93.0%\n"
     ]
    }
   ],
   "source": [
    "majority_acc = majority_model.score(L=L_test, Y=df_test.motion, tie_break_policy=\"random\")[\n",
    "    \"accuracy\"\n",
    "]\n",
    "print(f\"{'Majority Vote Accuracy:':<25} {majority_acc * 100:.1f}%\")\n",
    "\n",
    "label_model_acc = label_model.score(L=L_test, Y=df_test.motion, tie_break_policy=\"random\")[\n",
    "    \"accuracy\"\n",
    "]\n",
    "print(f\"{'Label Model Accuracy:':<25} {label_model_acc * 100:.1f}%\")"
   ]
  },
  {
   "cell_type": "code",
   "execution_count": 251,
   "metadata": {},
   "outputs": [
    {
     "data": {
      "image/png": "[encoded data removed]",
      "text/plain": [
       "<Figure size 432x288 with 1 Axes>"
      ]
     },
     "metadata": {
      "needs_background": "light"
     },
     "output_type": "display_data"
    }
   ],
   "source": [
    "def plot_probabilities_histogram(Y):\n",
    "    plt.hist(Y, bins=10)\n",
    "    plt.xlabel(\"Probability of MOTION\")\n",
    "    plt.ylabel(\"Number of data points\")\n",
    "    plt.show()\n",
    "\n",
    "\n",
    "probs_train = label_model.predict_proba(L=L_train)\n",
    "plot_probabilities_histogram(probs_train[:, MOTION])"
   ]
  },
  {
   "cell_type": "code",
   "execution_count": 252,
   "metadata": {},
   "outputs": [
    {
     "data": {
      "image/png": "[encoded data removed]",
      "text/plain": [
       "<Figure size 432x288 with 1 Axes>"
      ]
     },
     "metadata": {
      "needs_background": "light"
     },
     "output_type": "display_data"
    }
   ],
   "source": [
    "def plot_probabilities_histogram(Y):\n",
    "    plt.hist(Y, bins=10)\n",
    "    plt.xlabel(\"Probability of NOT MOTION\")\n",
    "    plt.ylabel(\"Number of data points\")\n",
    "    plt.show()\n",
    "\n",
    "\n",
    "probs_train = label_model.predict_proba(L=L_train)\n",
    "plot_probabilities_histogram(probs_train[:, NOT_MOTION])"
   ]
  },
  {
   "cell_type": "code",
   "execution_count": 259,
   "metadata": {},
   "outputs": [],
   "source": [
    "from snorkel.labeling import filter_unlabeled_dataframe\n",
    "\n",
    "df_train_filtered, probs_train_filtered = filter_unlabeled_dataframe(\n",
    "    X=df_train, y=probs_train, L=L_train\n",
    ")"
   ]
  },
  {
   "cell_type": "code",
   "execution_count": 260,
   "metadata": {},
   "outputs": [
    {
     "data": {
      "text/html": [
       "<div>\n",
       "<style scoped>\n",
       "    .dataframe tbody tr th:only-of-type {\n",
       "        vertical-align: middle;\n",
       "    }\n",
       "\n",
       "    .dataframe tbody tr th {\n",
       "        vertical-align: top;\n",
       "    }\n",
       "\n",
       "    .dataframe thead th {\n",
       "        text-align: right;\n",
       "    }\n",
       "</style>\n",
       "<table border=\"1\" class=\"dataframe\">\n",
       "  <thead>\n",
       "    <tr style=\"text-align: right;\">\n",
       "      <th></th>\n",
       "      <th>docket_entry_id</th>\n",
       "      <th>motion</th>\n",
       "      <th>text</th>\n",
       "    </tr>\n",
       "  </thead>\n",
       "  <tbody>\n",
       "    <tr>\n",
       "      <th>5418</th>\n",
       "      <td>13765</td>\n",
       "      <td>1</td>\n",
       "      <td>Joint MOTION for Attorney Fees  by Defendant Commissioner of Social Security. (Attachments: # 1 Exhibit Proposed Order)(Neltner, Andrew) (Entered: 06/06/2018)</td>\n",
       "    </tr>\n",
       "    <tr>\n",
       "      <th>6298</th>\n",
       "      <td>11928</td>\n",
       "      <td>1</td>\n",
       "      <td>MOTION to Continue Trial by Carlos Maez. (Lenyo, Mark) (Entered: 01/16/2018)</td>\n",
       "    </tr>\n",
       "    <tr>\n",
       "      <th>5352</th>\n",
       "      <td>9878</td>\n",
       "      <td>1</td>\n",
       "      <td>MOTION by Defendant ValuePart, Inc. for reconsideration regarding order on motion to strike, order on motion to dismiss, order on motion to transfer case, terminate hearings, motion hearing,,,,,,,,,, 39 Motion to Reconsider the Denial of Defendant's Motion to Transfer to Magistrate Judge Keys (Attachments: # 1 Exhibit)(McIntyre, Maura) (Entered: 05/07/2010)</td>\n",
       "    </tr>\n",
       "    <tr>\n",
       "      <th>1397</th>\n",
       "      <td>7325</td>\n",
       "      <td>1</td>\n",
       "      <td>MOTION by Defendant Amazon.Com, Inc. for extension of time to file answer regarding amended complaint 9  (Balfour, Ronald) (Entered: 03/02/2017)</td>\n",
       "    </tr>\n",
       "    <tr>\n",
       "      <th>5062</th>\n",
       "      <td>7000</td>\n",
       "      <td>1</td>\n",
       "      <td>MOTION by James M Vani for judgment of acquittal  (Beal, John) (Entered: 04/26/2014)</td>\n",
       "    </tr>\n",
       "    <tr>\n",
       "      <th>...</th>\n",
       "      <td>...</td>\n",
       "      <td>...</td>\n",
       "      <td>...</td>\n",
       "    </tr>\n",
       "    <tr>\n",
       "      <th>2141</th>\n",
       "      <td>11323</td>\n",
       "      <td>1</td>\n",
       "      <td>Joint MOTION for Extension of Time to File Response/Reply as to 46 MOTION for Summary Judgment , 48 RULE 56 MOTION to Strike (Motion to Exclude Expert Opinions of Trevor Suslow), 44 MOTION for Summary Judgment   by Counter Defendant Keystone Logistics Inc, Plaintiff Keystone Logistics Inc. (Fullenkamp, Joseph) (Entered: 01/10/2018)</td>\n",
       "    </tr>\n",
       "    <tr>\n",
       "      <th>6922</th>\n",
       "      <td>2446</td>\n",
       "      <td>1</td>\n",
       "      <td>MOTION by Defendants Clay, Cook County, Salvador Godinez, Jones, Morrison, Price to substitute attorney Kevin Frey, MOTION by counsel for Defendants Clay, Cook County, Salvador Godinez, Jones, Morrison, Price to withdraw as attorney Patrick Smith (Smith, Patrick) (Entered: 07/22/2011)</td>\n",
       "    </tr>\n",
       "    <tr>\n",
       "      <th>2294</th>\n",
       "      <td>14156</td>\n",
       "      <td>1</td>\n",
       "      <td>MOTION for Extension of Time to File Response/Reply as to 98 MOTION for Attorney Fees   by Defendants Parkview Health System Inc, Parkview Hospital Inc, Roy Robertson. (Hardman, Lyle) (Entered: 05/30/2019)</td>\n",
       "    </tr>\n",
       "    <tr>\n",
       "      <th>3532</th>\n",
       "      <td>9476</td>\n",
       "      <td>1</td>\n",
       "      <td>MOTION by Defendant City Of Chicago to dismiss  Under Rule 12(B)(6) (Schaller, Rachel) (Entered: 08/17/2018)</td>\n",
       "    </tr>\n",
       "    <tr>\n",
       "      <th>4987</th>\n",
       "      <td>5859</td>\n",
       "      <td>1</td>\n",
       "      <td>MOTION by Plaintiff U.S. Bank National Association for order approving report of sale and distribution, confirming sale and order of possession (Attachments: # 1 Exhibit Report of Sale and Distribution)(Adams, Megan) (Entered: 05/22/2014)</td>\n",
       "    </tr>\n",
       "  </tbody>\n",
       "</table>\n",
       "<p>3961 rows × 3 columns</p>\n",
       "</div>"
      ],
      "text/plain": [
       "      docket_entry_id  motion  \\\n",
       "5418  13765            1        \n",
       "6298  11928            1        \n",
       "5352  9878             1        \n",
       "1397  7325             1        \n",
       "5062  7000             1        \n",
       "...    ...            ..        \n",
       "2141  11323            1        \n",
       "6922  2446             1        \n",
       "2294  14156            1        \n",
       "3532  9476             1        \n",
       "4987  5859             1        \n",
       "\n",
       "                                                                                                                                                                                                                                                                                                                                                                         text  \n",
       "5418  Joint MOTION for Attorney Fees  by Defendant Commissioner of Social Security. (Attachments: # 1 Exhibit Proposed Order)(Neltner, Andrew) (Entered: 06/06/2018)                                                                                                                                                                                                           \n",
       "6298   MOTION to Continue Trial by Carlos Maez. (Lenyo, Mark) (Entered: 01/16/2018)                                                                                                                                                                                                                                                                                            \n",
       "5352  MOTION by Defendant ValuePart, Inc. for reconsideration regarding order on motion to strike, order on motion to dismiss, order on motion to transfer case, terminate hearings, motion hearing,,,,,,,,,, 39 Motion to Reconsider the Denial of Defendant's Motion to Transfer to Magistrate Judge Keys (Attachments: # 1 Exhibit)(McIntyre, Maura) (Entered: 05/07/2010)  \n",
       "1397  MOTION by Defendant Amazon.Com, Inc. for extension of time to file answer regarding amended complaint 9  (Balfour, Ronald) (Entered: 03/02/2017)                                                                                                                                                                                                                         \n",
       "5062  MOTION by James M Vani for judgment of acquittal  (Beal, John) (Entered: 04/26/2014)                                                                                                                                                                                                                                                                                     \n",
       "...                                                                                    ...                                                                                                                                                                                                                                                                                     \n",
       "2141  Joint MOTION for Extension of Time to File Response/Reply as to 46 MOTION for Summary Judgment , 48 RULE 56 MOTION to Strike (Motion to Exclude Expert Opinions of Trevor Suslow), 44 MOTION for Summary Judgment   by Counter Defendant Keystone Logistics Inc, Plaintiff Keystone Logistics Inc. (Fullenkamp, Joseph) (Entered: 01/10/2018)                            \n",
       "6922  MOTION by Defendants Clay, Cook County, Salvador Godinez, Jones, Morrison, Price to substitute attorney Kevin Frey, MOTION by counsel for Defendants Clay, Cook County, Salvador Godinez, Jones, Morrison, Price to withdraw as attorney Patrick Smith (Smith, Patrick) (Entered: 07/22/2011)                                                                            \n",
       "2294   MOTION for Extension of Time to File Response/Reply as to 98 MOTION for Attorney Fees   by Defendants Parkview Health System Inc, Parkview Hospital Inc, Roy Robertson. (Hardman, Lyle) (Entered: 05/30/2019)                                                                                                                                                           \n",
       "3532  MOTION by Defendant City Of Chicago to dismiss  Under Rule 12(B)(6) (Schaller, Rachel) (Entered: 08/17/2018)                                                                                                                                                                                                                                                             \n",
       "4987  MOTION by Plaintiff U.S. Bank National Association for order approving report of sale and distribution, confirming sale and order of possession (Attachments: # 1 Exhibit Report of Sale and Distribution)(Adams, Megan) (Entered: 05/22/2014)                                                                                                                           \n",
       "\n",
       "[3961 rows x 3 columns]"
      ]
     },
     "execution_count": 260,
     "metadata": {},
     "output_type": "execute_result"
    }
   ],
   "source": [
    "df_train_filtered"
   ]
  },
  {
   "cell_type": "code",
   "execution_count": 261,
   "metadata": {},
   "outputs": [],
   "source": [
    "from sklearn.feature_extraction.text import CountVectorizer\n",
    "\n",
    "vectorizer = CountVectorizer(ngram_range=(1, 5))\n",
    "X_train = vectorizer.fit_transform(df_train_filtered.text.tolist())\n",
    "X_test = vectorizer.transform(df_test.text.tolist())"
   ]
  },
  {
   "cell_type": "code",
   "execution_count": 262,
   "metadata": {},
   "outputs": [],
   "source": [
    "from snorkel.utils import probs_to_preds\n",
    "\n",
    "preds_train_filtered = probs_to_preds(probs=probs_train_filtered)"
   ]
  },
  {
   "cell_type": "code",
   "execution_count": 263,
   "metadata": {},
   "outputs": [
    {
     "data": {
      "text/plain": [
       "LogisticRegression(C=1000.0, solver='liblinear')"
      ]
     },
     "execution_count": 263,
     "metadata": {},
     "output_type": "execute_result"
    }
   ],
   "source": [
    "from sklearn.linear_model import LogisticRegression\n",
    "\n",
    "sklearn_model = LogisticRegression(C=1e3, solver=\"liblinear\")\n",
    "sklearn_model.fit(X=X_train, y=preds_train_filtered)"
   ]
  },
  {
   "cell_type": "code",
   "execution_count": 264,
   "metadata": {},
   "outputs": [
    {
     "name": "stdout",
     "output_type": "stream",
     "text": [
      "Test Accuracy: 92.8%\n"
     ]
    }
   ],
   "source": [
    "print(f\"Test Accuracy: {sklearn_model.score(X=X_test, y=df_test.motion) * 100:.1f}%\")"
   ]
  }
 ],
 "metadata": {
  "kernelspec": {
   "display_name": "Python 3",
   "language": "python",
   "name": "python3"
  },
  "language_info": {
   "codemirror_mode": {
    "name": "ipython",
    "version": 3
   },
   "file_extension": ".py",
   "mimetype": "text/x-python",
   "name": "python",
   "nbconvert_exporter": "python",
   "pygments_lexer": "ipython3",
   "version": "3.8.5"
  }
 },
 "nbformat": 4,
 "nbformat_minor": 4
}
