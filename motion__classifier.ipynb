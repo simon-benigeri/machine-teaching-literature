{
 "cells": [
  {
   "cell_type": "markdown",
   "metadata": {},
   "source": [
    "# 🚀 Motion Classifier Tutorial: Data Labeling with Snorkel"
   ]
  },
  {
   "cell_type": "markdown",
   "metadata": {},
   "source": [
    "In this tutorial, we will walk through the process of using Snorkel to build a training set for classifying court docket entries as MOTION or NOT MOTION.\n",
    "\n",
    "Resources:\n",
    "* For an overview of Snorkel, visit [snorkel.org](https://snorkel.org)\n",
    "* You can also check out the [Snorkel API documentation](https://snorkel.readthedocs.io/)\n",
    "* For some real-world applications, check out [Snorkel Applications](https://www.snorkel.org/resources/)\n",
    "* Why does this work? See [Data Programming: Creating Large Training Sets, Quickly](https://arxiv.org/abs/1605.07723)\n",
    "* Snorkel paper: [Snorkel: Rapid Training Data Creation with Weak Supervision](https://arxiv.org/abs/1711.10160)\n",
    "\n",
    "The goal of this tutorial is to illustrate some basic components and concepts of Snorkel in a simple way, but also to dive into a process of iteratively developing a text classifier in Snorkel.\n",
    "\n",
    "**The goal of this research is to design an interaction for a non-technical, domain expert to quickly label a dataset.**\n",
    "\n",
    "To achieve this goal, we start with a basic task: *binary text classification* of court docket entries as MOTION or NOT MOTION.\n",
    "\n",
    "We have access to a large amount of *unlabeled data* (about 1 300 000 samples) in the form of court docket entries with some metadata. We also have access to about *7000 labeled samples*.\n",
    "\n",
    "In order to train a classifier, we need to label our data, but doing so by hand for real world applications can often be prohibitively slow and expensive.\n",
    "\n",
    "In these cases, we can turn to a _weak supervision_ approach, using **_labeling functions (LFs)_** in Snorkel: noisy, programmatic rules and heuristics that assign labels to unlabeled training data.\n",
    "\n",
    "We'll dive into the Snorkel API and how we write labeling functions later in this tutorial, but as an example, we can write an LF that labels data points with `\"MOTION to\"` in the docket entry text as MOTION since many motions contain `\"MOTION to\"`:\n",
    "\n",
    "```python\n",
    "from snorkel.labeling import labeling_function\n",
    "\n",
    "@labeling_function()\n",
    "def lf_contains_link(x):\n",
    "    # Return a label of MOTION if \"MOTION to\" in comment text, otherwise ABSTAIN\n",
    "    return MOTION if \"motion to\" in x.text.lower() else ABSTAIN\n",
    "```\n",
    "\n",
    "The tutorial is divided into four parts:\n",
    "1. **Loading Data**: We load a US courts docket entries dataset, originally used in [\"From data to information: automating data science to explore the U.S. court system\"](https://dl.acm.org/doi/abs/10.1145/3462757.3466100).\n",
    "\n",
    "2. **Writing Labeling Functions**: We write Python programs that take as input a data point and assign labels (or abstain) using heuristics, pattern matching, and third-party models.\n",
    "\n",
    "3. **Combining Labeling Function Outputs with the Label Model**: We model the outputs of the labeling functions over the training set using a Snorkel's, theoretically-grounded modeling approach, [\"Data Programming:\n",
    "Creating Large Training Sets, Quickly\"](https://arxiv.org/abs/1605.07723), which estimates the accuracies and correlations of the labeling functions using only their agreements and disagreements, and then uses this to reweight and combine their outputs, which we then use as _probabilistic_ training labels.\n",
    "\n",
    "4. **Training a Classifier**: We train a classifier that can predict labels for *any* court docket entry (not just the ones labeled by the labeling functions) using the probabilistic training labels from step 3.\n",
    "\n",
    "In future work, we'll consider *multiclass text classification* of court docket entries as MOTION type. Multiclass text classication is an important problem to work on because we need to define a process that is robust to *concept drift*. The set of classes could expand or change over time, and we do not want to start the labeling process from scratch.\n",
    "\n",
    "**Note that this process requires programming, but out target user is not technical.**\n",
    "\n",
    "If we are successful in these text classification tasks, we will consider  solutions to help non-technical workers label the data without programming themselves. Solutions include:\n",
    "1. Function building interfaces, as seen on Snorkel Flow.\n",
    "2. Distant supervision: leveraging external knowledge bases. \n",
    "3. Mapping natural language inputs to labeling functions. We can use the [BabbleLabbleFramework](https://github.com/HazyResearch/babble) to parse Snorkel Labeling Functions\n",
    "\n",
    "<img src=\"Image/BabbleLabble.png\" width=\"25%\"/>\n",
    "\n",
    "4. Interfaces/systems where users can provide annotations, which are then converted to labeling functions. An example of such a technology is [Ruler: Data Programming by Demonstration for Document Labeling](https://aclanthology.org/2020.findings-emnlp.181/)\n",
    "\n",
    "<img src=\"Image/Ruler__Labeling_Interaction.png\" alt=\"drawing\" width=\"25%\"/>\n",
    "\n",
    "We are also interested in optimizations of the interaction between the user and the system. An example is given by [Ruler: Data Programming by Demonstration for Document Labeling](https://aclanthology.org/2020.findings-emnlp.181/) below:\n",
    "\n",
    "<img src=\"Image/Ruler__DPBD.png\" width=\"25%\"/>\n",
    "\n",
    "Some other important questions, raised by [Mallinar et al. 2019](https://arxiv.org/pdf/1812.06176.pdf):\n",
    "1. How do we provide guidance to users to create effective labeling functions? From [Mallinar et al. 2019](https://arxiv.org/pdf/1812.06176.pdf), users desire guidance on how to optimize for precision, coverage, and bias between positive/negative examples in creating functions.\n",
    "2. How do we support data exploration? Users may be domain experts, but that does not mean they are familiar with the corpus.\n",
    "3. How do we provide fast feedback and progress tracking? Users desire to see how each query or labeling function impacts the results with immediate feedback. The feedback can help users actively adjust the labeling functions they provided. Systems that require training on many classes stress the need to know when it's time to move on to a diferent class.\n",
    "4. How do we support evolving classes? (A framework like Snorkel can do this.)\n",
    "\n",
    "Other questions:\n",
    "1. How do we minimize the number of samples the user has to see or label?\n",
    "2. Can we use active learning, uncertainty sampling, or other techniques to surface *valuable examples*? [Active WeaSuL: Improving Weak Supervision with Active Learning](https://github.com/SamanthaBiegel/ActiveWeaSuL) provides some ideas on this.\n",
    "3. Can a system learn or define heuristics for data labeling? For instance in [Interactive Weak Supervision: Learning Useful Heuristics for Data Labeling](https://github.com/benbo/interactive-weak-supervision)\n",
    "\n",
    "<img src=\"Image/Interactive_weak_supervision.png\" width=\"50%\"/>\n",
    "\n",
    "Note: For 3. how do we come up with the LF function family? Can it come from [Reef](https://github.com/HazyResearch/reef)? "
   ]
  },
  {
   "cell_type": "markdown",
   "metadata": {},
   "source": [
    "# The code starts here"
   ]
  },
  {
   "cell_type": "markdown",
   "metadata": {},
   "source": [
    "## Imports"
   ]
  },
  {
   "cell_type": "code",
   "execution_count": 1,
   "metadata": {},
   "outputs": [],
   "source": [
    "import re\n",
    "import numpy as np\n",
    "import pandas as pd\n",
    "\n",
    "import metal\n",
    "import snorkel\n",
    "from snorkel.labeling import labeling_function, LabelingFunction, PandasLFApplier, LFAnalysis\n",
    "from snorkel.labeling.model.label_model import LabelModel\n",
    "from snorkel.labeling.model.baselines import MajorityClassVoter\n",
    "from snorkel.labeling.model.baselines import MajorityLabelVoter\n",
    "\n",
    "import spacy\n",
    "from spacy import displacy\n",
    "from spacy.lang.en import English\n",
    "\n",
    "from sklearn.model_selection import train_test_split"
   ]
  },
  {
   "cell_type": "markdown",
   "metadata": {},
   "source": [
    "Set `DISPLAY_FULL_TEXT` to `True` if you want to see the full docket entry texts."
   ]
  },
  {
   "cell_type": "code",
   "execution_count": 2,
   "metadata": {},
   "outputs": [],
   "source": [
    "DISPLAY_FULL_TEXT = True\n",
    "pd.set_option('display.max_colwidth', 0 if DISPLAY_FULL_TEXT else 50)"
   ]
  },
  {
   "cell_type": "markdown",
   "metadata": {},
   "source": [
    "## 1. Loading Data"
   ]
  },
  {
   "cell_type": "code",
   "execution_count": 3,
   "metadata": {},
   "outputs": [],
   "source": [
    "data_dir = 'datasets/court_docket_entries'"
   ]
  },
  {
   "cell_type": "markdown",
   "metadata": {},
   "source": [
    "We have 5 files:\n",
    "1. `motionEntries.csv`: 1 300 000 docket entries, almost all unlabeled, with `text` and `id`\n",
    "2. `tags.csv`: a mapping from `tag_id` to `label`, which is `motion class`\n",
    "3. `thingy.csv`: looks like we can ignore this\n",
    "4. `users.csv`: the annotators\n",
    "5. `usertags`: 7 000 annotations for the docket entries with `docket_entry_id` and `tag_id`"
   ]
  },
  {
   "cell_type": "code",
   "execution_count": 4,
   "metadata": {},
   "outputs": [],
   "source": [
    "# thingy = pd.read_csv(f\"{data_dir}/thingy.csv\")\n",
    "# users = pd.read_csv(f\"{data_dir}/users.csv\")"
   ]
  },
  {
   "cell_type": "markdown",
   "metadata": {},
   "source": [
    "We load the data from `motionEntries.csv`, `tags.csv`, and `usertags.csv`, rename some columns, and merge the data into one dataframe."
   ]
  },
  {
   "cell_type": "code",
   "execution_count": 5,
   "metadata": {},
   "outputs": [],
   "source": [
    "entries = pd.read_csv(f\"{data_dir}/motionEntries.csv\")\n",
    "entries_columns = ['id', 'text', 'case_id', 'sealed', 'jurisdiction']\n",
    "entries = entries[entries_columns].rename(columns={\"id\": \"docket_entry_id\"})"
   ]
  },
  {
   "cell_type": "code",
   "execution_count": 6,
   "metadata": {},
   "outputs": [
    {
     "name": "stdout",
     "output_type": "stream",
     "text": [
      "We have 1377516 docket entries\n"
     ]
    }
   ],
   "source": [
    "print(f\"We have {entries.shape[0]} docket entries\")"
   ]
  },
  {
   "cell_type": "code",
   "execution_count": 7,
   "metadata": {},
   "outputs": [],
   "source": [
    "tags = pd.read_csv(f\"{data_dir}/tags.csv\")\n",
    "# tags_columns = ['id', 'label', 'count']\n",
    "tags_columns = ['id', 'label']\n",
    "tags = tags[tags_columns].rename(columns={'id': 'tag_id'})\n",
    "tags['motion'] = tags['tag_id'].apply(lambda x: int(x not in [26, 28]))"
   ]
  },
  {
   "cell_type": "code",
   "execution_count": 8,
   "metadata": {},
   "outputs": [],
   "source": [
    "usertags = pd.read_csv(f\"{data_dir}/usertags.csv\")\n",
    "usertags_columns = ['id', 'docket_entry_id', 'tag_id']\n",
    "usertags = usertags[usertags_columns].rename(columns={'id': 'usertags_id'})"
   ]
  },
  {
   "cell_type": "code",
   "execution_count": 9,
   "metadata": {},
   "outputs": [
    {
     "name": "stdout",
     "output_type": "stream",
     "text": [
      "We have 7990 labeled docket entries\n"
     ]
    }
   ],
   "source": [
    "print(f\"We have {usertags.shape[0]} labeled docket entries\")"
   ]
  },
  {
   "cell_type": "markdown",
   "metadata": {},
   "source": [
    "We merge the dataframes to get the text and motion label for each docket entry. Also, we remove the samples with label 'SKIP' because we don't know what to do with them."
   ]
  },
  {
   "cell_type": "code",
   "execution_count": 10,
   "metadata": {},
   "outputs": [
    {
     "name": "stdout",
     "output_type": "stream",
     "text": [
      "We have 6610 labeled docket entries when we remove SKIP.\n"
     ]
    }
   ],
   "source": [
    "labels = pd.merge(usertags, tags, on='tag_id')\n",
    "labeled_motions = pd.merge(labels, entries, on='docket_entry_id')\n",
    "labeled_motions = labeled_motions[labeled_motions['label'] != 'SKIP']\n",
    "print(f\"We have {labeled_motions.shape[0]} labeled docket entries when we remove SKIP.\")"
   ]
  },
  {
   "cell_type": "markdown",
   "metadata": {},
   "source": [
    "Let's now create our dataset of labeled functions. We have 6610 samples if we remove the docket entries with label 'SKIP'."
   ]
  },
  {
   "cell_type": "code",
   "execution_count": 11,
   "metadata": {},
   "outputs": [],
   "source": [
    "keep_columns = ['docket_entry_id', 'motion', 'text']\n",
    "lf_set = labeled_motions[keep_columns]"
   ]
  },
  {
   "cell_type": "code",
   "execution_count": 12,
   "metadata": {},
   "outputs": [
    {
     "data": {
      "text/html": [
       "<div>\n",
       "<style scoped>\n",
       "    .dataframe tbody tr th:only-of-type {\n",
       "        vertical-align: middle;\n",
       "    }\n",
       "\n",
       "    .dataframe tbody tr th {\n",
       "        vertical-align: top;\n",
       "    }\n",
       "\n",
       "    .dataframe thead th {\n",
       "        text-align: right;\n",
       "    }\n",
       "</style>\n",
       "<table border=\"1\" class=\"dataframe\">\n",
       "  <thead>\n",
       "    <tr style=\"text-align: right;\">\n",
       "      <th></th>\n",
       "      <th>docket_entry_id</th>\n",
       "      <th>motion</th>\n",
       "      <th>text</th>\n",
       "    </tr>\n",
       "  </thead>\n",
       "  <tbody>\n",
       "    <tr>\n",
       "      <th>1</th>\n",
       "      <td>3112</td>\n",
       "      <td>1</td>\n",
       "      <td>MOTION (Oral) by USA for excludable time from 9/18/07 through and including 10/04/07 pursuant to 18 USC 3161(h)(1) &amp; (h)((1)(F) as to Demario Flemming (jmm-r, ) (Entered: 09/20/2007)</td>\n",
       "    </tr>\n",
       "    <tr>\n",
       "      <th>4</th>\n",
       "      <td>9574</td>\n",
       "      <td>0</td>\n",
       "      <td>DECLARATION of Aref Abdellatif regarding order on motion to compel,,,,,,, text entry,,,,,, 186  (Schaller, Rachel) (Entered: 08/19/2019)</td>\n",
       "    </tr>\n",
       "    <tr>\n",
       "      <th>5</th>\n",
       "      <td>9574</td>\n",
       "      <td>0</td>\n",
       "      <td>DECLARATION of Aref Abdellatif regarding order on motion to compel,,,,,,, text entry,,,,,, 186  (Schaller, Rachel) (Entered: 08/19/2019)</td>\n",
       "    </tr>\n",
       "    <tr>\n",
       "      <th>9</th>\n",
       "      <td>4068</td>\n",
       "      <td>1</td>\n",
       "      <td>MOTION by Tori Frederick DEFENDANT'S MOTION FOR PRETRIAL RELEASE (Rodriguez, Sergio) (Entered: 02/15/2008)</td>\n",
       "    </tr>\n",
       "    <tr>\n",
       "      <th>11</th>\n",
       "      <td>833</td>\n",
       "      <td>1</td>\n",
       "      <td>(Unopposed) NOTICE of Motion by Kathryn Ann Kelly for presentment of motion for leave to file excess pages 44 before Honorable M. David Weisman on 10/26/2017 at 09:15 AM. (Kelly, Kathryn) (Entered: 10/23/2017)</td>\n",
       "    </tr>\n",
       "  </tbody>\n",
       "</table>\n",
       "</div>"
      ],
      "text/plain": [
       "    docket_entry_id  motion  \\\n",
       "1   3112             1        \n",
       "4   9574             0        \n",
       "5   9574             0        \n",
       "9   4068             1        \n",
       "11  833              1        \n",
       "\n",
       "                                                                                                                                                                                                                  text  \n",
       "1   MOTION (Oral) by USA for excludable time from 9/18/07 through and including 10/04/07 pursuant to 18 USC 3161(h)(1) & (h)((1)(F) as to Demario Flemming (jmm-r, ) (Entered: 09/20/2007)                              \n",
       "4   DECLARATION of Aref Abdellatif regarding order on motion to compel,,,,,,, text entry,,,,,, 186  (Schaller, Rachel) (Entered: 08/19/2019)                                                                            \n",
       "5   DECLARATION of Aref Abdellatif regarding order on motion to compel,,,,,,, text entry,,,,,, 186  (Schaller, Rachel) (Entered: 08/19/2019)                                                                            \n",
       "9   MOTION by Tori Frederick DEFENDANT'S MOTION FOR PRETRIAL RELEASE (Rodriguez, Sergio) (Entered: 02/15/2008)                                                                                                          \n",
       "11   (Unopposed) NOTICE of Motion by Kathryn Ann Kelly for presentment of motion for leave to file excess pages 44 before Honorable M. David Weisman on 10/26/2017 at 09:15 AM. (Kelly, Kathryn) (Entered: 10/23/2017)  "
      ]
     },
     "execution_count": 12,
     "metadata": {},
     "output_type": "execute_result"
    }
   ],
   "source": [
    "lf_set.head()"
   ]
  },
  {
   "cell_type": "markdown",
   "metadata": {},
   "source": [
    "Create train, dev, test split: 60/20/20."
   ]
  },
  {
   "cell_type": "code",
   "execution_count": 13,
   "metadata": {},
   "outputs": [],
   "source": [
    "# SPLIT_1 = 0.4\n",
    "SPLIT_1 = 0.4\n",
    "# SPLIT_2 = 0.5"
   ]
  },
  {
   "cell_type": "code",
   "execution_count": 14,
   "metadata": {},
   "outputs": [],
   "source": [
    "df_train, df_test = train_test_split(lf_set, stratify=lf_set['motion'], test_size=SPLIT_1)\n",
    "df_val, df_test = train_test_split(df_test, stratify=df_test['motion'], test_size=0.5)"
   ]
  },
  {
   "cell_type": "code",
   "execution_count": 15,
   "metadata": {},
   "outputs": [],
   "source": [
    "def get_n_samples(df, n):\n",
    "    return df.sample(n)"
   ]
  },
  {
   "cell_type": "markdown",
   "metadata": {},
   "source": [
    "Let's set out voting values. Recall that the classification task is MOTION or NOT MOTION."
   ]
  },
  {
   "cell_type": "code",
   "execution_count": 16,
   "metadata": {},
   "outputs": [],
   "source": [
    "# Set voting values.\n",
    "ABSTAIN = -1 \n",
    "MOTION = 1 \n",
    "NOT_MOTION = 0"
   ]
  },
  {
   "cell_type": "code",
   "execution_count": 17,
   "metadata": {},
   "outputs": [
    {
     "data": {
      "text/html": [
       "<div>\n",
       "<style scoped>\n",
       "    .dataframe tbody tr th:only-of-type {\n",
       "        vertical-align: middle;\n",
       "    }\n",
       "\n",
       "    .dataframe tbody tr th {\n",
       "        vertical-align: top;\n",
       "    }\n",
       "\n",
       "    .dataframe thead th {\n",
       "        text-align: right;\n",
       "    }\n",
       "</style>\n",
       "<table border=\"1\" class=\"dataframe\">\n",
       "  <thead>\n",
       "    <tr style=\"text-align: right;\">\n",
       "      <th></th>\n",
       "      <th>docket_entry_id</th>\n",
       "      <th>motion</th>\n",
       "      <th>text</th>\n",
       "    </tr>\n",
       "  </thead>\n",
       "  <tbody>\n",
       "    <tr>\n",
       "      <th>1409</th>\n",
       "      <td>6410</td>\n",
       "      <td>1</td>\n",
       "      <td>ORAL MOTION by Mark E Bixby for extension of time to 10/9/2013 to file pretrial motions. (nm, ) (Entered: 09/11/2013)</td>\n",
       "    </tr>\n",
       "    <tr>\n",
       "      <th>2183</th>\n",
       "      <td>4701</td>\n",
       "      <td>1</td>\n",
       "      <td>MOTION by Plaintiff Rochelle Wise for extension of time to file response/reply as to sealed response, 43 , sealed response 44  (Chatman, Celetha) (Entered: 04/19/2017)</td>\n",
       "    </tr>\n",
       "    <tr>\n",
       "      <th>6219</th>\n",
       "      <td>3709</td>\n",
       "      <td>1</td>\n",
       "      <td>MOTION by Defendants Northwestern University, Timothy Stevens, Patricia Telles-Irvin to strike Rule 56 statement,, 60 In Support of Their Response To Defendants' Motion for Summary Judgment (Petrowski, Patricia) (Entered: 11/14/2013)</td>\n",
       "    </tr>\n",
       "    <tr>\n",
       "      <th>345</th>\n",
       "      <td>17143</td>\n",
       "      <td>1</td>\n",
       "      <td>MOTION by Plaintiff Laura Pierre to substitute attorney  (Treshansky, Jonathan) (Entered: 01/25/2017)</td>\n",
       "    </tr>\n",
       "    <tr>\n",
       "      <th>6546</th>\n",
       "      <td>5991</td>\n",
       "      <td>1</td>\n",
       "      <td>MOTION by Defendants Bryant Brooks, Village Of Calumet Park to compel, MOTION by Defendants Bryant Brooks, Village Of Calumet Park for sanctions (Attachments: # 1 Affidavit Julie A. Bruch)(Bruch, Julie) (Entered: 12/02/2011)</td>\n",
       "    </tr>\n",
       "    <tr>\n",
       "      <th>2607</th>\n",
       "      <td>10844</td>\n",
       "      <td>1</td>\n",
       "      <td>MOTION by Plaintiff Jerome L Stuckey for leave to file Third Amended Complaint (Handler, Joel) (Entered: 08/17/2009)</td>\n",
       "    </tr>\n",
       "    <tr>\n",
       "      <th>5061</th>\n",
       "      <td>7000</td>\n",
       "      <td>1</td>\n",
       "      <td>MOTION by James M Vani for judgment of acquittal  (Beal, John) (Entered: 04/26/2014)</td>\n",
       "    </tr>\n",
       "    <tr>\n",
       "      <th>4058</th>\n",
       "      <td>13311</td>\n",
       "      <td>0</td>\n",
       "      <td>OPINION AND ORDER: For the reasons set forth in the Opinion and Order, the 39 \"Motion to Dismiss and Affirmative Defense of Entrapment\" is DENIED. Signed by Judge Joseph S Van Bokkelen on 12/21/2017. (jss) (Entered: 12/21/2017)</td>\n",
       "    </tr>\n",
       "    <tr>\n",
       "      <th>2199</th>\n",
       "      <td>17173</td>\n",
       "      <td>1</td>\n",
       "      <td>MOTION by Defendants Lowry, Kuruvilla, Harrison, Patton, Burka, Village Of Brookfield for extension of time to file answer regarding complaint 1 or otherwise plead (O'Reilly, Molly) (Entered: 01/20/2010)</td>\n",
       "    </tr>\n",
       "    <tr>\n",
       "      <th>1334</th>\n",
       "      <td>6480</td>\n",
       "      <td>1</td>\n",
       "      <td>MOTION by Michael Wright for extension of time for trial (Adams, Joshua) (Entered: 11/07/2011)</td>\n",
       "    </tr>\n",
       "    <tr>\n",
       "      <th>5810</th>\n",
       "      <td>15401</td>\n",
       "      <td>1</td>\n",
       "      <td>MOTION to Detain by United States of America as to Patrick A Davis. (lhc) [1:16-mj-00057-SLC] (Entered: 05/20/2016)</td>\n",
       "    </tr>\n",
       "    <tr>\n",
       "      <th>2205</th>\n",
       "      <td>9609</td>\n",
       "      <td>1</td>\n",
       "      <td>MOTION by Defendant City of Chicago for extension of time to answer or otherwise plead (Carey, Margaret) (Entered: 10/29/2008)</td>\n",
       "    </tr>\n",
       "    <tr>\n",
       "      <th>3987</th>\n",
       "      <td>3154</td>\n",
       "      <td>0</td>\n",
       "      <td>PRELIMINARY ORDER of Abandonment as to Demario Flemming regarding order on motion 51 . Signed by the Honorable Frederick J. Kapala on 2/24/2009. (jmm-r, ) (Entered: 02/24/2009)</td>\n",
       "    </tr>\n",
       "    <tr>\n",
       "      <th>1535</th>\n",
       "      <td>3125</td>\n",
       "      <td>1</td>\n",
       "      <td>ORAL MOTION by Demario Flemming for extension of time to December 27, 2007 to file pretrial motions (sw, ) (Entered: 11/28/2007)</td>\n",
       "    </tr>\n",
       "    <tr>\n",
       "      <th>1746</th>\n",
       "      <td>14675</td>\n",
       "      <td>1</td>\n",
       "      <td>MOTION for Extension of Time to File Exchange Initial Disclosures (Agreed Motion) by Plaintiff Northern Indiana Public Service Company. (Attachments: # 1 Proposed Order)(Connor, Colin) (Entered: 11/29/2017)</td>\n",
       "    </tr>\n",
       "    <tr>\n",
       "      <th>2349</th>\n",
       "      <td>20267</td>\n",
       "      <td>1</td>\n",
       "      <td>MOTION by Defendant GlaxoSmithKline for extension of time to file answer or otherwise plead (Attachments: # 1 Exhibit A)(Quandt, Eric) (Entered: 02/10/2011)</td>\n",
       "    </tr>\n",
       "    <tr>\n",
       "      <th>6739</th>\n",
       "      <td>15812</td>\n",
       "      <td>1</td>\n",
       "      <td>MOTION in Limine GOVERNMENT'S SUPPLEMENTAL MOTION IN LIMINE by United States of America as to Anastacia Vann Maclin. (Berkowitz - AUSA, Diane) (Entered: 12/04/2017)</td>\n",
       "    </tr>\n",
       "    <tr>\n",
       "      <th>5474</th>\n",
       "      <td>12812</td>\n",
       "      <td>1</td>\n",
       "      <td>MOTION for Reconsideration re 59 Order on Motion to Certify Class  by Plaintiff Ronald Ward. (Frank, David) (Entered: 03/09/2017)</td>\n",
       "    </tr>\n",
       "    <tr>\n",
       "      <th>2532</th>\n",
       "      <td>5436</td>\n",
       "      <td>1</td>\n",
       "      <td>MOTION by Defendants Alvin Block, Bernard N. Block, Rita Block, Rebecca R. Trayber, Counter Claimants Alvin Block, Bernard N. Block, Rita Block, Rebecca R. TrayberMotion for Leave to Take Additional Depositions  (Attachments: # 1 Exhibit 1, # 2 Exhibit 2)(Twait, Danielle) (Entered: 10/06/2017)</td>\n",
       "    </tr>\n",
       "    <tr>\n",
       "      <th>6932</th>\n",
       "      <td>8158</td>\n",
       "      <td>1</td>\n",
       "      <td>MOTION by Plaintiff HSBC Bank USA, NA to substitute attorney  (Adams, Megan) (Entered: 02/20/2014)</td>\n",
       "    </tr>\n",
       "  </tbody>\n",
       "</table>\n",
       "</div>"
      ],
      "text/plain": [
       "      docket_entry_id  motion  \\\n",
       "1409  6410             1        \n",
       "2183  4701             1        \n",
       "6219  3709             1        \n",
       "345   17143            1        \n",
       "6546  5991             1        \n",
       "2607  10844            1        \n",
       "5061  7000             1        \n",
       "4058  13311            0        \n",
       "2199  17173            1        \n",
       "1334  6480             1        \n",
       "5810  15401            1        \n",
       "2205  9609             1        \n",
       "3987  3154             0        \n",
       "1535  3125             1        \n",
       "1746  14675            1        \n",
       "2349  20267            1        \n",
       "6739  15812            1        \n",
       "5474  12812            1        \n",
       "2532  5436             1        \n",
       "6932  8158             1        \n",
       "\n",
       "                                                                                                                                                                                                                                                                                                        text  \n",
       "1409  ORAL MOTION by Mark E Bixby for extension of time to 10/9/2013 to file pretrial motions. (nm, ) (Entered: 09/11/2013)                                                                                                                                                                                   \n",
       "2183  MOTION by Plaintiff Rochelle Wise for extension of time to file response/reply as to sealed response, 43 , sealed response 44  (Chatman, Celetha) (Entered: 04/19/2017)                                                                                                                                 \n",
       "6219  MOTION by Defendants Northwestern University, Timothy Stevens, Patricia Telles-Irvin to strike Rule 56 statement,, 60 In Support of Their Response To Defendants' Motion for Summary Judgment (Petrowski, Patricia) (Entered: 11/14/2013)                                                               \n",
       "345   MOTION by Plaintiff Laura Pierre to substitute attorney  (Treshansky, Jonathan) (Entered: 01/25/2017)                                                                                                                                                                                                   \n",
       "6546  MOTION by Defendants Bryant Brooks, Village Of Calumet Park to compel, MOTION by Defendants Bryant Brooks, Village Of Calumet Park for sanctions (Attachments: # 1 Affidavit Julie A. Bruch)(Bruch, Julie) (Entered: 12/02/2011)                                                                        \n",
       "2607  MOTION by Plaintiff Jerome L Stuckey for leave to file Third Amended Complaint (Handler, Joel) (Entered: 08/17/2009)                                                                                                                                                                                    \n",
       "5061  MOTION by James M Vani for judgment of acquittal  (Beal, John) (Entered: 04/26/2014)                                                                                                                                                                                                                    \n",
       "4058  OPINION AND ORDER: For the reasons set forth in the Opinion and Order, the 39 \"Motion to Dismiss and Affirmative Defense of Entrapment\" is DENIED. Signed by Judge Joseph S Van Bokkelen on 12/21/2017. (jss) (Entered: 12/21/2017)                                                                     \n",
       "2199  MOTION by Defendants Lowry, Kuruvilla, Harrison, Patton, Burka, Village Of Brookfield for extension of time to file answer regarding complaint 1 or otherwise plead (O'Reilly, Molly) (Entered: 01/20/2010)                                                                                             \n",
       "1334  MOTION by Michael Wright for extension of time for trial (Adams, Joshua) (Entered: 11/07/2011)                                                                                                                                                                                                          \n",
       "5810   MOTION to Detain by United States of America as to Patrick A Davis. (lhc) [1:16-mj-00057-SLC] (Entered: 05/20/2016)                                                                                                                                                                                    \n",
       "2205  MOTION by Defendant City of Chicago for extension of time to answer or otherwise plead (Carey, Margaret) (Entered: 10/29/2008)                                                                                                                                                                          \n",
       "3987  PRELIMINARY ORDER of Abandonment as to Demario Flemming regarding order on motion 51 . Signed by the Honorable Frederick J. Kapala on 2/24/2009. (jmm-r, ) (Entered: 02/24/2009)                                                                                                                        \n",
       "1535  ORAL MOTION by Demario Flemming for extension of time to December 27, 2007 to file pretrial motions (sw, ) (Entered: 11/28/2007)                                                                                                                                                                        \n",
       "1746   MOTION for Extension of Time to File Exchange Initial Disclosures (Agreed Motion) by Plaintiff Northern Indiana Public Service Company. (Attachments: # 1 Proposed Order)(Connor, Colin) (Entered: 11/29/2017)                                                                                         \n",
       "2349  MOTION by Defendant GlaxoSmithKline for extension of time to file answer or otherwise plead (Attachments: # 1 Exhibit A)(Quandt, Eric) (Entered: 02/10/2011)                                                                                                                                            \n",
       "6739   MOTION in Limine GOVERNMENT'S SUPPLEMENTAL MOTION IN LIMINE by United States of America as to Anastacia Vann Maclin. (Berkowitz - AUSA, Diane) (Entered: 12/04/2017)                                                                                                                                   \n",
       "5474   MOTION for Reconsideration re 59 Order on Motion to Certify Class  by Plaintiff Ronald Ward. (Frank, David) (Entered: 03/09/2017)                                                                                                                                                                      \n",
       "2532  MOTION by Defendants Alvin Block, Bernard N. Block, Rita Block, Rebecca R. Trayber, Counter Claimants Alvin Block, Bernard N. Block, Rita Block, Rebecca R. TrayberMotion for Leave to Take Additional Depositions  (Attachments: # 1 Exhibit 1, # 2 Exhibit 2)(Twait, Danielle) (Entered: 10/06/2017)  \n",
       "6932  MOTION by Plaintiff HSBC Bank USA, NA to substitute attorney  (Adams, Megan) (Entered: 02/20/2014)                                                                                                                                                                                                      "
      ]
     },
     "execution_count": 17,
     "metadata": {},
     "output_type": "execute_result"
    }
   ],
   "source": [
    "get_n_samples(df_train, 20)"
   ]
  },
  {
   "cell_type": "code",
   "execution_count": 18,
   "metadata": {},
   "outputs": [
    {
     "data": {
      "text/html": [
       "<div>\n",
       "<style scoped>\n",
       "    .dataframe tbody tr th:only-of-type {\n",
       "        vertical-align: middle;\n",
       "    }\n",
       "\n",
       "    .dataframe tbody tr th {\n",
       "        vertical-align: top;\n",
       "    }\n",
       "\n",
       "    .dataframe thead th {\n",
       "        text-align: right;\n",
       "    }\n",
       "</style>\n",
       "<table border=\"1\" class=\"dataframe\">\n",
       "  <thead>\n",
       "    <tr style=\"text-align: right;\">\n",
       "      <th></th>\n",
       "      <th>docket_entry_id</th>\n",
       "      <th>motion</th>\n",
       "      <th>text</th>\n",
       "    </tr>\n",
       "  </thead>\n",
       "  <tbody>\n",
       "    <tr>\n",
       "      <th>4070</th>\n",
       "      <td>8960</td>\n",
       "      <td>0</td>\n",
       "      <td>AFFIDAVIT of Deborah L. French regarding motion for judgment 31  (Ryan, Patrick) (Entered: 12/29/2015)</td>\n",
       "    </tr>\n",
       "    <tr>\n",
       "      <th>4147</th>\n",
       "      <td>1045</td>\n",
       "      <td>0</td>\n",
       "      <td>Receiver's Final Report NOTICE of Motion by Edward P. Freud, First for presentment of before Honorable Thomas M. Durkin on 4/20/2017 at 09:00 AM. (Freud, Edward) (Entered: 04/14/2017)</td>\n",
       "    </tr>\n",
       "    <tr>\n",
       "      <th>4291</th>\n",
       "      <td>3660</td>\n",
       "      <td>0</td>\n",
       "      <td>Pursuant to Local Rule 72.1, this case is hereby referred to the calendar of Honorable Jeffrey Cole for the purpose of holding proceedings related to: discovery motion and discovery disputes including motion to bar 30 and motion to compel 28 .Mailed notice. (maf) (Entered: 05/02/2013)</td>\n",
       "    </tr>\n",
       "    <tr>\n",
       "      <th>4210</th>\n",
       "      <td>5518</td>\n",
       "      <td>0</td>\n",
       "      <td>DECLARATION of Peter C. Harvey regarding motion for partial summary judgment 134  (Attachments: # 1 Notice of Exhibits, # 2 Exhibit 1, # 3 Exhibit 2, # 4 Exhibit 3, # 5 Exhibit 5, # 6 Exhibit 6, # 7 Exhibit 7, # 8 Exhibit 9, # 9 Exhibit 13, # 10 Exhibit 15, # 11 Exhibit 30, # 12 Exhibit 39, # 13 Exhibit 40, # 14 Exhibit 41)(Harvey, Peter) (Entered: 02/01/2019)</td>\n",
       "    </tr>\n",
       "    <tr>\n",
       "      <th>4391</th>\n",
       "      <td>15547</td>\n",
       "      <td>0</td>\n",
       "      <td>TELEPHONIC RULE 16 PRELIMINARY PRETRIAL CONFERENCE held on 3/15/2016 before Magistrate Judge Susan L Collins. Pla appeared by atty Robert Vegeler. Dft appeared by atty Gary Johnson. The 13 Report of the Parties Planning Meeting is approved in all respects (except dispositive motions deadline and establishment of a trial date) and is hereby made an ORDER of the Court. The Summary Judgment deadline in Fed.R.Civ.P. 56(b) SHALL NOT control. Any dispositive motion SHALL brief out in accordance with L.R. 56-1. DISCOVERY DEADLINE is 9/15/2016. Following the close of discovery, unless otherwise ordered by the Court, the District Judge will establish all further deadlines and dates. Anthony Stites appointed as Mediator. Atty Johnson to notify Mediator by letter, copy to Atty Vegeler. Results of the Mediation shall be filed with the Court no later than 10 days before the Final Pretrial Conference. Magistrate Consent forms due by 4/5/2016. (FTR 1st floor.) (mr) (Entered: 03/15/2016)</td>\n",
       "    </tr>\n",
       "    <tr>\n",
       "      <th>372</th>\n",
       "      <td>15858</td>\n",
       "      <td>0</td>\n",
       "      <td>MANDATE and FINAL JUDGMENT of USCA (certified copy) as to Anastacia Vann Maclin re 83 Notice of Appeal - Final Judgment. The district court's denial of the motions for mistrial, and the district court's sentencing, are AFFIRMED. (kjp) (Entered: 03/01/2019)</td>\n",
       "    </tr>\n",
       "    <tr>\n",
       "      <th>243</th>\n",
       "      <td>9595</td>\n",
       "      <td>0</td>\n",
       "      <td>CERTIFICATE of Service regarding MOTION by Miguel Villanueva-Hernandez to supplement sentencing position paper 20 (Bischoff, Jerry) (Entered: 03/26/2008)</td>\n",
       "    </tr>\n",
       "    <tr>\n",
       "      <th>4238</th>\n",
       "      <td>11702</td>\n",
       "      <td>0</td>\n",
       "      <td>Mail Returned from Vorice Earl Williams-Bey as Undeliverable - Return to Sender, Out to Court 5 Clerks Judgment, 3 Order on Motion for Leave to Proceed in forma pauperis, 4 Order. (Resent to Williams-Bey at Elkhart County Corrections Center) (rmc) (Entered: 07/08/2016)</td>\n",
       "    </tr>\n",
       "    <tr>\n",
       "      <th>4753</th>\n",
       "      <td>14579</td>\n",
       "      <td>0</td>\n",
       "      <td>OPINION AND ORDER: Court GRANTS 20 Parkview Hospital, Inc.'s Motion to Dismiss. Signed by Chief Judge Theresa L Springmann on 5/17/2017. (Copy mailed to pro se party)(tc) (Entered: 05/17/2017)</td>\n",
       "    </tr>\n",
       "    <tr>\n",
       "      <th>4101</th>\n",
       "      <td>711</td>\n",
       "      <td>0</td>\n",
       "      <td>AFFIDAVIT of Joseph J. Siprut regarding order on motion to certify class,, order on motion for miscellaneous relief,, status hearing,, motion hearing,, set/reset hearings, 29  (Attachments: # 1 Exhibit A-S)(Salam, Ismael) (Entered: 06/25/2014)</td>\n",
       "    </tr>\n",
       "    <tr>\n",
       "      <th>4798</th>\n",
       "      <td>12737</td>\n",
       "      <td>0</td>\n",
       "      <td>Affidavit Accompanying MOTION for Permission to Appeal in forma pauperis by Petitioner Ronald Tellez. (lhc) (Entered: 09/18/2017)</td>\n",
       "    </tr>\n",
       "    <tr>\n",
       "      <th>980</th>\n",
       "      <td>7939</td>\n",
       "      <td>0</td>\n",
       "      <td>STIPULATION regarding motion to certify class 17  (Warner, Curtis) (Entered: 01/15/2014)</td>\n",
       "    </tr>\n",
       "    <tr>\n",
       "      <th>4749</th>\n",
       "      <td>19448</td>\n",
       "      <td>0</td>\n",
       "      <td>2nd Corrected NOTICE of Motion by Saira Janine Alikhan for presentment of motion to substitute attorney 58 before Honorable Rebecca R. Pallmeyer on 3/2/2010 at 08:30 AM. (Alikhan, Saira) (Entered: 02/26/2010)</td>\n",
       "    </tr>\n",
       "    <tr>\n",
       "      <th>4339</th>\n",
       "      <td>14826</td>\n",
       "      <td>0</td>\n",
       "      <td>OPINION AND ORDER re 53 Bill of Costs. Maxim's requested amount in the bill of fees will be reduced by 25 percent -- that is, from $6,825 to $5,118.75. Heggen is to confer in good faith with Maxim to determine a reasonable payment schedule to pay Maxim the $5,118.75, with the first payment to commence within 30 days of the date of this Opinion and Order. To the extent that Heggen's opposition brief (DE 55) could be construed as a motion to reconsider, it is DENIED. Signed by Magistrate Judge Susan L Collins on 8/7/18. (ksp) (Entered: 08/07/2018)</td>\n",
       "    </tr>\n",
       "    <tr>\n",
       "      <th>4613</th>\n",
       "      <td>14714</td>\n",
       "      <td>0</td>\n",
       "      <td>TELEPHONIC STATUS CONFERENCE held on 2/28/2019, before Magistrate Judge Joshua P Kolar. Pltf appeared by atty Colin Connor. Dfts appeared by attys Linda Carwile, Joseph Sarmiento, Mark Zimmerman, Christopher Hemphill, Bruce Lichtcsien, Clay Phillips. Discussion held as to the status of discovery. Court GRANTS 121 Unopposed Motion to Extend Expert Deadlines. Plaintiff expert witness disclosures and reports to be delivered to the defendant by 6/3/2019. Defendant expert witness disclosures and reports to be delivered to the plaintiff by 7/31/2019. The Court SETS this matter for a Telephonic Status Conference on 5/30/2019 09:30 AM (CST Time) in US District Court - Hammond before Magistrate Judge Joshua P Kolar. Court to initiate the call. The court will call all counsel listed on the docket sheet unless it is notified that specified attorneys need not be contacted. If a different number than what is listed on the docket should be used to reach counsel directly, please contact Magistrate Judge Kolar's Case Manager Teresa Castillo at (219) 852-6707 no later than 24 hours prior to the conference. (Tape #FTR GOLD.) (tc) (Entered: 02/28/2019)</td>\n",
       "    </tr>\n",
       "    <tr>\n",
       "      <th>4654</th>\n",
       "      <td>16349</td>\n",
       "      <td>0</td>\n",
       "      <td>STRICKEN PURSUANT TO COURT ORDER DATED 12/14/16, DE 16 . MOTION for Withdrawal of Guilty Plea by Petitioner Roger Pringle. (Attachments: # 1 Envelope).(nae). Modified on 12/15/2016. (cer) (Entered: 12/13/2016)</td>\n",
       "    </tr>\n",
       "    <tr>\n",
       "      <th>4444</th>\n",
       "      <td>18350</td>\n",
       "      <td>0</td>\n",
       "      <td>ANSWERING BRIEF in Opposition re 9 MOTION to Dismiss MOTION to Transfer Case to Northern District of Illinois filed by SonicWALL Inc..Reply Brief due date per Local Rules is 1/3/2012. (Norman, Elena) [Transferred from Delaware on 1/30/2012.] (Entered: 12/22/2011)</td>\n",
       "    </tr>\n",
       "    <tr>\n",
       "      <th>1295</th>\n",
       "      <td>1747</td>\n",
       "      <td>0</td>\n",
       "      <td>(Unopposed) NOTICE of Motion by Erin Elaine Kelly for presentment of motion for extension of time to file response/reply, motion for relief 17 before Honorable Geraldine Soat Brown on 3/18/2016 at 09:45 AM. (Kelly, Erin) (Entered: 03/09/2016)</td>\n",
       "    </tr>\n",
       "    <tr>\n",
       "      <th>4388</th>\n",
       "      <td>15820</td>\n",
       "      <td>0</td>\n",
       "      <td>JURY TRIAL (Day 1) as to Anastacia Vann Maclin held on 12/11/2017 before Judge Philip P. Simon. Govt present by Diane Berkowitz, AUSA and Jacky Jacobs, AUSA. SA /FBI Chuck Pawelko is also in attendance. Dft is present in person and by counsel Matthew Soliday and Brian Custy. Motions in Limine ruled on. Prospective jurors are present. Preliminary matters from the Court. Voir Dire conducted. Motion for Mistrial by the defense - denied. Jury selected and sworn to try case. Court instructs jury with preliminary instructions. Opening Statements from both sides. Govt begins presentation of evidence. Stipulations entered into the record by counsel. Govt continues to present evidence, does not conclude. Jury Trial continued to Tuesday, 12/12/2017 at 8:30 a.m. (Court Reporter Stacy Drohosky.) (nac) Modified on 12/12/2017 to add detail. (nac). (Entered: 12/12/2017)</td>\n",
       "    </tr>\n",
       "    <tr>\n",
       "      <th>3991</th>\n",
       "      <td>4697</td>\n",
       "      <td>0</td>\n",
       "      <td>(Notice of Unopposed Motion) NOTICE of Motion by Brandon S. Stein for presentment of motion for leave to file, 41 before Honorable Jorge L. Alonso on 4/18/2017 at 09:30 AM. (Stein, Brandon) (Entered: 04/06/2017)</td>\n",
       "    </tr>\n",
       "  </tbody>\n",
       "</table>\n",
       "</div>"
      ],
      "text/plain": [
       "      docket_entry_id  motion  \\\n",
       "4070  8960             0        \n",
       "4147  1045             0        \n",
       "4291  3660             0        \n",
       "4210  5518             0        \n",
       "4391  15547            0        \n",
       "372   15858            0        \n",
       "243   9595             0        \n",
       "4238  11702            0        \n",
       "4753  14579            0        \n",
       "4101  711              0        \n",
       "4798  12737            0        \n",
       "980   7939             0        \n",
       "4749  19448            0        \n",
       "4339  14826            0        \n",
       "4613  14714            0        \n",
       "4654  16349            0        \n",
       "4444  18350            0        \n",
       "1295  1747             0        \n",
       "4388  15820            0        \n",
       "3991  4697             0        \n",
       "\n",
       "                                                                                                                                                                                                                                                                                                                                                                                                                                                                                                                                                                                                                                                                                                                                                                                                                                                                                                                                                                                                                                                                                                                                                                                                 text  \n",
       "4070  AFFIDAVIT of Deborah L. French regarding motion for judgment 31  (Ryan, Patrick) (Entered: 12/29/2015)                                                                                                                                                                                                                                                                                                                                                                                                                                                                                                                                                                                                                                                                                                                                                                                                                                                                                                                                                                                                                                                                                           \n",
       "4147   Receiver's Final Report NOTICE of Motion by Edward P. Freud, First for presentment of before Honorable Thomas M. Durkin on 4/20/2017 at 09:00 AM. (Freud, Edward) (Entered: 04/14/2017)                                                                                                                                                                                                                                                                                                                                                                                                                                                                                                                                                                                                                                                                                                                                                                                                                                                                                                                                                                                                         \n",
       "4291  Pursuant to Local Rule 72.1, this case is hereby referred to the calendar of Honorable Jeffrey Cole for the purpose of holding proceedings related to: discovery motion and discovery disputes including motion to bar 30 and motion to compel 28 .Mailed notice. (maf) (Entered: 05/02/2013)                                                                                                                                                                                                                                                                                                                                                                                                                                                                                                                                                                                                                                                                                                                                                                                                                                                                                                    \n",
       "4210  DECLARATION of Peter C. Harvey regarding motion for partial summary judgment 134  (Attachments: # 1 Notice of Exhibits, # 2 Exhibit 1, # 3 Exhibit 2, # 4 Exhibit 3, # 5 Exhibit 5, # 6 Exhibit 6, # 7 Exhibit 7, # 8 Exhibit 9, # 9 Exhibit 13, # 10 Exhibit 15, # 11 Exhibit 30, # 12 Exhibit 39, # 13 Exhibit 40, # 14 Exhibit 41)(Harvey, Peter) (Entered: 02/01/2019)                                                                                                                                                                                                                                                                                                                                                                                                                                                                                                                                                                                                                                                                                                                                                                                                                       \n",
       "4391  TELEPHONIC RULE 16 PRELIMINARY PRETRIAL CONFERENCE held on 3/15/2016 before Magistrate Judge Susan L Collins. Pla appeared by atty Robert Vegeler. Dft appeared by atty Gary Johnson. The 13 Report of the Parties Planning Meeting is approved in all respects (except dispositive motions deadline and establishment of a trial date) and is hereby made an ORDER of the Court. The Summary Judgment deadline in Fed.R.Civ.P. 56(b) SHALL NOT control. Any dispositive motion SHALL brief out in accordance with L.R. 56-1. DISCOVERY DEADLINE is 9/15/2016. Following the close of discovery, unless otherwise ordered by the Court, the District Judge will establish all further deadlines and dates. Anthony Stites appointed as Mediator. Atty Johnson to notify Mediator by letter, copy to Atty Vegeler. Results of the Mediation shall be filed with the Court no later than 10 days before the Final Pretrial Conference. Magistrate Consent forms due by 4/5/2016. (FTR 1st floor.) (mr) (Entered: 03/15/2016)                                                                                                                                                                       \n",
       "372   MANDATE and FINAL JUDGMENT of USCA (certified copy) as to Anastacia Vann Maclin re 83 Notice of Appeal - Final Judgment. The district court's denial of the motions for mistrial, and the district court's sentencing, are AFFIRMED. (kjp) (Entered: 03/01/2019)                                                                                                                                                                                                                                                                                                                                                                                                                                                                                                                                                                                                                                                                                                                                                                                                                                                                                                                                 \n",
       "243   CERTIFICATE of Service regarding MOTION by Miguel Villanueva-Hernandez to supplement sentencing position paper 20 (Bischoff, Jerry) (Entered: 03/26/2008)                                                                                                                                                                                                                                                                                                                                                                                                                                                                                                                                                                                                                                                                                                                                                                                                                                                                                                                                                                                                                                        \n",
       "4238  Mail Returned from Vorice Earl Williams-Bey as Undeliverable - Return to Sender, Out to Court 5 Clerks Judgment, 3 Order on Motion for Leave to Proceed in forma pauperis, 4 Order. (Resent to Williams-Bey at Elkhart County Corrections Center) (rmc) (Entered: 07/08/2016)                                                                                                                                                                                                                                                                                                                                                                                                                                                                                                                                                                                                                                                                                                                                                                                                                                                                                                                    \n",
       "4753  OPINION AND ORDER: Court GRANTS 20 Parkview Hospital, Inc.'s Motion to Dismiss. Signed by Chief Judge Theresa L Springmann on 5/17/2017. (Copy mailed to pro se party)(tc) (Entered: 05/17/2017)                                                                                                                                                                                                                                                                                                                                                                                                                                                                                                                                                                                                                                                                                                                                                                                                                                                                                                                                                                                                 \n",
       "4101  AFFIDAVIT of Joseph J. Siprut regarding order on motion to certify class,, order on motion for miscellaneous relief,, status hearing,, motion hearing,, set/reset hearings, 29  (Attachments: # 1 Exhibit A-S)(Salam, Ismael) (Entered: 06/25/2014)                                                                                                                                                                                                                                                                                                                                                                                                                                                                                                                                                                                                                                                                                                                                                                                                                                                                                                                                              \n",
       "4798  Affidavit Accompanying MOTION for Permission to Appeal in forma pauperis by Petitioner Ronald Tellez. (lhc) (Entered: 09/18/2017)                                                                                                                                                                                                                                                                                                                                                                                                                                                                                                                                                                                                                                                                                                                                                                                                                                                                                                                                                                                                                                                                \n",
       "980   STIPULATION regarding motion to certify class 17  (Warner, Curtis) (Entered: 01/15/2014)                                                                                                                                                                                                                                                                                                                                                                                                                                                                                                                                                                                                                                                                                                                                                                                                                                                                                                                                                                                                                                                                                                         \n",
       "4749   2nd Corrected NOTICE of Motion by Saira Janine Alikhan for presentment of motion to substitute attorney 58 before Honorable Rebecca R. Pallmeyer on 3/2/2010 at 08:30 AM. (Alikhan, Saira) (Entered: 02/26/2010)                                                                                                                                                                                                                                                                                                                                                                                                                                                                                                                                                                                                                                                                                                                                                                                                                                                                                                                                                                                \n",
       "4339  OPINION AND ORDER re 53 Bill of Costs. Maxim's requested amount in the bill of fees will be reduced by 25 percent -- that is, from $6,825 to $5,118.75. Heggen is to confer in good faith with Maxim to determine a reasonable payment schedule to pay Maxim the $5,118.75, with the first payment to commence within 30 days of the date of this Opinion and Order. To the extent that Heggen's opposition brief (DE 55) could be construed as a motion to reconsider, it is DENIED. Signed by Magistrate Judge Susan L Collins on 8/7/18. (ksp) (Entered: 08/07/2018)                                                                                                                                                                                                                                                                                                                                                                                                                                                                                                                                                                                                                          \n",
       "4613  TELEPHONIC STATUS CONFERENCE held on 2/28/2019, before Magistrate Judge Joshua P Kolar. Pltf appeared by atty Colin Connor. Dfts appeared by attys Linda Carwile, Joseph Sarmiento, Mark Zimmerman, Christopher Hemphill, Bruce Lichtcsien, Clay Phillips. Discussion held as to the status of discovery. Court GRANTS 121 Unopposed Motion to Extend Expert Deadlines. Plaintiff expert witness disclosures and reports to be delivered to the defendant by 6/3/2019. Defendant expert witness disclosures and reports to be delivered to the plaintiff by 7/31/2019. The Court SETS this matter for a Telephonic Status Conference on 5/30/2019 09:30 AM (CST Time) in US District Court - Hammond before Magistrate Judge Joshua P Kolar. Court to initiate the call. The court will call all counsel listed on the docket sheet unless it is notified that specified attorneys need not be contacted. If a different number than what is listed on the docket should be used to reach counsel directly, please contact Magistrate Judge Kolar's Case Manager Teresa Castillo at (219) 852-6707 no later than 24 hours prior to the conference. (Tape #FTR GOLD.) (tc) (Entered: 02/28/2019)  \n",
       "4654  STRICKEN PURSUANT TO COURT ORDER DATED 12/14/16, DE 16 . MOTION for Withdrawal of Guilty Plea by Petitioner Roger Pringle. (Attachments: # 1 Envelope).(nae). Modified on 12/15/2016. (cer) (Entered: 12/13/2016)                                                                                                                                                                                                                                                                                                                                                                                                                                                                                                                                                                                                                                                                                                                                                                                                                                                                                                                                                                                \n",
       "4444   ANSWERING BRIEF in Opposition re 9 MOTION to Dismiss MOTION to Transfer Case to Northern District of Illinois filed by SonicWALL Inc..Reply Brief due date per Local Rules is 1/3/2012. (Norman, Elena) [Transferred from Delaware on 1/30/2012.] (Entered: 12/22/2011)                                                                                                                                                                                                                                                                                                                                                                                                                                                                                                                                                                                                                                                                                                                                                                                                                                                                                                                         \n",
       "1295   (Unopposed) NOTICE of Motion by Erin Elaine Kelly for presentment of motion for extension of time to file response/reply, motion for relief 17 before Honorable Geraldine Soat Brown on 3/18/2016 at 09:45 AM. (Kelly, Erin) (Entered: 03/09/2016)                                                                                                                                                                                                                                                                                                                                                                                                                                                                                                                                                                                                                                                                                                                                                                                                                                                                                                                                              \n",
       "4388  JURY TRIAL (Day 1) as to Anastacia Vann Maclin held on 12/11/2017 before Judge Philip P. Simon. Govt present by Diane Berkowitz, AUSA and Jacky Jacobs, AUSA. SA /FBI Chuck Pawelko is also in attendance. Dft is present in person and by counsel Matthew Soliday and Brian Custy. Motions in Limine ruled on. Prospective jurors are present. Preliminary matters from the Court. Voir Dire conducted. Motion for Mistrial by the defense - denied. Jury selected and sworn to try case. Court instructs jury with preliminary instructions. Opening Statements from both sides. Govt begins presentation of evidence. Stipulations entered into the record by counsel. Govt continues to present evidence, does not conclude. Jury Trial continued to Tuesday, 12/12/2017 at 8:30 a.m. (Court Reporter Stacy Drohosky.) (nac) Modified on 12/12/2017 to add detail. (nac). (Entered: 12/12/2017)                                                                                                                                                                                                                                                                                              \n",
       "3991   (Notice of Unopposed Motion) NOTICE of Motion by Brandon S. Stein for presentment of motion for leave to file, 41 before Honorable Jorge L. Alonso on 4/18/2017 at 09:30 AM. (Stein, Brandon) (Entered: 04/06/2017)                                                                                                                                                                                                                                                                                                                                                                                                                                                                                                                                                                                                                                                                                                                                                                                                                                                                                                                                                                             "
      ]
     },
     "execution_count": 18,
     "metadata": {},
     "output_type": "execute_result"
    }
   ],
   "source": [
    "get_n_samples(df_train[df_train.motion == 0], 20)"
   ]
  },
  {
   "cell_type": "markdown",
   "metadata": {},
   "source": [
    "### Making Labeling Functions"
   ]
  },
  {
   "cell_type": "markdown",
   "metadata": {},
   "source": [
    "#### Key word LFs"
   ]
  },
  {
   "cell_type": "code",
   "execution_count": 19,
   "metadata": {},
   "outputs": [],
   "source": [
    "def keyword_lookup(x, keywords, label):\n",
    "    if any(word in x.text.lower() for word in keywords):\n",
    "        return label\n",
    "    return ABSTAIN\n",
    "\n",
    "\n",
    "def make_keyword_lf(keywords, label=MOTION):\n",
    "    return LabelingFunction(\n",
    "        name=f\"keyword__{keywords[0]}\",\n",
    "        f=keyword_lookup,\n",
    "        resources=dict(keywords=keywords, label=label),\n",
    "    )\n",
    "\n",
    "\n",
    "\"\"\"Motions contain 'motion of'.\"\"\"\n",
    "keyword__of = make_keyword_lf(keywords=[\"motion of\"])\n",
    "\n",
    "\"\"\"Motions contain 'motion to'.\"\"\"\n",
    "keyword__motion_to = make_keyword_lf(keywords=[\"motion to\"])\n",
    "\n",
    "\"\"\"Motions contain 'motion by'.\"\"\"\n",
    "keyword__motion_by = make_keyword_lf(keywords=[\"motion by\"])\n",
    "\n",
    "\"\"\"Motions contain 'motion (oral)'.\"\"\"\n",
    "keyword__motion_oral = make_keyword_lf(keywords=[\"motion (oral)\"])\n",
    "\n",
    "\"\"\"Motions contain 'joint motion'.\"\"\"\n",
    "keyword__joint_motion = make_keyword_lf(keywords=[\"joint motion\"])\n",
    "\n",
    "\"\"\"Notice of motions contain 'notice of motion'.\"\"\"\n",
    "keyword__notice_of_motion = make_keyword_lf(keywords=[\"notice of motion\"], label=NOT_MOTION)\n",
    "\n",
    "\"\"\"Notice of motions contain 'notice'.\"\"\"\n",
    "keyword__notice = make_keyword_lf(keywords=[\"notice\"], label=NOT_MOTION)\n",
    "\n",
    "\"\"\"Judgements contain 'judgement'.\"\"\"\n",
    "keyword__judgement = make_keyword_lf(keywords=[\"judgement\"], label=NOT_MOTION)\n",
    "\n",
    "\"\"\"Denying a motion contains 'denying motion'.\"\"\"\n",
    "keyword__denying_motion = make_keyword_lf(keywords=[\"denying motion\"], label=NOT_MOTION)\n",
    "\n",
    "\"\"\"Final pretrial conference contains 'final pretrial conference'.\"\"\"\n",
    "keyword__final_pretrial_conference = make_keyword_lf(keywords=[\"final pretrial conference\"], label=NOT_MOTION)"
   ]
  },
  {
   "cell_type": "code",
   "execution_count": 20,
   "metadata": {},
   "outputs": [],
   "source": [
    "def missing_keyword_lookup(x, keywords, label):\n",
    "    if any(word in x.text.lower() for word in keywords):\n",
    "        return ABSTAIN\n",
    "    return label\n",
    "\n",
    "\n",
    "def make_missing_keyword_lf(keywords, label=MOTION):\n",
    "    return LabelingFunction(\n",
    "        name=f\"missing_keyword__{keywords[0]}\",\n",
    "        f=missing_keyword_lookup,\n",
    "        resources=dict(keywords=keywords, label=label),\n",
    "    )\n",
    "\"\"\"NOT Motions do not contain 'motion'.\"\"\"\n",
    "missing_keyword__motion = make_missing_keyword_lf(keywords=[\"motion\"], label=NOT_MOTION)"
   ]
  },
  {
   "cell_type": "markdown",
   "metadata": {},
   "source": [
    "### Regex LFs\n",
    "\n",
    "Some examples of REGEX LFs. For now, it seems difficult to map a non-technical user's input to a regex.\n",
    "```{ python }\n",
    "MOTION_MENTIONS = r\"\\b(motion by|motion (oral) by|motion for|motion to)\"\n",
    "@labeling_function()\n",
    "def regex_motion(x):\n",
    "    return MOTION if re.search(MOTION_MENTIONS, x.text) else ABSTAIN\n",
    "```"
   ]
  },
  {
   "cell_type": "markdown",
   "metadata": {},
   "source": [
    "### Heuristic LFs\n",
    "\n",
    "We notice that:\n",
    "1. MOTION documents generally start with a mention of the keyword 'motion'. \n",
    "2. NOT MOTION documents can mention the keyword 'motion'.\n",
    "3. NOT MOTION documents tend not to start with the keyword 'motion'.\n",
    "4. Rule 3 does not hold for 'notice of motion' or 'denying motion'. We probably want to query the data to explore when we have a mention of 'motion' at the start and rule 3 does not hold.\n",
    "\n",
    "We can use these heuristics to create labeling functions."
   ]
  },
  {
   "cell_type": "code",
   "execution_count": 21,
   "metadata": {},
   "outputs": [
    {
     "data": {
      "text/plain": [
       "['tokenizes', 'the', 'text']"
      ]
     },
     "execution_count": 21,
     "metadata": {},
     "output_type": "execute_result"
    }
   ],
   "source": [
    "t = \"Tokenizes the text to check if motion is not in first 3 words.\"\n",
    "t.lower().split()[:3]"
   ]
  },
  {
   "cell_type": "code",
   "execution_count": 22,
   "metadata": {},
   "outputs": [],
   "source": [
    "# Create a Tokenizer with the default settings for English\n",
    "# including punctuation rules and exceptions\n",
    "# nlp = English()\n",
    "# tokenizer = nlp.tokenizer\n",
    "\n",
    "@labeling_function()\n",
    "def lf_first_word_motion(x):\n",
    "    \"\"\"Tokenizes the text to check if first word is motion.\"\"\"\n",
    "    _first_token = x.text.lower().split()[0]\n",
    "    return MOTION if \"motion\" == _first_token else ABSTAIN\n",
    "\n",
    "@labeling_function()\n",
    "def lf_motion_not_in_first_three_words(x):\n",
    "    \"\"\"Tokenizes the text to check if motion is not in first 3 words.\"\"\"\n",
    "    _tokens = x.text.lower().split()[:3]\n",
    "    return NOT_MOTION if not \"motion\" in _tokens else ABSTAIN\n",
    "\n",
    "@labeling_function()\n",
    "def lf_motion_mentioned_later(x):\n",
    "    \"\"\"Tokenizes the text to check if first word is motion.\"\"\"\n",
    "    # Motion is mentioned somewhere in the middle of the docket entry\n",
    "    # and Motion is not mentioned at the start\n",
    "    _tokens = x.text.lower().split()\n",
    "    condition = \"motion\" in _tokens[3:] and \"motion\" not in _tokens[:2]\n",
    "    return NOT_MOTION if condition else ABSTAIN\n",
    "\n",
    "@labeling_function()\n",
    "def lf_motion_early(x):\n",
    "    \"\"\"Tokenizes the text to check if motion is mentioned in first 5 words\"\"\"\n",
    "    # Motion is mentioned somewhere in the middle of the docket entry\n",
    "    # and Motion is not mentioned at the start\n",
    "    _tokens = x.text.lower().split()\n",
    "    condition = \"motion\" in _tokens[:5] and \"motion\" not in _tokens[6:]\n",
    "    return MOTION if condition else ABSTAIN"
   ]
  },
  {
   "cell_type": "markdown",
   "metadata": {},
   "source": [
    "### Put all out LFs in one place"
   ]
  },
  {
   "cell_type": "code",
   "execution_count": 23,
   "metadata": {},
   "outputs": [
    {
     "name": "stderr",
     "output_type": "stream",
     "text": [
      "/Users/benigerisimon/opt/miniconda3/envs/machine-teaching/lib/python3.8/site-packages/tqdm/std.py:697: FutureWarning: The Panel class is removed from pandas. Accessing it from the top-level namespace will also be removed in the next version\n",
      "  from pandas import Panel\n",
      "100%|██████████| 3966/3966 [00:00<00:00, 11242.00it/s]\n",
      "100%|██████████| 1322/1322 [00:00<00:00, 10838.02it/s]\n",
      "100%|██████████| 1322/1322 [00:00<00:00, 10974.79it/s]\n"
     ]
    }
   ],
   "source": [
    "lfs = [\n",
    "    keyword__of, \n",
    "    keyword__motion_to, \n",
    "    keyword__motion_by, \n",
    "    keyword__motion_oral,\n",
    "    keyword__joint_motion,\n",
    "    keyword__notice,\n",
    "    keyword__notice_of_motion,\n",
    "    keyword__judgement,\n",
    "    keyword__final_pretrial_conference,\n",
    "    keyword__denying_motion,\n",
    "    lf_first_word_motion,\n",
    "    lf_motion_not_in_first_three_words,\n",
    "    lf_motion_mentioned_later,\n",
    "    lf_motion_early,\n",
    "    missing_keyword__motion\n",
    "]\n",
    "\n",
    "applier = PandasLFApplier(lfs=lfs)\n",
    "L_train = applier.apply(df=df_train)\n",
    "L_val = applier.apply(df=df_val)\n",
    "L_test = applier.apply(df=df_test)"
   ]
  },
  {
   "cell_type": "code",
   "execution_count": 24,
   "metadata": {},
   "outputs": [
    {
     "data": {
      "text/plain": [
       "array([[-1,  1,  1, ...,  0, -1, -1],\n",
       "       [-1, -1,  1, ..., -1,  1, -1],\n",
       "       [ 1, -1, -1, ...,  0, -1, -1],\n",
       "       ...,\n",
       "       [-1, -1,  1, ..., -1,  1, -1],\n",
       "       [-1, -1,  1, ..., -1,  1, -1],\n",
       "       [-1,  1,  1, ...,  0, -1, -1]])"
      ]
     },
     "execution_count": 24,
     "metadata": {},
     "output_type": "execute_result"
    }
   ],
   "source": [
    "L_train"
   ]
  },
  {
   "cell_type": "code",
   "execution_count": 25,
   "metadata": {},
   "outputs": [
    {
     "name": "stderr",
     "output_type": "stream",
     "text": [
      "/Users/benigerisimon/opt/miniconda3/envs/machine-teaching/lib/python3.8/site-packages/sklearn/utils/validation.py:67: FutureWarning: Pass labels=[-1  0  1] as keyword args. From version 0.25 passing these as positional arguments will result in an error\n",
      "  warnings.warn(\"Pass {} as keyword args. From version 0.25 \"\n"
     ]
    },
    {
     "data": {
      "text/html": [
       "<div>\n",
       "<style scoped>\n",
       "    .dataframe tbody tr th:only-of-type {\n",
       "        vertical-align: middle;\n",
       "    }\n",
       "\n",
       "    .dataframe tbody tr th {\n",
       "        vertical-align: top;\n",
       "    }\n",
       "\n",
       "    .dataframe thead th {\n",
       "        text-align: right;\n",
       "    }\n",
       "</style>\n",
       "<table border=\"1\" class=\"dataframe\">\n",
       "  <thead>\n",
       "    <tr style=\"text-align: right;\">\n",
       "      <th></th>\n",
       "      <th>j</th>\n",
       "      <th>Polarity</th>\n",
       "      <th>Coverage</th>\n",
       "      <th>Overlaps</th>\n",
       "      <th>Conflicts</th>\n",
       "      <th>Correct</th>\n",
       "      <th>Incorrect</th>\n",
       "      <th>Emp. Acc.</th>\n",
       "    </tr>\n",
       "  </thead>\n",
       "  <tbody>\n",
       "    <tr>\n",
       "      <th>keyword__motion of</th>\n",
       "      <td>0</td>\n",
       "      <td>[1]</td>\n",
       "      <td>0.006304</td>\n",
       "      <td>0.006304</td>\n",
       "      <td>0.004539</td>\n",
       "      <td>6</td>\n",
       "      <td>19</td>\n",
       "      <td>0.240000</td>\n",
       "    </tr>\n",
       "    <tr>\n",
       "      <th>keyword__motion to</th>\n",
       "      <td>1</td>\n",
       "      <td>[1]</td>\n",
       "      <td>0.219365</td>\n",
       "      <td>0.217600</td>\n",
       "      <td>0.074382</td>\n",
       "      <td>579</td>\n",
       "      <td>291</td>\n",
       "      <td>0.665517</td>\n",
       "    </tr>\n",
       "    <tr>\n",
       "      <th>keyword__motion by</th>\n",
       "      <td>2</td>\n",
       "      <td>[1]</td>\n",
       "      <td>0.602622</td>\n",
       "      <td>0.602118</td>\n",
       "      <td>0.064801</td>\n",
       "      <td>2228</td>\n",
       "      <td>162</td>\n",
       "      <td>0.932218</td>\n",
       "    </tr>\n",
       "    <tr>\n",
       "      <th>keyword__motion (oral)</th>\n",
       "      <td>3</td>\n",
       "      <td>[1]</td>\n",
       "      <td>0.013364</td>\n",
       "      <td>0.013364</td>\n",
       "      <td>0.000000</td>\n",
       "      <td>53</td>\n",
       "      <td>0</td>\n",
       "      <td>1.000000</td>\n",
       "    </tr>\n",
       "    <tr>\n",
       "      <th>keyword__joint motion</th>\n",
       "      <td>4</td>\n",
       "      <td>[1]</td>\n",
       "      <td>0.025466</td>\n",
       "      <td>0.025214</td>\n",
       "      <td>0.000756</td>\n",
       "      <td>100</td>\n",
       "      <td>1</td>\n",
       "      <td>0.990099</td>\n",
       "    </tr>\n",
       "    <tr>\n",
       "      <th>keyword__notice</th>\n",
       "      <td>5</td>\n",
       "      <td>[0]</td>\n",
       "      <td>0.077660</td>\n",
       "      <td>0.077660</td>\n",
       "      <td>0.066566</td>\n",
       "      <td>204</td>\n",
       "      <td>104</td>\n",
       "      <td>0.662338</td>\n",
       "    </tr>\n",
       "    <tr>\n",
       "      <th>keyword__notice of motion</th>\n",
       "      <td>6</td>\n",
       "      <td>[0]</td>\n",
       "      <td>0.037821</td>\n",
       "      <td>0.037821</td>\n",
       "      <td>0.037821</td>\n",
       "      <td>118</td>\n",
       "      <td>32</td>\n",
       "      <td>0.786667</td>\n",
       "    </tr>\n",
       "    <tr>\n",
       "      <th>keyword__judgement</th>\n",
       "      <td>7</td>\n",
       "      <td>[0]</td>\n",
       "      <td>0.000756</td>\n",
       "      <td>0.000756</td>\n",
       "      <td>0.000756</td>\n",
       "      <td>0</td>\n",
       "      <td>3</td>\n",
       "      <td>0.000000</td>\n",
       "    </tr>\n",
       "    <tr>\n",
       "      <th>keyword__final pretrial conference</th>\n",
       "      <td>8</td>\n",
       "      <td>[0]</td>\n",
       "      <td>0.012103</td>\n",
       "      <td>0.012103</td>\n",
       "      <td>0.002269</td>\n",
       "      <td>47</td>\n",
       "      <td>1</td>\n",
       "      <td>0.979167</td>\n",
       "    </tr>\n",
       "    <tr>\n",
       "      <th>keyword__denying motion</th>\n",
       "      <td>9</td>\n",
       "      <td>[0]</td>\n",
       "      <td>0.000252</td>\n",
       "      <td>0.000252</td>\n",
       "      <td>0.000252</td>\n",
       "      <td>1</td>\n",
       "      <td>0</td>\n",
       "      <td>1.000000</td>\n",
       "    </tr>\n",
       "    <tr>\n",
       "      <th>lf_first_word_motion</th>\n",
       "      <td>10</td>\n",
       "      <td>[1]</td>\n",
       "      <td>0.726677</td>\n",
       "      <td>0.720877</td>\n",
       "      <td>0.024458</td>\n",
       "      <td>2867</td>\n",
       "      <td>15</td>\n",
       "      <td>0.994795</td>\n",
       "    </tr>\n",
       "    <tr>\n",
       "      <th>lf_motion_not_in_first_three_words</th>\n",
       "      <td>11</td>\n",
       "      <td>[0]</td>\n",
       "      <td>0.198185</td>\n",
       "      <td>0.184065</td>\n",
       "      <td>0.104639</td>\n",
       "      <td>766</td>\n",
       "      <td>20</td>\n",
       "      <td>0.974555</td>\n",
       "    </tr>\n",
       "    <tr>\n",
       "      <th>lf_motion_mentioned_later</th>\n",
       "      <td>12</td>\n",
       "      <td>[0]</td>\n",
       "      <td>0.173727</td>\n",
       "      <td>0.173222</td>\n",
       "      <td>0.105648</td>\n",
       "      <td>671</td>\n",
       "      <td>18</td>\n",
       "      <td>0.973875</td>\n",
       "    </tr>\n",
       "    <tr>\n",
       "      <th>lf_motion_early</th>\n",
       "      <td>13</td>\n",
       "      <td>[1]</td>\n",
       "      <td>0.655068</td>\n",
       "      <td>0.638174</td>\n",
       "      <td>0.027231</td>\n",
       "      <td>2532</td>\n",
       "      <td>66</td>\n",
       "      <td>0.974596</td>\n",
       "    </tr>\n",
       "    <tr>\n",
       "      <th>missing_keyword__motion</th>\n",
       "      <td>14</td>\n",
       "      <td>[]</td>\n",
       "      <td>0.000000</td>\n",
       "      <td>0.000000</td>\n",
       "      <td>0.000000</td>\n",
       "      <td>0</td>\n",
       "      <td>0</td>\n",
       "      <td>0.000000</td>\n",
       "    </tr>\n",
       "  </tbody>\n",
       "</table>\n",
       "</div>"
      ],
      "text/plain": [
       "                                     j Polarity  Coverage  Overlaps  \\\n",
       "keyword__motion of                  0   [1]      0.006304  0.006304   \n",
       "keyword__motion to                  1   [1]      0.219365  0.217600   \n",
       "keyword__motion by                  2   [1]      0.602622  0.602118   \n",
       "keyword__motion (oral)              3   [1]      0.013364  0.013364   \n",
       "keyword__joint motion               4   [1]      0.025466  0.025214   \n",
       "keyword__notice                     5   [0]      0.077660  0.077660   \n",
       "keyword__notice of motion           6   [0]      0.037821  0.037821   \n",
       "keyword__judgement                  7   [0]      0.000756  0.000756   \n",
       "keyword__final pretrial conference  8   [0]      0.012103  0.012103   \n",
       "keyword__denying motion             9   [0]      0.000252  0.000252   \n",
       "lf_first_word_motion                10  [1]      0.726677  0.720877   \n",
       "lf_motion_not_in_first_three_words  11  [0]      0.198185  0.184065   \n",
       "lf_motion_mentioned_later           12  [0]      0.173727  0.173222   \n",
       "lf_motion_early                     13  [1]      0.655068  0.638174   \n",
       "missing_keyword__motion             14  []       0.000000  0.000000   \n",
       "\n",
       "                                    Conflicts  Correct  Incorrect  Emp. Acc.  \n",
       "keyword__motion of                  0.004539   6        19         0.240000   \n",
       "keyword__motion to                  0.074382   579      291        0.665517   \n",
       "keyword__motion by                  0.064801   2228     162        0.932218   \n",
       "keyword__motion (oral)              0.000000   53       0          1.000000   \n",
       "keyword__joint motion               0.000756   100      1          0.990099   \n",
       "keyword__notice                     0.066566   204      104        0.662338   \n",
       "keyword__notice of motion           0.037821   118      32         0.786667   \n",
       "keyword__judgement                  0.000756   0        3          0.000000   \n",
       "keyword__final pretrial conference  0.002269   47       1          0.979167   \n",
       "keyword__denying motion             0.000252   1        0          1.000000   \n",
       "lf_first_word_motion                0.024458   2867     15         0.994795   \n",
       "lf_motion_not_in_first_three_words  0.104639   766      20         0.974555   \n",
       "lf_motion_mentioned_later           0.105648   671      18         0.973875   \n",
       "lf_motion_early                     0.027231   2532     66         0.974596   \n",
       "missing_keyword__motion             0.000000   0        0          0.000000   "
      ]
     },
     "execution_count": 25,
     "metadata": {},
     "output_type": "execute_result"
    }
   ],
   "source": [
    "LFAnalysis(L=L_train, lfs=lfs).lf_summary(Y=df_train['motion'].to_numpy())"
   ]
  },
  {
   "cell_type": "code",
   "execution_count": 26,
   "metadata": {},
   "outputs": [
    {
     "data": {
      "text/plain": [
       "0.9982349974785678"
      ]
     },
     "execution_count": 26,
     "metadata": {},
     "output_type": "execute_result"
    }
   ],
   "source": [
    "LFAnalysis(L=L_train, lfs=lfs).label_coverage()"
   ]
  },
  {
   "cell_type": "markdown",
   "metadata": {},
   "source": [
    "Lots of statistics about labeling functions — like coverage — are useful when building any Snorkel application. So Snorkel provides tooling for common LF analyses using the LFAnalysis utility. We report the following summary statistics for multiple LFs at once:\n",
    "\n",
    "* Polarity: The set of unique labels this LF outputs (excluding abstains)\n",
    "* Coverage: The fraction of the dataset the LF labels\n",
    "* Overlaps: The fraction of the dataset where this LF and at least one other LF label\n",
    "* Conflicts: The fraction of the dataset where this LF and at least one other LF label and disagree\n",
    "* Correct: The number of data points this LF labels correctly (if gold labels are provided)\n",
    "* Incorrect: The number of data points this LF labels incorrectly (if gold labels are provided)\n",
    "* Empirical Accuracy: The empirical accuracy of this LF (if gold labels are provided)"
   ]
  },
  {
   "cell_type": "markdown",
   "metadata": {},
   "source": [
    "We see that our labeling functions vary in coverage, how much they overlap/conflict with one another, and almost certainly their accuracies as well. We can view a histogram of how many LF labels the data points in our train set have to get an idea of our total coverage."
   ]
  },
  {
   "cell_type": "code",
   "execution_count": 27,
   "metadata": {},
   "outputs": [
    {
     "data": {
      "image/png": "[encoded data removed]",
      "text/plain": [
       "<Figure size 432x288 with 1 Axes>"
      ]
     },
     "metadata": {
      "needs_background": "light"
     },
     "output_type": "display_data"
    }
   ],
   "source": [
    "import matplotlib.pyplot as plt\n",
    "\n",
    "%matplotlib inline\n",
    "\n",
    "\n",
    "def plot_label_frequency(L):\n",
    "    plt.hist((L != ABSTAIN).sum(axis=1), density=True, bins=range(L.shape[1]))\n",
    "    plt.xlabel(\"Number of labels\")\n",
    "    plt.ylabel(\"Fraction of dataset\")\n",
    "    plt.show()\n",
    "\n",
    "\n",
    "plot_label_frequency(L_train)"
   ]
  },
  {
   "cell_type": "markdown",
   "metadata": {},
   "source": [
    "We see that over less than 1/10 of our `train` dataset data points have 0 or fewer labels from LFs. The labels we do have can be used to train a classifier over the comment text directly, allowing this final machine learning model to generalize beyond what our labeling functions labeling.\n",
    "\n",
    "Our goal is now to convert the labels from our LFs into a single noise-aware probabilistic (or confidence-weighted) label per data point. \n",
    "\n",
    "A simple baseline for doing this is to take the majority vote on a per-data point basis: if more LFs voted MOTION than NOT_MOTION, label it MOTION (and vice versa). We can test this with the `MajorityLabelVoter` baseline model."
   ]
  },
  {
   "cell_type": "code",
   "execution_count": 28,
   "metadata": {},
   "outputs": [],
   "source": [
    "majority_model = MajorityLabelVoter()\n",
    "preds_train_majority_model = majority_model.predict(L=L_train)"
   ]
  },
  {
   "cell_type": "code",
   "execution_count": 29,
   "metadata": {},
   "outputs": [
    {
     "name": "stderr",
     "output_type": "stream",
     "text": [
      "INFO:root:Computing O...\n",
      "INFO:root:Estimating \\mu...\n",
      "  0%|          | 0/500 [00:00<?, ?epoch/s]INFO:root:[0 epochs]: TRAIN:[loss=1.093]\n",
      "INFO:root:[100 epochs]: TRAIN:[loss=0.011]\n",
      "INFO:root:[200 epochs]: TRAIN:[loss=0.011]\n",
      " 40%|████      | 201/500 [00:00<00:00, 1999.59epoch/s]INFO:root:[300 epochs]: TRAIN:[loss=0.011]\n",
      "INFO:root:[400 epochs]: TRAIN:[loss=0.011]\n",
      "100%|██████████| 500/500 [00:00<00:00, 2341.59epoch/s]\n",
      "INFO:root:Finished Training\n"
     ]
    }
   ],
   "source": [
    "label_model = LabelModel(cardinality=2, device='cpu', verbose=True)\n",
    "label_model.fit(L_train=L_train, n_epochs=500, log_freq=100, seed=123)"
   ]
  },
  {
   "cell_type": "code",
   "execution_count": 30,
   "metadata": {},
   "outputs": [],
   "source": [
    "preds_train_label_model = label_model.predict(L=L_train)"
   ]
  },
  {
   "cell_type": "markdown",
   "metadata": {},
   "source": [
    "**Train accuracy**"
   ]
  },
  {
   "cell_type": "code",
   "execution_count": 31,
   "metadata": {},
   "outputs": [
    {
     "name": "stdout",
     "output_type": "stream",
     "text": [
      "Majority Vote Accuracy:   97.9%\n",
      "Label Model Accuracy:     93.7%\n"
     ]
    }
   ],
   "source": [
    "majority_acc = majority_model.score(L=L_train, Y=df_train.motion, tie_break_policy=\"random\")[\n",
    "    \"accuracy\"\n",
    "]\n",
    "print(f\"{'Majority Vote Accuracy:':<25} {majority_acc * 100:.1f}%\")\n",
    "\n",
    "label_model_acc = label_model.score(L=L_train, Y=df_train.motion, tie_break_policy=\"random\")[\n",
    "    \"accuracy\"\n",
    "]\n",
    "print(f\"{'Label Model Accuracy:':<25} {label_model_acc * 100:.1f}%\")"
   ]
  },
  {
   "cell_type": "markdown",
   "metadata": {},
   "source": [
    "**Val accuracy**"
   ]
  },
  {
   "cell_type": "code",
   "execution_count": 32,
   "metadata": {},
   "outputs": [
    {
     "name": "stdout",
     "output_type": "stream",
     "text": [
      "Majority Vote Accuracy:   97.2%\n",
      "Label Model Accuracy:     93.1%\n"
     ]
    }
   ],
   "source": [
    "majority_acc = majority_model.score(L=L_val, Y=df_val.motion, tie_break_policy=\"random\")[\n",
    "    \"accuracy\"\n",
    "]\n",
    "print(f\"{'Majority Vote Accuracy:':<25} {majority_acc * 100:.1f}%\")\n",
    "\n",
    "label_model_acc = label_model.score(L=L_val, Y=df_val.motion, tie_break_policy=\"random\")[\n",
    "    \"accuracy\"\n",
    "]\n",
    "print(f\"{'Label Model Accuracy:':<25} {label_model_acc * 100:.1f}%\")"
   ]
  },
  {
   "cell_type": "markdown",
   "metadata": {},
   "source": [
    "**Test accuracy**"
   ]
  },
  {
   "cell_type": "code",
   "execution_count": 33,
   "metadata": {},
   "outputs": [
    {
     "name": "stdout",
     "output_type": "stream",
     "text": [
      "Majority Vote Accuracy:   97.8%\n",
      "Label Model Accuracy:     92.9%\n"
     ]
    }
   ],
   "source": [
    "majority_acc = majority_model.score(L=L_test, Y=df_test.motion, tie_break_policy=\"random\")[\n",
    "    \"accuracy\"\n",
    "]\n",
    "print(f\"{'Majority Vote Accuracy:':<25} {majority_acc * 100:.1f}%\")\n",
    "\n",
    "label_model_acc = label_model.score(L=L_test, Y=df_test.motion, tie_break_policy=\"random\")[\n",
    "    \"accuracy\"\n",
    "]\n",
    "print(f\"{'Label Model Accuracy:':<25} {label_model_acc * 100:.1f}%\")"
   ]
  },
  {
   "cell_type": "code",
   "execution_count": 34,
   "metadata": {},
   "outputs": [
    {
     "data": {
      "image/png": "[encoded data removed]",
      "text/plain": [
       "<Figure size 432x288 with 1 Axes>"
      ]
     },
     "metadata": {
      "needs_background": "light"
     },
     "output_type": "display_data"
    }
   ],
   "source": [
    "def plot_probabilities_histogram(Y):\n",
    "    plt.hist(Y, bins=10)\n",
    "    plt.xlabel(\"Probability of MOTION\")\n",
    "    plt.ylabel(\"Number of data points\")\n",
    "    plt.show()\n",
    "\n",
    "\n",
    "probs_train = label_model.predict_proba(L=L_train)\n",
    "plot_probabilities_histogram(probs_train[:, MOTION])"
   ]
  },
  {
   "cell_type": "code",
   "execution_count": 35,
   "metadata": {},
   "outputs": [
    {
     "data": {
      "image/png": "[encoded data removed]",
      "text/plain": [
       "<Figure size 432x288 with 1 Axes>"
      ]
     },
     "metadata": {
      "needs_background": "light"
     },
     "output_type": "display_data"
    }
   ],
   "source": [
    "def plot_probabilities_histogram(Y):\n",
    "    plt.hist(Y, bins=10)\n",
    "    plt.xlabel(\"Probability of NOT MOTION\")\n",
    "    plt.ylabel(\"Number of data points\")\n",
    "    plt.show()\n",
    "\n",
    "\n",
    "probs_train = label_model.predict_proba(L=L_train)\n",
    "plot_probabilities_histogram(probs_train[:, NOT_MOTION])"
   ]
  },
  {
   "cell_type": "code",
   "execution_count": 36,
   "metadata": {},
   "outputs": [],
   "source": [
    "from snorkel.labeling import filter_unlabeled_dataframe\n",
    "\n",
    "df_train_filtered, probs_train_filtered = filter_unlabeled_dataframe(\n",
    "    X=df_train, y=probs_train, L=L_train\n",
    ")"
   ]
  },
  {
   "cell_type": "code",
   "execution_count": 37,
   "metadata": {},
   "outputs": [
    {
     "data": {
      "text/html": [
       "<div>\n",
       "<style scoped>\n",
       "    .dataframe tbody tr th:only-of-type {\n",
       "        vertical-align: middle;\n",
       "    }\n",
       "\n",
       "    .dataframe tbody tr th {\n",
       "        vertical-align: top;\n",
       "    }\n",
       "\n",
       "    .dataframe thead th {\n",
       "        text-align: right;\n",
       "    }\n",
       "</style>\n",
       "<table border=\"1\" class=\"dataframe\">\n",
       "  <thead>\n",
       "    <tr style=\"text-align: right;\">\n",
       "      <th></th>\n",
       "      <th>docket_entry_id</th>\n",
       "      <th>motion</th>\n",
       "      <th>text</th>\n",
       "    </tr>\n",
       "  </thead>\n",
       "  <tbody>\n",
       "    <tr>\n",
       "      <th>3803</th>\n",
       "      <td>6060</td>\n",
       "      <td>0</td>\n",
       "      <td>Amended NOTICE of Motion by Eugene K. Hollander for presentment of motion to amend/correct 45 before Honorable James B. Zagel on 12/17/2009 at 10:15 AM. (Hollander, Eugene) (Entered: 12/08/2009)</td>\n",
       "    </tr>\n",
       "    <tr>\n",
       "      <th>6115</th>\n",
       "      <td>663</td>\n",
       "      <td>1</td>\n",
       "      <td>MOTION by Defendants FW Associates LLC, Barry Fieldman, Juanita WassermanTurnover of Funds in LPL Financial Account  (Attachments: # 1 Exhibit 1, # 2 Exhibit 2)(Diller, Joshua) (Entered: 09/01/2015)</td>\n",
       "    </tr>\n",
       "    <tr>\n",
       "      <th>4727</th>\n",
       "      <td>5306</td>\n",
       "      <td>0</td>\n",
       "      <td>JUDGMENT (Sentencing Order) as to William C. Alexander (2): The defendant pleaded guilty to count(s) one(1) of the indictment. The defendant is hereby committed to the custody of the United States Bureau of Prisons to be imprisoned for a total term of: eighty-seven (87) months. The defendant is remanded to the custody of the United States Marshal. Upon release from imprisonment, the defendant shall be on supervised release for a term of: two(2) years. Standard conditions of supervision. Additional supervised release terms. Defendant shall pay an assessment in the total amount of $100.00. Schedule of payments. Count(s) 2&amp; 3 are dismissed on motion of the United States., William C. Alexander terminated. Signed by the Honorable Matthew F. Kennelly on 3/7/2011.Mailed copy to counsel of record notice (yap, ) (Entered: 03/08/2011)</td>\n",
       "    </tr>\n",
       "    <tr>\n",
       "      <th>5932</th>\n",
       "      <td>10970</td>\n",
       "      <td>1</td>\n",
       "      <td>MOTION by Defendants Athanasios Bournais, P-K-B Incorporated for settlement AGREED Motion for Court Approval of Settlement and Dismissal of Lawsuit (Attachments: # 1 Exhibit A (Filed Under Seal), # 2 Exhibit B)(Moran, Jody) (Entered: 12/28/2015)</td>\n",
       "    </tr>\n",
       "    <tr>\n",
       "      <th>3446</th>\n",
       "      <td>10751</td>\n",
       "      <td>1</td>\n",
       "      <td>MOTION by Cross Claimant Douglas Phillips, Defendant Douglas Phillips, Cross Defendant Douglas Phillips for disbursement of funds , approval of settlement, and dismissal of case (Attachments: # 1 Exhibit A - Trust document, # 2 Text of Proposed Order)(Bryan, Saskia) (Entered: 10/16/2012)</td>\n",
       "    </tr>\n",
       "    <tr>\n",
       "      <th>...</th>\n",
       "      <td>...</td>\n",
       "      <td>...</td>\n",
       "      <td>...</td>\n",
       "    </tr>\n",
       "    <tr>\n",
       "      <th>307</th>\n",
       "      <td>8523</td>\n",
       "      <td>1</td>\n",
       "      <td>MOTION by Plaintiffs Board of Trustees of the Joint Apprenticeship Committee Fund of the Plumbing &amp; Heating Industry of Lake and McHenry Counties, Board of Trustees of the Plumbers Local Union No. 93 U.A., Board of Trustees of the Plumbers Local Union No. 93 U.A. Health and Welfare Fund, Board of Trustees of the Plumbers Local Union No. 93 U.A. Pension Fund, Board of Trustees of the Plumbers Local Union No. 93 U.A. Retirement Account Fund, The Industry Advancement Fund For an Order Compelling Defendant to Deliver Up its 2004 Ford F-750 Pursuant to 735 ILCS 5/2-1402(c) (Attachments: # 1 Exhibit 1 - Citation to Discover Assets, # 2 Exhibit 2 - Affidavit of Service, # 3 Exhibit 3 - Title Status Inquiry, # 4 Text of Proposed Order)(Krol, Jeffrey) (Entered: 10/07/2010)</td>\n",
       "    </tr>\n",
       "    <tr>\n",
       "      <th>636</th>\n",
       "      <td>14284</td>\n",
       "      <td>1</td>\n",
       "      <td>First MOTION for Summary Judgment  by Defendant United Food &amp; Commercial Workers Union &amp; Employers Calumet Region Insurance Fund. (Torres PHV, Joseph) (Entered: 03/25/2019)</td>\n",
       "    </tr>\n",
       "    <tr>\n",
       "      <th>1551</th>\n",
       "      <td>9638</td>\n",
       "      <td>1</td>\n",
       "      <td>MOTION by Defendant Ray Jones for extension of time (Neddenriep, Gretchen) (Entered: 02/11/2009)</td>\n",
       "    </tr>\n",
       "    <tr>\n",
       "      <th>5623</th>\n",
       "      <td>17451</td>\n",
       "      <td>1</td>\n",
       "      <td>MOTION by USA for forfeiture as to William Block (Attachments: # 1 Text of Proposed Order)(Noller, Lisa) (Entered: 07/19/2010)</td>\n",
       "    </tr>\n",
       "    <tr>\n",
       "      <th>4198</th>\n",
       "      <td>17883</td>\n",
       "      <td>0</td>\n",
       "      <td>EXHIBIT by Plaintiff Antoine Land EXHIBITS E-G to Plaintiffs' Supplement in Opposition to Comcast's Motion to Dismiss regarding MOTION by Plaintiff Antoine Land for leave to file Plaintiffs' Motion for Leave to File Supplemental Evidence in Opposition to Comcast's Motion to Dismiss 26 (Attachments: # 1 Exhibit F to Supplement, # 2 Exhibit G to Supplement)(Stephan, Ryan) (Entered: 04/07/2011)</td>\n",
       "    </tr>\n",
       "  </tbody>\n",
       "</table>\n",
       "<p>3959 rows × 3 columns</p>\n",
       "</div>"
      ],
      "text/plain": [
       "      docket_entry_id  motion  \\\n",
       "3803  6060             0        \n",
       "6115  663              1        \n",
       "4727  5306             0        \n",
       "5932  10970            1        \n",
       "3446  10751            1        \n",
       "...     ...           ..        \n",
       "307   8523             1        \n",
       "636   14284            1        \n",
       "1551  9638             1        \n",
       "5623  17451            1        \n",
       "4198  17883            0        \n",
       "\n",
       "                                                                                                                                                                                                                                                                                                                                                                                                                                                                                                                                                                                                                                                                                                                                                                                                                                                                      text  \n",
       "3803   Amended NOTICE of Motion by Eugene K. Hollander for presentment of motion to amend/correct 45 before Honorable James B. Zagel on 12/17/2009 at 10:15 AM. (Hollander, Eugene) (Entered: 12/08/2009)                                                                                                                                                                                                                                                                                                                                                                                                                                                                                                                                                                                                                                                                   \n",
       "6115  MOTION by Defendants FW Associates LLC, Barry Fieldman, Juanita WassermanTurnover of Funds in LPL Financial Account  (Attachments: # 1 Exhibit 1, # 2 Exhibit 2)(Diller, Joshua) (Entered: 09/01/2015)                                                                                                                                                                                                                                                                                                                                                                                                                                                                                                                                                                                                                                                                \n",
       "4727  JUDGMENT (Sentencing Order) as to William C. Alexander (2): The defendant pleaded guilty to count(s) one(1) of the indictment. The defendant is hereby committed to the custody of the United States Bureau of Prisons to be imprisoned for a total term of: eighty-seven (87) months. The defendant is remanded to the custody of the United States Marshal. Upon release from imprisonment, the defendant shall be on supervised release for a term of: two(2) years. Standard conditions of supervision. Additional supervised release terms. Defendant shall pay an assessment in the total amount of $100.00. Schedule of payments. Count(s) 2& 3 are dismissed on motion of the United States., William C. Alexander terminated. Signed by the Honorable Matthew F. Kennelly on 3/7/2011.Mailed copy to counsel of record notice (yap, ) (Entered: 03/08/2011)  \n",
       "5932  MOTION by Defendants Athanasios Bournais, P-K-B Incorporated for settlement AGREED Motion for Court Approval of Settlement and Dismissal of Lawsuit (Attachments: # 1 Exhibit A (Filed Under Seal), # 2 Exhibit B)(Moran, Jody) (Entered: 12/28/2015)                                                                                                                                                                                                                                                                                                                                                                                                                                                                                                                                                                                                                 \n",
       "3446  MOTION by Cross Claimant Douglas Phillips, Defendant Douglas Phillips, Cross Defendant Douglas Phillips for disbursement of funds , approval of settlement, and dismissal of case (Attachments: # 1 Exhibit A - Trust document, # 2 Text of Proposed Order)(Bryan, Saskia) (Entered: 10/16/2012)                                                                                                                                                                                                                                                                                                                                                                                                                                                                                                                                                                      \n",
       "...                                                                                                                                                                                                                                                                                                ...                                                                                                                                                                                                                                                                                                                                                                                                                                                                                                                                                                      \n",
       "307   MOTION by Plaintiffs Board of Trustees of the Joint Apprenticeship Committee Fund of the Plumbing & Heating Industry of Lake and McHenry Counties, Board of Trustees of the Plumbers Local Union No. 93 U.A., Board of Trustees of the Plumbers Local Union No. 93 U.A. Health and Welfare Fund, Board of Trustees of the Plumbers Local Union No. 93 U.A. Pension Fund, Board of Trustees of the Plumbers Local Union No. 93 U.A. Retirement Account Fund, The Industry Advancement Fund For an Order Compelling Defendant to Deliver Up its 2004 Ford F-750 Pursuant to 735 ILCS 5/2-1402(c) (Attachments: # 1 Exhibit 1 - Citation to Discover Assets, # 2 Exhibit 2 - Affidavit of Service, # 3 Exhibit 3 - Title Status Inquiry, # 4 Text of Proposed Order)(Krol, Jeffrey) (Entered: 10/07/2010)                                                                \n",
       "636   First MOTION for Summary Judgment  by Defendant United Food & Commercial Workers Union & Employers Calumet Region Insurance Fund. (Torres PHV, Joseph) (Entered: 03/25/2019)                                                                                                                                                                                                                                                                                                                                                                                                                                                                                                                                                                                                                                                                                          \n",
       "1551  MOTION by Defendant Ray Jones for extension of time (Neddenriep, Gretchen) (Entered: 02/11/2009)                                                                                                                                                                                                                                                                                                                                                                                                                                                                                                                                                                                                                                                                                                                                                                      \n",
       "5623  MOTION by USA for forfeiture as to William Block (Attachments: # 1 Text of Proposed Order)(Noller, Lisa) (Entered: 07/19/2010)                                                                                                                                                                                                                                                                                                                                                                                                                                                                                                                                                                                                                                                                                                                                        \n",
       "4198  EXHIBIT by Plaintiff Antoine Land EXHIBITS E-G to Plaintiffs' Supplement in Opposition to Comcast's Motion to Dismiss regarding MOTION by Plaintiff Antoine Land for leave to file Plaintiffs' Motion for Leave to File Supplemental Evidence in Opposition to Comcast's Motion to Dismiss 26 (Attachments: # 1 Exhibit F to Supplement, # 2 Exhibit G to Supplement)(Stephan, Ryan) (Entered: 04/07/2011)                                                                                                                                                                                                                                                                                                                                                                                                                                                            \n",
       "\n",
       "[3959 rows x 3 columns]"
      ]
     },
     "execution_count": 37,
     "metadata": {},
     "output_type": "execute_result"
    }
   ],
   "source": [
    "df_train_filtered"
   ]
  },
  {
   "cell_type": "code",
   "execution_count": 42,
   "metadata": {},
   "outputs": [],
   "source": [
    "from sklearn.feature_extraction.text import CountVectorizer\n",
    "\n",
    "vectorizer = CountVectorizer(ngram_range=(1, 5))\n",
    "X_train = vectorizer.fit_transform(df_train_filtered.text.tolist())\n",
    "X_test = vectorizer.transform(df_test.text.tolist())"
   ]
  },
  {
   "cell_type": "code",
   "execution_count": 39,
   "metadata": {},
   "outputs": [],
   "source": [
    "from snorkel.utils import probs_to_preds\n",
    "\n",
    "preds_train_filtered = probs_to_preds(probs=probs_train_filtered)"
   ]
  },
  {
   "cell_type": "code",
   "execution_count": 46,
   "metadata": {},
   "outputs": [
    {
     "data": {
      "text/plain": [
       "LogisticRegression(C=1000.0, solver='liblinear')"
      ]
     },
     "execution_count": 46,
     "metadata": {},
     "output_type": "execute_result"
    }
   ],
   "source": [
    "from sklearn.linear_model import LogisticRegression\n",
    "\n",
    "sklearn_model = LogisticRegression(C=1e3, solver=\"liblinear\")\n",
    "sklearn_model.fit(X=X_train, y=preds_train_filtered)"
   ]
  },
  {
   "cell_type": "code",
   "execution_count": 47,
   "metadata": {},
   "outputs": [
    {
     "name": "stdout",
     "output_type": "stream",
     "text": [
      "Test Accuracy: 93.3%\n"
     ]
    }
   ],
   "source": [
    "print(f\"Test Accuracy: {sklearn_model.score(X=X_test, y=df_test.motion) * 100:.1f}%\")"
   ]
  },
  {
   "cell_type": "code",
   "execution_count": null,
   "metadata": {},
   "outputs": [],
   "source": []
  }
 ],
 "metadata": {
  "kernelspec": {
   "display_name": "Python 3",
   "language": "python",
   "name": "python3"
  },
  "language_info": {
   "codemirror_mode": {
    "name": "ipython",
    "version": 3
   },
   "file_extension": ".py",
   "mimetype": "text/x-python",
   "name": "python",
   "nbconvert_exporter": "python",
   "pygments_lexer": "ipython3",
   "version": "3.8.5"
  }
 },
 "nbformat": 4,
 "nbformat_minor": 4
}