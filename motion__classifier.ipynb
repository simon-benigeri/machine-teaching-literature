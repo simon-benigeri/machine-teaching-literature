{
 "cells": [
  {
   "cell_type": "markdown",
   "metadata": {},
   "source": [
    "# 🚀 Motion Classifier Tutorial: Data Labeling with Snorkel"
   ]
  },
  {
   "cell_type": "markdown",
   "metadata": {},
   "source": [
    "In this tutorial, we will walk through the process of using Snorkel to build a training set for classifying court docket entries as MOTION or NOT MOTION.\n",
    "\n",
    "Resources:\n",
    "* For an overview of Snorkel, visit [snorkel.org](https://snorkel.org)\n",
    "* You can also check out the [Snorkel API documentation](https://snorkel.readthedocs.io/)\n",
    "* For some real-world applications, check out [Snorkel Applications](https://www.snorkel.org/resources/)\n",
    "* Why does this work? See [Data Programming: Creating Large Training Sets, Quickly](https://arxiv.org/abs/1605.07723)\n",
    "* Snorkel paper: [Snorkel: Rapid Training Data Creation with Weak Supervision](https://arxiv.org/abs/1711.10160)\n",
    "\n",
    "The goal of this tutorial is to illustrate some basic components and concepts of Snorkel in a simple way, but also to dive into a process of iteratively developing a text classifier in Snorkel.\n",
    "\n",
    "**The goal of this research is to design an interaction for a non-technical, domain expert to quickly label a dataset.**\n",
    "\n",
    "To achieve this goal, we start with a basic task: *binary text classification* of court docket entries as MOTION or NOT MOTION.\n",
    "\n",
    "We have access to a large amount of *unlabeled data* (about 1 300 000 samples) in the form of court docket entries with some metadata. We also have access to about *7000 labeled samples*.\n",
    "\n",
    "In order to train a classifier, we need to label our data, but doing so by hand for real world applications can often be prohibitively slow and expensive.\n",
    "\n",
    "In these cases, we can turn to a _weak supervision_ approach, using **_labeling functions (LFs)_** in Snorkel: noisy, programmatic rules and heuristics that assign labels to unlabeled training data.\n",
    "\n",
    "We'll dive into the Snorkel API and how we write labeling functions later in this tutorial, but as an example, we can write an LF that labels data points with `\"MOTION to\"` in the docket entry text as MOTION since many motions contain `\"MOTION to\"`:\n",
    "\n",
    "```python\n",
    "from snorkel.labeling import labeling_function\n",
    "\n",
    "@labeling_function()\n",
    "def lf_contains_link(x):\n",
    "    # Return a label of MOTION if \"MOTION to\" in comment text, otherwise ABSTAIN\n",
    "    return MOTION if \"motion to\" in x.text.lower() else ABSTAIN\n",
    "```\n",
    "\n",
    "The tutorial is divided into four parts:\n",
    "1. **Loading Data**: We load a US courts docket entries dataset, originally used in [\"From data to information: automating data science to explore the U.S. court system\"](https://dl.acm.org/doi/abs/10.1145/3462757.3466100).\n",
    "\n",
    "2. **Writing Labeling Functions**: We write Python programs that take as input a data point and assign labels (or abstain) using heuristics, pattern matching, and third-party models.\n",
    "\n",
    "3. **Combining Labeling Function Outputs with the Label Model**: We model the outputs of the labeling functions over the training set using a Snorkel's, theoretically-grounded modeling approach, [\"Data Programming:\n",
    "Creating Large Training Sets, Quickly\"](https://arxiv.org/abs/1605.07723), which estimates the accuracies and correlations of the labeling functions using only their agreements and disagreements, and then uses this to reweight and combine their outputs, which we then use as _probabilistic_ training labels.\n",
    "\n",
    "4. **Training a Classifier**: We train a classifier that can predict labels for *any* court docket entry (not just the ones labeled by the labeling functions) using the probabilistic training labels from step 3.\n",
    "\n",
    "In future work, we'll consider *multiclass text classification* of court docket entries as MOTION type. Multiclass text classication is an important problem to work on because we need to define a process that is robust to *concept drift*. The set of classes could expand or change over time, and we do not want to start the labeling process from scratch.\n",
    "\n",
    "**Note that this process requires programming, but out target user is not technical.**\n",
    "\n",
    "If we are successful in these text classification tasks, we will consider  solutions to help non-technical workers label the data without programming themselves. Solutions include:\n",
    "1. Function building interfaces, as seen on Snorkel Flow.\n",
    "2. Distant supervision: leveraging external knowledge bases. \n",
    "3. Mapping natural language inputs to labeling functions. We can use the [BabbleLabbleFramework](https://github.com/HazyResearch/babble) to parse Snorkel Labeling Functions\n",
    "\n",
    "<img src=\"images/BabbleLabble.png\" width=\"25%\">\n",
    "\n",
    "4. Interfaces/systems where users can provide annotations, which are then converted to labeling functions. An example of such a technology is [Ruler: Data Programming by Demonstration for Document Labeling](https://aclanthology.org/2020.findings-emnlp.181/)\n",
    "\n",
    "<img src=\"images/Ruler__Labeling_Interaction.png\" alt=\"drawing\" width=\"25%\"/> \n",
    "\n",
    "We are also interested in optimizations of the interaction between the user and the system. An example is given by [Ruler: Data Programming by Demonstration for Document Labeling](https://aclanthology.org/2020.findings-emnlp.181/) below:\n",
    "\n",
    "<img src=\"images/Ruler__DPBD.png\" width=\"25%\">\n",
    "\n",
    "Some other important questions, raised by [Mallinar et al. 2019](https://arxiv.org/pdf/1812.06176.pdf):\n",
    "1. How do we provide guidance to users to create effective labeling functions? From [Mallinar et al. 2019](https://arxiv.org/pdf/1812.06176.pdf), users desire guidance on how to optimize for precision, coverage, and bias between positive/negative examples in creating functions.\n",
    "2. How do we support data exploration? Users may be domain experts, but that does not mean they are familiar with the corpus.\n",
    "3. How do we provide fast feedback and progress tracking? Users desire to see how each query or labeling function impacts the results with immediate feedback. The feedback can help users actively adjust the labeling functions they provided. Systems that require training on many classes stress the need to know when it's time to move on to a diferent class.\n",
    "4. How do we support evolving classes? (A framework like Snorkel can do this.)\n",
    "\n",
    "Other questions:\n",
    "1. How do we minimize the number of samples the user has to see or label?\n",
    "2. Can we use active learning, uncertainty sampling, or other techniques to surface *valuable examples*? [Active WeaSuL: Improving Weak Supervision with Active Learning](https://github.com/SamanthaBiegel/ActiveWeaSuL) provides some ideas on this.\n",
    "3. Can a system learn or define heuristics for data labeling? For instance in [Interactive Weak Supervision: Learning Useful Heuristics for Data Labeling](https://github.com/benbo/interactive-weak-supervision)\n",
    "\n",
    "<img src=\"images/Interactive_weak_supervision.png\" width=\"50%\">\n",
    "\n",
    "Note: For 3. how do we come up with the LF function family? Can it come from [Reef](https://github.com/HazyResearch/reef)? "
   ]
  },
  {
   "cell_type": "markdown",
   "metadata": {},
   "source": [
    "# The code starts here"
   ]
  },
  {
   "cell_type": "markdown",
   "metadata": {},
   "source": [
    "## Imports"
   ]
  },
  {
   "cell_type": "code",
   "execution_count": 1,
   "metadata": {},
   "outputs": [],
   "source": [
    "import re\n",
    "import numpy as np\n",
    "import pandas as pd\n",
    "\n",
    "import metal\n",
    "import snorkel\n",
    "from snorkel.labeling import labeling_function, LabelingFunction, PandasLFApplier, LFAnalysis\n",
    "from snorkel.labeling.model.label_model import LabelModel\n",
    "from snorkel.labeling.model.baselines import MajorityClassVoter\n",
    "from snorkel.labeling.model.baselines import MajorityLabelVoter\n",
    "\n",
    "import spacy\n",
    "from spacy import displacy\n",
    "from spacy.lang.en import English\n",
    "\n",
    "from sklearn.model_selection import train_test_split"
   ]
  },
  {
   "cell_type": "markdown",
   "metadata": {},
   "source": [
    "Set `DISPLAY_FULL_TEXT` to `True` if you want to see the full docket entry texts."
   ]
  },
  {
   "cell_type": "code",
   "execution_count": 2,
   "metadata": {},
   "outputs": [],
   "source": [
    "DISPLAY_FULL_TEXT = True\n",
    "pd.set_option('display.max_colwidth', 0 if DISPLAY_FULL_TEXT else 50)"
   ]
  },
  {
   "cell_type": "markdown",
   "metadata": {},
   "source": [
    "## 1. Loading Data"
   ]
  },
  {
   "cell_type": "code",
   "execution_count": 3,
   "metadata": {},
   "outputs": [],
   "source": [
    "data_dir = 'datasets/court_docket_entries'"
   ]
  },
  {
   "cell_type": "markdown",
   "metadata": {},
   "source": [
    "We have 5 files:\n",
    "1. `motionEntries.csv`: 1 300 000 docket entries, almost all unlabeled, with `text` and `id`\n",
    "2. `tags.csv`: a mapping from `tag_id` to `label`, which is `motion class`\n",
    "3. `thingy.csv`: looks like we can ignore this\n",
    "4. `users.csv`: the annotators\n",
    "5. `usertags`: 7 000 annotations for the docket entries with `docket_entry_id` and `tag_id`"
   ]
  },
  {
   "cell_type": "code",
   "execution_count": 4,
   "metadata": {},
   "outputs": [],
   "source": [
    "# thingy = pd.read_csv(f\"{data_dir}/thingy.csv\")\n",
    "# users = pd.read_csv(f\"{data_dir}/users.csv\")"
   ]
  },
  {
   "cell_type": "markdown",
   "metadata": {},
   "source": [
    "We load the data from `motionEntries.csv`, `tags.csv`, and `usertags.csv`, rename some columns, and merge the data into one dataframe."
   ]
  },
  {
   "cell_type": "code",
   "execution_count": 5,
   "metadata": {},
   "outputs": [],
   "source": [
    "entries = pd.read_csv(f\"{data_dir}/motionEntries.csv\")\n",
    "entries_columns = ['id', 'text', 'case_id', 'sealed', 'jurisdiction']\n",
    "entries = entries[entries_columns].rename(columns={\"id\": \"docket_entry_id\"})"
   ]
  },
  {
   "cell_type": "code",
   "execution_count": 6,
   "metadata": {},
   "outputs": [
    {
     "name": "stdout",
     "output_type": "stream",
     "text": [
      "We have 1377516 docket entries\n"
     ]
    }
   ],
   "source": [
    "print(f\"We have {entries.shape[0]} docket entries\")"
   ]
  },
  {
   "cell_type": "code",
   "execution_count": 7,
   "metadata": {},
   "outputs": [],
   "source": [
    "tags = pd.read_csv(f\"{data_dir}/tags.csv\")\n",
    "# tags_columns = ['id', 'label', 'count']\n",
    "tags_columns = ['id', 'label']\n",
    "tags = tags[tags_columns].rename(columns={'id': 'tag_id'})\n",
    "tags['motion'] = tags['tag_id'].apply(lambda x: int(x not in [26, 28]))"
   ]
  },
  {
   "cell_type": "code",
   "execution_count": 8,
   "metadata": {},
   "outputs": [],
   "source": [
    "usertags = pd.read_csv(f\"{data_dir}/usertags.csv\")\n",
    "usertags_columns = ['id', 'docket_entry_id', 'tag_id']\n",
    "usertags = usertags[usertags_columns].rename(columns={'id': 'usertags_id'})"
   ]
  },
  {
   "cell_type": "code",
   "execution_count": 9,
   "metadata": {},
   "outputs": [
    {
     "name": "stdout",
     "output_type": "stream",
     "text": [
      "We have 7990 labeled docket entries\n"
     ]
    }
   ],
   "source": [
    "print(f\"We have {usertags.shape[0]} labeled docket entries\")"
   ]
  },
  {
   "cell_type": "markdown",
   "metadata": {},
   "source": [
    "We merge the dataframes to get the text and motion label for each docket entry. Also, we remove the samples with label 'SKIP' because we don't know what to do with them."
   ]
  },
  {
   "cell_type": "code",
   "execution_count": 10,
   "metadata": {},
   "outputs": [
    {
     "name": "stdout",
     "output_type": "stream",
     "text": [
      "We have 6610 labeled docket entries when we remove SKIP.\n"
     ]
    }
   ],
   "source": [
    "labels = pd.merge(usertags, tags, on='tag_id')\n",
    "labeled_motions = pd.merge(labels, entries, on='docket_entry_id')\n",
    "labeled_motions = labeled_motions[labeled_motions['label'] != 'SKIP']\n",
    "print(f\"We have {labeled_motions.shape[0]} labeled docket entries when we remove SKIP.\")"
   ]
  },
  {
   "cell_type": "markdown",
   "metadata": {},
   "source": [
    "Let's now create our dataset of labeled functions. We have 6610 samples if we remove the docket entries with label 'SKIP'."
   ]
  },
  {
   "cell_type": "code",
   "execution_count": 11,
   "metadata": {},
   "outputs": [],
   "source": [
    "keep_columns = ['docket_entry_id', 'motion', 'text']\n",
    "lf_set = labeled_motions[keep_columns]"
   ]
  },
  {
   "cell_type": "code",
   "execution_count": 12,
   "metadata": {},
   "outputs": [
    {
     "data": {
      "text/html": [
       "<div>\n",
       "<style scoped>\n",
       "    .dataframe tbody tr th:only-of-type {\n",
       "        vertical-align: middle;\n",
       "    }\n",
       "\n",
       "    .dataframe tbody tr th {\n",
       "        vertical-align: top;\n",
       "    }\n",
       "\n",
       "    .dataframe thead th {\n",
       "        text-align: right;\n",
       "    }\n",
       "</style>\n",
       "<table border=\"1\" class=\"dataframe\">\n",
       "  <thead>\n",
       "    <tr style=\"text-align: right;\">\n",
       "      <th></th>\n",
       "      <th>docket_entry_id</th>\n",
       "      <th>motion</th>\n",
       "      <th>text</th>\n",
       "    </tr>\n",
       "  </thead>\n",
       "  <tbody>\n",
       "    <tr>\n",
       "      <th>1</th>\n",
       "      <td>3112</td>\n",
       "      <td>1</td>\n",
       "      <td>MOTION (Oral) by USA for excludable time from 9/18/07 through and including 10/04/07 pursuant to 18 USC 3161(h)(1) &amp; (h)((1)(F) as to Demario Flemming (jmm-r, ) (Entered: 09/20/2007)</td>\n",
       "    </tr>\n",
       "    <tr>\n",
       "      <th>4</th>\n",
       "      <td>9574</td>\n",
       "      <td>0</td>\n",
       "      <td>DECLARATION of Aref Abdellatif regarding order on motion to compel,,,,,,, text entry,,,,,, 186  (Schaller, Rachel) (Entered: 08/19/2019)</td>\n",
       "    </tr>\n",
       "    <tr>\n",
       "      <th>5</th>\n",
       "      <td>9574</td>\n",
       "      <td>0</td>\n",
       "      <td>DECLARATION of Aref Abdellatif regarding order on motion to compel,,,,,,, text entry,,,,,, 186  (Schaller, Rachel) (Entered: 08/19/2019)</td>\n",
       "    </tr>\n",
       "    <tr>\n",
       "      <th>9</th>\n",
       "      <td>4068</td>\n",
       "      <td>1</td>\n",
       "      <td>MOTION by Tori Frederick DEFENDANT'S MOTION FOR PRETRIAL RELEASE (Rodriguez, Sergio) (Entered: 02/15/2008)</td>\n",
       "    </tr>\n",
       "    <tr>\n",
       "      <th>11</th>\n",
       "      <td>833</td>\n",
       "      <td>1</td>\n",
       "      <td>(Unopposed) NOTICE of Motion by Kathryn Ann Kelly for presentment of motion for leave to file excess pages 44 before Honorable M. David Weisman on 10/26/2017 at 09:15 AM. (Kelly, Kathryn) (Entered: 10/23/2017)</td>\n",
       "    </tr>\n",
       "  </tbody>\n",
       "</table>\n",
       "</div>"
      ],
      "text/plain": [
       "    docket_entry_id  motion  \\\n",
       "1   3112             1        \n",
       "4   9574             0        \n",
       "5   9574             0        \n",
       "9   4068             1        \n",
       "11  833              1        \n",
       "\n",
       "                                                                                                                                                                                                                  text  \n",
       "1   MOTION (Oral) by USA for excludable time from 9/18/07 through and including 10/04/07 pursuant to 18 USC 3161(h)(1) & (h)((1)(F) as to Demario Flemming (jmm-r, ) (Entered: 09/20/2007)                              \n",
       "4   DECLARATION of Aref Abdellatif regarding order on motion to compel,,,,,,, text entry,,,,,, 186  (Schaller, Rachel) (Entered: 08/19/2019)                                                                            \n",
       "5   DECLARATION of Aref Abdellatif regarding order on motion to compel,,,,,,, text entry,,,,,, 186  (Schaller, Rachel) (Entered: 08/19/2019)                                                                            \n",
       "9   MOTION by Tori Frederick DEFENDANT'S MOTION FOR PRETRIAL RELEASE (Rodriguez, Sergio) (Entered: 02/15/2008)                                                                                                          \n",
       "11   (Unopposed) NOTICE of Motion by Kathryn Ann Kelly for presentment of motion for leave to file excess pages 44 before Honorable M. David Weisman on 10/26/2017 at 09:15 AM. (Kelly, Kathryn) (Entered: 10/23/2017)  "
      ]
     },
     "execution_count": 12,
     "metadata": {},
     "output_type": "execute_result"
    }
   ],
   "source": [
    "lf_set.head()"
   ]
  },
  {
   "cell_type": "markdown",
   "metadata": {},
   "source": [
    "Create train, dev, test split: 60/20/20."
   ]
  },
  {
   "cell_type": "code",
   "execution_count": 13,
   "metadata": {},
   "outputs": [],
   "source": [
    "# SPLIT_1 = 0.4\n",
    "SPLIT_1 = 0.4\n",
    "# SPLIT_2 = 0.5"
   ]
  },
  {
   "cell_type": "code",
   "execution_count": 14,
   "metadata": {},
   "outputs": [],
   "source": [
    "df_train, df_test = train_test_split(lf_set, stratify=lf_set['motion'], test_size=SPLIT_1)\n",
    "df_val, df_test = train_test_split(df_test, stratify=df_test['motion'], test_size=0.5)"
   ]
  },
  {
   "cell_type": "code",
   "execution_count": 15,
   "metadata": {},
   "outputs": [],
   "source": [
    "def get_n_samples(df, n):\n",
    "    return df.sample(n)"
   ]
  },
  {
   "cell_type": "markdown",
   "metadata": {},
   "source": [
    "Let's set out voting values. Recall that the classification task is MOTION or NOT MOTION."
   ]
  },
  {
   "cell_type": "code",
   "execution_count": 16,
   "metadata": {},
   "outputs": [],
   "source": [
    "# Set voting values.\n",
    "ABSTAIN = -1 \n",
    "MOTION = 1 \n",
    "NOT_MOTION = 0"
   ]
  },
  {
   "cell_type": "code",
   "execution_count": 17,
   "metadata": {},
   "outputs": [
    {
     "data": {
      "text/html": [
       "<div>\n",
       "<style scoped>\n",
       "    .dataframe tbody tr th:only-of-type {\n",
       "        vertical-align: middle;\n",
       "    }\n",
       "\n",
       "    .dataframe tbody tr th {\n",
       "        vertical-align: top;\n",
       "    }\n",
       "\n",
       "    .dataframe thead th {\n",
       "        text-align: right;\n",
       "    }\n",
       "</style>\n",
       "<table border=\"1\" class=\"dataframe\">\n",
       "  <thead>\n",
       "    <tr style=\"text-align: right;\">\n",
       "      <th></th>\n",
       "      <th>docket_entry_id</th>\n",
       "      <th>motion</th>\n",
       "      <th>text</th>\n",
       "    </tr>\n",
       "  </thead>\n",
       "  <tbody>\n",
       "    <tr>\n",
       "      <th>5844</th>\n",
       "      <td>12571</td>\n",
       "      <td>1</td>\n",
       "      <td>MOTION to Detain by United States of America as to Jesus Montes-Perez. (lns) (Entered: 08/25/2016)</td>\n",
       "    </tr>\n",
       "    <tr>\n",
       "      <th>6778</th>\n",
       "      <td>3880</td>\n",
       "      <td>1</td>\n",
       "      <td>MOTION by Defendant Target Corporation for summary judgment  (Attachments: # 1 Exhibit, # 2 Exhibit, # 3 Exhibit, # 4 Exhibit, # 5 Exhibit)(McGowan, Michael) (Entered: 08/09/2013)</td>\n",
       "    </tr>\n",
       "    <tr>\n",
       "      <th>3947</th>\n",
       "      <td>2510</td>\n",
       "      <td>0</td>\n",
       "      <td>RULE 56 F.R.C.P 56(e) and L.R. 56.1(a)(3) Statement by Clay, Cook County, David Fargus, Jones, Morrison, Price regarding motion for summary judgment 199  (Attachments: # 1 Exhibit Exhibit List, # 2 Exhibit Exhibit A-Amended Complaint, # 3 Exhibit Exhibit B-Defendants' Answer, # 4 Exhibit Exhibit C-Excerpts of Medical Records-Part 1, # 5 Exhibit Exhibit C-Excerpts of Medical Records-Part 2, # 6 Exhibit Exhibit C_Excerpts of Medical Records-Part 3, # 7 Exhibit Exhibit D-Deposition Transcriptof Plaintiff, # 8 Exhibit Deposition Transcript of David Fagus, # 9 Exhibit Exhibit F-Deposition Transcript of Theresa Clay, # 10 Exhibit Exhibit G-Deposition Transcript of Cynthia Jones, # 11 Exhibit Exhibit H-Deposition Transcript of Diane Morrison, # 12 Exhibit Exhibit I-Deposition Transcript of Judy Price, # 13 Exhibit Exhibit J-Affidavit of Dr. Ann Marie Dunlap, # 14 Exhibit Exhibit K-Plaintiff's CCDOC Housing History, # 15 Exhibit Plaintiff's Printout from the Illinois Department of Corrections, # 16 Exhibit Exhibit M-Cermak Policy-Sick Call, # 17 Exhibit Exhibit N-Cermak Policy-Infection Control, # 18 Exhibit Exhibit O-Cermak Policy-Medications, # 19 Exhibit Exhibit P-Detainee Grievance Form dated December 27, 2007, # 20 Exhibit Detainee Grievance Form dated August 24, 2007)(Frey, Kevin) (Entered: 09/17/2012)</td>\n",
       "    </tr>\n",
       "    <tr>\n",
       "      <th>2863</th>\n",
       "      <td>17008</td>\n",
       "      <td>1</td>\n",
       "      <td>MOTION by Plaintiff H&amp;R Block Financial Advisors, Inc. for leave to file excess pages re: Memorandum in Support of Motion for Temporary Restraining Order (Attachments: # 1 Exhibit Memorandum in Support of TRO)(Calkins, Scott) (Entered: 03/01/2007)</td>\n",
       "    </tr>\n",
       "    <tr>\n",
       "      <th>3675</th>\n",
       "      <td>14765</td>\n",
       "      <td>1</td>\n",
       "      <td>Joint MOTION to Dismiss Without Prejudice (by Stipulation) by Plaintiffs AT, AT. (McKibben, Jennifer) (Entered: 11/09/2016)</td>\n",
       "    </tr>\n",
       "    <tr>\n",
       "      <th>5411</th>\n",
       "      <td>9526</td>\n",
       "      <td>1</td>\n",
       "      <td>MOTION by Plaintiffs Kirsten Bain, Tavi Burroughs, Kenia Chavez, Christina Guarino, Katharine Lazzara, Jennifer Livingston, Jessica Maples, Shannon Markey, Donna Ruch, Jamie Snevely, Lisette Venegas, Mary Youngren Plaintiffs' Motion to Resolve Discovery Dispute Over the Production of Disparate Impact Evidence  (Wilmes, Christopher) (Entered: 05/30/2019)</td>\n",
       "    </tr>\n",
       "    <tr>\n",
       "      <th>2403</th>\n",
       "      <td>5009</td>\n",
       "      <td>1</td>\n",
       "      <td>MOTION by Defendant SSC Westchester Operating Company, LLC for protective order  (Rubin, Joshua) (Entered: 08/29/2013)</td>\n",
       "    </tr>\n",
       "    <tr>\n",
       "      <th>7122</th>\n",
       "      <td>4057</td>\n",
       "      <td>1</td>\n",
       "      <td>ORAL motion by USA to unseal as to Tori Frederick (las, ) (Entered: 01/23/2008)</td>\n",
       "    </tr>\n",
       "    <tr>\n",
       "      <th>1171</th>\n",
       "      <td>15470</td>\n",
       "      <td>1</td>\n",
       "      <td>PRO SE MOTION Requesting Jail Credit by Patrick Davis. (lns) (Entered: 10/30/2018)</td>\n",
       "    </tr>\n",
       "    <tr>\n",
       "      <th>5923</th>\n",
       "      <td>646</td>\n",
       "      <td>1</td>\n",
       "      <td>MOTION by Plaintiff William Metropulos to vacate order on motion for attorney fees,, terminate motions,,,,,,,,,,,,,,, 40  (Attachments: # 1 Notice of Filing, # 2 Exhibit 1, # 3 Exhibit 2, # 4 Exhibit 3)(Trout, David) (Entered: 04/08/2015)</td>\n",
       "    </tr>\n",
       "    <tr>\n",
       "      <th>4364</th>\n",
       "      <td>16166</td>\n",
       "      <td>0</td>\n",
       "      <td>PROOF OF SERVICE Executed on 1/8/18 as to 37 Order on Motion to Withdraw as Attorney. (nal) (Entered: 01/10/2018)</td>\n",
       "    </tr>\n",
       "    <tr>\n",
       "      <th>1444</th>\n",
       "      <td>8577</td>\n",
       "      <td>1</td>\n",
       "      <td>Motion for extension of time until 5/7/2012 to answer  filed by Zimmer Holdings, Inc., Zimmer, Inc.. (Attachments: # 1 Proposed Order)(Schoenberger, Erika) [Transferred from Ohio Northern on 4/2/2012.] (Entered: 03/30/2012)</td>\n",
       "    </tr>\n",
       "    <tr>\n",
       "      <th>5407</th>\n",
       "      <td>9022</td>\n",
       "      <td>1</td>\n",
       "      <td>ORAL motion by USA to exclude time as to Lamont Cooper (las, ) (Entered: 06/21/2011)</td>\n",
       "    </tr>\n",
       "    <tr>\n",
       "      <th>6445</th>\n",
       "      <td>11500</td>\n",
       "      <td>1</td>\n",
       "      <td>MOTION to Amend/Correct 95 Order on Motion to Amend/Correct, , MOTION for Leave to File Excess Pages / NFA'S MOTION FOR AMENDED BRIEFING SCHEDULE AND PAGE LIMIT EXTENSION by Defendant National Futures Association. (Boyle PHV, Gregory) (Entered: 01/18/2019)</td>\n",
       "    </tr>\n",
       "    <tr>\n",
       "      <th>3162</th>\n",
       "      <td>2614</td>\n",
       "      <td>1</td>\n",
       "      <td>MOTION by Defendant Morning Glory Products, Inc. to withdraw  (Barkoff, Aaron) (Entered: 10/22/2012)</td>\n",
       "    </tr>\n",
       "    <tr>\n",
       "      <th>4160</th>\n",
       "      <td>3850</td>\n",
       "      <td>0</td>\n",
       "      <td>WRITTEN Opinion entered by the Honorable Young B. Kim on 3/29/2012: Plaintiffs' motion to compel 43 is granted in part and denied in part. Defendant is ordered to provide its answers and documents responsive to production requests as directed herein by no later than April 13, 2012. A status hearing is scheduled for April 17, 2012, at 11:00 a.m. in courtroom 1944D. Parties are to report on the number of depositions, including 30(b)(6) depositions, they require in this case. [For further details see minute order.] Mailed notice (aac, ) (Entered: 03/29/2012)</td>\n",
       "    </tr>\n",
       "    <tr>\n",
       "      <th>1325</th>\n",
       "      <td>1219</td>\n",
       "      <td>1</td>\n",
       "      <td>MOTION by Plaintiff Architectural Builders Hardware Mfg., Inc. for extension of time to file answer (Attachments: # 1 Notice of Filing Notice of Motion to Extend time to Answer)(Wanek, Laura) (Entered: 04/28/2008)</td>\n",
       "    </tr>\n",
       "    <tr>\n",
       "      <th>3649</th>\n",
       "      <td>17050</td>\n",
       "      <td>1</td>\n",
       "      <td>First MOTION TO DISMISS FOR FAILURE TO STATE A CLAIMby Attorney General Lisa Madigan and Assistant Attorney General Erin Gard (Attachments: # 1 Exhibit Exhibit J to Plaintiff's Amended Compl.)(Scheller, Jessica) (Entered: 10/29/2015)</td>\n",
       "    </tr>\n",
       "    <tr>\n",
       "      <th>5645</th>\n",
       "      <td>18214</td>\n",
       "      <td>1</td>\n",
       "      <td>MOTION by Plaintiff Suburban Teamsters of Northern Illinois Welfare and Pension Funds, TheMotion for Turnover Order (Attachments: # 1 Text of Proposed Order Turnover Order)(Toomey, John) (Entered: 06/27/2011)</td>\n",
       "    </tr>\n",
       "    <tr>\n",
       "      <th>6903</th>\n",
       "      <td>10812</td>\n",
       "      <td>1</td>\n",
       "      <td>MOTION by Plaintiff Jerome L Stuckey to substitute attorney, MOTION by Plaintiff Jerome L Stuckey for extension of time to amend complaint and to set this matter for settlement conference (Attachments: # 1 Exhibit A to Motion, # 2 Appearance)(Handler, Joel) (Entered: 05/08/2009)</td>\n",
       "    </tr>\n",
       "  </tbody>\n",
       "</table>\n",
       "</div>"
      ],
      "text/plain": [
       "      docket_entry_id  motion  \\\n",
       "5844  12571            1        \n",
       "6778  3880             1        \n",
       "3947  2510             0        \n",
       "2863  17008            1        \n",
       "3675  14765            1        \n",
       "5411  9526             1        \n",
       "2403  5009             1        \n",
       "7122  4057             1        \n",
       "1171  15470            1        \n",
       "5923  646              1        \n",
       "4364  16166            0        \n",
       "1444  8577             1        \n",
       "5407  9022             1        \n",
       "6445  11500            1        \n",
       "3162  2614             1        \n",
       "4160  3850             0        \n",
       "1325  1219             1        \n",
       "3649  17050            1        \n",
       "5645  18214            1        \n",
       "6903  10812            1        \n",
       "\n",
       "                                                                                                                                                                                                                                                                                                                                                                                                                                                                                                                                                                                                                                                                                                                                                                                                                                                                                                                                                                                                                                                                                                                                                                                                                                                                                                                                                                           text  \n",
       "5844   MOTION to Detain by United States of America as to Jesus Montes-Perez. (lns) (Entered: 08/25/2016)                                                                                                                                                                                                                                                                                                                                                                                                                                                                                                                                                                                                                                                                                                                                                                                                                                                                                                                                                                                                                                                                                                                                                                                                                                                                        \n",
       "6778  MOTION by Defendant Target Corporation for summary judgment  (Attachments: # 1 Exhibit, # 2 Exhibit, # 3 Exhibit, # 4 Exhibit, # 5 Exhibit)(McGowan, Michael) (Entered: 08/09/2013)                                                                                                                                                                                                                                                                                                                                                                                                                                                                                                                                                                                                                                                                                                                                                                                                                                                                                                                                                                                                                                                                                                                                                                                        \n",
       "3947  RULE 56 F.R.C.P 56(e) and L.R. 56.1(a)(3) Statement by Clay, Cook County, David Fargus, Jones, Morrison, Price regarding motion for summary judgment 199  (Attachments: # 1 Exhibit Exhibit List, # 2 Exhibit Exhibit A-Amended Complaint, # 3 Exhibit Exhibit B-Defendants' Answer, # 4 Exhibit Exhibit C-Excerpts of Medical Records-Part 1, # 5 Exhibit Exhibit C-Excerpts of Medical Records-Part 2, # 6 Exhibit Exhibit C_Excerpts of Medical Records-Part 3, # 7 Exhibit Exhibit D-Deposition Transcriptof Plaintiff, # 8 Exhibit Deposition Transcript of David Fagus, # 9 Exhibit Exhibit F-Deposition Transcript of Theresa Clay, # 10 Exhibit Exhibit G-Deposition Transcript of Cynthia Jones, # 11 Exhibit Exhibit H-Deposition Transcript of Diane Morrison, # 12 Exhibit Exhibit I-Deposition Transcript of Judy Price, # 13 Exhibit Exhibit J-Affidavit of Dr. Ann Marie Dunlap, # 14 Exhibit Exhibit K-Plaintiff's CCDOC Housing History, # 15 Exhibit Plaintiff's Printout from the Illinois Department of Corrections, # 16 Exhibit Exhibit M-Cermak Policy-Sick Call, # 17 Exhibit Exhibit N-Cermak Policy-Infection Control, # 18 Exhibit Exhibit O-Cermak Policy-Medications, # 19 Exhibit Exhibit P-Detainee Grievance Form dated December 27, 2007, # 20 Exhibit Detainee Grievance Form dated August 24, 2007)(Frey, Kevin) (Entered: 09/17/2012)  \n",
       "2863  MOTION by Plaintiff H&R Block Financial Advisors, Inc. for leave to file excess pages re: Memorandum in Support of Motion for Temporary Restraining Order (Attachments: # 1 Exhibit Memorandum in Support of TRO)(Calkins, Scott) (Entered: 03/01/2007)                                                                                                                                                                                                                                                                                                                                                                                                                                                                                                                                                                                                                                                                                                                                                                                                                                                                                                                                                                                                                                                                                                                    \n",
       "3675  Joint MOTION to Dismiss Without Prejudice (by Stipulation) by Plaintiffs AT, AT. (McKibben, Jennifer) (Entered: 11/09/2016)                                                                                                                                                                                                                                                                                                                                                                                                                                                                                                                                                                                                                                                                                                                                                                                                                                                                                                                                                                                                                                                                                                                                                                                                                                                \n",
       "5411  MOTION by Plaintiffs Kirsten Bain, Tavi Burroughs, Kenia Chavez, Christina Guarino, Katharine Lazzara, Jennifer Livingston, Jessica Maples, Shannon Markey, Donna Ruch, Jamie Snevely, Lisette Venegas, Mary Youngren Plaintiffs' Motion to Resolve Discovery Dispute Over the Production of Disparate Impact Evidence  (Wilmes, Christopher) (Entered: 05/30/2019)                                                                                                                                                                                                                                                                                                                                                                                                                                                                                                                                                                                                                                                                                                                                                                                                                                                                                                                                                                                                        \n",
       "2403  MOTION by Defendant SSC Westchester Operating Company, LLC for protective order  (Rubin, Joshua) (Entered: 08/29/2013)                                                                                                                                                                                                                                                                                                                                                                                                                                                                                                                                                                                                                                                                                                                                                                                                                                                                                                                                                                                                                                                                                                                                                                                                                                                     \n",
       "7122  ORAL motion by USA to unseal as to Tori Frederick (las, ) (Entered: 01/23/2008)                                                                                                                                                                                                                                                                                                                                                                                                                                                                                                                                                                                                                                                                                                                                                                                                                                                                                                                                                                                                                                                                                                                                                                                                                                                                                            \n",
       "1171  PRO SE MOTION Requesting Jail Credit by Patrick Davis. (lns) (Entered: 10/30/2018)                                                                                                                                                                                                                                                                                                                                                                                                                                                                                                                                                                                                                                                                                                                                                                                                                                                                                                                                                                                                                                                                                                                                                                                                                                                                                         \n",
       "5923  MOTION by Plaintiff William Metropulos to vacate order on motion for attorney fees,, terminate motions,,,,,,,,,,,,,,, 40  (Attachments: # 1 Notice of Filing, # 2 Exhibit 1, # 3 Exhibit 2, # 4 Exhibit 3)(Trout, David) (Entered: 04/08/2015)                                                                                                                                                                                                                                                                                                                                                                                                                                                                                                                                                                                                                                                                                                                                                                                                                                                                                                                                                                                                                                                                                                                             \n",
       "4364  PROOF OF SERVICE Executed on 1/8/18 as to 37 Order on Motion to Withdraw as Attorney. (nal) (Entered: 01/10/2018)                                                                                                                                                                                                                                                                                                                                                                                                                                                                                                                                                                                                                                                                                                                                                                                                                                                                                                                                                                                                                                                                                                                                                                                                                                                          \n",
       "1444   Motion for extension of time until 5/7/2012 to answer  filed by Zimmer Holdings, Inc., Zimmer, Inc.. (Attachments: # 1 Proposed Order)(Schoenberger, Erika) [Transferred from Ohio Northern on 4/2/2012.] (Entered: 03/30/2012)                                                                                                                                                                                                                                                                                                                                                                                                                                                                                                                                                                                                                                                                                                                                                                                                                                                                                                                                                                                                                                                                                                                                           \n",
       "5407  ORAL motion by USA to exclude time as to Lamont Cooper (las, ) (Entered: 06/21/2011)                                                                                                                                                                                                                                                                                                                                                                                                                                                                                                                                                                                                                                                                                                                                                                                                                                                                                                                                                                                                                                                                                                                                                                                                                                                                                       \n",
       "6445   MOTION to Amend/Correct 95 Order on Motion to Amend/Correct, , MOTION for Leave to File Excess Pages / NFA'S MOTION FOR AMENDED BRIEFING SCHEDULE AND PAGE LIMIT EXTENSION by Defendant National Futures Association. (Boyle PHV, Gregory) (Entered: 01/18/2019)                                                                                                                                                                                                                                                                                                                                                                                                                                                                                                                                                                                                                                                                                                                                                                                                                                                                                                                                                                                                                                                                                                          \n",
       "3162  MOTION by Defendant Morning Glory Products, Inc. to withdraw  (Barkoff, Aaron) (Entered: 10/22/2012)                                                                                                                                                                                                                                                                                                                                                                                                                                                                                                                                                                                                                                                                                                                                                                                                                                                                                                                                                                                                                                                                                                                                                                                                                                                                       \n",
       "4160  WRITTEN Opinion entered by the Honorable Young B. Kim on 3/29/2012: Plaintiffs' motion to compel 43 is granted in part and denied in part. Defendant is ordered to provide its answers and documents responsive to production requests as directed herein by no later than April 13, 2012. A status hearing is scheduled for April 17, 2012, at 11:00 a.m. in courtroom 1944D. Parties are to report on the number of depositions, including 30(b)(6) depositions, they require in this case. [For further details see minute order.] Mailed notice (aac, ) (Entered: 03/29/2012)                                                                                                                                                                                                                                                                                                                                                                                                                                                                                                                                                                                                                                                                                                                                                                                          \n",
       "1325  MOTION by Plaintiff Architectural Builders Hardware Mfg., Inc. for extension of time to file answer (Attachments: # 1 Notice of Filing Notice of Motion to Extend time to Answer)(Wanek, Laura) (Entered: 04/28/2008)                                                                                                                                                                                                                                                                                                                                                                                                                                                                                                                                                                                                                                                                                                                                                                                                                                                                                                                                                                                                                                                                                                                                                      \n",
       "3649  First MOTION TO DISMISS FOR FAILURE TO STATE A CLAIMby Attorney General Lisa Madigan and Assistant Attorney General Erin Gard (Attachments: # 1 Exhibit Exhibit J to Plaintiff's Amended Compl.)(Scheller, Jessica) (Entered: 10/29/2015)                                                                                                                                                                                                                                                                                                                                                                                                                                                                                                                                                                                                                                                                                                                                                                                                                                                                                                                                                                                                                                                                                                                                  \n",
       "5645  MOTION by Plaintiff Suburban Teamsters of Northern Illinois Welfare and Pension Funds, TheMotion for Turnover Order (Attachments: # 1 Text of Proposed Order Turnover Order)(Toomey, John) (Entered: 06/27/2011)                                                                                                                                                                                                                                                                                                                                                                                                                                                                                                                                                                                                                                                                                                                                                                                                                                                                                                                                                                                                                                                                                                                                                           \n",
       "6903  MOTION by Plaintiff Jerome L Stuckey to substitute attorney, MOTION by Plaintiff Jerome L Stuckey for extension of time to amend complaint and to set this matter for settlement conference (Attachments: # 1 Exhibit A to Motion, # 2 Appearance)(Handler, Joel) (Entered: 05/08/2009)                                                                                                                                                                                                                                                                                                                                                                                                                                                                                                                                                                                                                                                                                                                                                                                                                                                                                                                                                                                                                                                                                    "
      ]
     },
     "execution_count": 17,
     "metadata": {},
     "output_type": "execute_result"
    }
   ],
   "source": [
    "get_n_samples(df_train, 20)"
   ]
  },
  {
   "cell_type": "code",
   "execution_count": 18,
   "metadata": {},
   "outputs": [
    {
     "data": {
      "text/html": [
       "<div>\n",
       "<style scoped>\n",
       "    .dataframe tbody tr th:only-of-type {\n",
       "        vertical-align: middle;\n",
       "    }\n",
       "\n",
       "    .dataframe tbody tr th {\n",
       "        vertical-align: top;\n",
       "    }\n",
       "\n",
       "    .dataframe thead th {\n",
       "        text-align: right;\n",
       "    }\n",
       "</style>\n",
       "<table border=\"1\" class=\"dataframe\">\n",
       "  <thead>\n",
       "    <tr style=\"text-align: right;\">\n",
       "      <th></th>\n",
       "      <th>docket_entry_id</th>\n",
       "      <th>motion</th>\n",
       "      <th>text</th>\n",
       "    </tr>\n",
       "  </thead>\n",
       "  <tbody>\n",
       "    <tr>\n",
       "      <th>4522</th>\n",
       "      <td>16281</td>\n",
       "      <td>0</td>\n",
       "      <td>OPINION AND ORDER: The Court GRANTS in part and DENIES in part the Motion to Compel Discovery 38 and ORDERS the plaintiffs to supplement their responses, as detailed in the Opinion and Order, within 14 days. The Court further ORDERS FMIC to supplement its privilege log within 14 days of this order. Air Tech's request for fees, costs, and expenses associated with this discovery dispute is DENIED. Signed by Magistrate Judge Andrew P Rodovich on 2/7/2018. (jss) (Entered: 02/07/2018)</td>\n",
       "    </tr>\n",
       "    <tr>\n",
       "      <th>4197</th>\n",
       "      <td>14543</td>\n",
       "      <td>0</td>\n",
       "      <td>BRIEF in Support of 28 MOTION TO DISMISS FOR FAILURE TO STATE A CLAIM   filed by John Whiteleather, Jr. (Brown, Michael) (Entered: 12/06/2016)</td>\n",
       "    </tr>\n",
       "    <tr>\n",
       "      <th>4679</th>\n",
       "      <td>17712</td>\n",
       "      <td>0</td>\n",
       "      <td>Defendants' NOTICE of Motion by Patrick Daniel Morris for presentment of motion to continue 50 before Honorable Sharon Johnson Coleman on 11/2/2016 at 08:45 AM. (Morris, Patrick) (Entered: 10/31/2016)</td>\n",
       "    </tr>\n",
       "    <tr>\n",
       "      <th>4146</th>\n",
       "      <td>17303</td>\n",
       "      <td>0</td>\n",
       "      <td>CERTIFIED copy of order dated 7/6/10 from the Seventh Circuit regarding notice of appeal 20 ; Appellate case no. : 10-2596, 10-2597, 10-2598, 10-2599. The court, on its own motion, orders that these appeals are consolidated for purposes of briefing and disposition. The briefing schedule is as follows: 1. The appellant shall file its consolidated brief and required short appendix on or before 8/11/10. 2. The appellees shall file their consolidated brief on or before 9/10/10. 3. The appellant shall file its consolidated reply brief, if any, on or before 9/24/10. (smm) (Entered: 07/08/2010)</td>\n",
       "    </tr>\n",
       "    <tr>\n",
       "      <th>4317</th>\n",
       "      <td>12174</td>\n",
       "      <td>0</td>\n",
       "      <td>Judge Rudy Lozano and Magistrate Judge Susan L Collins added. NEW CASE, MOTION PENDING (kjp) (Entered: 09/02/2016)</td>\n",
       "    </tr>\n",
       "    <tr>\n",
       "      <th>385</th>\n",
       "      <td>5144</td>\n",
       "      <td>0</td>\n",
       "      <td>DECLARATION of ANTHONY D. SALCIDO regarding memorandum in support of motion, 11 , Motion to Dismiss for Failure to State a Claim, motion to dismiss,, 10  (Attachments: # 1 Exhibit 1, # 2 Certificate of Service)(Mallow, Michael) (Entered: 11/12/2015)</td>\n",
       "    </tr>\n",
       "    <tr>\n",
       "      <th>5</th>\n",
       "      <td>9574</td>\n",
       "      <td>0</td>\n",
       "      <td>DECLARATION of Aref Abdellatif regarding order on motion to compel,,,,,,, text entry,,,,,, 186  (Schaller, Rachel) (Entered: 08/19/2019)</td>\n",
       "    </tr>\n",
       "    <tr>\n",
       "      <th>4587</th>\n",
       "      <td>14810</td>\n",
       "      <td>0</td>\n",
       "      <td>OPINION AND ORDER: DENYING 38 MOTION for Extension of Time to Complete Discovery And Extend Motion for Sanctions / Motion to Dismiss Response Deadline by Plaintiff Theresa Heggen. Plaintiff to file Response to Maxim's Motion for Sanctions Including Dismissal of Lawsuit With Prejudice 35 by 1/24/2018. Signed by Magistrate Judge Susan L Collins on 1/10/2018. (lhc) (Entered: 01/10/2018)</td>\n",
       "    </tr>\n",
       "    <tr>\n",
       "      <th>1159</th>\n",
       "      <td>11682</td>\n",
       "      <td>0</td>\n",
       "      <td>Mail Returned from Walter Blaine Evans as Undeliverable - 13 Order on Motion for Leave to Appeal in forma pauperis. (nal) (Entered: 01/24/2017)</td>\n",
       "    </tr>\n",
       "    <tr>\n",
       "      <th>4358</th>\n",
       "      <td>15545</td>\n",
       "      <td>0</td>\n",
       "      <td>ENTRY for Magistrate Judge Susan Collins: The Court on its own motion RESETS the Telephonic Rule 16 Preliminary Pretrial Conference set for 3/10/2016 at 10 am to 3/15/2016 at 10:30 am. Court to initiate call. So Ordered.(mr) (Entered: 03/08/2016)</td>\n",
       "    </tr>\n",
       "    <tr>\n",
       "      <th>4051</th>\n",
       "      <td>12011</td>\n",
       "      <td>0</td>\n",
       "      <td>RULE 16 PRELIMINARY PRETRIAL CONFERENCE held by teleph 11/22/2016 before Magistrate Judge Paul R Cherry. Pla appeared by atty George Blackmore. Dft appeared by atty Stephanie S Penninger. All dates/ddl through close of discovery in Joint Report filed at 12 are approved and incorporated herein. Any motion for leave to amend pleadings to be filed by 11/30/2016 by Pla, and 12/15/2016 by defense. Discovery deadline is 4/24/2017. Expert Discovery deadline is 10/24/2017 Plaintiff expert witness disclosures and reports to be delivered to the defendant by 7/24/2017. Defendant expert witness disclosures and reports to be delivered to the plaintiff by 8/28/2017. Supplemental Expert Reports due to the other party by 10/24/2017. Initial Disclosures to be exchanged by 1/20/2017. Parties to complete ADR/mediation by close of discovery if parties will be pursuing ADR/mediation. Magistrate Consent forms ddl extended to 12/13/2016. The summary judgment ddl in FRCP 56 shall not apply. All other dates/ddl to be set by the presiding trial judge upon conclusion of discovery. (#FTR.)(smb) (Entered: 12/01/2016)</td>\n",
       "    </tr>\n",
       "    <tr>\n",
       "      <th>4622</th>\n",
       "      <td>13195</td>\n",
       "      <td>0</td>\n",
       "      <td>TELEPHONIC MOTION HEARING re 57 Defendants' Motion to Compel Discovery Responses held on 5/29/2018 before Magistrate Judge Susan L Collins. Pla appeared by atty Dean McConnell. Dfts appeared by atty Jeremy Gayed. For reasons stated on the record, Court grants motion in part. Pla to produce discovery responses by 6/29/2018, and to pay Dfts' costs and attorney's fees. Court denies Dfts' request of Pla's waiver of objections to Dfts' discovery requests. (FTR 1st floor.) (mr) (Entered: 05/30/2018)</td>\n",
       "    </tr>\n",
       "    <tr>\n",
       "      <th>4441</th>\n",
       "      <td>3249</td>\n",
       "      <td>0</td>\n",
       "      <td>Amended NOTICE of Motion by Beverly Pazon Alfon for presentment of motion for entry of default,, 6 before Honorable George M. Marovich on 12/21/2010 at 10:30 AM. (Alfon, Beverly) (Entered: 11/16/2010)</td>\n",
       "    </tr>\n",
       "    <tr>\n",
       "      <th>4497</th>\n",
       "      <td>7027</td>\n",
       "      <td>0</td>\n",
       "      <td>JUDGMENT (Sentencing Order) as to Olabode Rotibi (2), Count(s) 2, The defendant is hereby committed to the custody of the United States Bureau of Prisons to be imprisoned for a total term of twenty four (24) months as to Count Two of the Indictment. The defendant is remanded to the custody of the United States Marshal. Upon release from imprisonment, the defendant shall be on supervised release for a term of two (2) years as to Count Two of the Indictment. Defendant must pay the total restitution amount of $1,820.500,00. Schedule of payments. Count(s) 1 is dismissed on the motion of the United States. (Terminated defendant Olabode Rotibi). Signed by the Honorable Virginia M. Kendall on 9/22/14. Mailed notice (las, ) (Entered: 09/25/2014)</td>\n",
       "    </tr>\n",
       "    <tr>\n",
       "      <th>12</th>\n",
       "      <td>833</td>\n",
       "      <td>0</td>\n",
       "      <td>(Unopposed) NOTICE of Motion by Kathryn Ann Kelly for presentment of motion for leave to file excess pages 44 before Honorable M. David Weisman on 10/26/2017 at 09:15 AM. (Kelly, Kathryn) (Entered: 10/23/2017)</td>\n",
       "    </tr>\n",
       "    <tr>\n",
       "      <th>4326</th>\n",
       "      <td>16214</td>\n",
       "      <td>0</td>\n",
       "      <td>ENTRY for Magistrate Judge Susan Collins: Dft's 18 Motion to Reset Rule 16 Preliminary Pretrial Conference is granted. The Rule 16 Preliminary Pretrial Conference set for 3/14/2016 at 2:30 pm is RESET for 3/24/2016 at 10:00 am. Court to initiate call. So Ordered. (mr) (Entered: 03/14/2016)</td>\n",
       "    </tr>\n",
       "    <tr>\n",
       "      <th>3861</th>\n",
       "      <td>12810</td>\n",
       "      <td>0</td>\n",
       "      <td>TELEPHONE STATUS CONFERENCE held before Judge Philip P. Simon on 3/9/2017 (regarding class rep). Pla appeared by atty David W. Frank. Dft appeared by atty J. Spencer Feighner. Court hears argument regarding issue. Plf indicates a Motion to Reconsider the Court's ruling 59 will be filed. Deadline for filing: one week with the local rules to govern the response and reply time. (Court Reporter Stacy Drohosky.) (nac) (Entered: 03/09/2017)</td>\n",
       "    </tr>\n",
       "    <tr>\n",
       "      <th>3856</th>\n",
       "      <td>8057</td>\n",
       "      <td>0</td>\n",
       "      <td>EXHIBIT by Plaintiffs James S. Jorgensen, Laborers' Pension Fund, Laborers' Welfare Fund of The Health and Welfare Department of The Constructtion and General Laborer's District Council of Chicago and Vicinity  regarding MOTION by Plaintiffs James S. Jorgensen, Laborers' Pension Fund, Laborers' Welfare Fund of The Health and Welfare Department of The Constructtion and General Laborer's District Council of Chicago and Vicinity for entry of judgment under 14 (Douglass, Elizabeth) (Entered: 05/29/2014)</td>\n",
       "    </tr>\n",
       "    <tr>\n",
       "      <th>1104</th>\n",
       "      <td>7024</td>\n",
       "      <td>0</td>\n",
       "      <td>SUPPLEMENT by defendant to ex parte motion for authorization to obtain expert services(SEALED) (Document not imaged) (las, ) (Entered: 09/23/2014)</td>\n",
       "    </tr>\n",
       "    <tr>\n",
       "      <th>4700</th>\n",
       "      <td>14896</td>\n",
       "      <td>0</td>\n",
       "      <td>Judge William C Lee and Magistrate Judge John E Martin added (NEW CASE - IFP MOTION PENDING). (ksc) (Entered: 12/28/2016)</td>\n",
       "    </tr>\n",
       "  </tbody>\n",
       "</table>\n",
       "</div>"
      ],
      "text/plain": [
       "      docket_entry_id  motion  \\\n",
       "4522  16281            0        \n",
       "4197  14543            0        \n",
       "4679  17712            0        \n",
       "4146  17303            0        \n",
       "4317  12174            0        \n",
       "385   5144             0        \n",
       "5     9574             0        \n",
       "4587  14810            0        \n",
       "1159  11682            0        \n",
       "4358  15545            0        \n",
       "4051  12011            0        \n",
       "4622  13195            0        \n",
       "4441  3249             0        \n",
       "4497  7027             0        \n",
       "12    833              0        \n",
       "4326  16214            0        \n",
       "3861  12810            0        \n",
       "3856  8057             0        \n",
       "1104  7024             0        \n",
       "4700  14896            0        \n",
       "\n",
       "                                                                                                                                                                                                                                                                                                                                                                                                                                                                                                                                                                                                                                                                                                                                                                                                                                                                                                                                                                                                                                                                                                                                                   text  \n",
       "4522  OPINION AND ORDER: The Court GRANTS in part and DENIES in part the Motion to Compel Discovery 38 and ORDERS the plaintiffs to supplement their responses, as detailed in the Opinion and Order, within 14 days. The Court further ORDERS FMIC to supplement its privilege log within 14 days of this order. Air Tech's request for fees, costs, and expenses associated with this discovery dispute is DENIED. Signed by Magistrate Judge Andrew P Rodovich on 2/7/2018. (jss) (Entered: 02/07/2018)                                                                                                                                                                                                                                                                                                                                                                                                                                                                                                                                                                                                                                               \n",
       "4197  BRIEF in Support of 28 MOTION TO DISMISS FOR FAILURE TO STATE A CLAIM   filed by John Whiteleather, Jr. (Brown, Michael) (Entered: 12/06/2016)                                                                                                                                                                                                                                                                                                                                                                                                                                                                                                                                                                                                                                                                                                                                                                                                                                                                                                                                                                                                     \n",
       "4679   Defendants' NOTICE of Motion by Patrick Daniel Morris for presentment of motion to continue 50 before Honorable Sharon Johnson Coleman on 11/2/2016 at 08:45 AM. (Morris, Patrick) (Entered: 10/31/2016)                                                                                                                                                                                                                                                                                                                                                                                                                                                                                                                                                                                                                                                                                                                                                                                                                                                                                                                                          \n",
       "4146  CERTIFIED copy of order dated 7/6/10 from the Seventh Circuit regarding notice of appeal 20 ; Appellate case no. : 10-2596, 10-2597, 10-2598, 10-2599. The court, on its own motion, orders that these appeals are consolidated for purposes of briefing and disposition. The briefing schedule is as follows: 1. The appellant shall file its consolidated brief and required short appendix on or before 8/11/10. 2. The appellees shall file their consolidated brief on or before 9/10/10. 3. The appellant shall file its consolidated reply brief, if any, on or before 9/24/10. (smm) (Entered: 07/08/2010)                                                                                                                                                                                                                                                                                                                                                                                                                                                                                                                                 \n",
       "4317   Judge Rudy Lozano and Magistrate Judge Susan L Collins added. NEW CASE, MOTION PENDING (kjp) (Entered: 09/02/2016)                                                                                                                                                                                                                                                                                                                                                                                                                                                                                                                                                                                                                                                                                                                                                                                                                                                                                                                                                                                                                                \n",
       "385   DECLARATION of ANTHONY D. SALCIDO regarding memorandum in support of motion, 11 , Motion to Dismiss for Failure to State a Claim, motion to dismiss,, 10  (Attachments: # 1 Exhibit 1, # 2 Certificate of Service)(Mallow, Michael) (Entered: 11/12/2015)                                                                                                                                                                                                                                                                                                                                                                                                                                                                                                                                                                                                                                                                                                                                                                                                                                                                                          \n",
       "5     DECLARATION of Aref Abdellatif regarding order on motion to compel,,,,,,, text entry,,,,,, 186  (Schaller, Rachel) (Entered: 08/19/2019)                                                                                                                                                                                                                                                                                                                                                                                                                                                                                                                                                                                                                                                                                                                                                                                                                                                                                                                                                                                                           \n",
       "4587  OPINION AND ORDER: DENYING 38 MOTION for Extension of Time to Complete Discovery And Extend Motion for Sanctions / Motion to Dismiss Response Deadline by Plaintiff Theresa Heggen. Plaintiff to file Response to Maxim's Motion for Sanctions Including Dismissal of Lawsuit With Prejudice 35 by 1/24/2018. Signed by Magistrate Judge Susan L Collins on 1/10/2018. (lhc) (Entered: 01/10/2018)                                                                                                                                                                                                                                                                                                                                                                                                                                                                                                                                                                                                                                                                                                                                                 \n",
       "1159  Mail Returned from Walter Blaine Evans as Undeliverable - 13 Order on Motion for Leave to Appeal in forma pauperis. (nal) (Entered: 01/24/2017)                                                                                                                                                                                                                                                                                                                                                                                                                                                                                                                                                                                                                                                                                                                                                                                                                                                                                                                                                                                                    \n",
       "4358  ENTRY for Magistrate Judge Susan Collins: The Court on its own motion RESETS the Telephonic Rule 16 Preliminary Pretrial Conference set for 3/10/2016 at 10 am to 3/15/2016 at 10:30 am. Court to initiate call. So Ordered.(mr) (Entered: 03/08/2016)                                                                                                                                                                                                                                                                                                                                                                                                                                                                                                                                                                                                                                                                                                                                                                                                                                                                                             \n",
       "4051  RULE 16 PRELIMINARY PRETRIAL CONFERENCE held by teleph 11/22/2016 before Magistrate Judge Paul R Cherry. Pla appeared by atty George Blackmore. Dft appeared by atty Stephanie S Penninger. All dates/ddl through close of discovery in Joint Report filed at 12 are approved and incorporated herein. Any motion for leave to amend pleadings to be filed by 11/30/2016 by Pla, and 12/15/2016 by defense. Discovery deadline is 4/24/2017. Expert Discovery deadline is 10/24/2017 Plaintiff expert witness disclosures and reports to be delivered to the defendant by 7/24/2017. Defendant expert witness disclosures and reports to be delivered to the plaintiff by 8/28/2017. Supplemental Expert Reports due to the other party by 10/24/2017. Initial Disclosures to be exchanged by 1/20/2017. Parties to complete ADR/mediation by close of discovery if parties will be pursuing ADR/mediation. Magistrate Consent forms ddl extended to 12/13/2016. The summary judgment ddl in FRCP 56 shall not apply. All other dates/ddl to be set by the presiding trial judge upon conclusion of discovery. (#FTR.)(smb) (Entered: 12/01/2016)  \n",
       "4622  TELEPHONIC MOTION HEARING re 57 Defendants' Motion to Compel Discovery Responses held on 5/29/2018 before Magistrate Judge Susan L Collins. Pla appeared by atty Dean McConnell. Dfts appeared by atty Jeremy Gayed. For reasons stated on the record, Court grants motion in part. Pla to produce discovery responses by 6/29/2018, and to pay Dfts' costs and attorney's fees. Court denies Dfts' request of Pla's waiver of objections to Dfts' discovery requests. (FTR 1st floor.) (mr) (Entered: 05/30/2018)                                                                                                                                                                                                                                                                                                                                                                                                                                                                                                                                                                                                                                 \n",
       "4441   Amended NOTICE of Motion by Beverly Pazon Alfon for presentment of motion for entry of default,, 6 before Honorable George M. Marovich on 12/21/2010 at 10:30 AM. (Alfon, Beverly) (Entered: 11/16/2010)                                                                                                                                                                                                                                                                                                                                                                                                                                                                                                                                                                                                                                                                                                                                                                                                                                                                                                                                          \n",
       "4497  JUDGMENT (Sentencing Order) as to Olabode Rotibi (2), Count(s) 2, The defendant is hereby committed to the custody of the United States Bureau of Prisons to be imprisoned for a total term of twenty four (24) months as to Count Two of the Indictment. The defendant is remanded to the custody of the United States Marshal. Upon release from imprisonment, the defendant shall be on supervised release for a term of two (2) years as to Count Two of the Indictment. Defendant must pay the total restitution amount of $1,820.500,00. Schedule of payments. Count(s) 1 is dismissed on the motion of the United States. (Terminated defendant Olabode Rotibi). Signed by the Honorable Virginia M. Kendall on 9/22/14. Mailed notice (las, ) (Entered: 09/25/2014)                                                                                                                                                                                                                                                                                                                                                                        \n",
       "12     (Unopposed) NOTICE of Motion by Kathryn Ann Kelly for presentment of motion for leave to file excess pages 44 before Honorable M. David Weisman on 10/26/2017 at 09:15 AM. (Kelly, Kathryn) (Entered: 10/23/2017)                                                                                                                                                                                                                                                                                                                                                                                                                                                                                                                                                                                                                                                                                                                                                                                                                                                                                                                                 \n",
       "4326  ENTRY for Magistrate Judge Susan Collins: Dft's 18 Motion to Reset Rule 16 Preliminary Pretrial Conference is granted. The Rule 16 Preliminary Pretrial Conference set for 3/14/2016 at 2:30 pm is RESET for 3/24/2016 at 10:00 am. Court to initiate call. So Ordered. (mr) (Entered: 03/14/2016)                                                                                                                                                                                                                                                                                                                                                                                                                                                                                                                                                                                                                                                                                                                                                                                                                                                 \n",
       "3861  TELEPHONE STATUS CONFERENCE held before Judge Philip P. Simon on 3/9/2017 (regarding class rep). Pla appeared by atty David W. Frank. Dft appeared by atty J. Spencer Feighner. Court hears argument regarding issue. Plf indicates a Motion to Reconsider the Court's ruling 59 will be filed. Deadline for filing: one week with the local rules to govern the response and reply time. (Court Reporter Stacy Drohosky.) (nac) (Entered: 03/09/2017)                                                                                                                                                                                                                                                                                                                                                                                                                                                                                                                                                                                                                                                                                             \n",
       "3856  EXHIBIT by Plaintiffs James S. Jorgensen, Laborers' Pension Fund, Laborers' Welfare Fund of The Health and Welfare Department of The Constructtion and General Laborer's District Council of Chicago and Vicinity  regarding MOTION by Plaintiffs James S. Jorgensen, Laborers' Pension Fund, Laborers' Welfare Fund of The Health and Welfare Department of The Constructtion and General Laborer's District Council of Chicago and Vicinity for entry of judgment under 14 (Douglass, Elizabeth) (Entered: 05/29/2014)                                                                                                                                                                                                                                                                                                                                                                                                                                                                                                                                                                                                                           \n",
       "1104  SUPPLEMENT by defendant to ex parte motion for authorization to obtain expert services(SEALED) (Document not imaged) (las, ) (Entered: 09/23/2014)                                                                                                                                                                                                                                                                                                                                                                                                                                                                                                                                                                                                                                                                                                                                                                                                                                                                                                                                                                                                 \n",
       "4700   Judge William C Lee and Magistrate Judge John E Martin added (NEW CASE - IFP MOTION PENDING). (ksc) (Entered: 12/28/2016)                                                                                                                                                                                                                                                                                                                                                                                                                                                                                                                                                                                                                                                                                                                                                                                                                                                                                                                                                                                                                         "
      ]
     },
     "execution_count": 18,
     "metadata": {},
     "output_type": "execute_result"
    }
   ],
   "source": [
    "get_n_samples(df_train[df_train.motion == 0], 20)"
   ]
  },
  {
   "cell_type": "markdown",
   "metadata": {},
   "source": [
    "### Making Labeling Functions"
   ]
  },
  {
   "cell_type": "markdown",
   "metadata": {},
   "source": [
    "#### Key word LFs"
   ]
  },
  {
   "cell_type": "code",
   "execution_count": 19,
   "metadata": {},
   "outputs": [],
   "source": [
    "def keyword_lookup(x, keywords, label):\n",
    "    if any(word in x.text.lower() for word in keywords):\n",
    "        return label\n",
    "    return ABSTAIN\n",
    "\n",
    "\n",
    "def make_keyword_lf(keywords, label=MOTION):\n",
    "    return LabelingFunction(\n",
    "        name=f\"keyword__{keywords[0]}\",\n",
    "        f=keyword_lookup,\n",
    "        resources=dict(keywords=keywords, label=label),\n",
    "    )\n",
    "\n",
    "\n",
    "\"\"\"Motions contain 'motion of'.\"\"\"\n",
    "keyword__of = make_keyword_lf(keywords=[\"motion of\"])\n",
    "\n",
    "\"\"\"Motions contain 'motion to'.\"\"\"\n",
    "keyword__motion_to = make_keyword_lf(keywords=[\"motion to\"])\n",
    "\n",
    "\"\"\"Motions contain 'motion by'.\"\"\"\n",
    "keyword__motion_by = make_keyword_lf(keywords=[\"motion by\"])\n",
    "\n",
    "\"\"\"Motions contain 'motion (oral)'.\"\"\"\n",
    "keyword__motion_oral = make_keyword_lf(keywords=[\"motion (oral)\"])\n",
    "\n",
    "\"\"\"Motions contain 'joint motion'.\"\"\"\n",
    "keyword__joint_motion = make_keyword_lf(keywords=[\"joint motion\"])\n",
    "\n",
    "\"\"\"Notice of motions contain 'notice of motion'.\"\"\"\n",
    "keyword__notice_of_motion = make_keyword_lf(keywords=[\"notice of motion\"], label=NOT_MOTION)\n",
    "\n",
    "\"\"\"Notice of motions contain 'notice'.\"\"\"\n",
    "keyword__notice = make_keyword_lf(keywords=[\"notice\"], label=NOT_MOTION)\n",
    "\n",
    "\"\"\"Judgements contain 'judgement'.\"\"\"\n",
    "keyword__judgement = make_keyword_lf(keywords=[\"judgement\"], label=NOT_MOTION)\n",
    "\n",
    "\"\"\"Denying a motion contains 'denying motion'.\"\"\"\n",
    "keyword__denying_motion = make_keyword_lf(keywords=[\"denying motion\"], label=NOT_MOTION)\n",
    "\n",
    "\"\"\"Final pretrial conference contains 'final pretrial conference'.\"\"\"\n",
    "keyword__final_pretrial_conference = make_keyword_lf(keywords=[\"final pretrial conference\"], label=NOT_MOTION)"
   ]
  },
  {
   "cell_type": "code",
   "execution_count": 26,
   "metadata": {},
   "outputs": [],
   "source": [
    "def missing_keyword_lookup(x, keywords, label):\n",
    "    if any(word in x.text.lower() for word in keywords):\n",
    "        return ABSTAIN\n",
    "    return label\n",
    "\n",
    "\n",
    "def make_missing_keyword_lf(keywords, label=MOTION):\n",
    "    return LabelingFunction(\n",
    "        name=f\"missing_keyword__{keywords[0]}\",\n",
    "        f=missing_keyword_lookup,\n",
    "        resources=dict(keywords=keywords, label=label),\n",
    "    )\n",
    "\"\"\"NOT Motions do not contain 'motion'.\"\"\"\n",
    "missing_keyword__motion = make_missing_keyword_lf(keywords=[\"motion\"], label=NOT_MOTION)"
   ]
  },
  {
   "cell_type": "markdown",
   "metadata": {},
   "source": [
    "### Regex LFs\n",
    "\n",
    "Some examples of REGEX LFs. For now, it seems difficult to map a non-technical user's input to a regex.\n",
    "```{ python }\n",
    "MOTION_MENTIONS = r\"\\b(motion by|motion (oral) by|motion for|motion to)\"\n",
    "@labeling_function()\n",
    "def regex_motion(x):\n",
    "    return MOTION if re.search(MOTION_MENTIONS, x.text) else ABSTAIN\n",
    "```"
   ]
  },
  {
   "cell_type": "markdown",
   "metadata": {},
   "source": [
    "### Heuristic LFs\n",
    "\n",
    "We notice that:\n",
    "1. MOTION documents generally start with a mention of the keyword 'motion'. \n",
    "2. NOT MOTION documents can mention the keyword 'motion'.\n",
    "3. NOT MOTION documents tend not to start with the keyword 'motion'.\n",
    "4. Rule 3 does not hold for 'notice of motion' or 'denying motion'. We probably want to query the data to explore when we have a mention of 'motion' at the start and rule 3 does not hold.\n",
    "\n",
    "We can use these heuristics to create labeling functions."
   ]
  },
  {
   "cell_type": "code",
   "execution_count": 27,
   "metadata": {},
   "outputs": [
    {
     "data": {
      "text/plain": [
       "['tokenizes', 'the', 'text']"
      ]
     },
     "execution_count": 27,
     "metadata": {},
     "output_type": "execute_result"
    }
   ],
   "source": [
    "t = \"Tokenizes the text to check if motion is not in first 3 words.\"\n",
    "t.lower().split()[:3]"
   ]
  },
  {
   "cell_type": "code",
   "execution_count": 28,
   "metadata": {},
   "outputs": [],
   "source": [
    "# Create a Tokenizer with the default settings for English\n",
    "# including punctuation rules and exceptions\n",
    "# nlp = English()\n",
    "# tokenizer = nlp.tokenizer\n",
    "\n",
    "@labeling_function()\n",
    "def lf_first_word_motion(x):\n",
    "    \"\"\"Tokenizes the text to check if first word is motion.\"\"\"\n",
    "    _first_token = x.text.lower().split()[0]\n",
    "    return MOTION if \"motion\" == _first_token else ABSTAIN\n",
    "\n",
    "@labeling_function()\n",
    "def lf_motion_not_in_first_three_words(x):\n",
    "    \"\"\"Tokenizes the text to check if motion is not in first 3 words.\"\"\"\n",
    "    _tokens = x.text.lower().split()[:3]\n",
    "    return NOT_MOTION if not \"motion\" in _tokens else ABSTAIN\n",
    "\n",
    "@labeling_function()\n",
    "def lf_motion_mentioned_later(x):\n",
    "    \"\"\"Tokenizes the text to check if first word is motion.\"\"\"\n",
    "    # Motion is mentioned somewhere in the middle of the docket entry\n",
    "    # and Motion is not mentioned at the start\n",
    "    _tokens = x.text.lower().split()\n",
    "    condition = \"motion\" in _tokens[3:] and \"motion\" not in _tokens[:2]\n",
    "    return NOT_MOTION if condition else ABSTAIN\n",
    "\n",
    "@labeling_function()\n",
    "def lf_motion_early(x):\n",
    "    \"\"\"Tokenizes the text to check if motion is mentioned in first 5 words\"\"\"\n",
    "    # Motion is mentioned somewhere in the middle of the docket entry\n",
    "    # and Motion is not mentioned at the start\n",
    "    _tokens = x.text.lower().split()\n",
    "    condition = \"motion\" in _tokens[:5] and \"motion\" not in _tokens[6:]\n",
    "    return MOTION if condition else ABSTAIN"
   ]
  },
  {
   "cell_type": "markdown",
   "metadata": {},
   "source": [
    "### Put all out LFs in one place"
   ]
  },
  {
   "cell_type": "code",
   "execution_count": 29,
   "metadata": {},
   "outputs": [
    {
     "name": "stderr",
     "output_type": "stream",
     "text": [
      "/Users/benigerisimon/opt/miniconda3/envs/machine-teaching/lib/python3.8/site-packages/tqdm/std.py:697: FutureWarning: The Panel class is removed from pandas. Accessing it from the top-level namespace will also be removed in the next version\n",
      "  from pandas import Panel\n",
      "100%|██████████| 3966/3966 [00:00<00:00, 10371.91it/s]\n",
      "100%|██████████| 1322/1322 [00:00<00:00, 11470.14it/s]\n",
      "100%|██████████| 1322/1322 [00:00<00:00, 11527.72it/s]\n"
     ]
    }
   ],
   "source": [
    "lfs = [\n",
    "    keyword__of, \n",
    "    keyword__motion_to, \n",
    "    keyword__motion_by, \n",
    "    keyword__motion_oral,\n",
    "    keyword__joint_motion,\n",
    "    keyword__notice,\n",
    "    keyword__notice_of_motion,\n",
    "    keyword__judgement,\n",
    "    keyword__final_pretrial_conference,\n",
    "    keyword__denying_motion,\n",
    "    lf_first_word_motion,\n",
    "    lf_motion_not_in_first_three_words,\n",
    "    lf_motion_mentioned_later,\n",
    "    lf_motion_early,\n",
    "    missing_keyword__motion\n",
    "]\n",
    "\n",
    "applier = PandasLFApplier(lfs=lfs)\n",
    "L_train = applier.apply(df=df_train)\n",
    "L_val = applier.apply(df=df_val)\n",
    "L_test = applier.apply(df=df_test)"
   ]
  },
  {
   "cell_type": "code",
   "execution_count": 30,
   "metadata": {},
   "outputs": [
    {
     "data": {
      "text/plain": [
       "array([[-1, -1,  1, ..., -1,  1, -1],\n",
       "       [-1, -1,  1, ..., -1,  1, -1],\n",
       "       [-1, -1,  1, ..., -1,  1, -1],\n",
       "       ...,\n",
       "       [-1,  1,  1, ..., -1, -1, -1],\n",
       "       [-1,  1, -1, ...,  0, -1, -1],\n",
       "       [-1, -1, -1, ..., -1, -1, -1]])"
      ]
     },
     "execution_count": 30,
     "metadata": {},
     "output_type": "execute_result"
    }
   ],
   "source": [
    "L_train"
   ]
  },
  {
   "cell_type": "code",
   "execution_count": 31,
   "metadata": {},
   "outputs": [
    {
     "name": "stderr",
     "output_type": "stream",
     "text": [
      "/Users/benigerisimon/opt/miniconda3/envs/machine-teaching/lib/python3.8/site-packages/sklearn/utils/validation.py:67: FutureWarning: Pass labels=[-1  0  1] as keyword args. From version 0.25 passing these as positional arguments will result in an error\n",
      "  warnings.warn(\"Pass {} as keyword args. From version 0.25 \"\n"
     ]
    },
    {
     "data": {
      "text/html": [
       "<div>\n",
       "<style scoped>\n",
       "    .dataframe tbody tr th:only-of-type {\n",
       "        vertical-align: middle;\n",
       "    }\n",
       "\n",
       "    .dataframe tbody tr th {\n",
       "        vertical-align: top;\n",
       "    }\n",
       "\n",
       "    .dataframe thead th {\n",
       "        text-align: right;\n",
       "    }\n",
       "</style>\n",
       "<table border=\"1\" class=\"dataframe\">\n",
       "  <thead>\n",
       "    <tr style=\"text-align: right;\">\n",
       "      <th></th>\n",
       "      <th>j</th>\n",
       "      <th>Polarity</th>\n",
       "      <th>Coverage</th>\n",
       "      <th>Overlaps</th>\n",
       "      <th>Conflicts</th>\n",
       "      <th>Correct</th>\n",
       "      <th>Incorrect</th>\n",
       "      <th>Emp. Acc.</th>\n",
       "    </tr>\n",
       "  </thead>\n",
       "  <tbody>\n",
       "    <tr>\n",
       "      <th>keyword__motion of</th>\n",
       "      <td>0</td>\n",
       "      <td>[1]</td>\n",
       "      <td>0.005799</td>\n",
       "      <td>0.005799</td>\n",
       "      <td>0.003782</td>\n",
       "      <td>6</td>\n",
       "      <td>17</td>\n",
       "      <td>0.260870</td>\n",
       "    </tr>\n",
       "    <tr>\n",
       "      <th>keyword__motion to</th>\n",
       "      <td>1</td>\n",
       "      <td>[1]</td>\n",
       "      <td>0.213817</td>\n",
       "      <td>0.212557</td>\n",
       "      <td>0.073374</td>\n",
       "      <td>554</td>\n",
       "      <td>294</td>\n",
       "      <td>0.653302</td>\n",
       "    </tr>\n",
       "    <tr>\n",
       "      <th>keyword__motion by</th>\n",
       "      <td>2</td>\n",
       "      <td>[1]</td>\n",
       "      <td>0.602622</td>\n",
       "      <td>0.602118</td>\n",
       "      <td>0.066818</td>\n",
       "      <td>2226</td>\n",
       "      <td>164</td>\n",
       "      <td>0.931381</td>\n",
       "    </tr>\n",
       "    <tr>\n",
       "      <th>keyword__motion (oral)</th>\n",
       "      <td>3</td>\n",
       "      <td>[1]</td>\n",
       "      <td>0.014372</td>\n",
       "      <td>0.014372</td>\n",
       "      <td>0.000000</td>\n",
       "      <td>57</td>\n",
       "      <td>0</td>\n",
       "      <td>1.000000</td>\n",
       "    </tr>\n",
       "    <tr>\n",
       "      <th>keyword__joint motion</th>\n",
       "      <td>4</td>\n",
       "      <td>[1]</td>\n",
       "      <td>0.024206</td>\n",
       "      <td>0.023954</td>\n",
       "      <td>0.000756</td>\n",
       "      <td>95</td>\n",
       "      <td>1</td>\n",
       "      <td>0.989583</td>\n",
       "    </tr>\n",
       "    <tr>\n",
       "      <th>keyword__notice</th>\n",
       "      <td>5</td>\n",
       "      <td>[0]</td>\n",
       "      <td>0.078417</td>\n",
       "      <td>0.078417</td>\n",
       "      <td>0.066062</td>\n",
       "      <td>200</td>\n",
       "      <td>111</td>\n",
       "      <td>0.643087</td>\n",
       "    </tr>\n",
       "    <tr>\n",
       "      <th>keyword__notice of motion</th>\n",
       "      <td>6</td>\n",
       "      <td>[0]</td>\n",
       "      <td>0.038074</td>\n",
       "      <td>0.038074</td>\n",
       "      <td>0.038074</td>\n",
       "      <td>119</td>\n",
       "      <td>32</td>\n",
       "      <td>0.788079</td>\n",
       "    </tr>\n",
       "    <tr>\n",
       "      <th>keyword__judgement</th>\n",
       "      <td>7</td>\n",
       "      <td>[0]</td>\n",
       "      <td>0.001009</td>\n",
       "      <td>0.001009</td>\n",
       "      <td>0.001009</td>\n",
       "      <td>0</td>\n",
       "      <td>4</td>\n",
       "      <td>0.000000</td>\n",
       "    </tr>\n",
       "    <tr>\n",
       "      <th>keyword__final pretrial conference</th>\n",
       "      <td>8</td>\n",
       "      <td>[0]</td>\n",
       "      <td>0.012859</td>\n",
       "      <td>0.012859</td>\n",
       "      <td>0.002521</td>\n",
       "      <td>50</td>\n",
       "      <td>1</td>\n",
       "      <td>0.980392</td>\n",
       "    </tr>\n",
       "    <tr>\n",
       "      <th>keyword__denying motion</th>\n",
       "      <td>9</td>\n",
       "      <td>[0]</td>\n",
       "      <td>0.000252</td>\n",
       "      <td>0.000252</td>\n",
       "      <td>0.000252</td>\n",
       "      <td>1</td>\n",
       "      <td>0</td>\n",
       "      <td>1.000000</td>\n",
       "    </tr>\n",
       "    <tr>\n",
       "      <th>lf_first_word_motion</th>\n",
       "      <td>10</td>\n",
       "      <td>[1]</td>\n",
       "      <td>0.722642</td>\n",
       "      <td>0.718860</td>\n",
       "      <td>0.026727</td>\n",
       "      <td>2850</td>\n",
       "      <td>16</td>\n",
       "      <td>0.994417</td>\n",
       "    </tr>\n",
       "    <tr>\n",
       "      <th>lf_motion_not_in_first_three_words</th>\n",
       "      <td>11</td>\n",
       "      <td>[0]</td>\n",
       "      <td>0.197428</td>\n",
       "      <td>0.185577</td>\n",
       "      <td>0.103379</td>\n",
       "      <td>759</td>\n",
       "      <td>24</td>\n",
       "      <td>0.969349</td>\n",
       "    </tr>\n",
       "    <tr>\n",
       "      <th>lf_motion_mentioned_later</th>\n",
       "      <td>12</td>\n",
       "      <td>[0]</td>\n",
       "      <td>0.173727</td>\n",
       "      <td>0.172970</td>\n",
       "      <td>0.104135</td>\n",
       "      <td>667</td>\n",
       "      <td>22</td>\n",
       "      <td>0.968070</td>\n",
       "    </tr>\n",
       "    <tr>\n",
       "      <th>lf_motion_early</th>\n",
       "      <td>13</td>\n",
       "      <td>[1]</td>\n",
       "      <td>0.661372</td>\n",
       "      <td>0.642209</td>\n",
       "      <td>0.028492</td>\n",
       "      <td>2555</td>\n",
       "      <td>68</td>\n",
       "      <td>0.974075</td>\n",
       "    </tr>\n",
       "    <tr>\n",
       "      <th>missing_keyword__motion</th>\n",
       "      <td>14</td>\n",
       "      <td>[]</td>\n",
       "      <td>0.000000</td>\n",
       "      <td>0.000000</td>\n",
       "      <td>0.000000</td>\n",
       "      <td>0</td>\n",
       "      <td>0</td>\n",
       "      <td>0.000000</td>\n",
       "    </tr>\n",
       "  </tbody>\n",
       "</table>\n",
       "</div>"
      ],
      "text/plain": [
       "                                     j Polarity  Coverage  Overlaps  \\\n",
       "keyword__motion of                  0   [1]      0.005799  0.005799   \n",
       "keyword__motion to                  1   [1]      0.213817  0.212557   \n",
       "keyword__motion by                  2   [1]      0.602622  0.602118   \n",
       "keyword__motion (oral)              3   [1]      0.014372  0.014372   \n",
       "keyword__joint motion               4   [1]      0.024206  0.023954   \n",
       "keyword__notice                     5   [0]      0.078417  0.078417   \n",
       "keyword__notice of motion           6   [0]      0.038074  0.038074   \n",
       "keyword__judgement                  7   [0]      0.001009  0.001009   \n",
       "keyword__final pretrial conference  8   [0]      0.012859  0.012859   \n",
       "keyword__denying motion             9   [0]      0.000252  0.000252   \n",
       "lf_first_word_motion                10  [1]      0.722642  0.718860   \n",
       "lf_motion_not_in_first_three_words  11  [0]      0.197428  0.185577   \n",
       "lf_motion_mentioned_later           12  [0]      0.173727  0.172970   \n",
       "lf_motion_early                     13  [1]      0.661372  0.642209   \n",
       "missing_keyword__motion             14  []       0.000000  0.000000   \n",
       "\n",
       "                                    Conflicts  Correct  Incorrect  Emp. Acc.  \n",
       "keyword__motion of                  0.003782   6        17         0.260870   \n",
       "keyword__motion to                  0.073374   554      294        0.653302   \n",
       "keyword__motion by                  0.066818   2226     164        0.931381   \n",
       "keyword__motion (oral)              0.000000   57       0          1.000000   \n",
       "keyword__joint motion               0.000756   95       1          0.989583   \n",
       "keyword__notice                     0.066062   200      111        0.643087   \n",
       "keyword__notice of motion           0.038074   119      32         0.788079   \n",
       "keyword__judgement                  0.001009   0        4          0.000000   \n",
       "keyword__final pretrial conference  0.002521   50       1          0.980392   \n",
       "keyword__denying motion             0.000252   1        0          1.000000   \n",
       "lf_first_word_motion                0.026727   2850     16         0.994417   \n",
       "lf_motion_not_in_first_three_words  0.103379   759      24         0.969349   \n",
       "lf_motion_mentioned_later           0.104135   667      22         0.968070   \n",
       "lf_motion_early                     0.028492   2555     68         0.974075   \n",
       "missing_keyword__motion             0.000000   0        0          0.000000   "
      ]
     },
     "execution_count": 31,
     "metadata": {},
     "output_type": "execute_result"
    }
   ],
   "source": [
    "LFAnalysis(L=L_train, lfs=lfs).lf_summary(Y=df_train['motion'].to_numpy())"
   ]
  },
  {
   "cell_type": "code",
   "execution_count": 32,
   "metadata": {},
   "outputs": [
    {
     "data": {
      "text/plain": [
       "0.9984871406959153"
      ]
     },
     "execution_count": 32,
     "metadata": {},
     "output_type": "execute_result"
    }
   ],
   "source": [
    "LFAnalysis(L=L_train, lfs=lfs).label_coverage()"
   ]
  },
  {
   "cell_type": "markdown",
   "metadata": {},
   "source": [
    "Lots of statistics about labeling functions — like coverage — are useful when building any Snorkel application. So Snorkel provides tooling for common LF analyses using the LFAnalysis utility. We report the following summary statistics for multiple LFs at once:\n",
    "\n",
    "* Polarity: The set of unique labels this LF outputs (excluding abstains)\n",
    "* Coverage: The fraction of the dataset the LF labels\n",
    "* Overlaps: The fraction of the dataset where this LF and at least one other LF label\n",
    "* Conflicts: The fraction of the dataset where this LF and at least one other LF label and disagree\n",
    "* Correct: The number of data points this LF labels correctly (if gold labels are provided)\n",
    "* Incorrect: The number of data points this LF labels incorrectly (if gold labels are provided)\n",
    "* Empirical Accuracy: The empirical accuracy of this LF (if gold labels are provided)"
   ]
  },
  {
   "cell_type": "markdown",
   "metadata": {},
   "source": [
    "We see that our labeling functions vary in coverage, how much they overlap/conflict with one another, and almost certainly their accuracies as well. We can view a histogram of how many LF labels the data points in our train set have to get an idea of our total coverage."
   ]
  },
  {
   "cell_type": "code",
   "execution_count": 33,
   "metadata": {},
   "outputs": [
    {
     "data": {
      "image/png": "[encoded data removed]",
      "text/plain": [
       "<Figure size 432x288 with 1 Axes>"
      ]
     },
     "metadata": {
      "needs_background": "light"
     },
     "output_type": "display_data"
    }
   ],
   "source": [
    "import matplotlib.pyplot as plt\n",
    "\n",
    "%matplotlib inline\n",
    "\n",
    "\n",
    "def plot_label_frequency(L):\n",
    "    plt.hist((L != ABSTAIN).sum(axis=1), density=True, bins=range(L.shape[1]))\n",
    "    plt.xlabel(\"Number of labels\")\n",
    "    plt.ylabel(\"Fraction of dataset\")\n",
    "    plt.show()\n",
    "\n",
    "\n",
    "plot_label_frequency(L_train)"
   ]
  },
  {
   "cell_type": "markdown",
   "metadata": {},
   "source": [
    "We see that over less than 1/10 of our `train` dataset data points have 0 or fewer labels from LFs. The labels we do have can be used to train a classifier over the comment text directly, allowing this final machine learning model to generalize beyond what our labeling functions labeling.\n",
    "\n",
    "Our goal is now to convert the labels from our LFs into a single noise-aware probabilistic (or confidence-weighted) label per data point. \n",
    "\n",
    "A simple baseline for doing this is to take the majority vote on a per-data point basis: if more LFs voted MOTION than NOT_MOTION, label it MOTION (and vice versa). We can test this with the `MajorityLabelVoter` baseline model."
   ]
  },
  {
   "cell_type": "code",
   "execution_count": 34,
   "metadata": {},
   "outputs": [],
   "source": [
    "majority_model = MajorityLabelVoter()\n",
    "preds_train_majority_model = majority_model.predict(L=L_train)"
   ]
  },
  {
   "cell_type": "code",
   "execution_count": 35,
   "metadata": {},
   "outputs": [
    {
     "name": "stderr",
     "output_type": "stream",
     "text": [
      "INFO:root:Computing O...\n",
      "INFO:root:Estimating \\mu...\n",
      "  0%|          | 0/500 [00:00<?, ?epoch/s]INFO:root:[0 epochs]: TRAIN:[loss=1.086]\n",
      "INFO:root:[100 epochs]: TRAIN:[loss=0.011]\n",
      " 34%|███▍      | 171/500 [00:00<00:00, 1709.61epoch/s]INFO:root:[200 epochs]: TRAIN:[loss=0.011]\n",
      "INFO:root:[300 epochs]: TRAIN:[loss=0.011]\n",
      "INFO:root:[400 epochs]: TRAIN:[loss=0.011]\n",
      "100%|██████████| 500/500 [00:00<00:00, 2179.28epoch/s]\n",
      "INFO:root:Finished Training\n"
     ]
    }
   ],
   "source": [
    "label_model = LabelModel(cardinality=2, device='cpu', verbose=True)\n",
    "label_model.fit(L_train=L_train, n_epochs=500, log_freq=100, seed=123)"
   ]
  },
  {
   "cell_type": "code",
   "execution_count": 36,
   "metadata": {},
   "outputs": [],
   "source": [
    "preds_train_label_model = label_model.predict(L=L_train)"
   ]
  },
  {
   "cell_type": "markdown",
   "metadata": {},
   "source": [
    "**Train accuracy**"
   ]
  },
  {
   "cell_type": "code",
   "execution_count": 37,
   "metadata": {},
   "outputs": [
    {
     "name": "stdout",
     "output_type": "stream",
     "text": [
      "Majority Vote Accuracy:   97.7%\n",
      "Label Model Accuracy:     93.7%\n"
     ]
    }
   ],
   "source": [
    "majority_acc = majority_model.score(L=L_train, Y=df_train.motion, tie_break_policy=\"random\")[\n",
    "    \"accuracy\"\n",
    "]\n",
    "print(f\"{'Majority Vote Accuracy:':<25} {majority_acc * 100:.1f}%\")\n",
    "\n",
    "label_model_acc = label_model.score(L=L_train, Y=df_train.motion, tie_break_policy=\"random\")[\n",
    "    \"accuracy\"\n",
    "]\n",
    "print(f\"{'Label Model Accuracy:':<25} {label_model_acc * 100:.1f}%\")"
   ]
  },
  {
   "cell_type": "markdown",
   "metadata": {},
   "source": [
    "**Val accuracy**"
   ]
  },
  {
   "cell_type": "code",
   "execution_count": 38,
   "metadata": {},
   "outputs": [
    {
     "name": "stdout",
     "output_type": "stream",
     "text": [
      "Majority Vote Accuracy:   97.4%\n",
      "Label Model Accuracy:     92.4%\n"
     ]
    }
   ],
   "source": [
    "majority_acc = majority_model.score(L=L_val, Y=df_val.motion, tie_break_policy=\"random\")[\n",
    "    \"accuracy\"\n",
    "]\n",
    "print(f\"{'Majority Vote Accuracy:':<25} {majority_acc * 100:.1f}%\")\n",
    "\n",
    "label_model_acc = label_model.score(L=L_val, Y=df_val.motion, tie_break_policy=\"random\")[\n",
    "    \"accuracy\"\n",
    "]\n",
    "print(f\"{'Label Model Accuracy:':<25} {label_model_acc * 100:.1f}%\")"
   ]
  },
  {
   "cell_type": "markdown",
   "metadata": {},
   "source": [
    "**Test accuracy**"
   ]
  },
  {
   "cell_type": "code",
   "execution_count": 39,
   "metadata": {},
   "outputs": [
    {
     "name": "stdout",
     "output_type": "stream",
     "text": [
      "Majority Vote Accuracy:   98.5%\n",
      "Label Model Accuracy:     93.9%\n"
     ]
    }
   ],
   "source": [
    "majority_acc = majority_model.score(L=L_test, Y=df_test.motion, tie_break_policy=\"random\")[\n",
    "    \"accuracy\"\n",
    "]\n",
    "print(f\"{'Majority Vote Accuracy:':<25} {majority_acc * 100:.1f}%\")\n",
    "\n",
    "label_model_acc = label_model.score(L=L_test, Y=df_test.motion, tie_break_policy=\"random\")[\n",
    "    \"accuracy\"\n",
    "]\n",
    "print(f\"{'Label Model Accuracy:':<25} {label_model_acc * 100:.1f}%\")"
   ]
  },
  {
   "cell_type": "code",
   "execution_count": 40,
   "metadata": {},
   "outputs": [
    {
     "data": {
      "image/png": "[encoded data removed]",
      "text/plain": [
       "<Figure size 432x288 with 1 Axes>"
      ]
     },
     "metadata": {
      "needs_background": "light"
     },
     "output_type": "display_data"
    }
   ],
   "source": [
    "def plot_probabilities_histogram(Y):\n",
    "    plt.hist(Y, bins=10)\n",
    "    plt.xlabel(\"Probability of MOTION\")\n",
    "    plt.ylabel(\"Number of data points\")\n",
    "    plt.show()\n",
    "\n",
    "\n",
    "probs_train = label_model.predict_proba(L=L_train)\n",
    "plot_probabilities_histogram(probs_train[:, MOTION])"
   ]
  },
  {
   "cell_type": "code",
   "execution_count": 41,
   "metadata": {},
   "outputs": [
    {
     "data": {
      "image/png": "[encoded data removed]",
      "text/plain": [
       "<Figure size 432x288 with 1 Axes>"
      ]
     },
     "metadata": {
      "needs_background": "light"
     },
     "output_type": "display_data"
    }
   ],
   "source": [
    "def plot_probabilities_histogram(Y):\n",
    "    plt.hist(Y, bins=10)\n",
    "    plt.xlabel(\"Probability of NOT MOTION\")\n",
    "    plt.ylabel(\"Number of data points\")\n",
    "    plt.show()\n",
    "\n",
    "\n",
    "probs_train = label_model.predict_proba(L=L_train)\n",
    "plot_probabilities_histogram(probs_train[:, NOT_MOTION])"
   ]
  },
  {
   "cell_type": "code",
   "execution_count": 42,
   "metadata": {},
   "outputs": [],
   "source": [
    "from snorkel.labeling import filter_unlabeled_dataframe\n",
    "\n",
    "df_train_filtered, probs_train_filtered = filter_unlabeled_dataframe(\n",
    "    X=df_train, y=probs_train, L=L_train\n",
    ")"
   ]
  },
  {
   "cell_type": "code",
   "execution_count": 43,
   "metadata": {},
   "outputs": [
    {
     "data": {
      "text/html": [
       "<div>\n",
       "<style scoped>\n",
       "    .dataframe tbody tr th:only-of-type {\n",
       "        vertical-align: middle;\n",
       "    }\n",
       "\n",
       "    .dataframe tbody tr th {\n",
       "        vertical-align: top;\n",
       "    }\n",
       "\n",
       "    .dataframe thead th {\n",
       "        text-align: right;\n",
       "    }\n",
       "</style>\n",
       "<table border=\"1\" class=\"dataframe\">\n",
       "  <thead>\n",
       "    <tr style=\"text-align: right;\">\n",
       "      <th></th>\n",
       "      <th>docket_entry_id</th>\n",
       "      <th>motion</th>\n",
       "      <th>text</th>\n",
       "    </tr>\n",
       "  </thead>\n",
       "  <tbody>\n",
       "    <tr>\n",
       "      <th>3702</th>\n",
       "      <td>20693</td>\n",
       "      <td>1</td>\n",
       "      <td>MOTION by Defendant Metropolitan Pier and Exposition Authority to dismiss Plaintiff's Second Amended Complaint (Zanzi, Abizer) (Entered: 04/24/2012)</td>\n",
       "    </tr>\n",
       "    <tr>\n",
       "      <th>3423</th>\n",
       "      <td>1489</td>\n",
       "      <td>1</td>\n",
       "      <td>MOTION by Plaintiff FirstMerit Bank, N.A. to dismiss without prejudice, to approve receiver's report, and to discharge receiver (Attachments: # 1 Text of Proposed Order)(Eliason, Travis) (Entered: 12/22/2014)</td>\n",
       "    </tr>\n",
       "    <tr>\n",
       "      <th>4879</th>\n",
       "      <td>1000</td>\n",
       "      <td>1</td>\n",
       "      <td>MOTION by Counter Claimant Republic Bank of Chicago for default judgment as to River Park at Diversey Condo. Assoc. and Unknown Owners and Non-Record Claimants (Freud, Edward) (Entered: 01/17/2017)</td>\n",
       "    </tr>\n",
       "    <tr>\n",
       "      <th>2976</th>\n",
       "      <td>832</td>\n",
       "      <td>1</td>\n",
       "      <td>MOTION by Defendant Nancy A. Berryhill for leave to file excess pages (Unopposed) (Attachments: # 1 Commissioner's Motion for Summary Judgment, # 2 Memorandum in Support)(Kelly, Kathryn) (Entered: 10/23/2017)</td>\n",
       "    </tr>\n",
       "    <tr>\n",
       "      <th>6757</th>\n",
       "      <td>6764</td>\n",
       "      <td>1</td>\n",
       "      <td>MOTION by Defendant Exxon Mobil Corpin limine to Bar Testimony of Plaintiff Which Asserts Facts Not Based on Personal Knowledge and/or Involves Substantial Hearsay Problems (Attachments: # 1 Text of Proposed Order)(Michelsen, Jan) (Entered: 04/30/2010)</td>\n",
       "    </tr>\n",
       "    <tr>\n",
       "      <th>...</th>\n",
       "      <td>...</td>\n",
       "      <td>...</td>\n",
       "      <td>...</td>\n",
       "    </tr>\n",
       "    <tr>\n",
       "      <th>5190</th>\n",
       "      <td>6852</td>\n",
       "      <td>1</td>\n",
       "      <td>MOTION by Plaintiff Michael Pizzo for settlement  approval (Estes, Ryan) (Entered: 08/29/2016)</td>\n",
       "    </tr>\n",
       "    <tr>\n",
       "      <th>1262</th>\n",
       "      <td>1064</td>\n",
       "      <td>0</td>\n",
       "      <td>STIPULATION AND PROTECTIVE Order: Defendant's Hagadorn's agreed motion for protective order 213 is granted. Signed by the Honorable Thomas M. Durkin on 8/2/2017:Mailed notice(srn, ) (Entered: 08/02/2017)</td>\n",
       "    </tr>\n",
       "    <tr>\n",
       "      <th>6562</th>\n",
       "      <td>10361</td>\n",
       "      <td>1</td>\n",
       "      <td>MOTION by Plaintiff Tubonimi Bob-Manuel to compel  Plaintiff's Third Motion to Compel and to Clarify His Second Motion to Compel (Marcus, Lindsey) (Entered: 05/16/2013)</td>\n",
       "    </tr>\n",
       "    <tr>\n",
       "      <th>4659</th>\n",
       "      <td>13508</td>\n",
       "      <td>0</td>\n",
       "      <td>Telephonic Preliminary Pretrial Conference held on 12/20/2016 before Magistrate Judge Michael G Gotsch, Sr. Pla appeared by atty O'Ryan. Dft appeared by atty Primack. Pre-discovery disclosure (Claim record) due 01/31/2017. Any amendments to the pleadings to be filed by 2/15/2017. Mediator Selection Deadline is 3/31/2017. Non-Dispositive Motion to Quash by defendant due by 1/23/2017. Response to be filed by 2/13/2017. Reply to be filed by 2/23/2017. All DISCOVERY STAYED until the resolution of the dft's objection. (slm) (Entered: 12/20/2016)</td>\n",
       "    </tr>\n",
       "    <tr>\n",
       "      <th>418</th>\n",
       "      <td>19459</td>\n",
       "      <td>0</td>\n",
       "      <td>OBJECTION plaintiff to all telephone conversation rulings pertaining to his motions. (mjc, ) (Entered: 04/05/2010)</td>\n",
       "    </tr>\n",
       "  </tbody>\n",
       "</table>\n",
       "<p>3960 rows × 3 columns</p>\n",
       "</div>"
      ],
      "text/plain": [
       "      docket_entry_id  motion  \\\n",
       "3702  20693            1        \n",
       "3423  1489             1        \n",
       "4879  1000             1        \n",
       "2976  832              1        \n",
       "6757  6764             1        \n",
       "...    ...            ..        \n",
       "5190  6852             1        \n",
       "1262  1064             0        \n",
       "6562  10361            1        \n",
       "4659  13508            0        \n",
       "418   19459            0        \n",
       "\n",
       "                                                                                                                                                                                                                                                                                                                                                                                                                                                                                                                                                                    text  \n",
       "3702  MOTION by Defendant Metropolitan Pier and Exposition Authority to dismiss Plaintiff's Second Amended Complaint (Zanzi, Abizer) (Entered: 04/24/2012)                                                                                                                                                                                                                                                                                                                                                                                                                \n",
       "3423  MOTION by Plaintiff FirstMerit Bank, N.A. to dismiss without prejudice, to approve receiver's report, and to discharge receiver (Attachments: # 1 Text of Proposed Order)(Eliason, Travis) (Entered: 12/22/2014)                                                                                                                                                                                                                                                                                                                                                    \n",
       "4879  MOTION by Counter Claimant Republic Bank of Chicago for default judgment as to River Park at Diversey Condo. Assoc. and Unknown Owners and Non-Record Claimants (Freud, Edward) (Entered: 01/17/2017)                                                                                                                                                                                                                                                                                                                                                               \n",
       "2976  MOTION by Defendant Nancy A. Berryhill for leave to file excess pages (Unopposed) (Attachments: # 1 Commissioner's Motion for Summary Judgment, # 2 Memorandum in Support)(Kelly, Kathryn) (Entered: 10/23/2017)                                                                                                                                                                                                                                                                                                                                                    \n",
       "6757  MOTION by Defendant Exxon Mobil Corpin limine to Bar Testimony of Plaintiff Which Asserts Facts Not Based on Personal Knowledge and/or Involves Substantial Hearsay Problems (Attachments: # 1 Text of Proposed Order)(Michelsen, Jan) (Entered: 04/30/2010)                                                                                                                                                                                                                                                                                                        \n",
       "...                                                                                                                                                                                                                                                            ...                                                                                                                                                                                                                                                                                                        \n",
       "5190  MOTION by Plaintiff Michael Pizzo for settlement  approval (Estes, Ryan) (Entered: 08/29/2016)                                                                                                                                                                                                                                                                                                                                                                                                                                                                      \n",
       "1262  STIPULATION AND PROTECTIVE Order: Defendant's Hagadorn's agreed motion for protective order 213 is granted. Signed by the Honorable Thomas M. Durkin on 8/2/2017:Mailed notice(srn, ) (Entered: 08/02/2017)                                                                                                                                                                                                                                                                                                                                                         \n",
       "6562  MOTION by Plaintiff Tubonimi Bob-Manuel to compel  Plaintiff's Third Motion to Compel and to Clarify His Second Motion to Compel (Marcus, Lindsey) (Entered: 05/16/2013)                                                                                                                                                                                                                                                                                                                                                                                            \n",
       "4659  Telephonic Preliminary Pretrial Conference held on 12/20/2016 before Magistrate Judge Michael G Gotsch, Sr. Pla appeared by atty O'Ryan. Dft appeared by atty Primack. Pre-discovery disclosure (Claim record) due 01/31/2017. Any amendments to the pleadings to be filed by 2/15/2017. Mediator Selection Deadline is 3/31/2017. Non-Dispositive Motion to Quash by defendant due by 1/23/2017. Response to be filed by 2/13/2017. Reply to be filed by 2/23/2017. All DISCOVERY STAYED until the resolution of the dft's objection. (slm) (Entered: 12/20/2016)  \n",
       "418   OBJECTION plaintiff to all telephone conversation rulings pertaining to his motions. (mjc, ) (Entered: 04/05/2010)                                                                                                                                                                                                                                                                                                                                                                                                                                                  \n",
       "\n",
       "[3960 rows x 3 columns]"
      ]
     },
     "execution_count": 43,
     "metadata": {},
     "output_type": "execute_result"
    }
   ],
   "source": [
    "df_train_filtered"
   ]
  },
  {
   "cell_type": "code",
   "execution_count": 44,
   "metadata": {},
   "outputs": [],
   "source": [
    "from sklearn.feature_extraction.text import CountVectorizer\n",
    "\n",
    "vectorizer = CountVectorizer(ngram_range=(1, 5))\n",
    "X_train = vectorizer.fit_transform(df_train_filtered.text.tolist())\n",
    "X_test = vectorizer.transform(df_test.text.tolist())"
   ]
  },
  {
   "cell_type": "code",
   "execution_count": 45,
   "metadata": {},
   "outputs": [],
   "source": [
    "from snorkel.utils import probs_to_preds\n",
    "\n",
    "preds_train_filtered = probs_to_preds(probs=probs_train_filtered)"
   ]
  },
  {
   "cell_type": "code",
   "execution_count": 46,
   "metadata": {},
   "outputs": [
    {
     "data": {
      "text/plain": [
       "LogisticRegression(C=1000.0, solver='liblinear')"
      ]
     },
     "execution_count": 46,
     "metadata": {},
     "output_type": "execute_result"
    }
   ],
   "source": [
    "from sklearn.linear_model import LogisticRegression\n",
    "\n",
    "sklearn_model = LogisticRegression(C=1e3, solver=\"liblinear\")\n",
    "sklearn_model.fit(X=X_train, y=preds_train_filtered)"
   ]
  },
  {
   "cell_type": "code",
   "execution_count": 47,
   "metadata": {},
   "outputs": [
    {
     "name": "stdout",
     "output_type": "stream",
     "text": [
      "Test Accuracy: 93.3%\n"
     ]
    }
   ],
   "source": [
    "print(f\"Test Accuracy: {sklearn_model.score(X=X_test, y=df_test.motion) * 100:.1f}%\")"
   ]
  },
  {
   "cell_type": "code",
   "execution_count": null,
   "metadata": {},
   "outputs": [],
   "source": []
  },
  {
   "cell_type": "code",
   "execution_count": null,
   "metadata": {},
   "outputs": [],
   "source": []
  }
 ],
 "metadata": {
  "kernelspec": {
   "display_name": "Python 3",
   "language": "python",
   "name": "python3"
  },
  "language_info": {
   "codemirror_mode": {
    "name": "ipython",
    "version": 3
   },
   "file_extension": ".py",
   "mimetype": "text/x-python",
   "name": "python",
   "nbconvert_exporter": "python",
   "pygments_lexer": "ipython3",
   "version": "3.8.5"
  }
 },
 "nbformat": 4,
 "nbformat_minor": 4
}